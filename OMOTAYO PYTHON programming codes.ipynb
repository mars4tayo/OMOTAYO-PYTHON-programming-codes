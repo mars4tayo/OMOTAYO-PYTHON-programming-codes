{
 "cells": [
  {
   "cell_type": "markdown",
   "id": "0639b8c6",
   "metadata": {},
   "source": [
    "name=input(str('enter your name'));\n",
    "print(name)"
   ]
  },
  {
   "cell_type": "code",
   "execution_count": 9,
   "id": "d4773a7b",
   "metadata": {},
   "outputs": [
    {
     "name": "stdout",
     "output_type": "stream",
     "text": [
      "Enter your name: guefbirnowm\n",
      "How many items? 4567\n",
      "Cost per item? 456.567\n",
      "guefbirnowm\n",
      "4567\n",
      "456.567\n",
      "2085141.489\n"
     ]
    }
   ],
   "source": [
    "name = input(\"Enter your name: \")\n",
    "quantity = int(input(\"How many items? \"))\n",
    "price = float(input(\"Cost per item? \"))\n",
    "total = quantity * price\n",
    "print(name)\n",
    "print(quantity)\n",
    "print(price)\n",
    "print(total)"
   ]
  },
  {
   "cell_type": "code",
   "execution_count": 10,
   "id": "df9062ff",
   "metadata": {},
   "outputs": [
    {
     "name": "stdout",
     "output_type": "stream",
     "text": [
      "Enter the first name: omotayo\n",
      "Enter the last name: olanusi\n",
      "olanusi, omotayo\n"
     ]
    }
   ],
   "source": [
    "# Read the names from the user\n",
    "first = input(\"Enter the first name: \")\n",
    "last = input(\"Enter the last name: \")\n",
    "# Concatenate the strings\n",
    "both = last + \", \" + first\n",
    "# Display the result\n",
    "print(both)"
   ]
  },
  {
   "cell_type": "code",
   "execution_count": 11,
   "id": "6c3038dd",
   "metadata": {},
   "outputs": [
    {
     "name": "stdout",
     "output_type": "stream",
     "text": [
      "Enter your first name: omotayo\n",
      "Your first name contains 7 characters\n"
     ]
    }
   ],
   "source": [
    "# Read the name from the user\n",
    "first = input(\"Enter your first name: \")\n",
    "# Compute its length\n",
    "num_chars = len(first)\n",
    "# Display the result\n",
    "print(\"Your first name contains\", num_chars, \"characters\")"
   ]
  },
  {
   "cell_type": "code",
   "execution_count": 12,
   "id": "ba3245aa",
   "metadata": {},
   "outputs": [
    {
     "name": "stdout",
     "output_type": "stream",
     "text": [
      "Enter your first name: omotayo\n",
      "Enter your middle name: Alexander\n",
      "Enter your last name: Olanusi\n",
      "Your initials are oAO\n"
     ]
    }
   ],
   "source": [
    "# Read the user’s name\n",
    "first = input(\"Enter your first name: \")\n",
    "middle = input(\"Enter your middle name: \")\n",
    "last = input(\"Enter your last name: \")\n",
    "# Extract the first character from each string and concatenate them\n",
    "initials = first[0] + middle[0] + last[0]\n",
    "# Display the initials\n",
    "print(\"Your initials are\", initials)"
   ]
  },
  {
   "cell_type": "markdown",
   "id": "8e9d8d8a",
   "metadata": {},
   "source": [
    "# Exercises"
   ]
  },
  {
   "cell_type": "markdown",
   "id": "ad6e6aa2",
   "metadata": {},
   "source": [
    "####1 Create a program that displays your name and complete mailing address. The address\n",
    "should be printed in the format that is normally used in the area where you live. Your\n",
    "program does not need to read any input from the user."
   ]
  },
  {
   "cell_type": "code",
   "execution_count": 18,
   "id": "214bf615",
   "metadata": {},
   "outputs": [
    {
     "name": "stdout",
     "output_type": "stream",
     "text": [
      "enter your name:omotayo olanusi\n",
      "enter your email adresse:olanusiomootayo@gmail.com\n",
      "Your name is omotayo olanusi and Your email adresse is olanusiomootayo@gmail.com\n"
     ]
    }
   ],
   "source": [
    "Name=input('enter your name:')\n",
    "email_adresse=input('enter your email adresse:')\n",
    "print(\"Your name is\",Name,\n",
    "     \"and Your email adresse is\", email_adresse)"
   ]
  },
  {
   "cell_type": "markdown",
   "id": "31eccc1f",
   "metadata": {},
   "source": [
    "#####2Write a program that asks the user to enter his or her name. The program should respond with a message that says hello to the user, using his or her name."
   ]
  },
  {
   "cell_type": "code",
   "execution_count": 23,
   "id": "f5e027bb",
   "metadata": {},
   "outputs": [
    {
     "name": "stdout",
     "output_type": "stream",
     "text": [
      "enter your first name:omotayo\n",
      "enter your last name:olanusi\n",
      "hello omotayo olanusi\n"
     ]
    }
   ],
   "source": [
    "firstname=input('enter your first name:')\n",
    "lastname=input('enter your last name:')\n",
    "print('hello' , firstname , lastname)"
   ]
  },
  {
   "cell_type": "markdown",
   "id": "c33c0139",
   "metadata": {},
   "source": [
    "###3 Write a program that asks the user to enter the width and length of a room. Once\n",
    "these values have been read, your program should compute and display the area of\n",
    "the room. The length and the width will be entered as floating-point numbers. Include\n",
    "units in your prompt and output message; either feet or meters, depending on which\n",
    "unit you are more comfortable working with."
   ]
  },
  {
   "cell_type": "code",
   "execution_count": 30,
   "id": "db466af3",
   "metadata": {},
   "outputs": [
    {
     "name": "stdout",
     "output_type": "stream",
     "text": [
      "enter width of room44\n",
      "enter lenght of room44\n",
      "1936.0\n"
     ]
    }
   ],
   "source": [
    "width=float(input('enter width of room'))\n",
    "lenght=float(input('enter lenght of room'))\n",
    "Area=(width*lenght)\n",
    "print(Area)"
   ]
  },
  {
   "cell_type": "markdown",
   "id": "835578ce",
   "metadata": {},
   "source": [
    "####4 Create a program that reads the length and width of a farmer’s field from the user in\n",
    "feet. Display the area of the field in acres."
   ]
  },
  {
   "cell_type": "code",
   "execution_count": 1,
   "id": "dd9b40ed",
   "metadata": {},
   "outputs": [
    {
     "name": "stdout",
     "output_type": "stream",
     "text": [
      "enter width of room2345\n",
      "enter lenght of room54333\n",
      "171.35252703211577 acre\n"
     ]
    }
   ],
   "source": [
    "width=float(input('enter width of room'))\n",
    "lenght=float(input('enter lenght of room'))\n",
    "Area=((width*lenght)/743560)\n",
    "print(Area, 'acre')"
   ]
  },
  {
   "cell_type": "markdown",
   "id": "f9f1ca5d",
   "metadata": {},
   "source": [
    "##Exercise 5: Bottle Deposits In many jurisdictions a small deposit is added to drink containers to encourage people to recycle them. In one particular jurisdiction, drink containers holding one liter or less have a $ 0.10 deposit, and drink containers holding more than one liter have a $0.25 deposit. Write a program that reads the number of containers of each size from the user.Your program should continue by computing and displaying the refund that will be received for returning those containers. Format the output so that it includes a dollar sign and two digits to the right of the decimal point##"
   ]
  },
  {
   "cell_type": "code",
   "execution_count": 11,
   "id": "8b1e76f3",
   "metadata": {},
   "outputs": [
    {
     "name": "stdout",
     "output_type": "stream",
     "text": [
      "enter the number of container > 1 liter=  765\n",
      "enter the number of container =< 1 liter=  43\n",
      "Your total refund is $195.55.\n"
     ]
    }
   ],
   "source": [
    "Large_bottle= int(input('enter the number of container > 1 liter=  '))\n",
    "small_bottle= int(input('enter the number of container =< 1 liter=  '))\n",
    "refund=(Large_bottle*0.25)+(small_bottle*0.1)\n",
    "print('Your total refund is $%.2f.' % refund)"
   ]
  },
  {
   "cell_type": "markdown",
   "id": "77eb3e4b",
   "metadata": {},
   "source": [
    "#########\n",
    "The program that you create for this exercise will begin by reading the cost of a meal\n",
    "ordered at a restaurant from the user. Then your program will compute the tax and\n",
    "tip for the meal. Use your local tax rate when computing the amount of tax owing.\n",
    "Compute the tip as 18 percent of the meal amount (without the tax). The output from\n",
    "your program should include the tax amount, the tip amount, and the grand total for\n",
    "the meal including both the tax and the tip. Format the output so that all of the values\n",
    "are displayed using two decimal places."
   ]
  },
  {
   "cell_type": "code",
   "execution_count": 2,
   "id": "30365bf7",
   "metadata": {},
   "outputs": [
    {
     "name": "stdout",
     "output_type": "stream",
     "text": [
      "eneter the price of the meal = 56\n",
      "eneter the Tax rate of the meal = 77\n",
      "eneter the Tip of the meal = 87\n",
      "The Total amount to paid is =  $9240.00\n"
     ]
    }
   ],
   "source": [
    "cost=float(input('eneter the price of the meal = '))\n",
    "Tax_rate=float(input('eneter the Tax rate of the meal = '))\n",
    "Tip=float(input('eneter the Tip of the meal = '))\n",
    "price=cost*(1+Tax_rate+Tip)\n",
    "print('The Total amount to paid is =  $%.2f' % price)"
   ]
  },
  {
   "cell_type": "markdown",
   "id": "c9ae57cb",
   "metadata": {},
   "source": [
    "Write a program that reads a positive integer, n, from the user and then displays the\n",
    "sum of all of the integers from 1 to n. The sum of the first n positive integers can be\n",
    "computed using the formula:\n",
    "sum = (n)(n + 1)/2"
   ]
  },
  {
   "cell_type": "code",
   "execution_count": 5,
   "id": "3880154c",
   "metadata": {},
   "outputs": [
    {
     "name": "stdout",
     "output_type": "stream",
     "text": [
      "enter the integer = 678\n",
      "the sum of all positive integer in n is  = 230181.00\n"
     ]
    }
   ],
   "source": [
    "number=int(input('enter the integer = '))\n",
    "Sum= number*(number + 1)\n",
    "Total= Sum/2\n",
    "print('the sum of all positive integer in n is  = %.2f' % Total )"
   ]
  },
  {
   "cell_type": "markdown",
   "id": "02b384d9",
   "metadata": {},
   "source": [
    " ##8. An online retailer sells two products: widgets and gizmos. Each widget weighs 75\n",
    "grams. Each gizmo weighs 112 grams. Write a program that reads the number of\n",
    "widgets and the number of gizmos from the user. Then your program should compute\n",
    "and display the total weight of the parts"
   ]
  },
  {
   "cell_type": "code",
   "execution_count": 2,
   "id": "794efbd8",
   "metadata": {},
   "outputs": [
    {
     "name": "stdout",
     "output_type": "stream",
     "text": [
      "Enter the weight of widget:25\n",
      "Enter the weight of gizmos:25\n",
      "Enter the amount of widget:1\n",
      "Enter the amount of gizmos:1\n",
      "The total weight is  = 50.00\n"
     ]
    }
   ],
   "source": [
    "widget=int(input('Enter the weight of widget:'))\n",
    "gizmos=int(input('Enter the weight of gizmos:'))\n",
    "numw=int(input('Enter the amount of widget:'))\n",
    "numg=int(input('Enter the amount of gizmos:'))\n",
    "Total=(widget*numw)+(gizmos*numg)\n",
    "print('The total weight is  = %.2f' %Total)"
   ]
  },
  {
   "cell_type": "raw",
   "id": "6eb4076b",
   "metadata": {},
   "source": [
    "Exercise 9: Compound Interest\n",
    "\n",
    "Pretend that you have just opened a new savings account that earns 4 percent interest\n",
    "per year. The interest that you earn is paid at the end of the year, and is added to the\n",
    "balance of the savings account. Write a program that begins by reading the amount of\n",
    "money deposited into the account from the user. Then your program should compute\n",
    "and display the amount in the savings account after 1, 2, and 3 years. Display each\n",
    "amount so that it is rounded to 2 decimal places."
   ]
  },
  {
   "cell_type": "code",
   "execution_count": 3,
   "id": "9b0344c3",
   "metadata": {},
   "outputs": [
    {
     "name": "stdout",
     "output_type": "stream",
     "text": [
      "enter the principal number:100\n",
      "enter the rate:5\n",
      "enter the time:3\n",
      "The pricipal after one year is =  115.00\n",
      "The pricipal after two year is =  132.25\n",
      "The pricipal after three year is =  152.09\n"
     ]
    }
   ],
   "source": [
    "principal=float(input('enter the principal number:'))\n",
    "rate=float(input('enter the rate:'))\n",
    "time=float(input('enter the time:'))\n",
    "interest=(principal*rate*time)/100\n",
    "principal_1= (principal+interest)\n",
    "print('The pricipal after one year is =  %.2f' %principal_1)\n",
    "interest_1=(principal_1*rate*time)/100\n",
    "principal_2= (principal_1+interest_1)\n",
    "print('The pricipal after two year is =  %.2f' %principal_2)\n",
    "interest_2=(principal_2*rate*time)/100\n",
    "principal_3= (principal_2+interest_2)\n",
    "print('The pricipal after three year is =  %.2f' %principal_3)\n"
   ]
  },
  {
   "cell_type": "raw",
   "id": "c5ae6311",
   "metadata": {},
   "source": [
    "Exercise 10: Arithmetic\n",
    "Create a program that reads two integers, a and b, from the user.Your program should compute and display:\n",
    "• The sum of a and b\n",
    "• The difference when b is subtracted from a\n",
    "• The product of a and b\n",
    "• The quotient when a is divided by b\n",
    "• The remainder when a is divided by b\n",
    "• The result of log10 a\n",
    "• The result of ab"
   ]
  },
  {
   "cell_type": "code",
   "execution_count": 1,
   "id": "523672a9",
   "metadata": {},
   "outputs": [
    {
     "ename": "SyntaxError",
     "evalue": "invalid syntax (Temp/ipykernel_8880/1171941312.py, line 11)",
     "output_type": "error",
     "traceback": [
      "\u001b[1;36m  File \u001b[1;32m\"C:\\Users\\User\\AppData\\Local\\Temp/ipykernel_8880/1171941312.py\"\u001b[1;36m, line \u001b[1;32m11\u001b[0m\n\u001b[1;33m    print(' The result of ab = ', a**b)\u001b[0m\n\u001b[1;37m    ^\u001b[0m\n\u001b[1;31mSyntaxError\u001b[0m\u001b[1;31m:\u001b[0m invalid syntax\n"
     ]
    }
   ],
   "source": [
    "import math\n",
    "a=int(input('Enter the integer:'))\n",
    "b=int(input('Enter the integer:'))\n",
    "\n",
    "print ('The sum of a and b = ', a+b)\n",
    "print('The difference when b is subtracted from a = ',a-b )\n",
    "print(' The product of a and b = ',a*b)\n",
    "print('The quotient when a is divided by b = ',a/b)\n",
    "print('The remainder when a is divided by b = ',a%b)\n",
    "print(' The result of log10 a = ',log(10(a))\n",
    "print(' The result of ab = ', a**b)"
   ]
  },
  {
   "cell_type": "code",
   "execution_count": 15,
   "id": "b4c5877c",
   "metadata": {},
   "outputs": [
    {
     "name": "stdout",
     "output_type": "stream",
     "text": [
      "Enter the integer:4\n",
      "Enter the integer:4\n",
      "4 + 4 is 8\n",
      "4 - 4 is 0\n",
      "4 * 4 is 16\n",
      "4 / 4 is 1.0\n",
      "4 % 4 is 0\n"
     ]
    },
    {
     "ename": "NameError",
     "evalue": "name 'log10' is not defined",
     "output_type": "error",
     "traceback": [
      "\u001b[1;31m---------------------------------------------------------------------------\u001b[0m",
      "\u001b[1;31mNameError\u001b[0m                                 Traceback (most recent call last)",
      "\u001b[1;32m~\\AppData\\Local\\Temp/ipykernel_12512/3883002561.py\u001b[0m in \u001b[0;36m<module>\u001b[1;34m\u001b[0m\n\u001b[0;32m      8\u001b[0m \u001b[0mprint\u001b[0m\u001b[1;33m(\u001b[0m\u001b[0ma\u001b[0m\u001b[1;33m,\u001b[0m \u001b[1;34m\"/\"\u001b[0m\u001b[1;33m,\u001b[0m \u001b[0mb\u001b[0m\u001b[1;33m,\u001b[0m \u001b[1;34m\"is\"\u001b[0m\u001b[1;33m,\u001b[0m \u001b[0ma\u001b[0m \u001b[1;33m/\u001b[0m \u001b[0mb\u001b[0m\u001b[1;33m)\u001b[0m\u001b[1;33m\u001b[0m\u001b[1;33m\u001b[0m\u001b[0m\n\u001b[0;32m      9\u001b[0m \u001b[0mprint\u001b[0m\u001b[1;33m(\u001b[0m\u001b[0ma\u001b[0m\u001b[1;33m,\u001b[0m \u001b[1;34m\"%\"\u001b[0m\u001b[1;33m,\u001b[0m \u001b[0mb\u001b[0m\u001b[1;33m,\u001b[0m \u001b[1;34m\"is\"\u001b[0m\u001b[1;33m,\u001b[0m \u001b[0ma\u001b[0m \u001b[1;33m%\u001b[0m \u001b[0mb\u001b[0m\u001b[1;33m)\u001b[0m\u001b[1;33m\u001b[0m\u001b[1;33m\u001b[0m\u001b[0m\n\u001b[1;32m---> 10\u001b[1;33m \u001b[0mprint\u001b[0m\u001b[1;33m(\u001b[0m\u001b[1;34m\"The base 10 logarithm of\"\u001b[0m\u001b[1;33m,\u001b[0m \u001b[0ma\u001b[0m\u001b[1;33m,\u001b[0m \u001b[1;34m\"is\"\u001b[0m\u001b[1;33m,\u001b[0m \u001b[0mlog10\u001b[0m\u001b[1;33m(\u001b[0m\u001b[0ma\u001b[0m\u001b[1;33m)\u001b[0m\u001b[1;33m)\u001b[0m\u001b[1;33m\u001b[0m\u001b[1;33m\u001b[0m\u001b[0m\n\u001b[0m\u001b[0;32m     11\u001b[0m \u001b[0mprint\u001b[0m\u001b[1;33m(\u001b[0m\u001b[0ma\u001b[0m\u001b[1;33m,\u001b[0m \u001b[1;34m\"ˆ\"\u001b[0m\u001b[1;33m,\u001b[0m \u001b[0mb\u001b[0m\u001b[1;33m,\u001b[0m \u001b[1;34m\"is\"\u001b[0m\u001b[1;33m,\u001b[0m \u001b[0ma\u001b[0m\u001b[1;33m**\u001b[0m\u001b[0mb\u001b[0m\u001b[1;33m)\u001b[0m\u001b[1;33m\u001b[0m\u001b[1;33m\u001b[0m\u001b[0m\n",
      "\u001b[1;31mNameError\u001b[0m: name 'log10' is not defined"
     ]
    }
   ],
   "source": [
    "import math\n",
    "a=int(input('Enter the integer:'))\n",
    "b=int(input('Enter the integer:'))\n",
    "\n",
    "print(a, \"+\", b, \"is\", a + b)\n",
    "print(a, \"-\", b, \"is\", a - b)\n",
    "print(a, \"*\", b, \"is\", a * b)\n",
    "print(a, \"/\", b, \"is\", a / b)\n",
    "print(a, \"%\", b, \"is\", a % b)\n",
    "print(\"The base 10 logarithm of\", a, \"is\", log10(a))\n",
    "print(a, \"ˆ\", b, \"is\", a**b)"
   ]
  },
  {
   "cell_type": "markdown",
   "id": "188d175a",
   "metadata": {},
   "source": [
    "Exercise 11: Fuel Efficiency\n",
    "(13 Lines)\n",
    "In the United States, fuel efficiency for vehicles is normally expressed in miles-pergallon\n",
    "(MPG). In Canada, fuel efficiency is normally expressed in liters-per-hundred\n",
    "kilometers (L/100 km). Use your research skills to determine how to convert from\n",
    "MPGto L/100 km. Then create a program that reads a value from the user in American\n",
    "units and displays the equivalent fuel efficiency in Canadian units."
   ]
  },
  {
   "cell_type": "code",
   "execution_count": 22,
   "id": "f2a50b63",
   "metadata": {},
   "outputs": [
    {
     "name": "stdout",
     "output_type": "stream",
     "text": [
      "Enter the America fuel efficiency :66\n",
      "The canda fuel efficency is =  1.55\n"
     ]
    }
   ],
   "source": [
    "a=int(input('Enter the America fuel efficiency :'))\n",
    "c=a*(0.01)/0.4251\n",
    "print('The canda fuel efficency is =  %.2f' %c)"
   ]
  },
  {
   "cell_type": "markdown",
   "id": "c4c46310",
   "metadata": {},
   "source": [
    "# DecisionMaking"
   ]
  },
  {
   "cell_type": "code",
   "execution_count": 24,
   "id": "b0c09f6a",
   "metadata": {},
   "outputs": [
    {
     "name": "stdout",
     "output_type": "stream",
     "text": [
      "Enter a number: 7\n",
      "The number was not zero\n"
     ]
    }
   ],
   "source": [
    "# Read a number from the user\n",
    "num = float(input(\"Enter a number: \"))\n",
    "# Store the appropriate message in result\n",
    "if num == 0:\n",
    "    result = \"The number was zero\"\n",
    "if num != 0:\n",
    "    result = \"The number was not zero\"\n",
    "# Display the message\n",
    "print(result)"
   ]
  },
  {
   "cell_type": "code",
   "execution_count": 25,
   "id": "e18c8486",
   "metadata": {},
   "outputs": [
    {
     "name": "stdout",
     "output_type": "stream",
     "text": [
      "Enter a number: 23\n",
      "The number was not zero\n"
     ]
    }
   ],
   "source": [
    "# Read a number from the user\n",
    "num = float(input(\"Enter a number: \"))\n",
    "# Store the appropriate message in result\n",
    "if num == 0:\n",
    "    result = \"The number was zero\"\n",
    "else:\n",
    "    result = \"The number was not zero\"\n",
    "# Display the message\n",
    "print(result)"
   ]
  },
  {
   "cell_type": "code",
   "execution_count": 26,
   "id": "872c1a60",
   "metadata": {},
   "outputs": [
    {
     "name": "stdout",
     "output_type": "stream",
     "text": [
      "Enter a number: 7\n",
      "That’s a positive number\n"
     ]
    }
   ],
   "source": [
    "# Read a number from the user\n",
    "num = float(input(\"Enter a number: \"))\n",
    "# Store the appropriate message in result\n",
    "if num > 0:\n",
    "    result = \"That’s a positive number\"\n",
    "elif num < 0:\n",
    "    result = \"That’s a negative number\"\n",
    "else:\n",
    "    result = \"That’s zero\"\n",
    "# Display the message\n",
    "print(result)"
   ]
  },
  {
   "cell_type": "code",
   "execution_count": 27,
   "id": "c2b5f7a2",
   "metadata": {},
   "outputs": [
    {
     "name": "stdout",
     "output_type": "stream",
     "text": [
      "Enter a number: 65\n",
      "That’s a positive number\n"
     ]
    }
   ],
   "source": [
    "# Read a number from the user\n",
    "num = float(input(\"Enter a number: \"))\n",
    "# Store the appropriate message in result\n",
    "if num > 0:\n",
    "# Determine what adjective should be used to describe the number\n",
    "    adjective = \" \"\n",
    "    if num >= 1000000:\n",
    "        adjective = \" really big \"\n",
    "    elif num >= 1000:\n",
    "        adjective = \" big \"\n",
    "# Store the message for positive numbers including the appropriate adjective\n",
    "        result = \"That’s a\" + adjective + \"positive number\"\n",
    "elif num < 0:\n",
    "    result = \"That’s a negative number\"\n",
    "else:\n",
    "    result = \"That’s zero\"\n",
    "# Display the message\n",
    "print(result)"
   ]
  },
  {
   "cell_type": "code",
   "execution_count": 28,
   "id": "66e20551",
   "metadata": {},
   "outputs": [
    {
     "name": "stdout",
     "output_type": "stream",
     "text": [
      "Enter an integer: 7\n",
      "That’s one of the first 5 primes.\n"
     ]
    }
   ],
   "source": [
    "# Read an integer from the user\n",
    "x = int(input(\"Enter an integer: \"))\n",
    "# Determine if it is one of the first 5 primes and report the result\n",
    "if x == 2 or x == 3 or x == 5 or x == 7 or x == 11:\n",
    "    print(\"That’s one of the first 5 primes.\")\n",
    "else:\n",
    "    print(\"That is not one of the first 5 primes.\")"
   ]
  },
  {
   "cell_type": "markdown",
   "id": "eb3042c6",
   "metadata": {},
   "source": [
    "# Exercise"
   ]
  },
  {
   "cell_type": "markdown",
   "id": "4453f6b5",
   "metadata": {},
   "source": [
    "Write a program that reads an integer from the user. Then your program should\n",
    "display a message indicating whether the integer is even or odd."
   ]
  },
  {
   "cell_type": "code",
   "execution_count": 32,
   "id": "94427a4b",
   "metadata": {},
   "outputs": [
    {
     "name": "stdout",
     "output_type": "stream",
     "text": [
      "Enter a number: 5\n",
      "That’s a odd number\n"
     ]
    }
   ],
   "source": [
    "# Read a number from the user\n",
    "num = int(input(\"Enter a number: \"))\n",
    "# Store the appropriate message in result\n",
    "if num%2==1:\n",
    "    result = \"That’s a odd number\"\n",
    "else:\n",
    "    result = \"That’s a even number\"\n",
    "# Display the message\n",
    "print(result)"
   ]
  },
  {
   "cell_type": "markdown",
   "id": "fec5c6ab",
   "metadata": {},
   "source": [
    "It is commonly said that one human year is equivalent to 7 dog years. However this\n",
    "simple conversion fails to recognize that dogs reach adulthood in approximately two\n",
    "years. As a result, some people believe that it is better to count each of the first two\n",
    "human years as 10.5 dog years, and then count each additional human year as 4 dog\n",
    "years.\n",
    "Write a program that implements the conversion from human years to dog years\n",
    "described in the previous paragraph. Ensure that your program works correctly for\n",
    "conversions of less than two human years and for conversions of two or more human\n",
    "years. Your program should display an appropriate error message if the user enters\n",
    "a negative number."
   ]
  },
  {
   "cell_type": "markdown",
   "id": "da492162",
   "metadata": {},
   "source": [
    "In this exercise you will create a program that reads a letter of the alphabet from the\n",
    "user. If the user enters a, e, i, o or u then your program should display a message\n",
    "indicating that the entered letter is a vowel. If the user enters y then your program\n",
    "should display a message indicating that sometimes y is a vowel, and sometimes y is\n",
    "a consonant. Otherwise your program should display a message indicating that the\n",
    "letter is a consonant."
   ]
  },
  {
   "cell_type": "code",
   "execution_count": 14,
   "id": "01b74b67",
   "metadata": {},
   "outputs": [
    {
     "name": "stdout",
     "output_type": "stream",
     "text": [
      "Enter a letter: h\n",
      "it is a consonant\n"
     ]
    }
   ],
   "source": [
    "letter= str(input(\"Enter a letter: \"))\n",
    "if letter=='a' or letter=='e' or letter=='i' or letter=='o' or letter=='u':\n",
    "    print ('letter is a vowel')\n",
    "elif letter=='y':\n",
    "    print('it is a vowel or a consonant')\n",
    "else:\n",
    "    print('it is a consonant')"
   ]
  },
  {
   "cell_type": "markdown",
   "id": "29d3822c",
   "metadata": {},
   "source": [
    "Write a program that determines the name of a shape from its number of sides. Read\n",
    "the number of sides from the user and then report the appropriate name as part of\n",
    "a meaningful message. Your program should support shapes with anywhere from 3\n",
    "up to (and including) 10 sides. If a number of sides outside of this range is entered\n",
    "then your program should display an appropriate error message."
   ]
  },
  {
   "cell_type": "code",
   "execution_count": 1,
   "id": "7ffc15a2",
   "metadata": {},
   "outputs": [
    {
     "name": "stdout",
     "output_type": "stream",
     "text": [
      "Enter a number of sides: 6\n",
      "hexagon\n"
     ]
    }
   ],
   "source": [
    "sides= int(input(\"Enter a number of sides: \"))\n",
    "if sides==3:\n",
    "    print('Trinagle')\n",
    "elif sides==4:\n",
    "    print('square')\n",
    "elif sides==5:\n",
    "    print('pentagon')\n",
    "elif sides==6:\n",
    "    print('hexagon')\n",
    "elif sides==7:\n",
    "    print('heptagon')\n",
    "elif sides==8:\n",
    "    print('octagon')\n",
    "elif sides==9:\n",
    "    print('nonagon')\n",
    "elif sides==10:\n",
    "    print('dexagon')\n",
    "else:\n",
    "    print('that number of sides is not supported by this program')"
   ]
  },
  {
   "cell_type": "code",
   "execution_count": 5,
   "id": "77e8a482",
   "metadata": {},
   "outputs": [
    {
     "name": "stdout",
     "output_type": "stream",
     "text": [
      "Enter the number of sides: 6\n",
      "That’s a hexagon\n"
     ]
    }
   ],
   "source": [
    "## # Report the name of a shape from its number of sides. #\n",
    "# Read the number of sides from the user \n",
    "nsides = int(input(\"Enter the number of sides: \"))\n",
    "# Determine the name, leaving it empty if an unsupported number of sides was entered \n",
    "name = \"\" \n",
    "if nsides == 3:\n",
    "    name = \"triangle\"\n",
    "elif nsides == 4:\n",
    "    name = \"quadrilateral\"\n",
    "elif nsides == 5:\n",
    "    name = \"pentagon\"\n",
    "elif nsides == 6:\n",
    "    name = \"hexagon\"\n",
    "elif nsides == 7:\n",
    "    name = \"heptagon\"\n",
    "elif nsides == 8:\n",
    "    name = \"octagon\"\n",
    "elif nsides == 9:\n",
    "    name = \"nonagon\"\n",
    "elif nsides == 10:\n",
    "    name = \"decagon\"\n",
    "# Display an error message or the name of the polygon \n",
    "if name == \"\": \n",
    "    print(\"That number of sides is not supported by this program.\")\n",
    "else:\n",
    "    print(\"That’s a\", name)"
   ]
  },
  {
   "cell_type": "markdown",
   "id": "d995c567",
   "metadata": {},
   "source": [
    "The length of a month varies from 28 to 31 days. In this exercise you will create\n",
    "a program that reads the name of a month from the user as a string. Then your\n",
    "program should display the number of days in that month. Display “28 or 29 days”\n",
    "for February so that leap years are addressed.\n"
   ]
  },
  {
   "cell_type": "code",
   "execution_count": null,
   "id": "943af7c3",
   "metadata": {},
   "outputs": [],
   "source": [
    "month = input(\"Enter the name of the month: \")\n",
    "day=30\n",
    "if month=='September' or month=='April' or month=='June' or month=='November':\n",
    "    day=30\n",
    "elif month=='febuaray':\n",
    "    day= '28 or 29'\n",
    "\n",
    "print (day)"
   ]
  },
  {
   "cell_type": "raw",
   "id": "704df8d6",
   "metadata": {},
   "source": [
    "A triangle can be classified based on the lengths of its sides as equilateral, isosceles or\n",
    "scalene. All three sides of an equilateral triangle have the same length. An isosceles\n",
    "triangle has two sides that are the same length, and a third side that is a different\n",
    "length. If all of the sides have different lengths then the triangle is scalene.\n",
    "Write a program that reads the lengths of the three sides of a triangle from the\n",
    "user. Then display a message that states the triangle’s type.\n"
   ]
  },
  {
   "cell_type": "code",
   "execution_count": 3,
   "id": "d1c57d28",
   "metadata": {},
   "outputs": [
    {
     "name": "stdout",
     "output_type": "stream",
     "text": [
      "Enter the size of side: 3\n",
      "Enter the size of side: 4\n",
      "Enter the size of side: 3\n",
      "That’s a isosceles triangle\n"
     ]
    }
   ],
   "source": [
    "x= int(input(\"Enter the size of side 1: \"))\n",
    "y= int(input(\"Enter the size of side 2: \"))\n",
    "z= int(input(\"Enter the size of side 3: \"))\n",
    "if x==y==z:\n",
    "    triangle=\"equilateral triangle\"\n",
    "elif x==y or y==z or x==z:\n",
    "    triangle= \"isosceles\"\n",
    "else: \n",
    "    triangle=\"scalene\"\n",
    "print(\"That’s a\", triangle, \"triangle\")"
   ]
  },
  {
   "cell_type": "markdown",
   "id": "784fa514",
   "metadata": {},
   "source": [
    "The following table lists an octave of music notes, beginning with middle C, along\n",
    "with their frequencies. \n",
    "Note Frequency (Hz)\n",
    "C4   261.63\n",
    "D4   293.66\n",
    "E4   329.63\n",
    "F4   349.23\n",
    "G4   392.00\n",
    "A4   440.00\n",
    "B4   493.88\n",
    "Begin by writing a program that reads the name of a note from the user and\n",
    "displays the note’s frequency. Your program should support all of the notes listed\n",
    "previously.\n",
    "Once you have your program working correctly for the notes listed previously\n",
    "you should add support for all of the notes from C0 to C8. While this could be\n",
    "done by adding many additional cases to your if statement, such a solution is\n",
    "cumbersome, inelegant and unacceptable for the purposes of this exercise. Instead,\n",
    "you should exploit the relationship between notes in adjacent octaves. In particular,\n",
    "the frequency of any note in octave n is half the frequency of the corresponding\n",
    "note in octave n + 1. By using this relationship, you should be able to\n",
    "add support for the additional notes without adding additional cases to your if\n",
    "statement."
   ]
  },
  {
   "cell_type": "code",
   "execution_count": 6,
   "id": "d67d881c",
   "metadata": {},
   "outputs": [
    {
     "name": "stdout",
     "output_type": "stream",
     "text": [
      "Enter the type of note: E4\n",
      "That’s a 329.63 frequency\n"
     ]
    }
   ],
   "source": [
    "## # Report the note frequency from its type of note #\n",
    "# Read the type of note from the user \n",
    "note = str(input(\"Enter the type of note: \"))\n",
    "# Determine the name, leaving it empty if an unsupported number of sides was entered \n",
    "frequency = \"\" \n",
    "if note == \"C4\":\n",
    "    frequency = 261.63\n",
    "elif note == \"D4\":\n",
    "    frequency = 293.66\n",
    "elif note == \"E4\":\n",
    "    frequency = 329.63\n",
    "elif note == \"F4\":\n",
    "    frequency = 349.23\n",
    "elif note == \"G4\":\n",
    "    frequency = 392.00\n",
    "elif note == \"A4\":\n",
    "    frequency = 440.00\n",
    "elif note == \"B4\":\n",
    "    frequency = 493.88\n",
    "# Display an error message or the name of the polygon \n",
    "if note == \"\": \n",
    "    print(\"That note is not supported by this program.\")\n",
    "else:\n",
    "    print(\"That’s a\", frequency,\"frequency\")"
   ]
  },
  {
   "cell_type": "code",
   "execution_count": 12,
   "id": "f69c4a78",
   "metadata": {},
   "outputs": [
    {
     "name": "stdout",
     "output_type": "stream",
     "text": [
      "Enter the two character note name, such as C4: Z100\n",
      "The frequency of Z100 is 196.0\n"
     ]
    }
   ],
   "source": [
    "##\n",
    "# Convert the name of a note to its frequency.\n",
    "#\n",
    "C4_FREQ = 261.63\n",
    "D4_FREQ = 293.66\n",
    "E4_FREQ = 329.63\n",
    "F4_FREQ = 349.23\n",
    "G4_FREQ = 392.00\n",
    "A4_FREQ = 440.00\n",
    "B4_FREQ = 493.88\n",
    "# Read the note name from the user\n",
    "name = input(\"Enter the two character note name, such as C4: \")\n",
    "# Store the note and its octave in separate variables\n",
    "note = name[0]\n",
    "octave = int(name[1])\n",
    "# Get the frequency of the note, assuming it is in the fourth octave\n",
    "if note == \"C\":\n",
    "    freq = C4_FREQ\n",
    "elif note == \"D\":\n",
    "    freq = D4_FREQ\n",
    "elif note == \"E\":\n",
    "    freq = E4_FREQ\n",
    "elif note == \"F\":\n",
    "    freq = F4_FREQ\n",
    "elif note == \"G\":\n",
    "    freq = G4_FREQ\n",
    "elif note == \"A\":\n",
    "    freq = A4_FREQ\n",
    "elif note == \"B\":\n",
    "    freq = B4_FREQ\n",
    "# Now adjust the frequency to bring it into the correct octave\n",
    "freq = freq / 2 ** (4 - octave)\n",
    "# Display the result\n",
    "print(\"The frequency of\", name, \"is\", freq)"
   ]
  },
  {
   "cell_type": "markdown",
   "id": "0953f315",
   "metadata": {},
   "source": [
    "In the previous question you converted from a note’s name to its frequency. In this\n",
    "question you will write a program that reverses that process. Begin by reading a\n",
    "frequency from the user. If the frequency is within one Hertz of a value listed in\n",
    "the table in the previous question then report the name of the corresponding note.\n",
    "Otherwise report that the frequency does not correspond to a known note. In this\n",
    "exercise you only need to consider the notes listed in the table. There is no need to\n",
    "consider notes from other octaves."
   ]
  },
  {
   "cell_type": "code",
   "execution_count": 15,
   "id": "fae1918e",
   "metadata": {},
   "outputs": [
    {
     "name": "stdout",
     "output_type": "stream",
     "text": [
      "Enter a frequency (Hz): 22\n",
      "There is no note that corresponds to that frequency.\n"
     ]
    }
   ],
   "source": [
    "##\n",
    "# Read a frequency from the user and display the note (if any) that it corresponds to.\n",
    "#\n",
    "C4_FREQ = 261.63\n",
    "D4_FREQ = 293.66\n",
    "E4_FREQ = 329.63\n",
    "F4_FREQ = 349.23\n",
    "G4_FREQ = 392.00\n",
    "A4_FREQ = 440.00\n",
    "B4_FREQ = 493.88\n",
    "LIMIT = 1\n",
    "# Read the frequency from the user\n",
    "freq = float(input(\"Enter a frequency (Hz): \"))\n",
    "# Determine the note that corresponds to the entered frequency. Set note equal to the empty\n",
    "# string if there isn’t a match.\n",
    "if freq >= C4_FREQ - LIMIT and freq <= C4_FREQ + LIMIT:\n",
    "    note = \"C4\"\n",
    "elif freq >= D4_FREQ - LIMIT and freq <= D4_FREQ + LIMIT:\n",
    "    note = \"D4\"\n",
    "elif freq >= E4_FREQ - LIMIT and freq <= E4_FREQ + LIMIT:\n",
    "    note = \"E4\"\n",
    "elif freq >= F4_FREQ - LIMIT and freq <= F4_FREQ + LIMIT:\n",
    "    note = \"F4\"\n",
    "elif freq >= G4_FREQ - LIMIT and freq <= G4_FREQ + LIMIT:\n",
    "    note = \"G4\"\n",
    "elif freq >= A4_FREQ - LIMIT and freq <= A4_FREQ + LIMIT:\n",
    "    note = \"A4\"\n",
    "elif freq >= B4_FREQ - LIMIT and freq <= B4_FREQ + LIMIT:\n",
    "    note = \"B4\"\n",
    "else:\n",
    "    note = \"\"\n",
    "# Display the result, or an appropriate error message\n",
    "if note == \"\":\n",
    "    print(\"There is no note that corresponds to that frequency.\")\n",
    "else:\n",
    "    print(\"That frequency is\", note)"
   ]
  },
  {
   "cell_type": "markdown",
   "id": "afc09b1b",
   "metadata": {},
   "source": [
    "The year is divided into four seasons: spring, summer, fall (or autumn) and winter.\n",
    "While the exact dates that the seasons change vary a little bit from year to year\n",
    "because of the way that the calendar is constructed, we will use the following dates\n",
    "for this exercise:\n",
    "Season First Day\n",
    "Spring March 20\n",
    "Summer June 21\n",
    "Fall September 22\n",
    "Winter December 21\n",
    "Create a program that reads a month and day from the user. The user will\n",
    "enter the name of the month as a string, followed by the day within the month as an\n",
    "integer. Then your program should display the season associated with the date that\n",
    "was entered."
   ]
  },
  {
   "cell_type": "code",
   "execution_count": 26,
   "id": "2bc2fccb",
   "metadata": {},
   "outputs": [
    {
     "name": "stdout",
     "output_type": "stream",
     "text": [
      "enter the month:may\n",
      "enter the day:12\n",
      "The season is spring\n"
     ]
    }
   ],
   "source": [
    "# we read the season and the month\n",
    "#spring= \"march 20\"\n",
    "#summer=\"june 21\"\n",
    "#fall=\"september 22\"\n",
    "#winter=\"december 21\"\n",
    "#input from the user\n",
    "month=str(input(\"enter the month:\"))\n",
    "day=int(input(\"enter the day:\"))\n",
    "if month==\"january\" or month==\"febuary\":\n",
    "    season=\"winter\"\n",
    "elif month==\"march\":\n",
    "    if day<20:\n",
    "        season=\"winter\"\n",
    "    else: season=\"spring\"\n",
    "    \n",
    "elif month==\"April\" or month==\"may\":\n",
    "    season=\"spring\"\n",
    "elif month==\"june\":\n",
    "        if day<21:\n",
    "            season=\"spring\"\n",
    "        else:season==\"summer\"\n",
    "elif month==\"july\" or month==\"august\":\n",
    "    season=\"summer\"\n",
    "elif month==\"september\":\n",
    "            if day<22:\n",
    "                season=summer\n",
    "            else: season=\"fall\"\n",
    "elif month==\"october\" or month==\"november\":\n",
    "    season=\"fall\"\n",
    "elif month==\"december\":\n",
    "            if day<21:\n",
    "                season=\"fall\"\n",
    "            else: season=winter\n",
    "print(\"The season is\",season)\n",
    "    "
   ]
  },
  {
   "cell_type": "markdown",
   "id": "d819d77f",
   "metadata": {},
   "source": [
    "The Chinese zodiac assigns animals to years in a 12 year cycle. One 12 year cycle is\n",
    "shown in the table below. The pattern repeats from there, with 2012 being another\n",
    "year of the dragon, and 1999 being another year of the hare.\n",
    "Year Animal\n",
    "2000 Dragon\n",
    "2001 Snake\n",
    "2002 Horse\n",
    "2003 Sheep\n",
    "2004 Monkey\n",
    "2005 Rooster\n",
    "2006 Dog\n",
    "2007 Pig\n",
    "2008 Rat\n",
    "2009 Ox\n",
    "2010 Tiger\n",
    "2011 Hare\n",
    "Write a program that reads a year from the user and displays the animal associated\n",
    "with that year. Your program should work correctly for any year greater than or equal\n",
    "to zero, not just the ones listed in the table."
   ]
  },
  {
   "cell_type": "code",
   "execution_count": 29,
   "id": "6d3f0a00",
   "metadata": {},
   "outputs": [
    {
     "name": "stdout",
     "output_type": "stream",
     "text": [
      "Enter a year: 1\n",
      "1 is the year of the Rooster.\n"
     ]
    }
   ],
   "source": [
    "##\n",
    "# Determine the animal associated with a year according to the Chinese zodiac.\n",
    "#\n",
    "# Read a year from the user\n",
    "year = int(input(\"Enter a year: \"))\n",
    "# Determine the animal associated with that year\n",
    "if year % 12 == 8:\n",
    "    animal = \"Dragon\"\n",
    "elif year % 12 == 9:\n",
    "    animal = \"Snake\"\n",
    "elif year % 12 == 10:\n",
    "    animal = \"Horse\"\n",
    "elif year % 12 == 11:\n",
    "    animal = \"Sheep\"\n",
    "elif year % 12 == 0:\n",
    "    animal = \"Monkey\"\n",
    "elif year % 12 == 1:\n",
    "    animal = \"Rooster\"\n",
    "elif year % 12 == 2:\n",
    "    animal = \"Dog\"\n",
    "elif year % 12 == 3:\n",
    "    animal = \"Pig\"\n",
    "elif year % 12 == 4:\n",
    "    animal = \"Rat\"\n",
    "elif year % 12 == 5:\n",
    "    animal = \"Ox\"\n",
    "elif year % 12 == 6:\n",
    "    animal = \"Tiger\"\n",
    "elif year % 12 == 7:\n",
    "    animal = \"Hare\"\n",
    "# Report the result\n",
    "print(\"%d is the year of the %s.\" % (year, animal))\n"
   ]
  },
  {
   "cell_type": "code",
   "execution_count": 30,
   "id": "e768505a",
   "metadata": {},
   "outputs": [
    {
     "name": "stderr",
     "output_type": "stream",
     "text": [
      "Matplotlib is building the font cache; this may take a moment.\n"
     ]
    },
    {
     "data": {
      "image/png": "[encoded data removed]",
      "text/plain": [
       "<Figure size 432x288 with 1 Axes>"
      ]
     },
     "metadata": {
      "needs_background": "light"
     },
     "output_type": "display_data"
    }
   ],
   "source": [
    "import numpy as np\n",
    "import matplotlib.pyplot as plot\n",
    "# Get x values of the sine wave\n",
    "time = np.linspace(-2*np.pi, 2*np.pi, 256, endpoint=True)\n",
    "# Amplitude of the sine wave is sine of a variable like time\n",
    "amplitude_sin = np.sin(time)\n",
    "amplitude_cos = np.cos(time)\n",
    "# Plot a sine wave using time and amplitude obtained for the sine wave\n",
    "plot.plot(time, amplitude_sin)\n",
    "plot.plot(time, amplitude_cos)\n",
    "# Give a title for the sine wave plot\n",
    "plot.title('Sine & Cos wave')\n",
    "# Give x axis label for the sine wave plot\n",
    "plot.xlabel('Time')\n",
    "# Give y axis label for the sine wave plot\n",
    "plot.ylabel('Amplitude')\n",
    "plot.grid(True, which='both')\n",
    "plot.axhline(y=0, color='k')\n",
    "plot.show()"
   ]
  },
  {
   "cell_type": "raw",
   "id": "280a0679",
   "metadata": {},
   "source": [
    "At a particular university, letter grades are mapped to grade points in the following manner:\n",
    "Letter Grade Points \n",
    "A+     4.0 \n",
    "A      4.0 \n",
    "A-     3.7\n",
    "B+     3.3\n",
    "B      3.0\n",
    "B-     2.7\n",
    "C+     2.3\n",
    "C      2.0\n",
    "C-     1.7\n",
    "D+     1.3\n",
    "D      1.0\n",
    "F      0\n",
    "Write a program that begins by reading a letter grade from the user. Then your\n",
    "program should compute and display the equivalent number of grade points. Ensure\n",
    "that your program generates an appropriate error message if the user enters an invalid\n",
    "letter grade.\n"
   ]
  },
  {
   "cell_type": "code",
   "execution_count": 10,
   "id": "97b85b92",
   "metadata": {},
   "outputs": [
    {
     "name": "stdout",
     "output_type": "stream",
     "text": [
      "Enter a grade: a+\n",
      "The grade of  A+ is 4.0\n"
     ]
    }
   ],
   "source": [
    "##\n",
    "# Determine the animal associated with a year according to the Chinese zodiac.\n",
    "#\n",
    "# Read a year from the user\n",
    "letter = str(input(\"Enter a grade: \"))\n",
    "letter = letter.upper()\n",
    "# Determine the animal associated with that year\n",
    "if letter == 'A+':\n",
    "    grade = 4.0\n",
    "elif letter == 'A':\n",
    "    animal = 4.0\n",
    "elif letter == 'A-':\n",
    "    grade = 3.7\n",
    "elif letter == 'B+':\n",
    "    grade = 3.3\n",
    "elif letter == 'B':\n",
    "    grade = 3.0\n",
    "elif letter == 'B-':\n",
    "    grade = 2.7\n",
    "elif letter == 'C+':\n",
    "    grade = 2.3\n",
    "elif letter == 'C':\n",
    "    grade = 2.0\n",
    "elif letter == 'C-':\n",
    "    grade = 1.7\n",
    "elif letter == 'D+':\n",
    "    grade = 1.3\n",
    "elif letter == 'D':\n",
    "    animal = 1.0\n",
    "elif letter == 'F':\n",
    "    grade = 0\n",
    "else:\n",
    "    grade='invalid'\n",
    "# Report the result\n",
    "print(\"The grade of \",letter,'is', grade)"
   ]
  },
  {
   "cell_type": "code",
   "execution_count": 9,
   "id": "f1defa2e",
   "metadata": {},
   "outputs": [
    {
     "name": "stdout",
     "output_type": "stream",
     "text": [
      "Enter a letter grade: d-\n",
      "That wasn’t a valid letter grade.\n"
     ]
    }
   ],
   "source": [
    "##\n",
    "# Convert from a letter grade to a number of grade points.\n",
    "#\n",
    "A = 4.0\n",
    "A_MINUS = 3.7\n",
    "B_PLUS = 3.3\n",
    "B = 3.0\n",
    "B_MINUS = 2.7\n",
    "C_PLUS = 2.3\n",
    "C = 2.0\n",
    "C_MINUS = 1.7\n",
    "D_PLUS = 1.3\n",
    "D = 1.0\n",
    "F =0\n",
    "INVALID = -1\n",
    "# Read the letter grade from the user\n",
    "letter = input(\"Enter a letter grade: \")\n",
    "letter = letter.upper()\n",
    "# Convert from a letter grade to a number of grade points using -1 grade points as a sentinel\n",
    "# value indicating invalid input\n",
    "if letter == \"A+\" or letter == \"A\":\n",
    "    gp = A\n",
    "elif letter == \"A-\":\n",
    "    gp = A_MINUS\n",
    "elif letter == \"B+\":\n",
    "    gp = B_PLUS\n",
    "elif letter == \"B\":\n",
    "    gp = B\n",
    "elif letter == \"B-\":\n",
    "    gp = B_MINUS\n",
    "elif letter == \"C+\":\n",
    "    gp = C_PLUS\n",
    "elif letter == \"C\":\n",
    "    gp = C\n",
    "elif letter == \"C-\":\n",
    "    gp = C_MINUS\n",
    "elif letter == \"D+\":\n",
    "    gp = D_PLUS\n",
    "elif letter == \"D\":\n",
    "    gp = D\n",
    "elif letter == \"F\":\n",
    "    gp = F\n",
    "else:\n",
    "    gp = INVALID\n",
    "# Report the result\n",
    "if gp == INVALID:\n",
    "    print(\"That wasn’t a valid letter grade.\")\n",
    "else:\n",
    "    print(\"A(n)\", letter, \"is equal to\", gp, \"grade points.\")"
   ]
  },
  {
   "cell_type": "raw",
   "id": "4db13614",
   "metadata": {},
   "source": [
    "At a particular company, employees are rated at the end of each year. The rating scale\n",
    "begins at 0.0, with higher values indicating better performance and resulting in larger\n",
    "raises. The value awarded to an employee is either 0.0, 0.4, or 0.6 or more. Values\n",
    "between 0.0 and 0.4, and between 0.4 and 0.6 are never used. The meaning associated\n",
    "with each rating is shown in the following table. The amount of an employee’s raise\n",
    "is $2,400.00 multiplied by their rating.\n",
    "Rating                  Meaning\n",
    "0.0                     Unacceptable Performance\n",
    "0.4                     Acceptable Performance\n",
    "0.6                     Meritorious Performance\n",
    "Write a program that reads a rating from the user and indicates whether the performance for that rating is unacceptable, acceptable or meritorious. The amount\n",
    "of the employee’s raise should also be reported. Your program should display an\n",
    "appropriate error message if an invalid rating is entered."
   ]
  },
  {
   "cell_type": "code",
   "execution_count": 20,
   "id": "3370aa40",
   "metadata": {},
   "outputs": [
    {
     "name": "stdout",
     "output_type": "stream",
     "text": [
      "Enter rating:1\n",
      "Meritorious Performance, your raise is $ 2400.0\n"
     ]
    }
   ],
   "source": [
    "rating=float(input('Enter rating:'))\n",
    "if rating<=0.0 or rating<0.4:\n",
    "    print(' Unacceptable Performance')\n",
    "elif rating==0.4 or rating<=0.6:\n",
    "    print(' Acceptable Performance')\n",
    "else:\n",
    "    Raise=2400.00*rating\n",
    "    print('Meritorious Performance, your raise is','$',Raise)"
   ]
  },
  {
   "cell_type": "raw",
   "id": "f807b557",
   "metadata": {},
   "source": [
    "Most years have 365 days. However, the time required for the Earth to orbit the Sun\n",
    "is actually slightly more than that. As a result, an extra day, February 29, is included\n",
    "in some years to correct for this difference. Such years are referred to as leap years.\n",
    "The rules for determining whether or not a year is a leap year follow:\n",
    "• Any year that is divisible by 400 is a leap year.\n",
    "• Of the remaining years, any year that is divisible by 100 is not a leap year.\n",
    "• Of the remaining years, any year that is divisible by 4 is a leap year.\n",
    "• All other years are not leap years.\n",
    "Write a program that reads a year from the user and displays a message indicating\n",
    "whether or not it is a leap year.\n",
    "\n",
    "hint: Leap Years are any year that can be exactly divided by 4 (such as 2016, 2020, 2024, etc) except if it can be exactly divided by 100, then it isn't (such as 2100, 2200, etc) except if it can be exactly divided by 400, then it is (such as 2000, 2400)"
   ]
  },
  {
   "cell_type": "code",
   "execution_count": 32,
   "id": "de375461",
   "metadata": {},
   "outputs": [
    {
     "name": "stdout",
     "output_type": "stream",
     "text": [
      "enter year2100\n",
      "This year is not a leap year\n"
     ]
    }
   ],
   "source": [
    "Year=int(input('enter year'))\n",
    "if Year%400==0:\n",
    "    LeapYear=True\n",
    "elif Year%100==0:\n",
    "    LeapYear=False\n",
    "elif Year%100==0:\n",
    "    LeapYear=True\n",
    "else:\n",
    "    LeapYear=False\n",
    "if  LeapYear==True:\n",
    "    print ('This year is a leap year')\n",
    "else:\n",
    "    print ('This year is not a leap year')"
   ]
  },
  {
   "cell_type": "markdown",
   "id": "6a23c5c6",
   "metadata": {},
   "source": [
    "In a particular jurisdiction, older license plates consist of three uppercase letters\n",
    "followed by three digits. When all of the license plates following that pattern had\n",
    "been used, the format was changed to four digits followed by three uppercase letters.\n",
    "Write a program that begins by reading a string of characters from the user. Then\n",
    "your program should display a message indicating whether the characters are valid\n",
    "for an older style license plate or a newer style license plate. Your program should\n",
    "display an appropriate message if the string entered by the user is not valid for either\n",
    "style of license plate."
   ]
  },
  {
   "cell_type": "code",
   "execution_count": 36,
   "id": "adf741c4",
   "metadata": {},
   "outputs": [
    {
     "name": "stdout",
     "output_type": "stream",
     "text": [
      "Enter the license plate: GHT123\n",
      "The plate is a valid older style plate.\n"
     ]
    }
   ],
   "source": [
    "## Determine whether or not a license plate is valid. A valid license plate either consists of:\n",
    "# 1) 3 letters followed by 3 numbers, or\n",
    "# 2) 4 numbers followed by 3 numbers\n",
    "# Read the plate from the user\n",
    "plate = input(\"Enter the license plate: \")\n",
    "# Check the status of the plate and display it. It is necessary to check each of the 6 characters\n",
    "# for an older style plate, or each of the 7 characters for a newer style plate.\n",
    "if len(plate) == 6 and \\\n",
    "    plate[0] >= \"A\" and plate[0] <= \"Z\" and \\\n",
    "    plate[1] >= \"A\" and plate[1] <= \"Z\" and \\\n",
    "    plate[2] >= \"A\" and plate[2] <= \"Z\" and \\\n",
    "    plate[3] >= \"0\" and plate[3] <= \"9\" and \\\n",
    "    plate[4] >= \"0\" and plate[4] <= \"9\" and \\\n",
    "    plate[5] >= \"0\" and plate[5] <= \"9\":\n",
    "    print(\"The plate is a valid older style plate.\")\n",
    "elif len(plate) == 7 and \\\n",
    "    plate[0] >= \"0\" and plate[0] <= \"9\" and \\\n",
    "    plate[1] >= \"0\" and plate[1] <= \"9\" and \\\n",
    "    plate[2] >= \"0\" and plate[2] <= \"9\" and \\\n",
    "    plate[3] >= \"0\" and plate[3] <= \"9\" and \\\n",
    "    plate[4] >= \"A\" and plate[4] <= \"Z\" and \\\n",
    "    plate[5] >= \"A\" and plate[5] <= \"Z\" and \\\n",
    "    plate[6] >= \"A\" and plate[6] <= \"Z\":\n",
    "    print(\"The plate is a valid newer style plate.\")\n",
    "else:\n",
    "    print(\"The plate is not valid.\")"
   ]
  },
  {
   "cell_type": "code",
   "execution_count": 47,
   "id": "d6beb8c1",
   "metadata": {},
   "outputs": [
    {
     "name": "stdout",
     "output_type": "stream",
     "text": [
      "Enter the lincense plate values:GTF678\n",
      "The license plate value is valid older style\n"
     ]
    }
   ],
   "source": [
    "plate=input('Enter the lincense plate values:')\n",
    "if len(plate)== 6 and \\\n",
    "    plate[0] >='A' and plate[0] <='Z' and \\\n",
    "    plate[1] >='A' and plate[1] <='Z' and \\\n",
    "    plate[2] >='A' and plate[2] <='Z' and \\\n",
    "    plate[3] >='0' and plate[3] <='9' and \\\n",
    "    plate[4] >='0' and plate[4] <='9' and \\\n",
    "    plate[5] >='0' and plate[5] <='9':\n",
    "    print(\"The license plate value is valid older style\")\n",
    "elif len(plate)==7 and \\\n",
    "    plate[0] >='A' and plate[0] <='Z' and \\\n",
    "    plate[1] >='A' and plate[1] <='Z'and \\\n",
    "    plate[2] >='A' and plate[2] <='Z' and \\\n",
    "    plate[3] >='A' and plate[3] <='Z' and \\\n",
    "    plate[4] >='0' and plate[4] <='9' and \\\n",
    "    plate[5] >='0' and plate[5] <='9' and \\\n",
    "    plate[6] >='0' and plate[6] <='9':\n",
    "        print ('The license plate value is valid newer style')\n",
    "else:\n",
    "    print ('The license plate value is invalid')\n",
    "    "
   ]
  },
  {
   "cell_type": "raw",
   "id": "14889908",
   "metadata": {},
   "source": [
    "A roulette wheel has 38 spaces on it. Of these spaces, 18 are black, 18 are red, and two\n",
    "are green. The green spaces are numbered 0 and 00. The red spaces are numbered 1,\n",
    "3, 5, 7, 9, 12, 14, 16, 18, 19, 21, 23, 25, 27, 30 32, 34 and 36. The remaining integers\n",
    "between 1 and 36 are used to number the black spaces.\n",
    "Many different bets can be placed in roulette. We will only consider the following\n",
    "subset of them in this exercise:\n",
    "• Single number (1 to 36, 0, or 00)\n",
    "• Red versus Black\n",
    "• Odd versus Even (Note that 0 and 00 do not pay out for even)\n",
    "• 1 to 18 versus 19 to 36\n",
    "Write a program that simulates a spin of a roulette wheel by using Python’s\n",
    "random number generator. Display the number that was selected and all of the bets\n",
    "that must be payed. For example, if 13 is selected then your program should display:\n",
    "    The spin resulted in 13...\n",
    "Pay 13\n",
    "Pay Black\n",
    "Pay Odd\n",
    "Pay 1 to 18"
   ]
  },
  {
   "cell_type": "code",
   "execution_count": 54,
   "id": "b6be9a51",
   "metadata": {},
   "outputs": [
    {
     "name": "stdout",
     "output_type": "stream",
     "text": [
      "The spin resulted in 18...\n",
      "Pay 18\n",
      "Pay Red\n",
      "Pay 1 to 18\n"
     ]
    }
   ],
   "source": [
    "# Display the bets that pay out in a roulette simulation.\n",
    "#\n",
    "from random import randrange\n",
    "# Simulate spinning the wheel, using 37 to represent 00\n",
    "value = randrange(0, 38)\n",
    "if value == 37:\n",
    "    print(\"The spin resulted in 00...\")\n",
    "else:\n",
    "    print(\"The spin resulted in %d...\" % value)\n",
    "# Display the payout for a single number\n",
    "if value == 37:\n",
    "    print(\"Pay 00\")\n",
    "else:\n",
    "    print(\"Pay\", value)\n",
    "# Display the color payout\n",
    "# The first line in the condition checks for 1, 3, 5, 7 and 9\n",
    "# The second line in the condition checks for 12, 14, 16 and 18\n",
    "# The third line in the condition checks for 19, 21, 23, 25 and 27\n",
    "# The fourth line in the condition checks for 30, 32, 34 and 36\n",
    "if value % 2 == 1 and value >= 1 and value <= 9 or \\\n",
    "value % 2 == 0 and value >= 12 and value <= 18 or \\\n",
    "value % 2 == 1 and value >= 19 and value <= 27 or \\\n",
    "value % 2 == 0 and value >= 30 and value <= 36:\n",
    "    print(\"Pay Red\")\n",
    "elif value == 0 or value == 37:\n",
    "    pass\n",
    "else:\n",
    "    print(\"Pay Black\")\n",
    "# Display the odd vs. even payout\n",
    "if value >= 1 and value <= 36:\n",
    "    if value % 2 == 1:\n",
    "        print(\"Pay Odd\")\n",
    "else:\n",
    "    print(\"Pay Even\")\n",
    "# Display the lower numbers vs. upper numbers payout\n",
    "if value >= 1 and value <= 18:\n",
    "    print(\"Pay 1 to 18\")\n",
    "elif value >= 19 and value <= 36:\n",
    "    print(\"Pay 19 to 36\")"
   ]
  },
  {
   "cell_type": "code",
   "execution_count": 4,
   "id": "5579af1b",
   "metadata": {},
   "outputs": [
    {
     "name": "stdout",
     "output_type": "stream",
     "text": [
      "Enter integer:87\n",
      "\n"
     ]
    }
   ],
   "source": [
    "# Create a variable savings\n",
    "savings=int(input('Enter integer:'))\n",
    "savings=''\n",
    "# Print out savings\n",
    "print(savings)"
   ]
  },
  {
   "cell_type": "markdown",
   "id": "1d880c3b",
   "metadata": {},
   "source": [
    "# Repitition"
   ]
  },
  {
   "cell_type": "code",
   "execution_count": 10,
   "id": "7d8493e8",
   "metadata": {},
   "outputs": [
    {
     "name": "stdout",
     "output_type": "stream",
     "text": [
      "Enter an integer (0 to quit): 7\n",
      "That’s a positive number.\n",
      "Enter an integer (0 to quit): 7\n",
      "That’s a positive number.\n",
      "Enter an integer (0 to quit): 5\n",
      "That’s a positive number.\n",
      "Enter an integer (0 to quit): 0\n"
     ]
    }
   ],
   "source": [
    "# Read the first value from the user\n",
    "x = int(input(\"Enter an integer (0 to quit): \"))\n",
    "# Keep looping while the user enters a non-zero number\n",
    "while x != 0:\n",
    "# Report the nature of the number\n",
    "    if x > 0:\n",
    "        print(\"That’s a positive number.\")\n",
    "    else:\n",
    "        print(\"That’s a negative number.\")\n",
    "# Read the next value from the user\n",
    "    x = int(input(\"Enter an integer (0 to quit): \"))"
   ]
  },
  {
   "cell_type": "code",
   "execution_count": 12,
   "id": "708f16c0",
   "metadata": {},
   "outputs": [
    {
     "name": "stdout",
     "output_type": "stream",
     "text": [
      "Enter an integer: 30\n",
      "The multiples of 3 up to and including 30 are:\n",
      "3\n",
      "6\n",
      "9\n",
      "12\n",
      "15\n",
      "18\n",
      "21\n",
      "24\n",
      "27\n",
      "30\n"
     ]
    }
   ],
   "source": [
    "# Read the limit from the user\n",
    "limit = int(input(\"Enter an integer: \"))\n",
    "# Display the positive multiples of 3 up to the limit\n",
    "print(\"The multiples of 3 up to and including\", limit, \"are:\")\n",
    "for i in range(3, limit + 1, 3):\n",
    "    print(i)"
   ]
  },
  {
   "cell_type": "code",
   "execution_count": 1,
   "id": "50b68c07",
   "metadata": {},
   "outputs": [
    {
     "name": "stdout",
     "output_type": "stream",
     "text": [
      "Enter a message (blank to quit): i love you\n",
      "How many times should it be repeated? 4\n",
      "i love you\n",
      "i love you\n",
      "i love you\n",
      "i love you\n",
      "Enter a message (blank to quit): \n"
     ]
    }
   ],
   "source": [
    "# Read the first message from the user\n",
    "message = input(\"Enter a message (blank to quit): \")\n",
    "# Loop until the message is a blank line\n",
    "while message != \"\":\n",
    "# Read the number of times the message should be displayed\n",
    "    n = int(input(\"How many times should it be repeated? \"))\n",
    "# Display the message the number of times requested\n",
    "    for i in range(n):\n",
    "        print(message)\n",
    "# Read the next message from the user\n",
    "    message = input(\"Enter a message (blank to quit): \")"
   ]
  },
  {
   "cell_type": "code",
   "execution_count": 6,
   "id": "c1ea4026",
   "metadata": {},
   "outputs": [
    {
     "name": "stdout",
     "output_type": "stream",
     "text": [
      "i love you\n",
      "i love you\n",
      "i love you\n",
      "i love you\n",
      "i love you\n",
      "i love you\n",
      "i love you\n"
     ]
    }
   ],
   "source": [
    "message='i love you'\n",
    "n=7\n",
    "for i in range(n):\n",
    "    print(message)"
   ]
  },
  {
   "cell_type": "markdown",
   "id": "420e9a07",
   "metadata": {},
   "source": [
    "In this exercise you will create a program that computes the average of a collection\n",
    "of values entered by the user. The user will enter 0 as a sentinel value to indicate\n",
    "that no further values will be provided. Your program should display an appropriate\n",
    "error message if the first value entered by the user is 0"
   ]
  },
  {
   "cell_type": "code",
   "execution_count": 11,
   "id": "58f003f0",
   "metadata": {
    "scrolled": true
   },
   "outputs": [
    {
     "name": "stdout",
     "output_type": "stream",
     "text": [
      "Enter Values: 0\n",
      "End of input.\n",
      "No input given\n"
     ]
    }
   ],
   "source": [
    "sum = 0.0\n",
    "count = 0\n",
    "while(1):\n",
    "    x=int(input(\"Enter Values: \"))\n",
    "    if x == 0:\n",
    "        print(\"End of input.\")\n",
    "        break;\n",
    "    sum+=x;\n",
    "    count+=1;\n",
    "if count == 0:\n",
    "    print(\"No input given\")\n",
    "else:\n",
    "    avg = sum/count;\n",
    "    print(\"Average is : \",avg)"
   ]
  },
  {
   "cell_type": "code",
   "execution_count": 3,
   "id": "8a949ee9",
   "metadata": {},
   "outputs": [
    {
     "name": "stdout",
     "output_type": "stream",
     "text": [
      "enter the numbers: 56\n",
      "enter the numbers: 34\n",
      "enter the numbers: 0\n",
      "End point\n",
      "Average is  :  45.0\n"
     ]
    }
   ],
   "source": [
    "sum = 0.0\n",
    "count=0\n",
    "while(1):\n",
    "    x=int(input('enter the numbers: '))\n",
    "    if x==0:\n",
    "        print('End point')\n",
    "        break;\n",
    "    sum+=x;\n",
    "    count+=1\n",
    "if count==0:\n",
    "    print('no input given')\n",
    "else:\n",
    "    avg=sum/count\n",
    "    print ('Average is  : ',avg)"
   ]
  },
  {
   "cell_type": "raw",
   "id": "f06eac19",
   "metadata": {},
   "source": [
    "A particular retailer is having a 60 percent off sale on a variety of discontinued\n",
    "products. The retailer would like to help its customers determine the reduced price\n",
    "of the merchandise by having a printed discount table on the shelf that shows the\n",
    "original prices and the prices after the discount has been applied. Write a program that\n",
    "uses a loop to generate this table, showing the original price, the discount amount,\n",
    "and the new price for purchases of $4.95, $9.95, $14.95, $19.95 and $24.95. Ensure\n",
    "that the discount amounts and the new prices are rounded to 2 decimal places when\n",
    "they are displayed."
   ]
  },
  {
   "cell_type": "raw",
   "id": "6f0a43f0",
   "metadata": {},
   "source": [
    "Write a program that displays a temperature conversion table for degrees Celsius and\n",
    "degrees Fahrenheit. The table should include rows for all temperatures between 0\n",
    "and 100 degrees Celsius that are multiples of 10 degrees Celsius. Include appropriate\n",
    "headings on your columns. The formula for converting between degrees Celsius and\n",
    "degrees Fahrenheit can be found on the Internet.\n"
   ]
  },
  {
   "cell_type": "raw",
   "id": "50891200",
   "metadata": {},
   "source": [
    "February 4, 2013 was the last day that pennies were distributed by the Royal Canadian\n",
    "Mint. Now that pennies have been phased out retailers must adjust totals so that they\n",
    "are multiples of 5 cents when they are paid for with cash (credit card and debit card\n",
    "transactions continue to be charged to the penny). While retailers have some freedom\n",
    "in how they do this, most choose to round to the closest nickel.\n",
    "Write a program that reads prices from the user until a blank line is entered.\n",
    "Display the total cost of all the entered items on one line, followed by the amount\n",
    "due if the customer pays with cash on a second line. The amount due for a cash\n",
    "payment should be rounded to the nearest nickel. One way to compute the cash\n",
    "payment amount is to begin by determining how many pennies would be needed to\n",
    "pay the total. Then compute the remainder when this number of pennies is divided\n",
    "by 5. Finally, adjust the total down if the remainder is less than 2.5. Otherwise adjust\n",
    "the total up"
   ]
  },
  {
   "cell_type": "code",
   "execution_count": null,
   "id": "3821a0a5",
   "metadata": {},
   "outputs": [
    {
     "name": "stdout",
     "output_type": "stream",
     "text": [
      "Enter the price of the item (blank to quit): 5.567\n"
     ]
    }
   ],
   "source": [
    "##\n",
    "# Compute the total due when several items are purchased. The amount payable for cash\n",
    "# transactions is rounded to the closest nickel because pennies have been phased out in Canada.\n",
    "#\n",
    "PENNIES_PER_NICKEL = 5\n",
    "NICKEL = 0.05\n",
    "# Track the total cost for all of the items\n",
    "total = 0.00\n",
    "# Read the price of the first item as a string\n",
    "line = input(\"Enter the price of the item (blank to quit): \")\n",
    "# Continue reading items until a blank line is entered\n",
    "while line != \"\":\n",
    "# Add the cost of the item to the total (after converting it to a floating-point number)\n",
    "    total = total + float(line)\n",
    "# Read the cost of the next item\n",
    "line = input(\"Enter the price of the item (blank to quit): \")\n",
    "# Display the exact total payable\n",
    "print(\"The exact amount payable is %.02f\" % total)\n",
    "# Compute the number of pennies that would be left if the total was paid using nickels\n",
    "rounding_indicator = total * 100 % PENNIES_PER_NICKEL\n",
    "if rounding_indicator < PENNIES_PER_NICKEL / 2:\n",
    "# If the number of pennies left is less than 2.5 then we round down by subtracting that\n",
    "# number of pennies from the total\n",
    "        cash_total = total - rounding_indicator / 100\n",
    "else:\n",
    "# Otherwise we add a nickel and then subtract that number of pennies\n",
    "        cash_total = total + NICKEL - rounding_indicator / 100\n",
    "# Display amount due when paying with cash\n",
    "print(\"The cash amount payable is %.02f\" % cash_total)"
   ]
  },
  {
   "cell_type": "markdown",
   "id": "1c43207c",
   "metadata": {},
   "source": [
    "Write a program that computes the perimeter of a polygon. Begin by reading the\n",
    "x and y coordinates for the first point on the perimeter of the polygon from the\n",
    "user. Then continue reading pairs of values until the user enters a blank line for the\n",
    "x-coordinate. Each time you read an additional coordinate you should compute the\n",
    "distance to the previous point and add it to the perimeter. When a blank line is entered\n",
    "for the x-coordinate your program should add the distance from the last point back\n",
    "to the first point to the perimeter. Then the perimeter should be displayed. Sample\n",
    "input and output values are shown below. The input values entered by the user are\n",
    "shown in bold.\n",
    "Enter the first x-coordinate: 0\n",
    "Enter the first y-coordinate: 0\n",
    "Enter the next x-coordinate (blank to quit): 1\n",
    "Enter the next y-coordinate: 0\n",
    "Enter the next x-coordinate (blank to quit): 0\n",
    "Enter the next y-coordinate: 1\n",
    "Enter the next x-coordinate (blank to quit):\n",
    "The perimeter of that polygon is 3.414213562373095\n"
   ]
  },
  {
   "cell_type": "code",
   "execution_count": 3,
   "id": "87f78813",
   "metadata": {},
   "outputs": [
    {
     "name": "stdout",
     "output_type": "stream",
     "text": [
      "Enter the first x-coordinate: 6\n",
      "Enter the first y-coordinate: 7\n",
      "Enter the next x-coordinate (blank to quit): \n",
      "Enter the next x-coordinate (blank to quit): \n",
      "The perimeter of that polygon is 5.0\n"
     ]
    }
   ],
   "source": [
    "##\n",
    "# Compute the perimeter of a polygon constructed from points entered by the user. A blank line\n",
    "# will be entered for the x-coordinate to indicate that all of the points have been entered.\n",
    "#\n",
    "from math import sqrt\n",
    "# Store the perimeter of the polygon\n",
    "perimeter = 0\n",
    "# Read the coordinate of the first point\n",
    "first_x = float(input(\"Enter the first x-coordinate: \"))\n",
    "first_y = float(input(\"Enter the first y-coordinate: \"))\n",
    "# Provide initial values for prev x and prev y\n",
    "prev_x = first_x\n",
    "prev_y = first_y\n",
    "# Read the remaining coordinates\n",
    "line = input(\"Enter the next x-coordinate (blank to quit): \")\n",
    "while line != \"\":\n",
    "# Convert the x-coordinate to a number and read the y coordinate\n",
    "    x = float(line)\n",
    "    y = float(input(\"Enter the next y-coordinate: \"))\n",
    "# Compute the distance to the previous point and add it to the perimeter\n",
    "    dist = sqrt((prev_x - x) ** 2 + (prev_y - y) ** 2)\n",
    "    perimeter = perimeter + dist\n",
    "# Set up prev x and prev y for the next loop iteration\n",
    "    prev_x = x\n",
    "    prev_y = y\n",
    "# Read the next x-coordinate\n",
    "    line = input(\"Enter the next x-coordinate (blank to quit): \")\n",
    "# Compute the distance from the last point to the first point and add it to the perimeter\n",
    "dist = sqrt((first_x - x) ** 2 + (first_y - y) ** 2)\n",
    "perimeter = perimeter + dist\n",
    "# Display the result\n",
    "print(\"The perimeter of that polygon is\", perimeter)\n"
   ]
  },
  {
   "cell_type": "raw",
   "id": "c5009748",
   "metadata": {},
   "source": [
    "A particular zoo determines the price of admission based on the age of the guest.\n",
    "Guests 2 years of age and less are admitted without charge. Children between 3 and\n",
    "12 years of age cost $14.00. Seniors aged 65 years and over cost $18.00. Admission\n",
    "for all other guests is $23.00.\n",
    "Create a program that begins by reading the ages of all of the guests in a group\n",
    "from the user, with one age entered on each line. The user will enter a blank line to\n",
    "indicate that there are no more guests in the group. Then your program should display\n",
    "the admission cost for the group with an appropriate message. The cost should be\n",
    "displayed using two decimal places."
   ]
  },
  {
   "cell_type": "code",
   "execution_count": 9,
   "id": "a02e1390",
   "metadata": {},
   "outputs": [
    {
     "name": "stdout",
     "output_type": "stream",
     "text": [
      "Enter age45\n",
      "regular\n"
     ]
    }
   ],
   "source": [
    "age=int(input('Enter age'))\n",
    "if age<=2:\n",
    "    print ('baby')\n",
    "    if age>=3 or age>=12:\n",
    "        print ('children')\n",
    "    if age>=65:\n",
    "        print('Senior')\n",
    "else:\n",
    "    print ('regular')"
   ]
  },
  {
   "cell_type": "code",
   "execution_count": 1,
   "id": "e5bbf94b",
   "metadata": {},
   "outputs": [
    {
     "name": "stdout",
     "output_type": "stream",
     "text": [
      "Enter the age of the guest (blank to finish): 45\n",
      "Enter the age of the guest (blank to finish): 4\n",
      "Enter the age of the guest (blank to finish): 3\n",
      "Enter the age of the guest (blank to finish): \n",
      "The total for that group is $51.00\n"
     ]
    }
   ],
   "source": [
    "# Compute the admission price for a group visiting the zoo.\n",
    "#\n",
    "# Store the admission prices as constants\n",
    "BABY_PRICE = 0.00\n",
    "CHILD_PRICE = 14.00\n",
    "ADULT_PRICE = 23.00\n",
    "SENIOR_PRICE = 18.00\n",
    "# Store the age limits as constants\n",
    "BABY_LIMIT = 2\n",
    "CHILD_LIMIT = 12\n",
    "ADULT_LIMIT = 64\n",
    "# Create a variable to hold the total admission cost for all guests\n",
    "total = 0\n",
    "# Keep on reading ages until the user enters a blank line\n",
    "line = input(\"Enter the age of the guest (blank to finish): \")\n",
    "while line != \"\":\n",
    "    age = int(line)\n",
    "# Add the correct amount to the total\n",
    "    if age <= BABY_LIMIT:\n",
    "        total = total + BABY_PRICE\n",
    "    elif age <= CHILD_LIMIT:\n",
    "        total = total + CHILD_PRICE\n",
    "    elif age <= ADULT_LIMIT:\n",
    "        total = total + ADULT_PRICE\n",
    "    else:\n",
    "        total = total + SENIOR_PRICE\n",
    "# Read the next age from the user\n",
    "    line = input(\"Enter the age of the guest (blank to finish): \")\n",
    "# Display the total due for the group, formatted using two decimal places\n",
    "print(\"The total for that group is $%.2f\" % total)"
   ]
  },
  {
   "cell_type": "code",
   "execution_count": 4,
   "id": "09cd8283",
   "metadata": {},
   "outputs": [
    {
     "name": "stdout",
     "output_type": "stream",
     "text": [
      "enter age of guest (blank to quit)56\n",
      "enter the age of the next guest(blank to quit): 2\n",
      "enter the age of the next guest(blank to quit): \n",
      "23.0\n"
     ]
    }
   ],
   "source": [
    "age=int(input('enter age of guest (blank to quit)'))\n",
    "total=0\n",
    "while age!=\"\":\n",
    "    age=int(age)\n",
    "    if age<=2:\n",
    "        total=total+0.00\n",
    "    elif age<=12:\n",
    "        total=total+14.00\n",
    "    elif age<=64:\n",
    "        total=total+23.00\n",
    "    else:\n",
    "        total=total+18.00\n",
    "    age=input('enter the age of the next guest(blank to quit): ')\n",
    "print(total)"
   ]
  },
  {
   "cell_type": "markdown",
   "id": "1c71fb81",
   "metadata": {},
   "source": [
    "Exercise 70: Parity Bits\n",
    "A parity bit is a simple mechanism for detecting errors in data transmitted over an\n",
    "unreliable connection such as a telephone line. The basic idea is that an additional bit\n",
    "is transmitted after each group of 8 bits so that a single bit error in the transmission\n",
    "can be detected.\n",
    "Parity bits can be computed for either even parity or odd parity. If even parity\n",
    "is selected then the parity bit that is transmitted is chosen so that the total number\n",
    "of one bits transmitted (8 bits of data plus the parity bit) is even. When odd parity\n",
    "is selected the parity bit is chosen so that the total number of one bits transmitted\n",
    "is odd.\n",
    "Write a program that computes the parity bit for groups of 8 bits entered by the\n",
    "user using even parity. Your program should read strings containing 8 bits until the\n",
    "user enters a blank line. After each string is entered by the user your program should\n",
    "display a clear message indicating whether the parity bit should be 0 or 1. Display\n",
    "an appropriate error message if the user enters something other than 8 bits."
   ]
  },
  {
   "cell_type": "code",
   "execution_count": 16,
   "id": "8b96c33e",
   "metadata": {},
   "outputs": [
    {
     "name": "stdout",
     "output_type": "stream",
     "text": [
      "Enter 8 bits: a\n",
      "That wasn’t 8 bits... Try again.\n"
     ]
    },
    {
     "ename": "NameError",
     "evalue": "name 'ones' is not defined",
     "output_type": "error",
     "traceback": [
      "\u001b[1;31m---------------------------------------------------------------------------\u001b[0m",
      "\u001b[1;31mNameError\u001b[0m                                 Traceback (most recent call last)",
      "\u001b[1;32m~\\AppData\\Local\\Temp/ipykernel_19656/2329450175.py\u001b[0m in \u001b[0;36m<module>\u001b[1;34m\u001b[0m\n\u001b[0;32m     10\u001b[0m         \u001b[0mones\u001b[0m \u001b[1;33m=\u001b[0m \u001b[0mline\u001b[0m\u001b[1;33m.\u001b[0m\u001b[0mcount\u001b[0m\u001b[1;33m(\u001b[0m\u001b[1;34m\"1\"\u001b[0m\u001b[1;33m)\u001b[0m\u001b[1;33m\u001b[0m\u001b[1;33m\u001b[0m\u001b[0m\n\u001b[0;32m     11\u001b[0m \u001b[1;31m# Display the parity bit\u001b[0m\u001b[1;33m\u001b[0m\u001b[1;33m\u001b[0m\u001b[0m\n\u001b[1;32m---> 12\u001b[1;33m     \u001b[1;32mif\u001b[0m \u001b[0mones\u001b[0m \u001b[1;33m%\u001b[0m \u001b[1;36m2\u001b[0m \u001b[1;33m==\u001b[0m \u001b[1;36m0\u001b[0m\u001b[1;33m:\u001b[0m\u001b[1;33m\u001b[0m\u001b[1;33m\u001b[0m\u001b[0m\n\u001b[0m\u001b[0;32m     13\u001b[0m         \u001b[0mprint\u001b[0m\u001b[1;33m(\u001b[0m\u001b[1;34m\"The parity bit should be 0.\"\u001b[0m\u001b[1;33m)\u001b[0m\u001b[1;33m\u001b[0m\u001b[1;33m\u001b[0m\u001b[0m\n\u001b[0;32m     14\u001b[0m     \u001b[1;32melse\u001b[0m\u001b[1;33m:\u001b[0m\u001b[1;33m\u001b[0m\u001b[1;33m\u001b[0m\u001b[0m\n",
      "\u001b[1;31mNameError\u001b[0m: name 'ones' is not defined"
     ]
    }
   ],
   "source": [
    "line = input(\"Enter 8 bits: \")\n",
    " #Continue looping until a blank line is entered\n",
    "while line != \"\":\n",
    "# Ensure that the line has a total of 8 zeros and ones and exactly 8 characters\n",
    "    if line.count(\"0\") + line.count(\"1\") != 8 or len(line) != 8:\n",
    "# Display an appropriate error message\n",
    "        print(\"That wasn’t 8 bits... Try again.\")\n",
    "    else:\n",
    "# Count the number of ones\n",
    "        ones = line.count(\"1\")\n",
    "# Display the parity bit\n",
    "    if ones % 2 == 0:\n",
    "        print(\"The parity bit should be 0.\")\n",
    "    else:\n",
    "        print(\"The parity bit should be 1.\")\n",
    "# Read the next line of input\n",
    "    line = input(\"Enter 8 bits: \")"
   ]
  },
  {
   "cell_type": "markdown",
   "id": "a070684b",
   "metadata": {},
   "source": [
    "One of the first known examples of encryption was used by Julius Caesar. Caesar\n",
    "needed to provide written instructions to his generals, but he didn’t want his enemies\n",
    "to learn his plans if the message slipped into their hands. As a result, he developed\n",
    "what later became known as the Caesar cipher.\n",
    "The idea behind this cipher is simple (and as such, it provides no protection against\n",
    "modern code breaking techniques). Each letter in the original message is shifted by\n",
    "3 places. As a result, A becomes D, B becomes E, C becomes F, D becomes G, etc.\n",
    "\n",
    "The last three letters in the alphabet are wrapped around to the beginning: X becomes\n",
    "A, Y becomes B and Z becomes C. Non-letter characters are not modified by the\n",
    "cipher.\n",
    "Write a program that implements a Caesar cipher. Allow the user to supply the\n",
    "message and the shift amount, and then display the shifted message. Ensure that\n",
    "your program encodes both uppercase and lowercase letters. Your program should\n",
    "also support negative shift values so that it can be used both to encode messages and\n",
    "decode messages."
   ]
  },
  {
   "cell_type": "code",
   "execution_count": 18,
   "id": "71da6183",
   "metadata": {},
   "outputs": [
    {
     "name": "stdout",
     "output_type": "stream",
     "text": [
      "Enter the message: i love you\n",
      "Enter the shift value: 5\n",
      "The shifted message is n qtaj dtz\n"
     ]
    }
   ],
   "source": [
    "##\n",
    "# Implement a Caesar cipher that shifts all of the letters in a message by an amount provided\n",
    "# by the user. Use a negative shift value to decode a message.\n",
    "#\n",
    "# Read the message and shift amount from the user\n",
    "message = input(\"Enter the message: \")\n",
    "shift = int(input(\"Enter the shift value: \"))\n",
    " #Process each character to construct the encrypted (or decrypted) message\n",
    "new_message = \"\"\n",
    "for ch in message:\n",
    "    if ch >= \"a\" and ch <= \"z\":\n",
    "    # Process a lowercase letter by determining its\n",
    "    # position in the alphabet (0 - 25), computing its\n",
    "    # new position, and adding it to the new message\n",
    "        pos = ord(ch) - ord(\"a\")\n",
    "        pos = (pos + shift) % 26\n",
    "        new_char = chr(pos + ord(\"a\"))\n",
    "        new_message = new_message + new_char\n",
    "    elif ch >= \"A\" and ch <= \"Z\":\n",
    "    # Process an uppercase letter by determining its position in the alphabet (0 - 25),\n",
    "    # computing its new position, and adding it to the new message\n",
    "        pos = ord(ch) - ord(\"A\")\n",
    "        pos = (pos + shift) % 26\n",
    "        new_char = chr(pos + ord(\"A\"))\n",
    "        new_message = new_message + new_char\n",
    "    else:\n",
    "    # If the character is not a letter then copy it into the new message\n",
    "        new_message = new_message + ch\n",
    "# Display the shifted message\n",
    "print(\"The shifted message is\", new_message)"
   ]
  },
  {
   "cell_type": "raw",
   "id": "283f0933",
   "metadata": {},
   "source": [
    "A string is a palindrome if it is identical forward and backward. For example “anna”,\n",
    "“civic”, “level” and “hannah” are all examples of palindromicwords. Write a program\n",
    "that reads a string from the user and uses a loop to determine whether or not it is a\n",
    "palindrome. Display the result, including a meaningful output message.\n"
   ]
  },
  {
   "cell_type": "code",
   "execution_count": 1,
   "id": "9a7765cb",
   "metadata": {},
   "outputs": [
    {
     "name": "stdout",
     "output_type": "stream",
     "text": [
      "Enter a string: boob\n",
      "boob is a palindrome\n"
     ]
    }
   ],
   "source": [
    "##\n",
    "# Determine whether or not a string entered by the user is a palindrome.\n",
    "#\n",
    "# Read the string from the user\n",
    "line = input(\"Enter a string: \")\n",
    "# Assume that it is a palindrome until we can prove otherwise\n",
    "is_palindrome = True\n",
    "# Check the characters, starting from the ends. Continue until the middle is reached or we have\n",
    "# determined that the string is not a palindrome.\n",
    "i=0\n",
    "while i < len(line) / 2 and is_palindrome:\n",
    "# If the characters do not match then mark that the string is not a palindrome\n",
    "    if line[i] != line[len(line) - i - 1]:\n",
    "        is_palindrome = False\n",
    "# Move to the next character\n",
    "    i=i+1\n",
    "# Display a meaningful output message\n",
    "if is_palindrome:\n",
    "    print(line, \"is a palindrome\")\n",
    "else:\n",
    "    print(line, \"is not a palindrome\")"
   ]
  },
  {
   "cell_type": "markdown",
   "id": "df5409c5",
   "metadata": {},
   "source": [
    "In this exercise you will create a program that displays a multiplication table that\n",
    "shows the products of all combinations of integers from 1 times 1 up to and including\n",
    "10 times 10. Your multiplication table should include a row of labels across the top\n",
    "of it containing the numbers 1 through 10. It should also include labels down the left\n",
    "side consisting of the numbers 1 through 10.\n",
    "When completing this exercise you will probably find it helpful to be able to\n",
    "print out a value without moving down to the next line. This can be accomplished\n",
    "by added end=\"\" as the last argument to your print statement. For example,\n",
    "print(\"A\") will display the letter A and then move down to the next line. The\n",
    "statement print(\"A\", end=\"\") will display the letter A without moving down\n",
    "to the next line, causing the next print statement to display its result on the same line\n",
    "as the letter A."
   ]
  },
  {
   "cell_type": "code",
   "execution_count": 32,
   "id": "80b88021",
   "metadata": {},
   "outputs": [
    {
     "name": "stdout",
     "output_type": "stream",
     "text": [
      "     0    1    2    3    4    5    6    7    8    9   10   11   12   13   14   15   16   17   18   19   20\n",
      "0    0    0    0    0    0    0    0    0    0    0    0    0    0    0    0    0    0    0    0    0    0\n",
      "1    0    1    2    3    4    5    6    7    8    9   10   11   12   13   14   15   16   17   18   19   20\n",
      "2    0    2    4    6    8   10   12   14   16   18   20   22   24   26   28   30   32   34   36   38   40\n",
      "3    0    3    6    9   12   15   18   21   24   27   30   33   36   39   42   45   48   51   54   57   60\n",
      "4    0    4    8   12   16   20   24   28   32   36   40   44   48   52   56   60   64   68   72   76   80\n",
      "5    0    5   10   15   20   25   30   35   40   45   50   55   60   65   70   75   80   85   90   95  100\n",
      "6    0    6   12   18   24   30   36   42   48   54   60   66   72   78   84   90   96  102  108  114  120\n",
      "7    0    7   14   21   28   35   42   49   56   63   70   77   84   91   98  105  112  119  126  133  140\n",
      "8    0    8   16   24   32   40   48   56   64   72   80   88   96  104  112  120  128  136  144  152  160\n",
      "9    0    9   18   27   36   45   54   63   72   81   90   99  108  117  126  135  144  153  162  171  180\n",
      "10    0   10   20   30   40   50   60   70   80   90  100  110  120  130  140  150  160  170  180  190  200\n",
      "11    0   11   22   33   44   55   66   77   88   99  110  121  132  143  154  165  176  187  198  209  220\n",
      "12    0   12   24   36   48   60   72   84   96  108  120  132  144  156  168  180  192  204  216  228  240\n",
      "13    0   13   26   39   52   65   78   91  104  117  130  143  156  169  182  195  208  221  234  247  260\n",
      "14    0   14   28   42   56   70   84   98  112  126  140  154  168  182  196  210  224  238  252  266  280\n",
      "15    0   15   30   45   60   75   90  105  120  135  150  165  180  195  210  225  240  255  270  285  300\n",
      "16    0   16   32   48   64   80   96  112  128  144  160  176  192  208  224  240  256  272  288  304  320\n",
      "17    0   17   34   51   68   85  102  119  136  153  170  187  204  221  238  255  272  289  306  323  340\n",
      "18    0   18   36   54   72   90  108  126  144  162  180  198  216  234  252  270  288  306  324  342  360\n",
      "19    0   19   38   57   76   95  114  133  152  171  190  209  228  247  266  285  304  323  342  361  380\n",
      "20    0   20   40   60   80  100  120  140  160  180  200  220  240  260  280  300  320  340  360  380  400\n"
     ]
    }
   ],
   "source": [
    "##\n",
    "# Display a multiplication table for 1 times 1 through 10 times 10.\n",
    "#\n",
    "MIN = 0\n",
    "MAX = 20\n",
    "# Display the top row of labels\n",
    "print(\" \", end=\"\")\n",
    "for i in range(MIN, MAX + 1):\n",
    "    print(\"%5d\" % i, end=\"\")\n",
    "print()\n",
    "# Display the table\n",
    "for i in range(MIN, MAX + 1):\n",
    "    print(\"%1d\" % i, end=\"\")\n",
    "    for j in range(MIN, MAX + 1):\n",
    "            print(\"%5d\" % (i * j), end=\"\")\n",
    "    print()"
   ]
  },
  {
   "cell_type": "markdown",
   "id": "56f16717",
   "metadata": {},
   "source": [
    "The greatest common divisor of two positive integers, n and m, is the largest number,\n",
    "d, which divides evenly into both n and m. There are several algorithms that can be\n",
    "used to solve this problem, including:\n",
    "Initialize d to the smaller of m and n.\n",
    "While d does not evenly divide m or d does not evenly divide n do\n",
    "Decrease the value of d by 1\n",
    "Report d as the greatest common divisor of n and m\n",
    "Write a program that reads two positive integers from the user and uses this algorithm\n",
    "to determine and report their greatest common divisor."
   ]
  },
  {
   "cell_type": "code",
   "execution_count": 1,
   "id": "93213664",
   "metadata": {},
   "outputs": [
    {
     "name": "stdout",
     "output_type": "stream",
     "text": [
      "enter first postive number: 7\n",
      "enter second postive number: 36\n",
      "1\n"
     ]
    }
   ],
   "source": [
    "n=int(input(\"enter first postive number: \"))\n",
    "m=int(input(\"enter second postive number: \"))\n",
    "d=min(n,m)\n",
    "while n%d!=0 or m%d!=0:\n",
    "    d=d-1\n",
    "print(d)"
   ]
  },
  {
   "cell_type": "code",
   "execution_count": 36,
   "id": "b55edebf",
   "metadata": {},
   "outputs": [
    {
     "name": "stdout",
     "output_type": "stream",
     "text": [
      "Enter a positive integer: 6\n",
      "Enter a positive integer: 8\n",
      "The greatest common divisor of 6 and 8 is 2\n"
     ]
    }
   ],
   "source": [
    "##\n",
    "# Compute the greatest common divisor of two positive integers using a while loop.\n",
    "#\n",
    "# Read two positive integers from the user\n",
    "n = int(input(\"Enter a positive integer: \"))\n",
    "m = int(input(\"Enter a positive integer: \"))\n",
    "# Initialize d to the smaller of n and m\n",
    "d = min(n, m)\n",
    "# Use a while loop to find the greatest common divisor of n and m\n",
    "while n % d != 0 or m % d != 0:\n",
    "    d=d-1\n",
    "# Report the result\n",
    "print(\"The greatest common divisor of\", n, \"and\", m, \"is\", d)"
   ]
  },
  {
   "cell_type": "raw",
   "id": "59060e41",
   "metadata": {},
   "source": [
    "Write a program that converts a decimal (base 10) number to binary (base 2). Read the\n",
    "decimal number from the user as an integer and then use the division algorithm shown\n",
    "below to perform the conversion. When the algorithm completes, result contains the\n",
    "binary representation of the number. Display the result, along with an appropriate\n",
    "message.\n",
    "Let result be an empty string\n",
    "Let q represent the number to convert\n",
    "repeat\n",
    "Set r equal to the remainder when q is divided by 2\n",
    "Convert r to a string and add it to the beginning of result\n",
    "Divide q by 2, discarding any remainder, and store the result back into q\n",
    "until q is 0"
   ]
  },
  {
   "cell_type": "code",
   "execution_count": 3,
   "id": "cf02e6dc",
   "metadata": {},
   "outputs": [
    {
     "name": "stdout",
     "output_type": "stream",
     "text": [
      "Enter a non-negative integer: 65\n",
      "65 in decimal is 1000001 in binary.\n"
     ]
    }
   ],
   "source": [
    "##\n",
    "# Convert a number from decimal (base 10) to binary (base 2).\n",
    "#\n",
    "NEW_BASE = 2\n",
    "# Read the number to convert from the user\n",
    "num = int(input(\"Enter a non-negative integer: \"))\n",
    "# Generate the binary representation of num, storing it in result\n",
    "result = \"\"\n",
    "q = num\n",
    "# Perform the body of the loop once\n",
    "r = q % NEW_BASE\n",
    "result = str(r) + result\n",
    "q = q // NEW_BASE\n",
    "# Keep on looping until q is 0\n",
    "while q > 0:\n",
    "    r = q % NEW_BASE\n",
    "    result = str(r) + result\n",
    "    q = q // NEW_BASE\n",
    "# Display the result\n",
    "print(num, \"in decimal is\", result, \"in binary.\")"
   ]
  },
  {
   "cell_type": "code",
   "execution_count": 8,
   "id": "0a80037c",
   "metadata": {},
   "outputs": [
    {
     "name": "stdout",
     "output_type": "stream",
     "text": [
      "enter non negative decimal65\n",
      "the binaray of the decimal 65 is 1000001\n"
     ]
    }
   ],
   "source": [
    "num=int(input(\"enter non negative decimal\"))\n",
    "result=\"\"\n",
    "r=num%2\n",
    "result=str(r)+result\n",
    "q=num\n",
    "q=q//2\n",
    "#it continue to loop\n",
    "while q>0:\n",
    "    r=q%2\n",
    "    result=str(r)+result\n",
    "    q=q//2\n",
    "#display result\n",
    "print(\"the binaray of the decimal\",num, \"is\", result)"
   ]
  },
  {
   "cell_type": "raw",
   "id": "8230eb61",
   "metadata": {},
   "source": [
    "This exercise examines the process of identifying the maximum value in a collection\n",
    "of integers. Each of the integers will be randomly selected from the numbers between\n",
    "1 and 100. The collection of integers may contain duplicate values, and some of the\n",
    "integers between 1 and 100 may not be present.\n",
    "Take amoment and think about howyouwould solve this problem on paper. Many\n",
    "people would check each integer in sequence and ask themself if the number that\n",
    "they are currently considering is larger than the largest number that they have seen\n",
    "previously. If it is, then they forget the previous maximum number and remember\n",
    "the current number as the new maximum number. This is a reasonable approach,\n",
    "and will result in the correct answer when the process is performed carefully. If you\n",
    "were performing this task, how many times would you expect to need to update the\n",
    "maximum value and remember a new number?\n",
    "While we can answer the question posed at the end of the previous paragraph\n",
    "using probability theory, we are going to explore it by simulating the situation. Create\n",
    "a program that begins by selecting a random integer between 1 and 100. Save this\n",
    "integer as the maximum number encountered so far. After the initial integer has been\n",
    "selected, generate 99 additional random integers between 1 and 100. Check each\n",
    "integer as it is generated to see if it is larger than the maximum number encountered\n",
    "so far. If it is then your program should update the maximum number encountered\n",
    "and count the fact that you performed an update. Display each integer after you generate\n",
    "it. Include a notation with those integers which represent a new maximum.\n",
    "After you have displayed 100 integers your program should display the maximum\n",
    "value encountered, along with the number of times the maximum value\n",
    "was updated during the process. Partial output for the program is shown below,\n",
    "with… representing the remaining integers that your program will display. Run your\n",
    "program several times. Is the number of updates performed on the maximum value\n",
    "what you expected?"
   ]
  },
  {
   "cell_type": "code",
   "execution_count": 17,
   "id": "5830166d",
   "metadata": {},
   "outputs": [
    {
     "name": "stdout",
     "output_type": "stream",
     "text": [
      "94\n",
      "73\n",
      "88\n",
      "73\n",
      "21\n",
      "100 <== Update\n",
      "24\n",
      "12\n",
      "28\n",
      "84\n",
      "79\n",
      "75\n",
      "9\n",
      "19\n",
      "25\n",
      "45\n",
      "53\n",
      "97\n",
      "80\n",
      "39\n",
      "54\n",
      "57\n",
      "79\n",
      "23\n",
      "18\n",
      "64\n",
      "48\n",
      "31\n",
      "83\n",
      "29\n",
      "28\n",
      "59\n",
      "20\n",
      "60\n",
      "96\n",
      "32\n",
      "57\n",
      "65\n",
      "2\n",
      "47\n",
      "88\n",
      "12\n",
      "53\n",
      "27\n",
      "38\n",
      "42\n",
      "67\n",
      "67\n",
      "59\n",
      "65\n",
      "58\n",
      "78\n",
      "96\n",
      "64\n",
      "92\n",
      "1\n",
      "14\n",
      "88\n",
      "58\n",
      "25\n",
      "53\n",
      "64\n",
      "24\n",
      "71\n",
      "82\n",
      "57\n",
      "89\n",
      "47\n",
      "18\n",
      "83\n",
      "77\n",
      "66\n",
      "32\n",
      "57\n",
      "70\n",
      "51\n",
      "36\n",
      "96\n",
      "74\n",
      "61\n",
      "35\n",
      "29\n",
      "41\n",
      "97\n",
      "24\n",
      "100\n",
      "15\n",
      "6\n",
      "50\n",
      "30\n",
      "6\n",
      "24\n",
      "95\n",
      "64\n",
      "14\n",
      "35\n",
      "23\n",
      "12\n",
      "83\n",
      "44\n",
      "The maximum value found was 100\n",
      "The maximum value was updated 1 times\n"
     ]
    }
   ],
   "source": [
    "##\n",
    "# Find the maximum of 100 random integers and count the number of times the maximum value\n",
    "# is updated during the process.\n",
    "#\n",
    "from random import randrange\n",
    "NUM_ITEMS = 100\n",
    "# Generate the first number and display it\n",
    "mx_value = randrange(1, NUM_ITEMS + 1)\n",
    "print(mx_value)\n",
    "# Count the number of times the maximum value is updated\n",
    "num_updates = 0\n",
    "# For each of the remaining numbers\n",
    "for i in range(1, NUM_ITEMS):\n",
    "    # Generate a new random number\n",
    "    current = randrange(1, NUM_ITEMS + 1)\n",
    "    # If the generated number is the largest one we have seen so far\n",
    "    if current > mx_value:\n",
    "        # Update the maximum and count the update\n",
    "        mx_value = current\n",
    "        num_updates = num_updates + 1\n",
    "# Display the number, noting that an update occurred\n",
    "        print(current, \"<== Update\")\n",
    "    else:\n",
    "# Display the number\n",
    "        print(current)\n",
    "# Display the other results\n",
    "print(\"The maximum value found was\", mx_value)\n",
    "print(\"The maximum value was updated\", num_updates, \"times\")"
   ]
  },
  {
   "cell_type": "markdown",
   "id": "d5985b63",
   "metadata": {},
   "source": [
    "##FUNCTION"
   ]
  },
  {
   "cell_type": "code",
   "execution_count": 4,
   "id": "09155c80",
   "metadata": {},
   "outputs": [
    {
     "name": "stdout",
     "output_type": "stream",
     "text": [
      "**********\n",
      "*        *\n",
      "*        *\n",
      "**********\n"
     ]
    }
   ],
   "source": [
    "def drawBox():\n",
    "    print(\"**********\")\n",
    "    print(\"*        *\")\n",
    "    print(\"*        *\")\n",
    "    print(\"**********\")\n",
    "drawBox()"
   ]
  },
  {
   "cell_type": "code",
   "execution_count": 11,
   "id": "9fc2de7c",
   "metadata": {},
   "outputs": [
    {
     "name": "stdout",
     "output_type": "stream",
     "text": [
      "*********\n",
      "*       *\n",
      "*       *\n",
      "*       *\n",
      "*       *\n",
      "*       *\n",
      "*       *\n",
      "*       *\n",
      "*********\n"
     ]
    }
   ],
   "source": [
    "# @param width the width of the box\n",
    "# @param height the height of the box\n",
    "def drawBox(width, height):\n",
    "# A box that is smaller than 2x2 cannot be drawn by this function\n",
    "    if width < 2 or height < 2:\n",
    "        print(\"Error: The width or height is too small.\")\n",
    "        quit()\n",
    "    # Draw the top of the box\n",
    "    print(\"*\" * width)\n",
    "    # Draw the sides of the box\n",
    "    for i in range(height - 2):\n",
    "        print(\"*\" + \" \" * (width - 2) + \"*\")\n",
    "    # Draw the bottom of the box\n",
    "    print(\"*\" * width)\n",
    "drawBox(9,9)"
   ]
  },
  {
   "cell_type": "code",
   "execution_count": 12,
   "id": "d5a1e215",
   "metadata": {},
   "outputs": [
    {
     "name": "stdout",
     "output_type": "stream",
     "text": [
      "@@@@@@@@@@@@@@\n",
      "@............@\n",
      "@............@\n",
      "@............@\n",
      "@@@@@@@@@@@@@@\n"
     ]
    }
   ],
   "source": [
    "## Draw a box.\n",
    "# @param width the width of the box\n",
    "# @param height the height of the box\n",
    "# @param outline the character used for the outline of the box\n",
    "# @param fill the character used to fill the box\n",
    "def drawBox(width, height, outline, fill):\n",
    "# A box that is smaller than 2x2 cannot be drawn by this function\n",
    "    if width < 2 or height < 2:\n",
    "        print(\"Error: The width or height is too small.\")\n",
    "        quit()\n",
    "# Draw the top of the box\n",
    "    print(outline * width)\n",
    "# Draw the sides of the box\n",
    "    for i in range(height - 2):\n",
    "        print(outline + fill * (width - 2) + outline)\n",
    "# Draw the bottom of the box\n",
    "    print(outline * width)\n",
    "# Demonstrate the drawBox function\n",
    "drawBox(14, 5, \"@\", \".\")"
   ]
  },
  {
   "cell_type": "code",
   "execution_count": 13,
   "id": "d00ba47b",
   "metadata": {},
   "outputs": [
    {
     "name": "stdout",
     "output_type": "stream",
     "text": [
      "@@@@@@@@@@@@@@\n",
      "@............@\n",
      "@............@\n",
      "@............@\n",
      "@@@@@@@@@@@@@@\n"
     ]
    }
   ],
   "source": [
    "## Draw a box.\n",
    "# @param width the width of the box\n",
    "# @param height the height of the box\n",
    "# @param outline the character used for the outline of the box\n",
    "# @param fill the character used to fill the box\n",
    "def drawBox(width, height, outline=\"*\", fill=\" \"):\n",
    "# A box that is smaller than 2x2 cannot be drawn by this function\n",
    "    if width < 2 or height < 2:\n",
    "        print(\"Error: The width or height is too small.\")\n",
    "        quit()\n",
    "# Draw the top of the box\n",
    "    print(outline * width)\n",
    "# Draw the sides of the box\n",
    "    for i in range(height - 2):\n",
    "        print(outline + fill * (width - 2) + outline)\n",
    "# Draw the bottom of the box\n",
    "    print(outline * width)\n",
    "# Demonstrate the drawBox function\n",
    "drawBox(14, 5, \"@\", \".\")"
   ]
  },
  {
   "cell_type": "code",
   "execution_count": 17,
   "id": "055f4d15",
   "metadata": {},
   "outputs": [
    {
     "data": {
      "text/plain": [
       "25"
      ]
     },
     "execution_count": 17,
     "metadata": {},
     "output_type": "execute_result"
    }
   ],
   "source": [
    "## Compute the sum of the first n terms of a geometric sequence.\n",
    "# @param a the first term in the sequence\n",
    "# @param r the common ratio for the sequence\n",
    "# @param n the number of terms to include in the sum\n",
    "# @return the sum of the first n term of the sequence\n",
    "def sumGeometric(a, r, n):\n",
    "# Compute and return the sum when the common ratio is 1\n",
    "    if r == 1:\n",
    "        return a * n\n",
    "# Compute and return the sum when the common ratio is not 1\n",
    "    s = a * (1 - r ** n) / (1 - r)\n",
    "    return s\n",
    "sumGeometric(5, 1, 5)"
   ]
  },
  {
   "cell_type": "code",
   "execution_count": 2,
   "id": "1e2be36f",
   "metadata": {},
   "outputs": [
    {
     "name": "stdout",
     "output_type": "stream",
     "text": [
      "Enter the value of a (0 to quit): 5\n",
      "Enter the ratio, r: 2\n",
      "Enter the number of terms, n: 5\n",
      "The sum of the first 5 terms is 155.0\n",
      "Enter the value of a (0 to quit): 0\n"
     ]
    }
   ],
   "source": [
    "def sumGeometric(a, r, n):\n",
    "# Compute and return the sum when the common ratio is 1\n",
    "    if r == 1:\n",
    "        return a * n\n",
    "# Compute and return the sum when the common ratio is not 1\n",
    "    s = a * (1 - r ** n) / (1 - r)\n",
    "    return s\n",
    "def main():\n",
    "# Read the initial value for the first sequence\n",
    "    init = float(input(\"Enter the value of a (0 to quit): \"))\n",
    "# While the initial value is non-zero\n",
    "    while init != 0:\n",
    "# Read the ratio and number of terms\n",
    "        ratio = float(input(\"Enter the ratio, r: \"))\n",
    "        num = int(input(\"Enter the number of terms, n: \"))\n",
    "# Compute and display the total\n",
    "        total = sumGeometric(init, ratio, num)\n",
    "        print(\"The sum of the first\", num, \"terms is\", total)\n",
    "# Read the initial value for the next sequence\n",
    "        init = float(input(\"Enter the value of a (0 to quit): \"))\n",
    "# Call the main function\n",
    "main()"
   ]
  },
  {
   "cell_type": "markdown",
   "id": "c779977b",
   "metadata": {},
   "source": [
    "Write a function that takes the lengths of the two shorter sides of a right triangle as\n",
    "its parameters. Return the hypotenuse of the triangle, computed using Pythagorean\n",
    "theorem, as the function’s result. Include a main program that reads the lengths of\n",
    "the shorter sides of a right triangle from the user, uses your function to compute the\n",
    "length of the hypotenuse, and displays the result."
   ]
  },
  {
   "cell_type": "code",
   "execution_count": 4,
   "id": "21211fc1",
   "metadata": {},
   "outputs": [
    {
     "data": {
      "text/plain": [
       "2.8284271247461903"
      ]
     },
     "execution_count": 4,
     "metadata": {},
     "output_type": "execute_result"
    }
   ],
   "source": [
    "from math import sqrt\n",
    "def hypotenuse(a,o):\n",
    "\n",
    "# Compute and return the sum when the common ratio is not 1\n",
    "    h=(sqrt(a**2 + o**2))\n",
    "    return h\n",
    "hypotenuse(2,2)"
   ]
  },
  {
   "cell_type": "markdown",
   "id": "f3f1fc83",
   "metadata": {},
   "source": [
    "Write a function that takes three numbers as parameters, and returns the median value\n",
    "of those parameters as its result. Include a main program that reads three values from\n",
    "the user and displays their median."
   ]
  },
  {
   "cell_type": "code",
   "execution_count": 6,
   "id": "cea85815",
   "metadata": {},
   "outputs": [
    {
     "data": {
      "text/plain": [
       "4"
      ]
     },
     "execution_count": 6,
     "metadata": {},
     "output_type": "execute_result"
    }
   ],
   "source": [
    "def median(a, b, c):\n",
    "    if a<b and b<c or a>b and b > c:\n",
    "        return b\n",
    "    if b<a and a<c or b>a and a > c:\n",
    "        return a\n",
    "    if c<a and b<c or c>a and b > c:\n",
    "        return c\n",
    "median(3,4,5)"
   ]
  },
  {
   "cell_type": "code",
   "execution_count": 9,
   "id": "220172c4",
   "metadata": {},
   "outputs": [
    {
     "data": {
      "text/plain": [
       "4"
      ]
     },
     "execution_count": 9,
     "metadata": {},
     "output_type": "execute_result"
    }
   ],
   "source": [
    "def alternateMedian(a, b, c):\n",
    "    return a+b+c- min(a, b, c) - max(a, b, c)\n",
    "alternateMedian(3, 4, 5)"
   ]
  },
  {
   "cell_type": "code",
   "execution_count": 13,
   "id": "a774184b",
   "metadata": {},
   "outputs": [
    {
     "name": "stdout",
     "output_type": "stream",
     "text": [
      "Enter the first value: 3\n",
      "Enter the second value: 4\n",
      "Enter the third value: 5\n",
      "The median value is: 4.0\n"
     ]
    }
   ],
   "source": [
    "def main():\n",
    "    x = float(input(\"Enter the first value: \"))\n",
    "    y = float(input(\"Enter the second value: \"))\n",
    "    z = float(input(\"Enter the third value: \"))\n",
    "    print(\"The median value is:\", median(x, y, z))\n",
    "\n",
    "# Call the main function\n",
    "main()"
   ]
  },
  {
   "cell_type": "markdown",
   "id": "6ba4f2cd",
   "metadata": {},
   "source": [
    "Words like first, second and third are referred to as ordinal numbers. In this exercise,\n",
    "you will write a function that takes an integer as its only parameter and returns a\n",
    "string containing the appropriate English ordinal number as its only result. Your\n",
    "function must handle the integers between 1 and 12 (inclusive). It should return an\n",
    "empty string if the function is called with an argument outside of this range. Include\n",
    "a main program that demonstrates your function by displaying each integer from 1\n",
    "to 12 and its ordinal number. Your main program should only run when your file has\n",
    "not been imported into another program."
   ]
  },
  {
   "cell_type": "code",
   "execution_count": 33,
   "id": "7da0ae4c",
   "metadata": {},
   "outputs": [
    {
     "name": "stdout",
     "output_type": "stream",
     "text": [
      "Enter the integer: 55\n",
      "\n"
     ]
    }
   ],
   "source": [
    "def intToOrdinal():\n",
    "    n=int(input(\"Enter the integer: \"))\n",
    "    if n==1:\n",
    "        print (\"first\")\n",
    "    elif n==2:\n",
    "        print (\"second\")\n",
    "    elif n==3:\n",
    "        print (\"third\")\n",
    "    elif n==4:\n",
    "        print (\"fourth\")\n",
    "    elif n==5:\n",
    "        print (\"fifth\")\n",
    "    elif n==6:\n",
    "        print (\"sixth\")\n",
    "    elif n==7:\n",
    "        print (\"seventh\")\n",
    "    elif n==8:\n",
    "        print (\"eight\")\n",
    "    elif n==9:\n",
    "        print (\"ninth\")\n",
    "    elif n==10:\n",
    "        print (\"tenth\")\n",
    "    elif n==11:\n",
    "        print (\"eleventh\")\n",
    "    elif n==12:\n",
    "        print (\"twelve\")\n",
    "    else:\n",
    "        print(\"\")\n",
    "intToOrdinal()\n",
    "\n",
    "    "
   ]
  },
  {
   "cell_type": "markdown",
   "id": "da199ca7",
   "metadata": {},
   "source": [
    "The Twelve Days of Christmas is a repetitive song that describes an increasingly\n",
    "long list of gifts sent to one’s true love on each of 12 days. A single gift is sent on\n",
    "the first day. A new gift is added to the collection on each additional day, and then\n",
    "the complete collection is sent. The first three verses of the song are shown below.\n",
    "The complete lyrics are available on the Internet.\n",
    "On the first day of Christmas\n",
    "my true love sent to me:\n",
    "A partridge in a pear tree.\n",
    "On the second day of Christmas\n",
    "my true love sent to me:\n",
    "Two turtle doves,\n",
    "And a partridge in a pear tree.\n",
    "On the third day of Christmas\n",
    "my true love sent to me:\n",
    "Three French hens,\n",
    "Two turtle doves,\n",
    "And a partridge in a pear tree.\n",
    "Write a program that displays the complete lyrics for The Twelve Days of Christmas.\n",
    "Your program should include a function that displays one verse of the song. It\n",
    "will take the verse number as its only parameter. Then your program should call this\n",
    "function 12 times with integers that increase from 1 to 12.\n",
    "Each item that is sent to the recipient in the song should only appear in your\n",
    "program once, with the possible exception of the partridge. It may appear twice if\n",
    "that helps you handle the difference between “A partridge in a pear tree” in the first\n",
    "verse and “And a partridge in a pear tree” in the subsequent verses."
   ]
  },
  {
   "cell_type": "code",
   "execution_count": 44,
   "id": "720baf31",
   "metadata": {},
   "outputs": [
    {
     "ename": "ModuleNotFoundError",
     "evalue": "No module named 'int_ordinal'",
     "output_type": "error",
     "traceback": [
      "\u001b[1;31m---------------------------------------------------------------------------\u001b[0m",
      "\u001b[1;31mModuleNotFoundError\u001b[0m                       Traceback (most recent call last)",
      "\u001b[1;32m~\\AppData\\Local\\Temp/ipykernel_14860/2372880508.py\u001b[0m in \u001b[0;36m<module>\u001b[1;34m\u001b[0m\n\u001b[0;32m      1\u001b[0m \u001b[1;31m##\u001b[0m\u001b[1;33m\u001b[0m\u001b[1;33m\u001b[0m\u001b[0m\n\u001b[0;32m      2\u001b[0m \u001b[1;31m# Display the complete lyrics for the song The Twelve Days of Christmas.\u001b[0m\u001b[1;33m\u001b[0m\u001b[1;33m\u001b[0m\u001b[0m\n\u001b[1;32m----> 3\u001b[1;33m \u001b[1;32mfrom\u001b[0m \u001b[0mint_ordinal\u001b[0m \u001b[1;32mimport\u001b[0m \u001b[0mintToOrdinal\u001b[0m\u001b[1;33m\u001b[0m\u001b[1;33m\u001b[0m\u001b[0m\n\u001b[0m\u001b[0;32m      4\u001b[0m \u001b[1;31m## Display one verse of The Twelve Days of Christmas\u001b[0m\u001b[1;33m\u001b[0m\u001b[1;33m\u001b[0m\u001b[0m\n\u001b[0;32m      5\u001b[0m \u001b[1;31m# @param n the verse to display\u001b[0m\u001b[1;33m\u001b[0m\u001b[1;33m\u001b[0m\u001b[0m\n",
      "\u001b[1;31mModuleNotFoundError\u001b[0m: No module named 'int_ordinal'"
     ]
    }
   ],
   "source": [
    "\n",
    "##\n",
    "# Display the complete lyrics for the song The Twelve Days of Christmas.\n",
    "from int_ordinal import intToOrdinal\n",
    "## Display one verse of The Twelve Days of Christmas\n",
    "# @param n the verse to display\n",
    "# @return (None)\n",
    "def displayVerse(n):\n",
    "    print(\"On the\", intToOrdinal(n), \"day of Christmas\")\n",
    "    print(\"my true love sent to me:\")\n",
    "    if n >= 12:\n",
    "        print(\"Twelve drummers drumming,\")\n",
    "    if n >= 11:\n",
    "        print(\"Eleven pipers piping,\")\n",
    "    if n >= 10:\n",
    "        print(\"Ten lords a-leaping,\")\n",
    "    if n >= 9:\n",
    "        print(\"Nine ladies dancing,\")\n",
    "    if n >= 8:\n",
    "        print(\"Eight maids a-milking,\")\n",
    "    if n >= 7:\n",
    "        print(\"Seven swans a-swimming,\")\n",
    "    if n >= 6:\n",
    "        print(\"Six geese a-laying,\")\n",
    "    if n >= 5:\n",
    "        print(\"Five golden rings,\")\n",
    "    if n >= 4:\n",
    "        print(\"Four calling birds,\")\n",
    "    if n >= 3:\n",
    "        print(\"Three French hens,\")\n",
    "    if n >= 2:\n",
    "        print(\"Two turtle doves,\")\n",
    "    if n == 1:\n",
    "        print(\"A\", end=\" \")\n",
    "    else:\n",
    "        print(\"And a\", end=\" \")\n",
    "        print(\"partridge in a pear tree.\")\n",
    "        print()\n",
    "# Display all 12 verses of the song\n",
    "def main():\n",
    "    for verse in range(1, 13):\n",
    "        displayVerse(verse)\n",
    "# Call the main function\n",
    "main()\n"
   ]
  },
  {
   "cell_type": "markdown",
   "id": "73a2d786",
   "metadata": {},
   "source": [
    "Write a function that takes a string, s, as its first parameter, and the width of the\n",
    "window in characters, w, as its second parameter. Your function will return a new\n",
    "string that includes whatever leading spaces are needed so that s will be centered in\n",
    "the window when the new string is printed. The new string should be constructed in\n",
    "the following manner:\n",
    "• If the length of s is greater than or equal to the width of the window then s should\n",
    "be returned.\n",
    "4.5 Exercises 69\n",
    "• If the length of s is less than the width of the window then a string containing\n",
    "(len(s) - w) // 2 spaces followed by s should be returned.\n",
    "Write a main program that demonstrates your function by displaying multiple\n",
    "strings centered in the window."
   ]
  },
  {
   "cell_type": "code",
   "execution_count": 45,
   "id": "a5d75005",
   "metadata": {},
   "outputs": [
    {
     "name": "stdout",
     "output_type": "stream",
     "text": [
      "                                 A Famous Story\n",
      "                                      by:\n",
      "                                 Someone Famous\n",
      "\n",
      "Once upon a time...\n"
     ]
    }
   ],
   "source": [
    "##\n",
    "# Center a string of characters within a certain width.\n",
    "#\n",
    "WIDTH = 80\n",
    "## Create a new string that will be centered within a given width when it is printed.\n",
    "# @param s the string that will be centered\n",
    "# @param width the width in which the string will be centered\n",
    "# @return a new copy of s that contains the leading spaces needed to center s\n",
    "def center(s, width):\n",
    "# If the string is too long to center, then the original string is returned\n",
    "    if width < len(s):\n",
    "        return s\n",
    "# Compute the number of spaces needed and generate the result\n",
    "    spaces = (width - len(s)) // 2\n",
    "    result = \" \" * spaces + s\n",
    "    return result\n",
    "# Demonstrate the center function\n",
    "def main():\n",
    "    print(center(\"A Famous Story\", WIDTH))\n",
    "    print(center(\"by:\", WIDTH))\n",
    "    print(center(\"Someone Famous\", WIDTH))\n",
    "    print()\n",
    "    print(\"Once upon a time...\")\n",
    "# Call the main function\n",
    "main()"
   ]
  },
  {
   "cell_type": "markdown",
   "id": "b16fa83a",
   "metadata": {},
   "source": [
    "Many people do not use capital letters correctly, especially when typing on small\n",
    "devices like smart phones. To help address this situation, you will create a function\n",
    "that takes a string as its only parameter and returns a new copy of the string that has\n",
    "been correctly capitalized. In particular, your function must:\n",
    "• Capitalize the first non-space character in the string,\n",
    "• Capitalize the first non-space character after a period, exclamation mark or question\n",
    "mark, and\n",
    "• Capitalize a lowercase “i” if it is preceded by a space and followed by a space,\n",
    "period, exclamation mark, question mark or apostrophe.\n",
    "Implementing these transformations will correct most capitalization errors. For\n",
    "example, if the function is provided with the string “what time do i have to be there?\n",
    "what’s the address? this time i’ll try to be on time!” then it should return the string\n",
    "“What time do I have to be there? What’s the address? This time I’ll try to be on\n",
    "time!”. Include a main program that reads a string from the user, capitalizes it using\n",
    "your function, and displays the result."
   ]
  },
  {
   "cell_type": "code",
   "execution_count": 6,
   "id": "7f541622",
   "metadata": {},
   "outputs": [
    {
     "name": "stdout",
     "output_type": "stream",
     "text": [
      "Enter some text: n\n",
      "It is capitalized as: N\n"
     ]
    }
   ],
   "source": [
    "##\n",
    "# Improve the capitalization of a string.\n",
    "#\n",
    "## Capitalize the appropriate characters in a string\n",
    "# @param s the string that needs capitalization\n",
    "# @return a new string with the capitalization improved\n",
    "def capitalize(s):\n",
    "# Create a new copy of the string to return as the function’s result\n",
    "    result = s\n",
    "    pos = 0\n",
    "    while pos < len(s) and result[pos] == \" \":\n",
    "        pos = pos + 1\n",
    "    if pos < len(s):\n",
    "# Replace the character with its uppercase version without changing any other characters\n",
    "        result = result[0 : pos] + result[pos].upper() + \\\n",
    "        result[pos + 1 : len(result)]\n",
    "    # Capitalize the first letter that follows a ‘‘.’’, ‘‘!’’ or ‘‘?’’\n",
    "    pos = 0\n",
    "    while pos < len(s):\n",
    "        if result[pos] == \".\" or result[pos] == \"!\" or \\\n",
    "            result[pos] == \"?\":\n",
    "# Move past the ‘‘.’’, ‘‘!’’ or ‘‘?’’\n",
    "            pos = pos + 1\n",
    "# Move past any spaces\n",
    "            while pos < len(s) and result[pos] == \" \":\n",
    "                pos = pos + 1\n",
    "# If we haven’t reached the end of the string then replace the current character\n",
    "# with its uppercase equivalent\n",
    "            if pos < len(s):\n",
    "                result = result[0 : pos] + \\\n",
    "                result[pos].upper() + \\\n",
    "                result[pos + 1 : len(result)]\n",
    "# Move to the next character\n",
    "        pos = pos + 1\n",
    "    # Capitalize i when it is preceded by a space and followed by a space, period, exclamation\n",
    "# mark, question mark or apostrophe\n",
    "        pos = 1\n",
    "    while pos < len(s) - 1:\n",
    "        if result[pos - 1] == \" \" and result[pos] == \"i\" and \\\n",
    "            (result[pos + 1] == \" \" or result[pos + 1] == \".\" or \\\n",
    "            result[pos + 1] == \"!\" or result[pos + 1] == \"?\" or \\\n",
    "            result[pos + 1] == \"’\"):\n",
    "# Replace the i with an I without changing any other characters\n",
    "            result = result[0 : pos] + \"I\" + \\\n",
    "          result[pos + 1 : len(result)]\n",
    "        pos = pos + 1\n",
    "    return result\n",
    "# Demonstrate the capitalize function\n",
    "def main():\n",
    "    s = input(\"Enter some text: \")\n",
    "    capitalized = capitalize(s)\n",
    "    print(\"It is capitalized as:\", capitalized)\n",
    "# Call the main function\n",
    "main()"
   ]
  },
  {
   "cell_type": "markdown",
   "id": "fac12088",
   "metadata": {},
   "source": [
    "In this exercise you will write a function named isInteger that determines\n",
    "whether or not the characters in a string represent a valid integer. When determining\n",
    "if a string represents an integer you should ignore any leading or trailing\n",
    "white space. Once this white space is ignored, a string represents an integer if its\n",
    "length is at least one and it only contains digits, or if its first character is either +\n",
    "or - and the first character is followed by one or more characters, all of which are\n",
    "digits.\n",
    "Write a main program that reads a string from the user and reports whether or\n",
    "not it represents an integer. Ensure that the main program will not run if the file\n",
    "containing your solution is imported into another program."
   ]
  },
  {
   "cell_type": "code",
   "execution_count": 4,
   "id": "df5f14d9",
   "metadata": {},
   "outputs": [
    {
     "name": "stdout",
     "output_type": "stream",
     "text": [
      "Enter a string: 1\n",
      "That string represents an integer.\n"
     ]
    }
   ],
   "source": [
    "##\n",
    "# Determine whether or not a string entered by the user is an integer.\n",
    "#\n",
    "## Determine if a string contains a valid representation of an integer\n",
    "# @param s the string to check\n",
    "# @return True if s represents an integer. False otherwise.\n",
    "#\n",
    "def isInteger(s):\n",
    "# Remove whitespace from the beginning and end of the string\n",
    "    s = s.strip()\n",
    "    # Determine if the remaining characters form a valid integer\n",
    "    if (s[0] == \"+\" or s[0] == \"-\") and s[1:].isdigit():\n",
    "        return True\n",
    "    if s.isdigit():\n",
    "        return True\n",
    "    return False\n",
    "# Demonstrate the isInteger function\n",
    "def main():\n",
    "    s = input(\"Enter a string: \")\n",
    "    if isInteger(s):\n",
    "        print(\"That string represents an integer.\")\n",
    "    else:\n",
    "        print(\"That string does not represent an integer.\")\n",
    "# Only call the main function when this file has not been imported\n",
    "if __name__ == \"__main__\":\n",
    "    main()"
   ]
  },
  {
   "cell_type": "markdown",
   "id": "dc09a6ce",
   "metadata": {},
   "source": [
    "A prime number is an integer greater than one that is only divisible by one and itself.\n",
    "Write a function that determines whether or not its parameter is prime, returning\n",
    "True if it is, and False otherwise. Write a main program that reads an integer\n",
    "from the user and displays a message indicating whether or not it is prime. Ensure\n",
    "that the main program will not run if the file containing your solution is imported\n",
    "into another program"
   ]
  },
  {
   "cell_type": "code",
   "execution_count": 13,
   "id": "a27ec13d",
   "metadata": {},
   "outputs": [
    {
     "name": "stdout",
     "output_type": "stream",
     "text": [
      "Enter an integer: 57\n",
      "57 is a prime number.\n"
     ]
    }
   ],
   "source": [
    "## Determine whether or not a number is prime\n",
    "# @param n the integer to test\n",
    "# @return True if the number is prime, False otherwise\n",
    "def isPrime(n):\n",
    "    if n <= 1:\n",
    "        return False\n",
    "#Check each number from 2 up to but not including n to see if it divides evenly into n\n",
    "    for i in range(2, n):\n",
    "        if n % i == 0:\n",
    "            return False\n",
    "        else:\n",
    "            return True\n",
    "def main():\n",
    "    value = int(input(\"Enter an integer: \"))\n",
    "    if isPrime(value):\n",
    "        print(value, \"is a prime number.\")\n",
    "    else:\n",
    "        print(value, \"is not a prime number.\")\n",
    "# Call the main function if the file has not been imported\n",
    "if __name__ == \"__main__\":\n",
    "    main()"
   ]
  },
  {
   "cell_type": "markdown",
   "id": "107fb546",
   "metadata": {},
   "source": [
    "Write a function that generates a random password. The password should have a\n",
    "random length of between 7 and 10 characters. Each character should be randomly\n",
    "selected from positions 33 to 126 in the ASCII table. Your function will not take\n",
    "any parameters. It will return the randomly generated password as its only result.\n",
    "Display the randomly generated password in your file’s main program. Your main\n",
    "program should only run when your solution has not been imported into another file"
   ]
  },
  {
   "cell_type": "code",
   "execution_count": 2,
   "id": "a5d08a46",
   "metadata": {},
   "outputs": [
    {
     "name": "stdout",
     "output_type": "stream",
     "text": [
      "Your random password is: {J~~1%,1jz\n"
     ]
    }
   ],
   "source": [
    "##\n",
    "# Generate and display a random password containing between 7 and 10 characters.\n",
    "#\n",
    "from random import randint\n",
    "SHORTEST = 7\n",
    "LONGEST = 10\n",
    "MIN_ASCII = 33\n",
    "MAX_ASCII = 126\n",
    "## Generate a random password\n",
    "# @return a string containing a random password\n",
    "def randomPassword():\n",
    "# Select a random length for the password\n",
    "    randomLength = randint(SHORTEST, LONGEST)\n",
    "# Generate an appropriate number of random characters, adding each one to the end of result\n",
    "    result = \"\"\n",
    "    for i in range(randomLength):\n",
    "        randomChar = chr(randint(MIN_ASCII, MAX_ASCII))\n",
    "        result = result + randomChar\n",
    "# Return the random password\n",
    "    return result\n",
    "# Generate and display a random password\n",
    "def main():\n",
    "    print(\"Your random password is:\", randomPassword())\n",
    "# Call the main function only if the module is not imported\n",
    "if __name__ == \"__main__\":\n",
    "    main()"
   ]
  },
  {
   "cell_type": "markdown",
   "id": "175a9753",
   "metadata": {},
   "source": [
    "In this exercise you will write a function that determines whether or not a password\n",
    "is good.We will define a good password to be a one that is at least 8 characters long\n",
    "and contains at least one uppercase letter, at least one lowercase letter, and at least\n",
    "one number. Your function should return True if the password passed to it as its\n",
    "only parameter is good. Otherwise it should return False. Include a main program\n",
    "that reads a password from the user and reports whether or not it is good. Ensure\n",
    "that your main program only runs when your solution has not been imported into\n",
    "another file."
   ]
  },
  {
   "cell_type": "code",
   "execution_count": 3,
   "id": "ae70b792",
   "metadata": {},
   "outputs": [
    {
     "name": "stdout",
     "output_type": "stream",
     "text": [
      "Enter a password: @olamilsekaN00007\n",
      "That’s a good password.\n"
     ]
    }
   ],
   "source": [
    "##\n",
    "# Check whether or not a password is good.\n",
    "#\n",
    "## Check whether or not a password is good. A good password is at least 8 characters and\n",
    "# contains an uppercase letter, a lowercase letter and a number.\n",
    "# @param password the password to check\n",
    "# @return True if the password is good, False otherwise\n",
    "def checkPassword(password):\n",
    "    has_upper = False\n",
    "    has_lower = False\n",
    "    has_num = False\n",
    "    # Check each character in the password and see which requirement it meets\n",
    "    for ch in password:\n",
    "        if ch >= \"A\" and ch <= \"Z\":\n",
    "            has_upper = True\n",
    "        elif ch >= \"a\" and ch <= \"z\":\n",
    "            has_lower = True\n",
    "        elif ch >= \"0\" and ch <= \"9\":\n",
    "            has_num = True\n",
    "    # If the password has all 4 properties\n",
    "    if len(password) >= 8 and has_upper and has_lower and has_num:\n",
    "        return True\n",
    "    # The password is missing at least one property\n",
    "    return False\n",
    "# Demonstrate the password checking function\n",
    "def main():\n",
    "    p = input(\"Enter a password: \")\n",
    "    if checkPassword(p):\n",
    "        print(\"That’s a good password.\")\n",
    "    else:\n",
    "        print(\"That isn’t a good password.\")\n",
    "# Call the main function only if the file has not been imported into another program\n",
    "if __name__ == \"__main__\":\n",
    "    main()"
   ]
  },
  {
   "cell_type": "markdown",
   "id": "a4e1a176",
   "metadata": {},
   "source": [
    "Write a program that allows the user to convert a number from one base to another.\n",
    "Your program should support bases between 2 and 16 for both the input number and\n",
    "the result number. If the user chooses a base outside of this range then an appropriate\n",
    "error message should be displayed and the program should exit. Divide your program\n",
    "into several functions, including a function that converts from an arbitrary base to\n",
    "base 10, a function that converts from base 10 to an arbitrary base, and a main\n",
    "program that reads the bases and input number from the user. You may find your\n",
    "solutions to Exercises 81, 82 and 104 helpful when completing this exercise."
   ]
  },
  {
   "cell_type": "markdown",
   "id": "b112182a",
   "metadata": {},
   "source": [
    "exercise : Write a function that takes two positive integers that represent the numerator and\n",
    "denominator of a fraction as its only parameters. The body of the function should\n",
    "reduce the fraction to lowest terms and then return both the numerator and denominator\n",
    "of the reduced fraction as its result. For example, if the parameters passed\n",
    "to the function are 6 and 63 then the function should return 2 and 21. Include a\n",
    "main program that allows the user to enter a numerator and denominator. Then your\n",
    "program should display the reduced fraction."
   ]
  },
  {
   "cell_type": "code",
   "execution_count": 1,
   "id": "5992b6d8",
   "metadata": {},
   "outputs": [
    {
     "name": "stdout",
     "output_type": "stream",
     "text": [
      "Enter the numerator: 25\n",
      "Enter the denominator: 500\n",
      "25/500 can be reduced to 1/20.\n"
     ]
    }
   ],
   "source": [
    "##\n",
    "# Reduce a fraction to lowest terms.\n",
    "#\n",
    "## Compute the greatest common divisor of two integers\n",
    "# @param n the first integer under consideration (must be non-zero)\n",
    "# @param m the second integer under consideration (must be non-zero)\n",
    "# @return the greatest common divisor of the integers\n",
    "def gcd(n, m):\n",
    "# Initialize d to the smaller of n and m\n",
    "    d = min(n, m)\n",
    "    # Use a while loop to find the greatest common divisor of n and m\n",
    "    while n % d != 0 or m % d != 0:\n",
    "        d=d-1\n",
    "    return d\n",
    "## Reduce a fraction to lowest terms\n",
    "# @param num the integer numerator of the fraction\n",
    "# @param den the integer denominator of the fraction (must be non-zero)\n",
    "# @return the numerator and denominator of the reduced fraction\n",
    "def reduce(num, den):\n",
    "# If the numerator is 0 then the reduced fraction is0/1\n",
    "    if num == 0:\n",
    "        return (0, 1)\n",
    "# Compute the greatest common divisor of the numerator and denominator\n",
    "    g = gcd(num, den)\n",
    "# Divide both the numerator and denominator by the GCD and return the result\n",
    "    return (num // g, den // g)\n",
    "# Read a fraction from the user and display the equivalent lowest terms fraction\n",
    "def main():\n",
    "# Read the numerator and denominator from the user\n",
    "    num = int(input(\"Enter the numerator: \"))\n",
    "    den = int(input(\"Enter the denominator: \"))\n",
    "# Compute the reduced fraction\n",
    "    (n, d) = reduce(num, den)\n",
    "# Display the result\n",
    "    print(\"%d/%d can be reduced to %d/%d.\" % (num, den, n, d))\n",
    "# Call the main function\n",
    "main()"
   ]
  },
  {
   "cell_type": "markdown",
   "id": "0374cd9c",
   "metadata": {},
   "source": [
    "Many recipe books still use cups, tablespoons and teaspoons to describe the volumes\n",
    "of ingredients used when cooking or baking. While such recipes are easy enough to\n",
    "follow if you have the appropriate measuring cups and spoons, they can be difficult\n",
    "to double, triple or quadruple when cooking Christmas dinner for the entire extended\n",
    "family. For example, a recipe that calls for 4 tablespoons of an ingredient requires 16\n",
    "tablespoons when quadrupled. However, 16 tablespoons would be better expressed\n",
    "(and easier to measure) as 1 cup.\n",
    "Write a function that expresses an imperial volume using the largest units possible.\n",
    "The function will take the number of units as its first parameter, and the unit\n",
    "of measure (cup, tablespoon or teaspoon) as its second parameter. It will return a\n",
    "string representing the measure using the largest possible units as its only result. For\n",
    "example, if the function is provided with parameters representing 59 teaspoons then\n",
    "it should return the string “1 cup, 3 tablespoons, 2 teaspoons”."
   ]
  },
  {
   "cell_type": "code",
   "execution_count": 3,
   "id": "da43d060",
   "metadata": {},
   "outputs": [
    {
     "name": "stdout",
     "output_type": "stream",
     "text": [
      "59 teaspoons is 1 cup, 3 tablespoons, 2 teaspoons.\n",
      "59 tablespoons is 3 cups, 11 tablespoons.\n",
      "1 teaspoon is 1 teaspoon.\n",
      "1 tablespoon is 1 tablespoon.\n",
      "1 cup is 1 cup.\n",
      "4 cups is 4 cups.\n",
      "3 teaspoons is 1 tablespoon.\n",
      "6 teaspoons is 2 tablespoons.\n",
      "95 teaspoons is 1 cup, 15 tablespoons, 2 teaspoons.\n",
      "96 teaspoons is 2 cups.\n",
      "97 teaspoons is 2 cups, 1 teaspoon.\n",
      "98 teaspoons is 2 cups, 2 teaspoons.\n",
      "99 teaspoons is 2 cups, 1 tablespoon.\n"
     ]
    }
   ],
   "source": [
    "##\n",
    "# Reduce an imperial measurement so that it is expressed using the largest possible units of\n",
    "# measure. For example, 59 teaspoons is reduced to 1 cup, 3 tablespoons, 2 teaspoons.\n",
    "#\n",
    "TSP_PER_TBSP = 3\n",
    "TSP_PER_CUP = 48\n",
    "## Reduce an imperial measurement so that it is expressed using the largest possible\n",
    "# units of measure\n",
    "# @param num the number of units that need to be reduced\n",
    "# @param unit the unit of measure (‘‘cup’’, ‘‘tablespoon’’ or ‘‘teaspoon’’)\n",
    "# @return a string representing the measurement in reduced form\n",
    "def reduceMeasure(num, unit):\n",
    "# Convert the unit to lowercase\n",
    "    unit = unit.lower()\n",
    "    # Compute the number of teaspoons that the parameters represent\n",
    "    if unit == \"teaspoon\" or unit == \"teaspoons\":\n",
    "        teaspoons = num\n",
    "    elif unit == \"tablespoon\" or unit == \"tablespoons\":\n",
    "        teaspoons = num * TSP_PER_TBSP\n",
    "    elif unit == \"cup\" or unit == \"cups\":\n",
    "        teaspoons = num * TSP_PER_CUP\n",
    "    # Convert the number of teaspoons to the largest possible units of measure\n",
    "    cups = teaspoons // TSP_PER_CUP\n",
    "    teaspoons = teaspoons - cups * TSP_PER_CUP\n",
    "    tablespoons = teaspoons // TSP_PER_TBSP\n",
    "    teaspoons = teaspoons - tablespoons * TSP_PER_TBSP\n",
    "    # Create a string to hold the result\n",
    "    result = \"\"\n",
    "# Add the number of cups to the result string (if any)\n",
    "    if cups > 0:\n",
    "        result = result + str(cups) + \" cup\"\n",
    "# Make cup plural if there is more than one\n",
    "        if cups > 1:\n",
    "                result = result + \"s\"\n",
    "# Add the number of tablespoons to the result string (if any)\n",
    "    if tablespoons > 0:\n",
    "# Include a comma if there were some cups\n",
    "        if result != \"\":\n",
    "            result = result + \", \"\n",
    "        result = result + str(tablespoons) + \" tablespoon\"\n",
    "# Make tablespoon plural if there is more than one\n",
    "        if tablespoons > 1:\n",
    "            result = result + \"s\"\n",
    "# Add the number of teaspoons to the result string (if any)\n",
    "    if teaspoons > 0:\n",
    "# Include a comma if there were some cups and/or tablespoons\n",
    "        if result != \"\":\n",
    "            result = result + \", \"\n",
    "        result = result + str(teaspoons) + \" teaspoon\"\n",
    "# Make teaspoons plural if there is more than one\n",
    "        if teaspoons > 1:\n",
    "            result = result + \"s\"\n",
    "# Handle the case where the number of units was 0\n",
    "    if result == \"\":\n",
    "        result = \"0 teaspoons\"\n",
    "    return result\n",
    "# Demonstrate the reduceMeasure function by performing several reductions\n",
    "def main():\n",
    "    print(\"59 teaspoons is %s.\" % reduceMeasure(59, \"teaspoons\"))\n",
    "    print(\"59 tablespoons is %s.\" % \\\n",
    "    reduceMeasure(59, \"tablespoons\"))\n",
    "    print(\"1 teaspoon is %s.\" % reduceMeasure(1, \"teaspoon\"))\n",
    "    print(\"1 tablespoon is %s.\" % reduceMeasure(1, \"tablespoon\"))\n",
    "    print(\"1 cup is %s.\" % reduceMeasure(1, \"cup\"))\n",
    "    print(\"4 cups is %s.\" % reduceMeasure(4, \"cups\"))\n",
    "    print(\"3 teaspoons is %s.\" % reduceMeasure(3, \"teaspoons\"))\n",
    "    print(\"6 teaspoons is %s.\" % reduceMeasure(6, \"teaspoons\"))\n",
    "    print(\"95 teaspoons is %s.\" % reduceMeasure(95, \"teaspoons\"))\n",
    "    print(\"96 teaspoons is %s.\" % reduceMeasure(96, \"teaspoons\"))\n",
    "    print(\"97 teaspoons is %s.\" % reduceMeasure(97, \"teaspoons\"))\n",
    "    print(\"98 teaspoons is %s.\" % reduceMeasure(98, \"teaspoons\"))\n",
    "    print(\"99 teaspoons is %s.\" % reduceMeasure(99, \"teaspoons\"))\n",
    "# Call the main function\n",
    "main()"
   ]
  },
  {
   "cell_type": "markdown",
   "id": "0305e0e6",
   "metadata": {},
   "source": [
    "A magic date is a date where the day multiplied by the month is equal to the two digit\n",
    "year. For example, June 10, 1960 is amagic date because June is the sixth month, and\n",
    "6 times 10 is 60, which is equal to the two digit year. Write a function that determines\n",
    "whether or not a date is a magic date. Use your function to create a main program\n",
    "that finds and displays all of the magic dates in the 20th century. You will probably\n",
    "find your solution to Exercise 106 helpful when completing this exercise."
   ]
  },
  {
   "cell_type": "markdown",
   "id": "137ef551",
   "metadata": {},
   "source": [
    "# LIST"
   ]
  },
  {
   "cell_type": "code",
   "execution_count": 1,
   "id": "b0487594",
   "metadata": {},
   "outputs": [
    {
     "name": "stdout",
     "output_type": "stream",
     "text": [
      "[2.71, 3.14, 1.41, 1.62]\n"
     ]
    }
   ],
   "source": [
    "data = [2.71, 3.14, 1.41, 1.62]\n",
    "print(data)"
   ]
  },
  {
   "cell_type": "code",
   "execution_count": 2,
   "id": "bd0cecc6",
   "metadata": {},
   "outputs": [
    {
     "name": "stdout",
     "output_type": "stream",
     "text": [
      "3.14\n"
     ]
    }
   ],
   "source": [
    "data = [2.71, 3.14, 1.41, 1.62]\n",
    "print(data[1])"
   ]
  },
  {
   "cell_type": "code",
   "execution_count": 3,
   "id": "6fd101e4",
   "metadata": {},
   "outputs": [
    {
     "name": "stdout",
     "output_type": "stream",
     "text": [
      "[2.71, 3.14, 2.3, 1.62]\n"
     ]
    }
   ],
   "source": [
    "data = [2.71, 3.14, 1.41, 1.62]\n",
    "data[2] = 2.30\n",
    "print(data)"
   ]
  },
  {
   "cell_type": "code",
   "execution_count": 5,
   "id": "bb6d24b5",
   "metadata": {},
   "outputs": [
    {
     "name": "stdout",
     "output_type": "stream",
     "text": [
      "The total is 8.879999999999999\n"
     ]
    }
   ],
   "source": [
    "# Initialize data and total\n",
    "data = [2.71, 3.14, 1.41, 1.62]\n",
    "total = 0\n",
    "# Total the values in data\n",
    "for value in data:\n",
    "    total = total + value\n",
    "# Display the total\n",
    "print(\"The total is\", total)"
   ]
  },
  {
   "cell_type": "code",
   "execution_count": 9,
   "id": "b2e8f537",
   "metadata": {},
   "outputs": [
    {
     "name": "stdout",
     "output_type": "stream",
     "text": [
      "The largest value is 3.14 which is at index 2\n"
     ]
    }
   ],
   "source": [
    "# Initialize data and largest pos\n",
    "data = [1.62, 1.41, 3.14, 2.71]\n",
    "largest_pos = 0\n",
    "# Find the position of the largest element\n",
    "for i in range(1, len(data)):\n",
    "    if data[i] > data[largest_pos]:\n",
    "        largest_pos = i\n",
    "# Display the result\n",
    "print(\"The largest value is\", data[largest_pos], \\\n",
    "\"which is at index\", largest_pos)"
   ]
  },
  {
   "cell_type": "code",
   "execution_count": 11,
   "id": "397c2dbb",
   "metadata": {},
   "outputs": [
    {
     "name": "stdout",
     "output_type": "stream",
     "text": [
      "The first positive number is at index 2\n"
     ]
    }
   ],
   "source": [
    "# Initialize data\n",
    "data = [0, -1, 4, 1, 0]\n",
    "# Loop while i is a valid index and the value at index i is not a positive value\n",
    "i = 0\n",
    "while i < len(data) and data[i] <= 0:\n",
    "    i = i + 1\n",
    "# If i is less than the length of data then the loop terminated because a positive number was\n",
    "# found. Otherwise i will be equal to the length of data, indicating that a positive number\n",
    "# was not found.\n",
    "if i < len(data):\n",
    "    print(\"The first positive number is at index\", i)\n",
    "else:\n",
    "    print(\"The list does not contain a positive number\")"
   ]
  },
  {
   "cell_type": "code",
   "execution_count": 12,
   "id": "61658ab7",
   "metadata": {},
   "outputs": [
    {
     "name": "stdout",
     "output_type": "stream",
     "text": [
      "[2.71, 3.14, 1.41, 1.62, 2.3]\n"
     ]
    }
   ],
   "source": [
    "data = [2.71, 3.14, 1.41, 1.62]\n",
    "data.append(2.30)\n",
    "print(data)"
   ]
  },
  {
   "cell_type": "code",
   "execution_count": 13,
   "id": "2fa90274",
   "metadata": {},
   "outputs": [
    {
     "name": "stdout",
     "output_type": "stream",
     "text": [
      "[2.71, 3.14, 2.3, 1.41, 1.62]\n"
     ]
    }
   ],
   "source": [
    "data = [2.71, 3.14, 1.41, 1.62]\n",
    "data.insert(2, 2.30)\n",
    "print(data)"
   ]
  },
  {
   "cell_type": "code",
   "execution_count": 14,
   "id": "1b210489",
   "metadata": {},
   "outputs": [
    {
     "name": "stdout",
     "output_type": "stream",
     "text": [
      "[2.71, 3.14]\n",
      "1.41\n"
     ]
    }
   ],
   "source": [
    "data = [2.71, 3.14, 1.41, 1.62]\n",
    "data.remove(1.62) # Remove 1.62 from the list\n",
    "last = data.pop() # Remove the last element from the list\n",
    "print(data)\n",
    "print(last)"
   ]
  },
  {
   "cell_type": "code",
   "execution_count": 15,
   "id": "8f75e6f1",
   "metadata": {},
   "outputs": [
    {
     "name": "stdout",
     "output_type": "stream",
     "text": [
      "[2.71, 1.62, 1.41, 3.14]\n"
     ]
    }
   ],
   "source": [
    "# Create a list\n",
    "data = [2.71, 3.14, 1.41, 1.62]\n",
    "# Swap the element at index 1 with the element at index 3\n",
    "temp = data[1]\n",
    "data[1] = data[3]\n",
    "data[3] = temp\n",
    "# Display the modified list\n",
    "print(data)"
   ]
  },
  {
   "cell_type": "code",
   "execution_count": 17,
   "id": "0f1761cb",
   "metadata": {},
   "outputs": [
    {
     "name": "stdout",
     "output_type": "stream",
     "text": [
      "Enter a number (blank line to quit): 2\n",
      "Enter a number (blank line to quit): 3\n",
      "Enter a number (blank line to quit): 4\n",
      "Enter a number (blank line to quit): 6\n",
      "Enter a number (blank line to quit): 1\n",
      "Enter a number (blank line to quit): \n",
      "1.0\n",
      "2.0\n",
      "3.0\n",
      "4.0\n",
      "6.0\n"
     ]
    }
   ],
   "source": [
    "# Create a new, empty list\n",
    "values = []\n",
    "# Read values from the user and store them in a list until a blank line is entered\n",
    "line = input(\"Enter a number (blank line to quit): \")\n",
    "while line != \"\":\n",
    "    num = float(line)\n",
    "    values.append(num)\n",
    "    line = input(\"Enter a number (blank line to quit): \")\n",
    "# Sort the values into ascending order\n",
    "values.sort()\n",
    "# Display the values\n",
    "for v in values:\n",
    "    print(v)"
   ]
  },
  {
   "cell_type": "code",
   "execution_count": 18,
   "id": "64c09259",
   "metadata": {},
   "outputs": [
    {
     "name": "stdout",
     "output_type": "stream",
     "text": [
      "Enter an integer (blank line to finish): 2\n",
      "Enter an integer (blank line to finish): 3\n",
      "Enter an integer (blank line to finish): \n",
      "Enter one additional integer: 5\n",
      "5 is not in the list\n"
     ]
    }
   ],
   "source": [
    "# Read integers from the user until a blank line is entered and store them all in data\n",
    "data = []\n",
    "line = input(\"Enter an integer (blank line to finish): \")\n",
    "while line != \"\":\n",
    "    n = int(line)\n",
    "    data.append(n)\n",
    "    line = input(\"Enter an integer (blank line to finish): \")\n",
    "# Read an additional integer from the user\n",
    "x = int(input(\"Enter one additional integer: \"))\n",
    "# Display the index of the first occurrence of x (if it is present in the list)\n",
    "if x in data:\n",
    "    print(\"The first\", x, \"is at index\", data.index(x))\n",
    "else:\n",
    "    print(x, \"is not in the list\")"
   ]
  },
  {
   "cell_type": "markdown",
   "id": "33d06a0c",
   "metadata": {},
   "source": [
    "Write a program that reads integers from the user and stores them in a list. Your\n",
    "program should continue reading values until the user enters 0. Then it should display\n",
    "all of the values entered by the user (except for the 0) in ascending order, with one\n",
    "value appearing on each line. Use either the sort method or the sorted function\n",
    "to sort the list."
   ]
  },
  {
   "cell_type": "code",
   "execution_count": 3,
   "id": "4986f438",
   "metadata": {},
   "outputs": [
    {
     "name": "stdout",
     "output_type": "stream",
     "text": [
      "Enter a number (blank line to quit): 7\n",
      "Enter a number (blank line to quit): 5\n",
      "Enter a number (blank line to quit): 3\n",
      "Enter a number (blank line to quit): 0\n",
      "3.0\n",
      "5.0\n",
      "7.0\n"
     ]
    }
   ],
   "source": [
    "# Create a new, empty list\n",
    "values = []\n",
    "# Read values from the user and store them in a list until a blank line is entered\n",
    "line = input(\"Enter a number (0 to quit): \")\n",
    "while line != \"0\":\n",
    "    num = float(line)\n",
    "    values.append(num)\n",
    "    line = input(\"Enter a number (0 to quit): \")\n",
    "# Sort the values into ascending order\n",
    "values.sort()\n",
    "# Display the values\n",
    "for v in values:\n",
    "    print(v)"
   ]
  },
  {
   "cell_type": "code",
   "execution_count": 1,
   "id": "dfbdb5c2",
   "metadata": {},
   "outputs": [
    {
     "name": "stdout",
     "output_type": "stream",
     "text": [
      "enter an integer(0 to quit)8\n",
      "enter an integer(0 to quit)4\n",
      "enter an integer(0 to quit)5\n",
      "enter an integer(0 to quit)6\n",
      "enter an integer(0 to quit)3\n",
      "enter an integer(0 to quit)0\n",
      "The values, sorted into ascending orders, are:\n",
      "3\n",
      "4\n",
      "5\n",
      "6\n",
      "8\n"
     ]
    }
   ],
   "source": [
    "## dispaly a list of integers entered by the user in ascending order\n",
    "## start with an empty set\n",
    "data=[]\n",
    "##read values and ass them to the list until the user enter 0\n",
    "num=int(input(\"enter an integer(0 to quit)\"))\n",
    "while num !=0:\n",
    "    data.append(num)\n",
    "    num=int(input(\"enter an integer(0 to quit)\"))\n",
    "#sort the values\n",
    "data.sort()\n",
    "#dispaly the values in ascending order\n",
    "print(\"The values, sorted into ascending orders, are:\")\n",
    "for num in data:\n",
    "    print(num)"
   ]
  },
  {
   "cell_type": "markdown",
   "id": "7f7d42d5",
   "metadata": {},
   "source": [
    "When analysing data collected as part of a science experiment it may be desirable to remove the most extreme values before performing other calculations. Write a function that takes a list of values and an non-negative integer, n, as its parameters.\n",
    "The function should create a new copy of the list with the n largest elements and the n smallest elements removed. Then it should return the new copy of the list as the function’s only result. The order of the elements in the returned list does not have to match the order of the elements in the original list.\n",
    "Write a main program that demonstrates your function. It should read a list of numbers from the user and remove the two largest and two smallest values from it by calling the function described previously. Display the list with the outliers removed,\n",
    "followed by the original list. Your program should generate an appropriate error message if the user enters less than 4 values."
   ]
  },
  {
   "cell_type": "code",
   "execution_count": 6,
   "id": "0a51e7a3",
   "metadata": {},
   "outputs": [
    {
     "name": "stdout",
     "output_type": "stream",
     "text": [
      "Enter a value (blank line to quit):34567\n",
      "Enter a value (blank line to quite):6543\n",
      "Enter a value (blank line to quite):6543\n",
      "Enter a value (blank line to quite):6543\n",
      "Enter a value (blank line to quite):\n",
      "with the outliers removed: [6543.0, 6543.0]\n",
      "the original data : [34567.0, 6543.0, 6543.0, 6543.0]\n"
     ]
    }
   ],
   "source": [
    "# Remove outlier\n",
    "#remove outliers from a list a values \n",
    "# @ param data the list of values to process\n",
    "#@ param num_outliers the number of smallest and largest values to remove\n",
    "# @return a new copy of data where the values are sorted into ascending order and the\n",
    "# smallest and largest values have been removed\n",
    "\n",
    "def removeOutliers (data, num_outliers):\n",
    "    #create a new copy of the list that is in sorted order\n",
    "    retval=sorted(data)\n",
    "    #remove num_outeliers largest values\n",
    "    for i in range (num_outliers):\n",
    "        retval.pop()\n",
    "    #return the result\n",
    "    return retval\n",
    "#read data from the user and remove the two largest and two smallest values\n",
    "def main():\n",
    "    #read values from the user until a blank line is entered\n",
    "    values=[]\n",
    "    s= input (\"Enter a value (blank line to quit):\")\n",
    "    while s !=\"\":\n",
    "        num= float (s)\n",
    "        values.append(num)\n",
    "        s= input(\"Enter a value (blank line to quite):\")\n",
    "    #Dispaly the result or an appropiate error message \n",
    "    if len(values)< 4:\n",
    "        print(\"you didnt enter enough values.\")\n",
    "    else:\n",
    "        print (\"with the outliers removed:\",\\\n",
    "              removeOutliers (values,2))\n",
    "        print (\"the original data :\", values)\n",
    "#call the main function\n",
    "main()\n",
    "            \n",
    "        "
   ]
  },
  {
   "cell_type": "code",
   "execution_count": null,
   "id": "8d4a4183",
   "metadata": {},
   "outputs": [],
   "source": []
  }
 ],
 "metadata": {
  "kernelspec": {
   "display_name": "Python 3 (ipykernel)",
   "language": "python",
   "name": "python3"
  },
  "language_info": {
   "codemirror_mode": {
    "name": "ipython",
    "version": 3
   },
   "file_extension": ".py",
   "mimetype": "text/x-python",
   "name": "python",
   "nbconvert_exporter": "python",
   "pygments_lexer": "ipython3",
   "version": "3.9.7"
  }
 },
 "nbformat": 4,
 "nbformat_minor": 5
}
