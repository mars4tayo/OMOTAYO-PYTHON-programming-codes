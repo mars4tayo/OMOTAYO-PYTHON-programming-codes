{
 "cells": [
  {
   "cell_type": "code",
   "execution_count": 5,
   "id": "883a2f5f",
   "metadata": {},
   "outputs": [
    {
     "name": "stdout",
     "output_type": "stream",
     "text": [
      "enter your nameomotayo\n",
      "omotayo\n"
     ]
    }
   ],
   "source": [
    "name=input(str('enter your name'));\n",
    "print(name)"
   ]
  },
  {
   "cell_type": "code",
   "execution_count": 9,
   "id": "d4773a7b",
   "metadata": {},
   "outputs": [
    {
     "name": "stdout",
     "output_type": "stream",
     "text": [
      "Enter your name: guefbirnowm\n",
      "How many items? 4567\n",
      "Cost per item? 456.567\n",
      "guefbirnowm\n",
      "4567\n",
      "456.567\n",
      "2085141.489\n"
     ]
    }
   ],
   "source": [
    "name = input(\"Enter your name: \")\n",
    "quantity = int(input(\"How many items? \"))\n",
    "price = float(input(\"Cost per item? \"))\n",
    "total = quantity * price\n",
    "print(name)\n",
    "print(quantity)\n",
    "print(price)\n",
    "print(total)"
   ]
  },
  {
   "cell_type": "code",
   "execution_count": 10,
   "id": "df9062ff",
   "metadata": {},
   "outputs": [
    {
     "name": "stdout",
     "output_type": "stream",
     "text": [
      "Enter the first name: omotayo\n",
      "Enter the last name: olanusi\n",
      "olanusi, omotayo\n"
     ]
    }
   ],
   "source": [
    "# Read the names from the user\n",
    "first = input(\"Enter the first name: \")\n",
    "last = input(\"Enter the last name: \")\n",
    "# Concatenate the strings\n",
    "both = last + \", \" + first\n",
    "# Display the result\n",
    "print(both)"
   ]
  },
  {
   "cell_type": "code",
   "execution_count": 11,
   "id": "6c3038dd",
   "metadata": {},
   "outputs": [
    {
     "name": "stdout",
     "output_type": "stream",
     "text": [
      "Enter your first name: omotayo\n",
      "Your first name contains 7 characters\n"
     ]
    }
   ],
   "source": [
    "# Read the name from the user\n",
    "first = input(\"Enter your first name: \")\n",
    "# Compute its length\n",
    "num_chars = len(first)\n",
    "# Display the result\n",
    "print(\"Your first name contains\", num_chars, \"characters\")"
   ]
  },
  {
   "cell_type": "code",
   "execution_count": 12,
   "id": "ba3245aa",
   "metadata": {},
   "outputs": [
    {
     "name": "stdout",
     "output_type": "stream",
     "text": [
      "Enter your first name: omotayo\n",
      "Enter your middle name: Alexander\n",
      "Enter your last name: Olanusi\n",
      "Your initials are oAO\n"
     ]
    }
   ],
   "source": [
    "# Read the user’s name\n",
    "first = input(\"Enter your first name: \")\n",
    "middle = input(\"Enter your middle name: \")\n",
    "last = input(\"Enter your last name: \")\n",
    "# Extract the first character from each string and concatenate them\n",
    "initials = first[0] + middle[0] + last[0]\n",
    "# Display the initials\n",
    "print(\"Your initials are\", initials)"
   ]
  },
  {
   "cell_type": "markdown",
   "id": "8e9d8d8a",
   "metadata": {},
   "source": [
    "# Exercises"
   ]
  },
  {
   "cell_type": "markdown",
   "id": "ad6e6aa2",
   "metadata": {},
   "source": [
    "####1 Create a program that displays your name and complete mailing address. The address\n",
    "should be printed in the format that is normally used in the area where you live. Your\n",
    "program does not need to read any input from the user."
   ]
  },
  {
   "cell_type": "code",
   "execution_count": 18,
   "id": "214bf615",
   "metadata": {},
   "outputs": [
    {
     "name": "stdout",
     "output_type": "stream",
     "text": [
      "enter your name:omotayo olanusi\n",
      "enter your email adresse:olanusiomootayo@gmail.com\n",
      "Your name is omotayo olanusi and Your email adresse is olanusiomootayo@gmail.com\n"
     ]
    }
   ],
   "source": [
    "Name=input('enter your name:')\n",
    "email_adresse=input('enter your email adresse:')\n",
    "print(\"Your name is\",Name,\n",
    "     \"and Your email adresse is\", email_adresse)"
   ]
  },
  {
   "cell_type": "markdown",
   "id": "31eccc1f",
   "metadata": {},
   "source": [
    "#####2Write a program that asks the user to enter his or her name. The program should respond with a message that says hello to the user, using his or her name."
   ]
  },
  {
   "cell_type": "code",
   "execution_count": 23,
   "id": "f5e027bb",
   "metadata": {},
   "outputs": [
    {
     "name": "stdout",
     "output_type": "stream",
     "text": [
      "enter your first name:omotayo\n",
      "enter your last name:olanusi\n",
      "hello omotayo olanusi\n"
     ]
    }
   ],
   "source": [
    "firstname=input('enter your first name:')\n",
    "lastname=input('enter your last name:')\n",
    "print('hello' , firstname , lastname)"
   ]
  },
  {
   "cell_type": "markdown",
   "id": "c33c0139",
   "metadata": {},
   "source": [
    "###3 Write a program that asks the user to enter the width and length of a room. Once\n",
    "these values have been read, your program should compute and display the area of\n",
    "the room. The length and the width will be entered as floating-point numbers. Include\n",
    "units in your prompt and output message; either feet or meters, depending on which\n",
    "unit you are more comfortable working with."
   ]
  },
  {
   "cell_type": "code",
   "execution_count": 30,
   "id": "db466af3",
   "metadata": {},
   "outputs": [
    {
     "name": "stdout",
     "output_type": "stream",
     "text": [
      "enter width of room44\n",
      "enter lenght of room44\n",
      "1936.0\n"
     ]
    }
   ],
   "source": [
    "width=float(input('enter width of room'))\n",
    "lenght=float(input('enter lenght of room'))\n",
    "Area=(width*lenght)\n",
    "print(Area)"
   ]
  },
  {
   "cell_type": "markdown",
   "id": "835578ce",
   "metadata": {},
   "source": [
    "####4 Create a program that reads the length and width of a farmer’s field from the user in\n",
    "feet. Display the area of the field in acres."
   ]
  },
  {
   "cell_type": "code",
   "execution_count": 1,
   "id": "dd9b40ed",
   "metadata": {},
   "outputs": [
    {
     "name": "stdout",
     "output_type": "stream",
     "text": [
      "enter width of room2345\n",
      "enter lenght of room54333\n",
      "171.35252703211577 acre\n"
     ]
    }
   ],
   "source": [
    "width=float(input('enter width of room'))\n",
    "lenght=float(input('enter lenght of room'))\n",
    "Area=((width*lenght)/743560)\n",
    "print(Area, 'acre')"
   ]
  },
  {
   "cell_type": "markdown",
   "id": "f9f1ca5d",
   "metadata": {},
   "source": [
    "##Exercise 5: Bottle Deposits In many jurisdictions a small deposit is added to drink containers to encourage people to recycle them. In one particular jurisdiction, drink containers holding one liter or less have a $ 0.10 deposit, and drink containers holding more than one liter have a $0.25 deposit. Write a program that reads the number of containers of each size from the user.Your program should continue by computing and displaying the refund that will be received for returning those containers. Format the output so that it includes a dollar sign and two digits to the right of the decimal point##"
   ]
  },
  {
   "cell_type": "code",
   "execution_count": 11,
   "id": "8b1e76f3",
   "metadata": {},
   "outputs": [
    {
     "name": "stdout",
     "output_type": "stream",
     "text": [
      "enter the number of container > 1 liter=  765\n",
      "enter the number of container =< 1 liter=  43\n",
      "Your total refund is $195.55.\n"
     ]
    }
   ],
   "source": [
    "Large_bottle= int(input('enter the number of container > 1 liter=  '))\n",
    "small_bottle= int(input('enter the number of container =< 1 liter=  '))\n",
    "refund=(Large_bottle*0.25)+(small_bottle*0.1)\n",
    "print('Your total refund is $%.2f.' % refund)"
   ]
  },
  {
   "cell_type": "markdown",
   "id": "77eb3e4b",
   "metadata": {},
   "source": [
    "#########\n",
    "The program that you create for this exercise will begin by reading the cost of a meal\n",
    "ordered at a restaurant from the user. Then your program will compute the tax and\n",
    "tip for the meal. Use your local tax rate when computing the amount of tax owing.\n",
    "Compute the tip as 18 percent of the meal amount (without the tax). The output from\n",
    "your program should include the tax amount, the tip amount, and the grand total for\n",
    "the meal including both the tax and the tip. Format the output so that all of the values\n",
    "are displayed using two decimal places."
   ]
  },
  {
   "cell_type": "code",
   "execution_count": 2,
   "id": "30365bf7",
   "metadata": {},
   "outputs": [
    {
     "name": "stdout",
     "output_type": "stream",
     "text": [
      "eneter the price of the meal = 56\n",
      "eneter the Tax rate of the meal = 77\n",
      "eneter the Tip of the meal = 87\n",
      "The Total amount to paid is =  $9240.00\n"
     ]
    }
   ],
   "source": [
    "cost=float(input('eneter the price of the meal = '))\n",
    "Tax_rate=float(input('eneter the Tax rate of the meal = '))\n",
    "Tip=float(input('eneter the Tip of the meal = '))\n",
    "price=cost*(1+Tax_rate+Tip)\n",
    "print('The Total amount to paid is =  $%.2f' % price)"
   ]
  },
  {
   "cell_type": "markdown",
   "id": "c9ae57cb",
   "metadata": {},
   "source": [
    "Write a program that reads a positive integer, n, from the user and then displays the\n",
    "sum of all of the integers from 1 to n. The sum of the first n positive integers can be\n",
    "computed using the formula:\n",
    "sum = (n)(n + 1)/2"
   ]
  },
  {
   "cell_type": "code",
   "execution_count": 5,
   "id": "3880154c",
   "metadata": {},
   "outputs": [
    {
     "name": "stdout",
     "output_type": "stream",
     "text": [
      "enter the integer = 678\n",
      "the sum of all positive integer in n is  = 230181.00\n"
     ]
    }
   ],
   "source": [
    "number=int(input('enter the integer = '))\n",
    "Sum= number*(number + 1)\n",
    "Total= Sum/2\n",
    "print('the sum of all positive integer in n is  = %.2f' % Total )"
   ]
  },
  {
   "cell_type": "code",
   "execution_count": null,
   "id": "46640b42",
   "metadata": {},
   "outputs": [],
   "source": []
  }
 ],
 "metadata": {
  "kernelspec": {
   "display_name": "Python 3 (ipykernel)",
   "language": "python",
   "name": "python3"
  },
  "language_info": {
   "codemirror_mode": {
    "name": "ipython",
    "version": 3
   },
   "file_extension": ".py",
   "mimetype": "text/x-python",
   "name": "python",
   "nbconvert_exporter": "python",
   "pygments_lexer": "ipython3",
   "version": "3.9.7"
  }
 },
 "nbformat": 4,
 "nbformat_minor": 5
}
