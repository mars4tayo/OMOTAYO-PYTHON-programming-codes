{
 "cells": [
  {
   "cell_type": "markdown",
   "id": "0639b8c6",
   "metadata": {},
   "source": [
    "name=input(str('enter your name'));\n",
    "print(name)"
   ]
  },
  {
   "cell_type": "code",
   "execution_count": 9,
   "id": "d4773a7b",
   "metadata": {},
   "outputs": [
    {
     "name": "stdout",
     "output_type": "stream",
     "text": [
      "Enter your name: guefbirnowm\n",
      "How many items? 4567\n",
      "Cost per item? 456.567\n",
      "guefbirnowm\n",
      "4567\n",
      "456.567\n",
      "2085141.489\n"
     ]
    }
   ],
   "source": [
    "name = input(\"Enter your name: \")\n",
    "quantity = int(input(\"How many items? \"))\n",
    "price = float(input(\"Cost per item? \"))\n",
    "total = quantity * price\n",
    "print(name)\n",
    "print(quantity)\n",
    "print(price)\n",
    "print(total)"
   ]
  },
  {
   "cell_type": "code",
   "execution_count": 10,
   "id": "df9062ff",
   "metadata": {},
   "outputs": [
    {
     "name": "stdout",
     "output_type": "stream",
     "text": [
      "Enter the first name: omotayo\n",
      "Enter the last name: olanusi\n",
      "olanusi, omotayo\n"
     ]
    }
   ],
   "source": [
    "# Read the names from the user\n",
    "first = input(\"Enter the first name: \")\n",
    "last = input(\"Enter the last name: \")\n",
    "# Concatenate the strings\n",
    "both = last + \", \" + first\n",
    "# Display the result\n",
    "print(both)"
   ]
  },
  {
   "cell_type": "code",
   "execution_count": 11,
   "id": "6c3038dd",
   "metadata": {},
   "outputs": [
    {
     "name": "stdout",
     "output_type": "stream",
     "text": [
      "Enter your first name: omotayo\n",
      "Your first name contains 7 characters\n"
     ]
    }
   ],
   "source": [
    "# Read the name from the user\n",
    "first = input(\"Enter your first name: \")\n",
    "# Compute its length\n",
    "num_chars = len(first)\n",
    "# Display the result\n",
    "print(\"Your first name contains\", num_chars, \"characters\")"
   ]
  },
  {
   "cell_type": "code",
   "execution_count": 12,
   "id": "ba3245aa",
   "metadata": {},
   "outputs": [
    {
     "name": "stdout",
     "output_type": "stream",
     "text": [
      "Enter your first name: omotayo\n",
      "Enter your middle name: Alexander\n",
      "Enter your last name: Olanusi\n",
      "Your initials are oAO\n"
     ]
    }
   ],
   "source": [
    "# Read the user’s name\n",
    "first = input(\"Enter your first name: \")\n",
    "middle = input(\"Enter your middle name: \")\n",
    "last = input(\"Enter your last name: \")\n",
    "# Extract the first character from each string and concatenate them\n",
    "initials = first[0] + middle[0] + last[0]\n",
    "# Display the initials\n",
    "print(\"Your initials are\", initials)"
   ]
  },
  {
   "cell_type": "markdown",
   "id": "8e9d8d8a",
   "metadata": {},
   "source": [
    "# Exercises"
   ]
  },
  {
   "cell_type": "markdown",
   "id": "ad6e6aa2",
   "metadata": {},
   "source": [
    "####1 Create a program that displays your name and complete mailing address. The address\n",
    "should be printed in the format that is normally used in the area where you live. Your\n",
    "program does not need to read any input from the user."
   ]
  },
  {
   "cell_type": "code",
   "execution_count": 18,
   "id": "214bf615",
   "metadata": {},
   "outputs": [
    {
     "name": "stdout",
     "output_type": "stream",
     "text": [
      "enter your name:omotayo olanusi\n",
      "enter your email adresse:olanusiomootayo@gmail.com\n",
      "Your name is omotayo olanusi and Your email adresse is olanusiomootayo@gmail.com\n"
     ]
    }
   ],
   "source": [
    "Name=input('enter your name:')\n",
    "email_adresse=input('enter your email adresse:')\n",
    "print(\"Your name is\",Name,\n",
    "     \"and Your email adresse is\", email_adresse)"
   ]
  },
  {
   "cell_type": "markdown",
   "id": "31eccc1f",
   "metadata": {},
   "source": [
    "#####2Write a program that asks the user to enter his or her name. The program should respond with a message that says hello to the user, using his or her name."
   ]
  },
  {
   "cell_type": "code",
   "execution_count": 23,
   "id": "f5e027bb",
   "metadata": {},
   "outputs": [
    {
     "name": "stdout",
     "output_type": "stream",
     "text": [
      "enter your first name:omotayo\n",
      "enter your last name:olanusi\n",
      "hello omotayo olanusi\n"
     ]
    }
   ],
   "source": [
    "firstname=input('enter your first name:')\n",
    "lastname=input('enter your last name:')\n",
    "print('hello' , firstname , lastname)"
   ]
  },
  {
   "cell_type": "markdown",
   "id": "c33c0139",
   "metadata": {},
   "source": [
    "###3 Write a program that asks the user to enter the width and length of a room. Once\n",
    "these values have been read, your program should compute and display the area of\n",
    "the room. The length and the width will be entered as floating-point numbers. Include\n",
    "units in your prompt and output message; either feet or meters, depending on which\n",
    "unit you are more comfortable working with."
   ]
  },
  {
   "cell_type": "code",
   "execution_count": 30,
   "id": "db466af3",
   "metadata": {},
   "outputs": [
    {
     "name": "stdout",
     "output_type": "stream",
     "text": [
      "enter width of room44\n",
      "enter lenght of room44\n",
      "1936.0\n"
     ]
    }
   ],
   "source": [
    "width=float(input('enter width of room'))\n",
    "lenght=float(input('enter lenght of room'))\n",
    "Area=(width*lenght)\n",
    "print(Area)"
   ]
  },
  {
   "cell_type": "markdown",
   "id": "835578ce",
   "metadata": {},
   "source": [
    "####4 Create a program that reads the length and width of a farmer’s field from the user in\n",
    "feet. Display the area of the field in acres."
   ]
  },
  {
   "cell_type": "code",
   "execution_count": 1,
   "id": "dd9b40ed",
   "metadata": {},
   "outputs": [
    {
     "name": "stdout",
     "output_type": "stream",
     "text": [
      "enter width of room2345\n",
      "enter lenght of room54333\n",
      "171.35252703211577 acre\n"
     ]
    }
   ],
   "source": [
    "width=float(input('enter width of room'))\n",
    "lenght=float(input('enter lenght of room'))\n",
    "Area=((width*lenght)/743560)\n",
    "print(Area, 'acre')"
   ]
  },
  {
   "cell_type": "markdown",
   "id": "f9f1ca5d",
   "metadata": {},
   "source": [
    "##Exercise 5: Bottle Deposits In many jurisdictions a small deposit is added to drink containers to encourage people to recycle them. In one particular jurisdiction, drink containers holding one liter or less have a $ 0.10 deposit, and drink containers holding more than one liter have a $0.25 deposit. Write a program that reads the number of containers of each size from the user.Your program should continue by computing and displaying the refund that will be received for returning those containers. Format the output so that it includes a dollar sign and two digits to the right of the decimal point##"
   ]
  },
  {
   "cell_type": "code",
   "execution_count": 11,
   "id": "8b1e76f3",
   "metadata": {},
   "outputs": [
    {
     "name": "stdout",
     "output_type": "stream",
     "text": [
      "enter the number of container > 1 liter=  765\n",
      "enter the number of container =< 1 liter=  43\n",
      "Your total refund is $195.55.\n"
     ]
    }
   ],
   "source": [
    "Large_bottle= int(input('enter the number of container > 1 liter=  '))\n",
    "small_bottle= int(input('enter the number of container =< 1 liter=  '))\n",
    "refund=(Large_bottle*0.25)+(small_bottle*0.1)\n",
    "print('Your total refund is $%.2f.' % refund)"
   ]
  },
  {
   "cell_type": "markdown",
   "id": "77eb3e4b",
   "metadata": {},
   "source": [
    "#########\n",
    "The program that you create for this exercise will begin by reading the cost of a meal\n",
    "ordered at a restaurant from the user. Then your program will compute the tax and\n",
    "tip for the meal. Use your local tax rate when computing the amount of tax owing.\n",
    "Compute the tip as 18 percent of the meal amount (without the tax). The output from\n",
    "your program should include the tax amount, the tip amount, and the grand total for\n",
    "the meal including both the tax and the tip. Format the output so that all of the values\n",
    "are displayed using two decimal places."
   ]
  },
  {
   "cell_type": "code",
   "execution_count": 2,
   "id": "30365bf7",
   "metadata": {},
   "outputs": [
    {
     "name": "stdout",
     "output_type": "stream",
     "text": [
      "eneter the price of the meal = 56\n",
      "eneter the Tax rate of the meal = 77\n",
      "eneter the Tip of the meal = 87\n",
      "The Total amount to paid is =  $9240.00\n"
     ]
    }
   ],
   "source": [
    "cost=float(input('eneter the price of the meal = '))\n",
    "Tax_rate=float(input('eneter the Tax rate of the meal = '))\n",
    "Tip=float(input('eneter the Tip of the meal = '))\n",
    "price=cost*(1+Tax_rate+Tip)\n",
    "print('The Total amount to paid is =  $%.2f' % price)"
   ]
  },
  {
   "cell_type": "markdown",
   "id": "c9ae57cb",
   "metadata": {},
   "source": [
    "Write a program that reads a positive integer, n, from the user and then displays the\n",
    "sum of all of the integers from 1 to n. The sum of the first n positive integers can be\n",
    "computed using the formula:\n",
    "sum = (n)(n + 1)/2"
   ]
  },
  {
   "cell_type": "code",
   "execution_count": 5,
   "id": "3880154c",
   "metadata": {},
   "outputs": [
    {
     "name": "stdout",
     "output_type": "stream",
     "text": [
      "enter the integer = 678\n",
      "the sum of all positive integer in n is  = 230181.00\n"
     ]
    }
   ],
   "source": [
    "number=int(input('enter the integer = '))\n",
    "Sum= number*(number + 1)\n",
    "Total= Sum/2\n",
    "print('the sum of all positive integer in n is  = %.2f' % Total )"
   ]
  },
  {
   "cell_type": "markdown",
   "id": "02b384d9",
   "metadata": {},
   "source": [
    " ##8. An online retailer sells two products: widgets and gizmos. Each widget weighs 75\n",
    "grams. Each gizmo weighs 112 grams. Write a program that reads the number of\n",
    "widgets and the number of gizmos from the user. Then your program should compute\n",
    "and display the total weight of the parts"
   ]
  },
  {
   "cell_type": "code",
   "execution_count": 2,
   "id": "794efbd8",
   "metadata": {},
   "outputs": [
    {
     "name": "stdout",
     "output_type": "stream",
     "text": [
      "Enter the weight of widget:25\n",
      "Enter the weight of gizmos:25\n",
      "Enter the amount of widget:1\n",
      "Enter the amount of gizmos:1\n",
      "The total weight is  = 50.00\n"
     ]
    }
   ],
   "source": [
    "widget=int(input('Enter the weight of widget:'))\n",
    "gizmos=int(input('Enter the weight of gizmos:'))\n",
    "numw=int(input('Enter the amount of widget:'))\n",
    "numg=int(input('Enter the amount of gizmos:'))\n",
    "Total=(widget*numw)+(gizmos*numg)\n",
    "print('The total weight is  = %.2f' %Total)"
   ]
  },
  {
   "cell_type": "raw",
   "id": "6eb4076b",
   "metadata": {},
   "source": [
    "Exercise 9: Compound Interest\n",
    "\n",
    "Pretend that you have just opened a new savings account that earns 4 percent interest\n",
    "per year. The interest that you earn is paid at the end of the year, and is added to the\n",
    "balance of the savings account. Write a program that begins by reading the amount of\n",
    "money deposited into the account from the user. Then your program should compute\n",
    "and display the amount in the savings account after 1, 2, and 3 years. Display each\n",
    "amount so that it is rounded to 2 decimal places."
   ]
  },
  {
   "cell_type": "code",
   "execution_count": 3,
   "id": "9b0344c3",
   "metadata": {},
   "outputs": [
    {
     "name": "stdout",
     "output_type": "stream",
     "text": [
      "enter the principal number:100\n",
      "enter the rate:5\n",
      "enter the time:3\n",
      "The pricipal after one year is =  115.00\n",
      "The pricipal after two year is =  132.25\n",
      "The pricipal after three year is =  152.09\n"
     ]
    }
   ],
   "source": [
    "principal=float(input('enter the principal number:'))\n",
    "rate=float(input('enter the rate:'))\n",
    "time=float(input('enter the time:'))\n",
    "interest=(principal*rate*time)/100\n",
    "principal_1= (principal+interest)\n",
    "print('The pricipal after one year is =  %.2f' %principal_1)\n",
    "interest_1=(principal_1*rate*time)/100\n",
    "principal_2= (principal_1+interest_1)\n",
    "print('The pricipal after two year is =  %.2f' %principal_2)\n",
    "interest_2=(principal_2*rate*time)/100\n",
    "principal_3= (principal_2+interest_2)\n",
    "print('The pricipal after three year is =  %.2f' %principal_3)\n"
   ]
  },
  {
   "cell_type": "raw",
   "id": "c5ae6311",
   "metadata": {},
   "source": [
    "Exercise 10: Arithmetic\n",
    "Create a program that reads two integers, a and b, from the user.Your program should compute and display:\n",
    "• The sum of a and b\n",
    "• The difference when b is subtracted from a\n",
    "• The product of a and b\n",
    "• The quotient when a is divided by b\n",
    "• The remainder when a is divided by b\n",
    "• The result of log10 a\n",
    "• The result of ab"
   ]
  },
  {
   "cell_type": "code",
   "execution_count": 1,
   "id": "523672a9",
   "metadata": {},
   "outputs": [
    {
     "ename": "SyntaxError",
     "evalue": "invalid syntax (Temp/ipykernel_8880/1171941312.py, line 11)",
     "output_type": "error",
     "traceback": [
      "\u001b[1;36m  File \u001b[1;32m\"C:\\Users\\User\\AppData\\Local\\Temp/ipykernel_8880/1171941312.py\"\u001b[1;36m, line \u001b[1;32m11\u001b[0m\n\u001b[1;33m    print(' The result of ab = ', a**b)\u001b[0m\n\u001b[1;37m    ^\u001b[0m\n\u001b[1;31mSyntaxError\u001b[0m\u001b[1;31m:\u001b[0m invalid syntax\n"
     ]
    }
   ],
   "source": [
    "import math\n",
    "a=int(input('Enter the integer:'))\n",
    "b=int(input('Enter the integer:'))\n",
    "\n",
    "print ('The sum of a and b = ', a+b)\n",
    "print('The difference when b is subtracted from a = ',a-b )\n",
    "print(' The product of a and b = ',a*b)\n",
    "print('The quotient when a is divided by b = ',a/b)\n",
    "print('The remainder when a is divided by b = ',a%b)\n",
    "print(' The result of log10 a = ',log(10(a))\n",
    "print(' The result of ab = ', a**b)"
   ]
  },
  {
   "cell_type": "code",
   "execution_count": 15,
   "id": "b4c5877c",
   "metadata": {},
   "outputs": [
    {
     "name": "stdout",
     "output_type": "stream",
     "text": [
      "Enter the integer:4\n",
      "Enter the integer:4\n",
      "4 + 4 is 8\n",
      "4 - 4 is 0\n",
      "4 * 4 is 16\n",
      "4 / 4 is 1.0\n",
      "4 % 4 is 0\n"
     ]
    },
    {
     "ename": "NameError",
     "evalue": "name 'log10' is not defined",
     "output_type": "error",
     "traceback": [
      "\u001b[1;31m---------------------------------------------------------------------------\u001b[0m",
      "\u001b[1;31mNameError\u001b[0m                                 Traceback (most recent call last)",
      "\u001b[1;32m~\\AppData\\Local\\Temp/ipykernel_12512/3883002561.py\u001b[0m in \u001b[0;36m<module>\u001b[1;34m\u001b[0m\n\u001b[0;32m      8\u001b[0m \u001b[0mprint\u001b[0m\u001b[1;33m(\u001b[0m\u001b[0ma\u001b[0m\u001b[1;33m,\u001b[0m \u001b[1;34m\"/\"\u001b[0m\u001b[1;33m,\u001b[0m \u001b[0mb\u001b[0m\u001b[1;33m,\u001b[0m \u001b[1;34m\"is\"\u001b[0m\u001b[1;33m,\u001b[0m \u001b[0ma\u001b[0m \u001b[1;33m/\u001b[0m \u001b[0mb\u001b[0m\u001b[1;33m)\u001b[0m\u001b[1;33m\u001b[0m\u001b[1;33m\u001b[0m\u001b[0m\n\u001b[0;32m      9\u001b[0m \u001b[0mprint\u001b[0m\u001b[1;33m(\u001b[0m\u001b[0ma\u001b[0m\u001b[1;33m,\u001b[0m \u001b[1;34m\"%\"\u001b[0m\u001b[1;33m,\u001b[0m \u001b[0mb\u001b[0m\u001b[1;33m,\u001b[0m \u001b[1;34m\"is\"\u001b[0m\u001b[1;33m,\u001b[0m \u001b[0ma\u001b[0m \u001b[1;33m%\u001b[0m \u001b[0mb\u001b[0m\u001b[1;33m)\u001b[0m\u001b[1;33m\u001b[0m\u001b[1;33m\u001b[0m\u001b[0m\n\u001b[1;32m---> 10\u001b[1;33m \u001b[0mprint\u001b[0m\u001b[1;33m(\u001b[0m\u001b[1;34m\"The base 10 logarithm of\"\u001b[0m\u001b[1;33m,\u001b[0m \u001b[0ma\u001b[0m\u001b[1;33m,\u001b[0m \u001b[1;34m\"is\"\u001b[0m\u001b[1;33m,\u001b[0m \u001b[0mlog10\u001b[0m\u001b[1;33m(\u001b[0m\u001b[0ma\u001b[0m\u001b[1;33m)\u001b[0m\u001b[1;33m)\u001b[0m\u001b[1;33m\u001b[0m\u001b[1;33m\u001b[0m\u001b[0m\n\u001b[0m\u001b[0;32m     11\u001b[0m \u001b[0mprint\u001b[0m\u001b[1;33m(\u001b[0m\u001b[0ma\u001b[0m\u001b[1;33m,\u001b[0m \u001b[1;34m\"ˆ\"\u001b[0m\u001b[1;33m,\u001b[0m \u001b[0mb\u001b[0m\u001b[1;33m,\u001b[0m \u001b[1;34m\"is\"\u001b[0m\u001b[1;33m,\u001b[0m \u001b[0ma\u001b[0m\u001b[1;33m**\u001b[0m\u001b[0mb\u001b[0m\u001b[1;33m)\u001b[0m\u001b[1;33m\u001b[0m\u001b[1;33m\u001b[0m\u001b[0m\n",
      "\u001b[1;31mNameError\u001b[0m: name 'log10' is not defined"
     ]
    }
   ],
   "source": [
    "import math\n",
    "a=int(input('Enter the integer:'))\n",
    "b=int(input('Enter the integer:'))\n",
    "\n",
    "print(a, \"+\", b, \"is\", a + b)\n",
    "print(a, \"-\", b, \"is\", a - b)\n",
    "print(a, \"*\", b, \"is\", a * b)\n",
    "print(a, \"/\", b, \"is\", a / b)\n",
    "print(a, \"%\", b, \"is\", a % b)\n",
    "print(\"The base 10 logarithm of\", a, \"is\", log10(a))\n",
    "print(a, \"ˆ\", b, \"is\", a**b)"
   ]
  },
  {
   "cell_type": "markdown",
   "id": "188d175a",
   "metadata": {},
   "source": [
    "Exercise 11: Fuel Efficiency\n",
    "(13 Lines)\n",
    "In the United States, fuel efficiency for vehicles is normally expressed in miles-pergallon\n",
    "(MPG). In Canada, fuel efficiency is normally expressed in liters-per-hundred\n",
    "kilometers (L/100 km). Use your research skills to determine how to convert from\n",
    "MPGto L/100 km. Then create a program that reads a value from the user in American\n",
    "units and displays the equivalent fuel efficiency in Canadian units."
   ]
  },
  {
   "cell_type": "code",
   "execution_count": 22,
   "id": "f2a50b63",
   "metadata": {},
   "outputs": [
    {
     "name": "stdout",
     "output_type": "stream",
     "text": [
      "Enter the America fuel efficiency :66\n",
      "The canda fuel efficency is =  1.55\n"
     ]
    }
   ],
   "source": [
    "a=int(input('Enter the America fuel efficiency :'))\n",
    "c=a*(0.01)/0.4251\n",
    "print('The canda fuel efficency is =  %.2f' %c)"
   ]
  },
  {
   "cell_type": "markdown",
   "id": "c4c46310",
   "metadata": {},
   "source": [
    "# DecisionMaking"
   ]
  },
  {
   "cell_type": "code",
   "execution_count": 24,
   "id": "b0c09f6a",
   "metadata": {},
   "outputs": [
    {
     "name": "stdout",
     "output_type": "stream",
     "text": [
      "Enter a number: 7\n",
      "The number was not zero\n"
     ]
    }
   ],
   "source": [
    "# Read a number from the user\n",
    "num = float(input(\"Enter a number: \"))\n",
    "# Store the appropriate message in result\n",
    "if num == 0:\n",
    "    result = \"The number was zero\"\n",
    "if num != 0:\n",
    "    result = \"The number was not zero\"\n",
    "# Display the message\n",
    "print(result)"
   ]
  },
  {
   "cell_type": "code",
   "execution_count": 25,
   "id": "e18c8486",
   "metadata": {},
   "outputs": [
    {
     "name": "stdout",
     "output_type": "stream",
     "text": [
      "Enter a number: 23\n",
      "The number was not zero\n"
     ]
    }
   ],
   "source": [
    "# Read a number from the user\n",
    "num = float(input(\"Enter a number: \"))\n",
    "# Store the appropriate message in result\n",
    "if num == 0:\n",
    "    result = \"The number was zero\"\n",
    "else:\n",
    "    result = \"The number was not zero\"\n",
    "# Display the message\n",
    "print(result)"
   ]
  },
  {
   "cell_type": "code",
   "execution_count": 26,
   "id": "872c1a60",
   "metadata": {},
   "outputs": [
    {
     "name": "stdout",
     "output_type": "stream",
     "text": [
      "Enter a number: 7\n",
      "That’s a positive number\n"
     ]
    }
   ],
   "source": [
    "# Read a number from the user\n",
    "num = float(input(\"Enter a number: \"))\n",
    "# Store the appropriate message in result\n",
    "if num > 0:\n",
    "    result = \"That’s a positive number\"\n",
    "elif num < 0:\n",
    "    result = \"That’s a negative number\"\n",
    "else:\n",
    "    result = \"That’s zero\"\n",
    "# Display the message\n",
    "print(result)"
   ]
  },
  {
   "cell_type": "code",
   "execution_count": 27,
   "id": "c2b5f7a2",
   "metadata": {},
   "outputs": [
    {
     "name": "stdout",
     "output_type": "stream",
     "text": [
      "Enter a number: 65\n",
      "That’s a positive number\n"
     ]
    }
   ],
   "source": [
    "# Read a number from the user\n",
    "num = float(input(\"Enter a number: \"))\n",
    "# Store the appropriate message in result\n",
    "if num > 0:\n",
    "# Determine what adjective should be used to describe the number\n",
    "    adjective = \" \"\n",
    "    if num >= 1000000:\n",
    "        adjective = \" really big \"\n",
    "    elif num >= 1000:\n",
    "        adjective = \" big \"\n",
    "# Store the message for positive numbers including the appropriate adjective\n",
    "        result = \"That’s a\" + adjective + \"positive number\"\n",
    "elif num < 0:\n",
    "    result = \"That’s a negative number\"\n",
    "else:\n",
    "    result = \"That’s zero\"\n",
    "# Display the message\n",
    "print(result)"
   ]
  },
  {
   "cell_type": "code",
   "execution_count": 28,
   "id": "66e20551",
   "metadata": {},
   "outputs": [
    {
     "name": "stdout",
     "output_type": "stream",
     "text": [
      "Enter an integer: 7\n",
      "That’s one of the first 5 primes.\n"
     ]
    }
   ],
   "source": [
    "# Read an integer from the user\n",
    "x = int(input(\"Enter an integer: \"))\n",
    "# Determine if it is one of the first 5 primes and report the result\n",
    "if x == 2 or x == 3 or x == 5 or x == 7 or x == 11:\n",
    "    print(\"That’s one of the first 5 primes.\")\n",
    "else:\n",
    "    print(\"That is not one of the first 5 primes.\")"
   ]
  },
  {
   "cell_type": "markdown",
   "id": "eb3042c6",
   "metadata": {},
   "source": [
    "# Exercise"
   ]
  },
  {
   "cell_type": "markdown",
   "id": "4453f6b5",
   "metadata": {},
   "source": [
    "Write a program that reads an integer from the user. Then your program should\n",
    "display a message indicating whether the integer is even or odd."
   ]
  },
  {
   "cell_type": "code",
   "execution_count": 32,
   "id": "94427a4b",
   "metadata": {},
   "outputs": [
    {
     "name": "stdout",
     "output_type": "stream",
     "text": [
      "Enter a number: 5\n",
      "That’s a odd number\n"
     ]
    }
   ],
   "source": [
    "# Read a number from the user\n",
    "num = int(input(\"Enter a number: \"))\n",
    "# Store the appropriate message in result\n",
    "if num%2==1:\n",
    "    result = \"That’s a odd number\"\n",
    "else:\n",
    "    result = \"That’s a even number\"\n",
    "# Display the message\n",
    "print(result)"
   ]
  },
  {
   "cell_type": "markdown",
   "id": "fec5c6ab",
   "metadata": {},
   "source": [
    "It is commonly said that one human year is equivalent to 7 dog years. However this\n",
    "simple conversion fails to recognize that dogs reach adulthood in approximately two\n",
    "years. As a result, some people believe that it is better to count each of the first two\n",
    "human years as 10.5 dog years, and then count each additional human year as 4 dog\n",
    "years.\n",
    "Write a program that implements the conversion from human years to dog years\n",
    "described in the previous paragraph. Ensure that your program works correctly for\n",
    "conversions of less than two human years and for conversions of two or more human\n",
    "years. Your program should display an appropriate error message if the user enters\n",
    "a negative number."
   ]
  },
  {
   "cell_type": "markdown",
   "id": "da492162",
   "metadata": {},
   "source": [
    "In this exercise you will create a program that reads a letter of the alphabet from the\n",
    "user. If the user enters a, e, i, o or u then your program should display a message\n",
    "indicating that the entered letter is a vowel. If the user enters y then your program\n",
    "should display a message indicating that sometimes y is a vowel, and sometimes y is\n",
    "a consonant. Otherwise your program should display a message indicating that the\n",
    "letter is a consonant."
   ]
  },
  {
   "cell_type": "code",
   "execution_count": 14,
   "id": "01b74b67",
   "metadata": {},
   "outputs": [
    {
     "name": "stdout",
     "output_type": "stream",
     "text": [
      "Enter a letter: h\n",
      "it is a consonant\n"
     ]
    }
   ],
   "source": [
    "letter= str(input(\"Enter a letter: \"))\n",
    "if letter=='a' or letter=='e' or letter=='i' or letter=='o' or letter=='u':\n",
    "    print ('letter is a vowel')\n",
    "elif letter=='y':\n",
    "    print('it is a vowel or a consonant')\n",
    "else:\n",
    "    print('it is a consonant')"
   ]
  },
  {
   "cell_type": "markdown",
   "id": "29d3822c",
   "metadata": {},
   "source": [
    "Write a program that determines the name of a shape from its number of sides. Read\n",
    "the number of sides from the user and then report the appropriate name as part of\n",
    "a meaningful message. Your program should support shapes with anywhere from 3\n",
    "up to (and including) 10 sides. If a number of sides outside of this range is entered\n",
    "then your program should display an appropriate error message."
   ]
  },
  {
   "cell_type": "code",
   "execution_count": 1,
   "id": "7ffc15a2",
   "metadata": {},
   "outputs": [
    {
     "name": "stdout",
     "output_type": "stream",
     "text": [
      "Enter a number of sides: 6\n",
      "hexagon\n"
     ]
    }
   ],
   "source": [
    "sides= int(input(\"Enter a number of sides: \"))\n",
    "if sides==3:\n",
    "    print('Trinagle')\n",
    "elif sides==4:\n",
    "    print('square')\n",
    "elif sides==5:\n",
    "    print('pentagon')\n",
    "elif sides==6:\n",
    "    print('hexagon')\n",
    "elif sides==7:\n",
    "    print('heptagon')\n",
    "elif sides==8:\n",
    "    print('octagon')\n",
    "elif sides==9:\n",
    "    print('nonagon')\n",
    "elif sides==10:\n",
    "    print('dexagon')\n",
    "else:\n",
    "    print('that number of sides is not supported by this program')"
   ]
  },
  {
   "cell_type": "code",
   "execution_count": 5,
   "id": "77e8a482",
   "metadata": {},
   "outputs": [
    {
     "name": "stdout",
     "output_type": "stream",
     "text": [
      "Enter the number of sides: 6\n",
      "That’s a hexagon\n"
     ]
    }
   ],
   "source": [
    "## # Report the name of a shape from its number of sides. #\n",
    "# Read the number of sides from the user \n",
    "nsides = int(input(\"Enter the number of sides: \"))\n",
    "# Determine the name, leaving it empty if an unsupported number of sides was entered \n",
    "name = \"\" \n",
    "if nsides == 3:\n",
    "    name = \"triangle\"\n",
    "elif nsides == 4:\n",
    "    name = \"quadrilateral\"\n",
    "elif nsides == 5:\n",
    "    name = \"pentagon\"\n",
    "elif nsides == 6:\n",
    "    name = \"hexagon\"\n",
    "elif nsides == 7:\n",
    "    name = \"heptagon\"\n",
    "elif nsides == 8:\n",
    "    name = \"octagon\"\n",
    "elif nsides == 9:\n",
    "    name = \"nonagon\"\n",
    "elif nsides == 10:\n",
    "    name = \"decagon\"\n",
    "# Display an error message or the name of the polygon \n",
    "if name == \"\": \n",
    "    print(\"That number of sides is not supported by this program.\")\n",
    "else:\n",
    "    print(\"That’s a\", name)"
   ]
  },
  {
   "cell_type": "markdown",
   "id": "d995c567",
   "metadata": {},
   "source": [
    "The length of a month varies from 28 to 31 days. In this exercise you will create\n",
    "a program that reads the name of a month from the user as a string. Then your\n",
    "program should display the number of days in that month. Display “28 or 29 days”\n",
    "for February so that leap years are addressed.\n"
   ]
  },
  {
   "cell_type": "code",
   "execution_count": null,
   "id": "943af7c3",
   "metadata": {},
   "outputs": [],
   "source": [
    "month = input(\"Enter the name of the month: \")\n",
    "day=30\n",
    "if month=='September' or month=='April' or month=='June' or month=='November':\n",
    "    day=30\n",
    "elif month=='febuaray':\n",
    "    day= '28 or 29'\n",
    "\n",
    "print (day)"
   ]
  },
  {
   "cell_type": "raw",
   "id": "704df8d6",
   "metadata": {},
   "source": [
    "A triangle can be classified based on the lengths of its sides as equilateral, isosceles or\n",
    "scalene. All three sides of an equilateral triangle have the same length. An isosceles\n",
    "triangle has two sides that are the same length, and a third side that is a different\n",
    "length. If all of the sides have different lengths then the triangle is scalene.\n",
    "Write a program that reads the lengths of the three sides of a triangle from the\n",
    "user. Then display a message that states the triangle’s type.\n"
   ]
  },
  {
   "cell_type": "code",
   "execution_count": 3,
   "id": "d1c57d28",
   "metadata": {},
   "outputs": [
    {
     "name": "stdout",
     "output_type": "stream",
     "text": [
      "Enter the size of side: 3\n",
      "Enter the size of side: 4\n",
      "Enter the size of side: 3\n",
      "That’s a isosceles triangle\n"
     ]
    }
   ],
   "source": [
    "x= int(input(\"Enter the size of side 1: \"))\n",
    "y= int(input(\"Enter the size of side 2: \"))\n",
    "z= int(input(\"Enter the size of side 3: \"))\n",
    "if x==y==z:\n",
    "    triangle=\"equilateral triangle\"\n",
    "elif x==y or y==z or x==z:\n",
    "    triangle= \"isosceles\"\n",
    "else: \n",
    "    triangle=\"scalene\"\n",
    "print(\"That’s a\", triangle, \"triangle\")"
   ]
  },
  {
   "cell_type": "markdown",
   "id": "784fa514",
   "metadata": {},
   "source": [
    "The following table lists an octave of music notes, beginning with middle C, along\n",
    "with their frequencies. \n",
    "Note Frequency (Hz)\n",
    "C4   261.63\n",
    "D4   293.66\n",
    "E4   329.63\n",
    "F4   349.23\n",
    "G4   392.00\n",
    "A4   440.00\n",
    "B4   493.88\n",
    "Begin by writing a program that reads the name of a note from the user and\n",
    "displays the note’s frequency. Your program should support all of the notes listed\n",
    "previously.\n",
    "Once you have your program working correctly for the notes listed previously\n",
    "you should add support for all of the notes from C0 to C8. While this could be\n",
    "done by adding many additional cases to your if statement, such a solution is\n",
    "cumbersome, inelegant and unacceptable for the purposes of this exercise. Instead,\n",
    "you should exploit the relationship between notes in adjacent octaves. In particular,\n",
    "the frequency of any note in octave n is half the frequency of the corresponding\n",
    "note in octave n + 1. By using this relationship, you should be able to\n",
    "add support for the additional notes without adding additional cases to your if\n",
    "statement."
   ]
  },
  {
   "cell_type": "code",
   "execution_count": 6,
   "id": "d67d881c",
   "metadata": {},
   "outputs": [
    {
     "name": "stdout",
     "output_type": "stream",
     "text": [
      "Enter the type of note: E4\n",
      "That’s a 329.63 frequency\n"
     ]
    }
   ],
   "source": [
    "## # Report the note frequency from its type of note #\n",
    "# Read the type of note from the user \n",
    "note = str(input(\"Enter the type of note: \"))\n",
    "# Determine the name, leaving it empty if an unsupported number of sides was entered \n",
    "frequency = \"\" \n",
    "if note == \"C4\":\n",
    "    frequency = 261.63\n",
    "elif note == \"D4\":\n",
    "    frequency = 293.66\n",
    "elif note == \"E4\":\n",
    "    frequency = 329.63\n",
    "elif note == \"F4\":\n",
    "    frequency = 349.23\n",
    "elif note == \"G4\":\n",
    "    frequency = 392.00\n",
    "elif note == \"A4\":\n",
    "    frequency = 440.00\n",
    "elif note == \"B4\":\n",
    "    frequency = 493.88\n",
    "# Display an error message or the name of the polygon \n",
    "if note == \"\": \n",
    "    print(\"That note is not supported by this program.\")\n",
    "else:\n",
    "    print(\"That’s a\", frequency,\"frequency\")"
   ]
  },
  {
   "cell_type": "code",
   "execution_count": 12,
   "id": "f69c4a78",
   "metadata": {},
   "outputs": [
    {
     "name": "stdout",
     "output_type": "stream",
     "text": [
      "Enter the two character note name, such as C4: Z100\n",
      "The frequency of Z100 is 196.0\n"
     ]
    }
   ],
   "source": [
    "##\n",
    "# Convert the name of a note to its frequency.\n",
    "#\n",
    "C4_FREQ = 261.63\n",
    "D4_FREQ = 293.66\n",
    "E4_FREQ = 329.63\n",
    "F4_FREQ = 349.23\n",
    "G4_FREQ = 392.00\n",
    "A4_FREQ = 440.00\n",
    "B4_FREQ = 493.88\n",
    "# Read the note name from the user\n",
    "name = input(\"Enter the two character note name, such as C4: \")\n",
    "# Store the note and its octave in separate variables\n",
    "note = name[0]\n",
    "octave = int(name[1])\n",
    "# Get the frequency of the note, assuming it is in the fourth octave\n",
    "if note == \"C\":\n",
    "    freq = C4_FREQ\n",
    "elif note == \"D\":\n",
    "    freq = D4_FREQ\n",
    "elif note == \"E\":\n",
    "    freq = E4_FREQ\n",
    "elif note == \"F\":\n",
    "    freq = F4_FREQ\n",
    "elif note == \"G\":\n",
    "    freq = G4_FREQ\n",
    "elif note == \"A\":\n",
    "    freq = A4_FREQ\n",
    "elif note == \"B\":\n",
    "    freq = B4_FREQ\n",
    "# Now adjust the frequency to bring it into the correct octave\n",
    "freq = freq / 2 ** (4 - octave)\n",
    "# Display the result\n",
    "print(\"The frequency of\", name, \"is\", freq)"
   ]
  },
  {
   "cell_type": "markdown",
   "id": "0953f315",
   "metadata": {},
   "source": [
    "In the previous question you converted from a note’s name to its frequency. In this\n",
    "question you will write a program that reverses that process. Begin by reading a\n",
    "frequency from the user. If the frequency is within one Hertz of a value listed in\n",
    "the table in the previous question then report the name of the corresponding note.\n",
    "Otherwise report that the frequency does not correspond to a known note. In this\n",
    "exercise you only need to consider the notes listed in the table. There is no need to\n",
    "consider notes from other octaves."
   ]
  },
  {
   "cell_type": "code",
   "execution_count": 15,
   "id": "fae1918e",
   "metadata": {},
   "outputs": [
    {
     "name": "stdout",
     "output_type": "stream",
     "text": [
      "Enter a frequency (Hz): 22\n",
      "There is no note that corresponds to that frequency.\n"
     ]
    }
   ],
   "source": [
    "##\n",
    "# Read a frequency from the user and display the note (if any) that it corresponds to.\n",
    "#\n",
    "C4_FREQ = 261.63\n",
    "D4_FREQ = 293.66\n",
    "E4_FREQ = 329.63\n",
    "F4_FREQ = 349.23\n",
    "G4_FREQ = 392.00\n",
    "A4_FREQ = 440.00\n",
    "B4_FREQ = 493.88\n",
    "LIMIT = 1\n",
    "# Read the frequency from the user\n",
    "freq = float(input(\"Enter a frequency (Hz): \"))\n",
    "# Determine the note that corresponds to the entered frequency. Set note equal to the empty\n",
    "# string if there isn’t a match.\n",
    "if freq >= C4_FREQ - LIMIT and freq <= C4_FREQ + LIMIT:\n",
    "    note = \"C4\"\n",
    "elif freq >= D4_FREQ - LIMIT and freq <= D4_FREQ + LIMIT:\n",
    "    note = \"D4\"\n",
    "elif freq >= E4_FREQ - LIMIT and freq <= E4_FREQ + LIMIT:\n",
    "    note = \"E4\"\n",
    "elif freq >= F4_FREQ - LIMIT and freq <= F4_FREQ + LIMIT:\n",
    "    note = \"F4\"\n",
    "elif freq >= G4_FREQ - LIMIT and freq <= G4_FREQ + LIMIT:\n",
    "    note = \"G4\"\n",
    "elif freq >= A4_FREQ - LIMIT and freq <= A4_FREQ + LIMIT:\n",
    "    note = \"A4\"\n",
    "elif freq >= B4_FREQ - LIMIT and freq <= B4_FREQ + LIMIT:\n",
    "    note = \"B4\"\n",
    "else:\n",
    "    note = \"\"\n",
    "# Display the result, or an appropriate error message\n",
    "if note == \"\":\n",
    "    print(\"There is no note that corresponds to that frequency.\")\n",
    "else:\n",
    "    print(\"That frequency is\", note)"
   ]
  },
  {
   "cell_type": "markdown",
   "id": "afc09b1b",
   "metadata": {},
   "source": [
    "The year is divided into four seasons: spring, summer, fall (or autumn) and winter.\n",
    "While the exact dates that the seasons change vary a little bit from year to year\n",
    "because of the way that the calendar is constructed, we will use the following dates\n",
    "for this exercise:\n",
    "Season First Day\n",
    "Spring March 20\n",
    "Summer June 21\n",
    "Fall September 22\n",
    "Winter December 21\n",
    "Create a program that reads a month and day from the user. The user will\n",
    "enter the name of the month as a string, followed by the day within the month as an\n",
    "integer. Then your program should display the season associated with the date that\n",
    "was entered."
   ]
  },
  {
   "cell_type": "code",
   "execution_count": 26,
   "id": "2bc2fccb",
   "metadata": {},
   "outputs": [
    {
     "name": "stdout",
     "output_type": "stream",
     "text": [
      "enter the month:may\n",
      "enter the day:12\n",
      "The season is spring\n"
     ]
    }
   ],
   "source": [
    "# we read the season and the month\n",
    "#spring= \"march 20\"\n",
    "#summer=\"june 21\"\n",
    "#fall=\"september 22\"\n",
    "#winter=\"december 21\"\n",
    "#input from the user\n",
    "month=str(input(\"enter the month:\"))\n",
    "day=int(input(\"enter the day:\"))\n",
    "if month==\"january\" or month==\"febuary\":\n",
    "    season=\"winter\"\n",
    "elif month==\"march\":\n",
    "    if day<20:\n",
    "        season=\"winter\"\n",
    "    else: season=\"spring\"\n",
    "    \n",
    "elif month==\"April\" or month==\"may\":\n",
    "    season=\"spring\"\n",
    "elif month==\"june\":\n",
    "        if day<21:\n",
    "            season=\"spring\"\n",
    "        else:season==\"summer\"\n",
    "elif month==\"july\" or month==\"august\":\n",
    "    season=\"summer\"\n",
    "elif month==\"september\":\n",
    "            if day<22:\n",
    "                season=summer\n",
    "            else: season=\"fall\"\n",
    "elif month==\"october\" or month==\"november\":\n",
    "    season=\"fall\"\n",
    "elif month==\"december\":\n",
    "            if day<21:\n",
    "                season=\"fall\"\n",
    "            else: season=winter\n",
    "print(\"The season is\",season)\n",
    "    "
   ]
  },
  {
   "cell_type": "markdown",
   "id": "d819d77f",
   "metadata": {},
   "source": [
    "The Chinese zodiac assigns animals to years in a 12 year cycle. One 12 year cycle is\n",
    "shown in the table below. The pattern repeats from there, with 2012 being another\n",
    "year of the dragon, and 1999 being another year of the hare.\n",
    "Year Animal\n",
    "2000 Dragon\n",
    "2001 Snake\n",
    "2002 Horse\n",
    "2003 Sheep\n",
    "2004 Monkey\n",
    "2005 Rooster\n",
    "2006 Dog\n",
    "2007 Pig\n",
    "2008 Rat\n",
    "2009 Ox\n",
    "2010 Tiger\n",
    "2011 Hare\n",
    "Write a program that reads a year from the user and displays the animal associated\n",
    "with that year. Your program should work correctly for any year greater than or equal\n",
    "to zero, not just the ones listed in the table."
   ]
  },
  {
   "cell_type": "code",
   "execution_count": 29,
   "id": "6d3f0a00",
   "metadata": {},
   "outputs": [
    {
     "name": "stdout",
     "output_type": "stream",
     "text": [
      "Enter a year: 1\n",
      "1 is the year of the Rooster.\n"
     ]
    }
   ],
   "source": [
    "##\n",
    "# Determine the animal associated with a year according to the Chinese zodiac.\n",
    "#\n",
    "# Read a year from the user\n",
    "year = int(input(\"Enter a year: \"))\n",
    "# Determine the animal associated with that year\n",
    "if year % 12 == 8:\n",
    "    animal = \"Dragon\"\n",
    "elif year % 12 == 9:\n",
    "    animal = \"Snake\"\n",
    "elif year % 12 == 10:\n",
    "    animal = \"Horse\"\n",
    "elif year % 12 == 11:\n",
    "    animal = \"Sheep\"\n",
    "elif year % 12 == 0:\n",
    "    animal = \"Monkey\"\n",
    "elif year % 12 == 1:\n",
    "    animal = \"Rooster\"\n",
    "elif year % 12 == 2:\n",
    "    animal = \"Dog\"\n",
    "elif year % 12 == 3:\n",
    "    animal = \"Pig\"\n",
    "elif year % 12 == 4:\n",
    "    animal = \"Rat\"\n",
    "elif year % 12 == 5:\n",
    "    animal = \"Ox\"\n",
    "elif year % 12 == 6:\n",
    "    animal = \"Tiger\"\n",
    "elif year % 12 == 7:\n",
    "    animal = \"Hare\"\n",
    "# Report the result\n",
    "print(\"%d is the year of the %s.\" % (year, animal))\n"
   ]
  },
  {
   "cell_type": "code",
   "execution_count": 30,
   "id": "e768505a",
   "metadata": {},
   "outputs": [
    {
     "name": "stderr",
     "output_type": "stream",
     "text": [
      "Matplotlib is building the font cache; this may take a moment.\n"
     ]
    },
    {
     "data": {
      "image/png": "[encoded data removed]",
      "text/plain": [
       "<Figure size 432x288 with 1 Axes>"
      ]
     },
     "metadata": {
      "needs_background": "light"
     },
     "output_type": "display_data"
    }
   ],
   "source": [
    "import numpy as np\n",
    "import matplotlib.pyplot as plot\n",
    "# Get x values of the sine wave\n",
    "time = np.linspace(-2*np.pi, 2*np.pi, 256, endpoint=True)\n",
    "# Amplitude of the sine wave is sine of a variable like time\n",
    "amplitude_sin = np.sin(time)\n",
    "amplitude_cos = np.cos(time)\n",
    "# Plot a sine wave using time and amplitude obtained for the sine wave\n",
    "plot.plot(time, amplitude_sin)\n",
    "plot.plot(time, amplitude_cos)\n",
    "# Give a title for the sine wave plot\n",
    "plot.title('Sine & Cos wave')\n",
    "# Give x axis label for the sine wave plot\n",
    "plot.xlabel('Time')\n",
    "# Give y axis label for the sine wave plot\n",
    "plot.ylabel('Amplitude')\n",
    "plot.grid(True, which='both')\n",
    "plot.axhline(y=0, color='k')\n",
    "plot.show()"
   ]
  },
  {
   "cell_type": "raw",
   "id": "280a0679",
   "metadata": {},
   "source": [
    "At a particular university, letter grades are mapped to grade points in the following manner:\n",
    "Letter Grade Points \n",
    "A+     4.0 \n",
    "A      4.0 \n",
    "A-     3.7\n",
    "B+     3.3\n",
    "B      3.0\n",
    "B-     2.7\n",
    "C+     2.3\n",
    "C      2.0\n",
    "C-     1.7\n",
    "D+     1.3\n",
    "D      1.0\n",
    "F      0\n",
    "Write a program that begins by reading a letter grade from the user. Then your\n",
    "program should compute and display the equivalent number of grade points. Ensure\n",
    "that your program generates an appropriate error message if the user enters an invalid\n",
    "letter grade.\n"
   ]
  },
  {
   "cell_type": "code",
   "execution_count": 10,
   "id": "97b85b92",
   "metadata": {},
   "outputs": [
    {
     "name": "stdout",
     "output_type": "stream",
     "text": [
      "Enter a grade: a+\n",
      "The grade of  A+ is 4.0\n"
     ]
    }
   ],
   "source": [
    "##\n",
    "# Determine the animal associated with a year according to the Chinese zodiac.\n",
    "#\n",
    "# Read a year from the user\n",
    "letter = str(input(\"Enter a grade: \"))\n",
    "letter = letter.upper()\n",
    "# Determine the animal associated with that year\n",
    "if letter == 'A+':\n",
    "    grade = 4.0\n",
    "elif letter == 'A':\n",
    "    animal = 4.0\n",
    "elif letter == 'A-':\n",
    "    grade = 3.7\n",
    "elif letter == 'B+':\n",
    "    grade = 3.3\n",
    "elif letter == 'B':\n",
    "    grade = 3.0\n",
    "elif letter == 'B-':\n",
    "    grade = 2.7\n",
    "elif letter == 'C+':\n",
    "    grade = 2.3\n",
    "elif letter == 'C':\n",
    "    grade = 2.0\n",
    "elif letter == 'C-':\n",
    "    grade = 1.7\n",
    "elif letter == 'D+':\n",
    "    grade = 1.3\n",
    "elif letter == 'D':\n",
    "    animal = 1.0\n",
    "elif letter == 'F':\n",
    "    grade = 0\n",
    "else:\n",
    "    grade='invalid'\n",
    "# Report the result\n",
    "print(\"The grade of \",letter,'is', grade)"
   ]
  },
  {
   "cell_type": "code",
   "execution_count": 9,
   "id": "f1defa2e",
   "metadata": {},
   "outputs": [
    {
     "name": "stdout",
     "output_type": "stream",
     "text": [
      "Enter a letter grade: d-\n",
      "That wasn’t a valid letter grade.\n"
     ]
    }
   ],
   "source": [
    "##\n",
    "# Convert from a letter grade to a number of grade points.\n",
    "#\n",
    "A = 4.0\n",
    "A_MINUS = 3.7\n",
    "B_PLUS = 3.3\n",
    "B = 3.0\n",
    "B_MINUS = 2.7\n",
    "C_PLUS = 2.3\n",
    "C = 2.0\n",
    "C_MINUS = 1.7\n",
    "D_PLUS = 1.3\n",
    "D = 1.0\n",
    "F =0\n",
    "INVALID = -1\n",
    "# Read the letter grade from the user\n",
    "letter = input(\"Enter a letter grade: \")\n",
    "letter = letter.upper()\n",
    "# Convert from a letter grade to a number of grade points using -1 grade points as a sentinel\n",
    "# value indicating invalid input\n",
    "if letter == \"A+\" or letter == \"A\":\n",
    "    gp = A\n",
    "elif letter == \"A-\":\n",
    "    gp = A_MINUS\n",
    "elif letter == \"B+\":\n",
    "    gp = B_PLUS\n",
    "elif letter == \"B\":\n",
    "    gp = B\n",
    "elif letter == \"B-\":\n",
    "    gp = B_MINUS\n",
    "elif letter == \"C+\":\n",
    "    gp = C_PLUS\n",
    "elif letter == \"C\":\n",
    "    gp = C\n",
    "elif letter == \"C-\":\n",
    "    gp = C_MINUS\n",
    "elif letter == \"D+\":\n",
    "    gp = D_PLUS\n",
    "elif letter == \"D\":\n",
    "    gp = D\n",
    "elif letter == \"F\":\n",
    "    gp = F\n",
    "else:\n",
    "    gp = INVALID\n",
    "# Report the result\n",
    "if gp == INVALID:\n",
    "    print(\"That wasn’t a valid letter grade.\")\n",
    "else:\n",
    "    print(\"A(n)\", letter, \"is equal to\", gp, \"grade points.\")"
   ]
  },
  {
   "cell_type": "raw",
   "id": "4db13614",
   "metadata": {},
   "source": [
    "At a particular company, employees are rated at the end of each year. The rating scale\n",
    "begins at 0.0, with higher values indicating better performance and resulting in larger\n",
    "raises. The value awarded to an employee is either 0.0, 0.4, or 0.6 or more. Values\n",
    "between 0.0 and 0.4, and between 0.4 and 0.6 are never used. The meaning associated\n",
    "with each rating is shown in the following table. The amount of an employee’s raise\n",
    "is $2,400.00 multiplied by their rating.\n",
    "Rating                  Meaning\n",
    "0.0                     Unacceptable Performance\n",
    "0.4                     Acceptable Performance\n",
    "0.6                     Meritorious Performance\n",
    "Write a program that reads a rating from the user and indicates whether the performance for that rating is unacceptable, acceptable or meritorious. The amount\n",
    "of the employee’s raise should also be reported. Your program should display an\n",
    "appropriate error message if an invalid rating is entered."
   ]
  },
  {
   "cell_type": "code",
   "execution_count": 20,
   "id": "3370aa40",
   "metadata": {},
   "outputs": [
    {
     "name": "stdout",
     "output_type": "stream",
     "text": [
      "Enter rating:1\n",
      "Meritorious Performance, your raise is $ 2400.0\n"
     ]
    }
   ],
   "source": [
    "rating=float(input('Enter rating:'))\n",
    "if rating<=0.0 or rating<0.4:\n",
    "    print(' Unacceptable Performance')\n",
    "elif rating==0.4 or rating<=0.6:\n",
    "    print(' Acceptable Performance')\n",
    "else:\n",
    "    Raise=2400.00*rating\n",
    "    print('Meritorious Performance, your raise is','$',Raise)"
   ]
  },
  {
   "cell_type": "raw",
   "id": "f807b557",
   "metadata": {},
   "source": [
    "Most years have 365 days. However, the time required for the Earth to orbit the Sun\n",
    "is actually slightly more than that. As a result, an extra day, February 29, is included\n",
    "in some years to correct for this difference. Such years are referred to as leap years.\n",
    "The rules for determining whether or not a year is a leap year follow:\n",
    "• Any year that is divisible by 400 is a leap year.\n",
    "• Of the remaining years, any year that is divisible by 100 is not a leap year.\n",
    "• Of the remaining years, any year that is divisible by 4 is a leap year.\n",
    "• All other years are not leap years.\n",
    "Write a program that reads a year from the user and displays a message indicating\n",
    "whether or not it is a leap year.\n",
    "\n",
    "hint: Leap Years are any year that can be exactly divided by 4 (such as 2016, 2020, 2024, etc) except if it can be exactly divided by 100, then it isn't (such as 2100, 2200, etc) except if it can be exactly divided by 400, then it is (such as 2000, 2400)"
   ]
  },
  {
   "cell_type": "code",
   "execution_count": 32,
   "id": "de375461",
   "metadata": {},
   "outputs": [
    {
     "name": "stdout",
     "output_type": "stream",
     "text": [
      "enter year2100\n",
      "This year is not a leap year\n"
     ]
    }
   ],
   "source": [
    "Year=int(input('enter year'))\n",
    "if Year%400==0:\n",
    "    LeapYear=True\n",
    "elif Year%100==0:\n",
    "    LeapYear=False\n",
    "elif Year%100==0:\n",
    "    LeapYear=True\n",
    "else:\n",
    "    LeapYear=False\n",
    "if  LeapYear==True:\n",
    "    print ('This year is a leap year')\n",
    "else:\n",
    "    print ('This year is not a leap year')"
   ]
  },
  {
   "cell_type": "markdown",
   "id": "6a23c5c6",
   "metadata": {},
   "source": [
    "In a particular jurisdiction, older license plates consist of three uppercase letters\n",
    "followed by three digits. When all of the license plates following that pattern had\n",
    "been used, the format was changed to four digits followed by three uppercase letters.\n",
    "Write a program that begins by reading a string of characters from the user. Then\n",
    "your program should display a message indicating whether the characters are valid\n",
    "for an older style license plate or a newer style license plate. Your program should\n",
    "display an appropriate message if the string entered by the user is not valid for either\n",
    "style of license plate."
   ]
  },
  {
   "cell_type": "code",
   "execution_count": 36,
   "id": "adf741c4",
   "metadata": {},
   "outputs": [
    {
     "name": "stdout",
     "output_type": "stream",
     "text": [
      "Enter the license plate: GHT123\n",
      "The plate is a valid older style plate.\n"
     ]
    }
   ],
   "source": [
    "## Determine whether or not a license plate is valid. A valid license plate either consists of:\n",
    "# 1) 3 letters followed by 3 numbers, or\n",
    "# 2) 4 numbers followed by 3 numbers\n",
    "# Read the plate from the user\n",
    "plate = input(\"Enter the license plate: \")\n",
    "# Check the status of the plate and display it. It is necessary to check each of the 6 characters\n",
    "# for an older style plate, or each of the 7 characters for a newer style plate.\n",
    "if len(plate) == 6 and \\\n",
    "    plate[0] >= \"A\" and plate[0] <= \"Z\" and \\\n",
    "    plate[1] >= \"A\" and plate[1] <= \"Z\" and \\\n",
    "    plate[2] >= \"A\" and plate[2] <= \"Z\" and \\\n",
    "    plate[3] >= \"0\" and plate[3] <= \"9\" and \\\n",
    "    plate[4] >= \"0\" and plate[4] <= \"9\" and \\\n",
    "    plate[5] >= \"0\" and plate[5] <= \"9\":\n",
    "    print(\"The plate is a valid older style plate.\")\n",
    "elif len(plate) == 7 and \\\n",
    "    plate[0] >= \"0\" and plate[0] <= \"9\" and \\\n",
    "    plate[1] >= \"0\" and plate[1] <= \"9\" and \\\n",
    "    plate[2] >= \"0\" and plate[2] <= \"9\" and \\\n",
    "    plate[3] >= \"0\" and plate[3] <= \"9\" and \\\n",
    "    plate[4] >= \"A\" and plate[4] <= \"Z\" and \\\n",
    "    plate[5] >= \"A\" and plate[5] <= \"Z\" and \\\n",
    "    plate[6] >= \"A\" and plate[6] <= \"Z\":\n",
    "    print(\"The plate is a valid newer style plate.\")\n",
    "else:\n",
    "    print(\"The plate is not valid.\")"
   ]
  },
  {
   "cell_type": "code",
   "execution_count": 47,
   "id": "d6beb8c1",
   "metadata": {},
   "outputs": [
    {
     "name": "stdout",
     "output_type": "stream",
     "text": [
      "Enter the lincense plate values:GTF678\n",
      "The license plate value is valid older style\n"
     ]
    }
   ],
   "source": [
    "plate=input('Enter the lincense plate values:')\n",
    "if len(plate)== 6 and \\\n",
    "    plate[0] >='A' and plate[0] <='Z' and \\\n",
    "    plate[1] >='A' and plate[1] <='Z' and \\\n",
    "    plate[2] >='A' and plate[2] <='Z' and \\\n",
    "    plate[3] >='0' and plate[3] <='9' and \\\n",
    "    plate[4] >='0' and plate[4] <='9' and \\\n",
    "    plate[5] >='0' and plate[5] <='9':\n",
    "    print(\"The license plate value is valid older style\")\n",
    "elif len(plate)==7 and \\\n",
    "    plate[0] >='A' and plate[0] <='Z' and \\\n",
    "    plate[1] >='A' and plate[1] <='Z'and \\\n",
    "    plate[2] >='A' and plate[2] <='Z' and \\\n",
    "    plate[3] >='A' and plate[3] <='Z' and \\\n",
    "    plate[4] >='0' and plate[4] <='9' and \\\n",
    "    plate[5] >='0' and plate[5] <='9' and \\\n",
    "    plate[6] >='0' and plate[6] <='9':\n",
    "        print ('The license plate value is valid newer style')\n",
    "else:\n",
    "    print ('The license plate value is invalid')\n",
    "    "
   ]
  },
  {
   "cell_type": "raw",
   "id": "14889908",
   "metadata": {},
   "source": [
    "A roulette wheel has 38 spaces on it. Of these spaces, 18 are black, 18 are red, and two\n",
    "are green. The green spaces are numbered 0 and 00. The red spaces are numbered 1,\n",
    "3, 5, 7, 9, 12, 14, 16, 18, 19, 21, 23, 25, 27, 30 32, 34 and 36. The remaining integers\n",
    "between 1 and 36 are used to number the black spaces.\n",
    "Many different bets can be placed in roulette. We will only consider the following\n",
    "subset of them in this exercise:\n",
    "• Single number (1 to 36, 0, or 00)\n",
    "• Red versus Black\n",
    "• Odd versus Even (Note that 0 and 00 do not pay out for even)\n",
    "• 1 to 18 versus 19 to 36\n",
    "Write a program that simulates a spin of a roulette wheel by using Python’s\n",
    "random number generator. Display the number that was selected and all of the bets\n",
    "that must be payed. For example, if 13 is selected then your program should display:\n",
    "    The spin resulted in 13...\n",
    "Pay 13\n",
    "Pay Black\n",
    "Pay Odd\n",
    "Pay 1 to 18"
   ]
  },
  {
   "cell_type": "code",
   "execution_count": 54,
   "id": "b6be9a51",
   "metadata": {},
   "outputs": [
    {
     "name": "stdout",
     "output_type": "stream",
     "text": [
      "The spin resulted in 18...\n",
      "Pay 18\n",
      "Pay Red\n",
      "Pay 1 to 18\n"
     ]
    }
   ],
   "source": [
    "# Display the bets that pay out in a roulette simulation.\n",
    "#\n",
    "from random import randrange\n",
    "# Simulate spinning the wheel, using 37 to represent 00\n",
    "value = randrange(0, 38)\n",
    "if value == 37:\n",
    "    print(\"The spin resulted in 00...\")\n",
    "else:\n",
    "    print(\"The spin resulted in %d...\" % value)\n",
    "# Display the payout for a single number\n",
    "if value == 37:\n",
    "    print(\"Pay 00\")\n",
    "else:\n",
    "    print(\"Pay\", value)\n",
    "# Display the color payout\n",
    "# The first line in the condition checks for 1, 3, 5, 7 and 9\n",
    "# The second line in the condition checks for 12, 14, 16 and 18\n",
    "# The third line in the condition checks for 19, 21, 23, 25 and 27\n",
    "# The fourth line in the condition checks for 30, 32, 34 and 36\n",
    "if value % 2 == 1 and value >= 1 and value <= 9 or \\\n",
    "value % 2 == 0 and value >= 12 and value <= 18 or \\\n",
    "value % 2 == 1 and value >= 19 and value <= 27 or \\\n",
    "value % 2 == 0 and value >= 30 and value <= 36:\n",
    "    print(\"Pay Red\")\n",
    "elif value == 0 or value == 37:\n",
    "    pass\n",
    "else:\n",
    "    print(\"Pay Black\")\n",
    "# Display the odd vs. even payout\n",
    "if value >= 1 and value <= 36:\n",
    "    if value % 2 == 1:\n",
    "        print(\"Pay Odd\")\n",
    "else:\n",
    "    print(\"Pay Even\")\n",
    "# Display the lower numbers vs. upper numbers payout\n",
    "if value >= 1 and value <= 18:\n",
    "    print(\"Pay 1 to 18\")\n",
    "elif value >= 19 and value <= 36:\n",
    "    print(\"Pay 19 to 36\")"
   ]
  },
  {
   "cell_type": "code",
   "execution_count": 4,
   "id": "5579af1b",
   "metadata": {},
   "outputs": [
    {
     "name": "stdout",
     "output_type": "stream",
     "text": [
      "Enter integer:87\n",
      "\n"
     ]
    }
   ],
   "source": [
    "# Create a variable savings\n",
    "savings=int(input('Enter integer:'))\n",
    "savings=''\n",
    "# Print out savings\n",
    "print(savings)"
   ]
  },
  {
   "cell_type": "markdown",
   "id": "1d880c3b",
   "metadata": {},
   "source": [
    "# Repitition"
   ]
  },
  {
   "cell_type": "code",
   "execution_count": 10,
   "id": "7d8493e8",
   "metadata": {},
   "outputs": [
    {
     "name": "stdout",
     "output_type": "stream",
     "text": [
      "Enter an integer (0 to quit): 7\n",
      "That’s a positive number.\n",
      "Enter an integer (0 to quit): 7\n",
      "That’s a positive number.\n",
      "Enter an integer (0 to quit): 5\n",
      "That’s a positive number.\n",
      "Enter an integer (0 to quit): 0\n"
     ]
    }
   ],
   "source": [
    "# Read the first value from the user\n",
    "x = int(input(\"Enter an integer (0 to quit): \"))\n",
    "# Keep looping while the user enters a non-zero number\n",
    "while x != 0:\n",
    "# Report the nature of the number\n",
    "    if x > 0:\n",
    "        print(\"That’s a positive number.\")\n",
    "    else:\n",
    "        print(\"That’s a negative number.\")\n",
    "# Read the next value from the user\n",
    "    x = int(input(\"Enter an integer (0 to quit): \"))"
   ]
  },
  {
   "cell_type": "code",
   "execution_count": 12,
   "id": "708f16c0",
   "metadata": {},
   "outputs": [
    {
     "name": "stdout",
     "output_type": "stream",
     "text": [
      "Enter an integer: 30\n",
      "The multiples of 3 up to and including 30 are:\n",
      "3\n",
      "6\n",
      "9\n",
      "12\n",
      "15\n",
      "18\n",
      "21\n",
      "24\n",
      "27\n",
      "30\n"
     ]
    }
   ],
   "source": [
    "# Read the limit from the user\n",
    "limit = int(input(\"Enter an integer: \"))\n",
    "# Display the positive multiples of 3 up to the limit\n",
    "print(\"The multiples of 3 up to and including\", limit, \"are:\")\n",
    "for i in range(3, limit + 1, 3):\n",
    "    print(i)"
   ]
  },
  {
   "cell_type": "code",
   "execution_count": 1,
   "id": "50b68c07",
   "metadata": {},
   "outputs": [
    {
     "name": "stdout",
     "output_type": "stream",
     "text": [
      "Enter a message (blank to quit): i love you\n",
      "How many times should it be repeated? 4\n",
      "i love you\n",
      "i love you\n",
      "i love you\n",
      "i love you\n",
      "Enter a message (blank to quit): \n"
     ]
    }
   ],
   "source": [
    "# Read the first message from the user\n",
    "message = input(\"Enter a message (blank to quit): \")\n",
    "# Loop until the message is a blank line\n",
    "while message != \"\":\n",
    "# Read the number of times the message should be displayed\n",
    "    n = int(input(\"How many times should it be repeated? \"))\n",
    "# Display the message the number of times requested\n",
    "    for i in range(n):\n",
    "        print(message)\n",
    "# Read the next message from the user\n",
    "    message = input(\"Enter a message (blank to quit): \")"
   ]
  },
  {
   "cell_type": "code",
   "execution_count": 6,
   "id": "c1ea4026",
   "metadata": {},
   "outputs": [
    {
     "name": "stdout",
     "output_type": "stream",
     "text": [
      "i love you\n",
      "i love you\n",
      "i love you\n",
      "i love you\n",
      "i love you\n",
      "i love you\n",
      "i love you\n"
     ]
    }
   ],
   "source": [
    "message='i love you'\n",
    "n=7\n",
    "for i in range(n):\n",
    "    print(message)"
   ]
  },
  {
   "cell_type": "markdown",
   "id": "420e9a07",
   "metadata": {},
   "source": [
    "In this exercise you will create a program that computes the average of a collection\n",
    "of values entered by the user. The user will enter 0 as a sentinel value to indicate\n",
    "that no further values will be provided. Your program should display an appropriate\n",
    "error message if the first value entered by the user is 0"
   ]
  },
  {
   "cell_type": "code",
   "execution_count": 11,
   "id": "58f003f0",
   "metadata": {
    "scrolled": true
   },
   "outputs": [
    {
     "name": "stdout",
     "output_type": "stream",
     "text": [
      "Enter Values: 0\n",
      "End of input.\n",
      "No input given\n"
     ]
    }
   ],
   "source": [
    "sum = 0.0\n",
    "count = 0\n",
    "while(1):\n",
    "    x=int(input(\"Enter Values: \"))\n",
    "    if x == 0:\n",
    "        print(\"End of input.\")\n",
    "        break;\n",
    "    sum+=x;\n",
    "    count+=1;\n",
    "if count == 0:\n",
    "    print(\"No input given\")\n",
    "else:\n",
    "    avg = sum/count;\n",
    "    print(\"Average is : \",avg)"
   ]
  },
  {
   "cell_type": "code",
   "execution_count": 3,
   "id": "8a949ee9",
   "metadata": {},
   "outputs": [
    {
     "name": "stdout",
     "output_type": "stream",
     "text": [
      "enter the numbers: 56\n",
      "enter the numbers: 34\n",
      "enter the numbers: 0\n",
      "End point\n",
      "Average is  :  45.0\n"
     ]
    }
   ],
   "source": [
    "sum = 0.0\n",
    "count=0\n",
    "while(1):\n",
    "    x=int(input('enter the numbers: '))\n",
    "    if x==0:\n",
    "        print('End point')\n",
    "        break;\n",
    "    sum+=x;\n",
    "    count+=1\n",
    "if count==0:\n",
    "    print('no input given')\n",
    "else:\n",
    "    avg=sum/count\n",
    "    print ('Average is  : ',avg)"
   ]
  },
  {
   "cell_type": "raw",
   "id": "f06eac19",
   "metadata": {},
   "source": [
    "A particular retailer is having a 60 percent off sale on a variety of discontinued\n",
    "products. The retailer would like to help its customers determine the reduced price\n",
    "of the merchandise by having a printed discount table on the shelf that shows the\n",
    "original prices and the prices after the discount has been applied. Write a program that\n",
    "uses a loop to generate this table, showing the original price, the discount amount,\n",
    "and the new price for purchases of $4.95, $9.95, $14.95, $19.95 and $24.95. Ensure\n",
    "that the discount amounts and the new prices are rounded to 2 decimal places when\n",
    "they are displayed."
   ]
  },
  {
   "cell_type": "raw",
   "id": "6f0a43f0",
   "metadata": {},
   "source": [
    "Write a program that displays a temperature conversion table for degrees Celsius and\n",
    "degrees Fahrenheit. The table should include rows for all temperatures between 0\n",
    "and 100 degrees Celsius that are multiples of 10 degrees Celsius. Include appropriate\n",
    "headings on your columns. The formula for converting between degrees Celsius and\n",
    "degrees Fahrenheit can be found on the Internet.\n"
   ]
  },
  {
   "cell_type": "raw",
   "id": "50891200",
   "metadata": {},
   "source": [
    "February 4, 2013 was the last day that pennies were distributed by the Royal Canadian\n",
    "Mint. Now that pennies have been phased out retailers must adjust totals so that they\n",
    "are multiples of 5 cents when they are paid for with cash (credit card and debit card\n",
    "transactions continue to be charged to the penny). While retailers have some freedom\n",
    "in how they do this, most choose to round to the closest nickel.\n",
    "Write a program that reads prices from the user until a blank line is entered.\n",
    "Display the total cost of all the entered items on one line, followed by the amount\n",
    "due if the customer pays with cash on a second line. The amount due for a cash\n",
    "payment should be rounded to the nearest nickel. One way to compute the cash\n",
    "payment amount is to begin by determining how many pennies would be needed to\n",
    "pay the total. Then compute the remainder when this number of pennies is divided\n",
    "by 5. Finally, adjust the total down if the remainder is less than 2.5. Otherwise adjust\n",
    "the total up"
   ]
  },
  {
   "cell_type": "code",
   "execution_count": null,
   "id": "3821a0a5",
   "metadata": {},
   "outputs": [
    {
     "name": "stdout",
     "output_type": "stream",
     "text": [
      "Enter the price of the item (blank to quit): 5.567\n"
     ]
    }
   ],
   "source": [
    "##\n",
    "# Compute the total due when several items are purchased. The amount payable for cash\n",
    "# transactions is rounded to the closest nickel because pennies have been phased out in Canada.\n",
    "#\n",
    "PENNIES_PER_NICKEL = 5\n",
    "NICKEL = 0.05\n",
    "# Track the total cost for all of the items\n",
    "total = 0.00\n",
    "# Read the price of the first item as a string\n",
    "line = input(\"Enter the price of the item (blank to quit): \")\n",
    "# Continue reading items until a blank line is entered\n",
    "while line != \"\":\n",
    "# Add the cost of the item to the total (after converting it to a floating-point number)\n",
    "    total = total + float(line)\n",
    "# Read the cost of the next item\n",
    "line = input(\"Enter the price of the item (blank to quit): \")\n",
    "# Display the exact total payable\n",
    "print(\"The exact amount payable is %.02f\" % total)\n",
    "# Compute the number of pennies that would be left if the total was paid using nickels\n",
    "rounding_indicator = total * 100 % PENNIES_PER_NICKEL\n",
    "if rounding_indicator < PENNIES_PER_NICKEL / 2:\n",
    "# If the number of pennies left is less than 2.5 then we round down by subtracting that\n",
    "# number of pennies from the total\n",
    "        cash_total = total - rounding_indicator / 100\n",
    "else:\n",
    "# Otherwise we add a nickel and then subtract that number of pennies\n",
    "        cash_total = total + NICKEL - rounding_indicator / 100\n",
    "# Display amount due when paying with cash\n",
    "print(\"The cash amount payable is %.02f\" % cash_total)"
   ]
  },
  {
   "cell_type": "markdown",
   "id": "1c43207c",
   "metadata": {},
   "source": [
    "Write a program that computes the perimeter of a polygon. Begin by reading the\n",
    "x and y coordinates for the first point on the perimeter of the polygon from the\n",
    "user. Then continue reading pairs of values until the user enters a blank line for the\n",
    "x-coordinate. Each time you read an additional coordinate you should compute the\n",
    "distance to the previous point and add it to the perimeter. When a blank line is entered\n",
    "for the x-coordinate your program should add the distance from the last point back\n",
    "to the first point to the perimeter. Then the perimeter should be displayed. Sample\n",
    "input and output values are shown below. The input values entered by the user are\n",
    "shown in bold.\n",
    "Enter the first x-coordinate: 0\n",
    "Enter the first y-coordinate: 0\n",
    "Enter the next x-coordinate (blank to quit): 1\n",
    "Enter the next y-coordinate: 0\n",
    "Enter the next x-coordinate (blank to quit): 0\n",
    "Enter the next y-coordinate: 1\n",
    "Enter the next x-coordinate (blank to quit):\n",
    "The perimeter of that polygon is 3.414213562373095\n"
   ]
  },
  {
   "cell_type": "code",
   "execution_count": 3,
   "id": "87f78813",
   "metadata": {},
   "outputs": [
    {
     "name": "stdout",
     "output_type": "stream",
     "text": [
      "Enter the first x-coordinate: 6\n",
      "Enter the first y-coordinate: 7\n",
      "Enter the next x-coordinate (blank to quit): \n",
      "Enter the next x-coordinate (blank to quit): \n",
      "The perimeter of that polygon is 5.0\n"
     ]
    }
   ],
   "source": [
    "##\n",
    "# Compute the perimeter of a polygon constructed from points entered by the user. A blank line\n",
    "# will be entered for the x-coordinate to indicate that all of the points have been entered.\n",
    "#\n",
    "from math import sqrt\n",
    "# Store the perimeter of the polygon\n",
    "perimeter = 0\n",
    "# Read the coordinate of the first point\n",
    "first_x = float(input(\"Enter the first x-coordinate: \"))\n",
    "first_y = float(input(\"Enter the first y-coordinate: \"))\n",
    "# Provide initial values for prev x and prev y\n",
    "prev_x = first_x\n",
    "prev_y = first_y\n",
    "# Read the remaining coordinates\n",
    "line = input(\"Enter the next x-coordinate (blank to quit): \")\n",
    "while line != \"\":\n",
    "# Convert the x-coordinate to a number and read the y coordinate\n",
    "    x = float(line)\n",
    "    y = float(input(\"Enter the next y-coordinate: \"))\n",
    "# Compute the distance to the previous point and add it to the perimeter\n",
    "    dist = sqrt((prev_x - x) ** 2 + (prev_y - y) ** 2)\n",
    "    perimeter = perimeter + dist\n",
    "# Set up prev x and prev y for the next loop iteration\n",
    "    prev_x = x\n",
    "    prev_y = y\n",
    "# Read the next x-coordinate\n",
    "    line = input(\"Enter the next x-coordinate (blank to quit): \")\n",
    "# Compute the distance from the last point to the first point and add it to the perimeter\n",
    "dist = sqrt((first_x - x) ** 2 + (first_y - y) ** 2)\n",
    "perimeter = perimeter + dist\n",
    "# Display the result\n",
    "print(\"The perimeter of that polygon is\", perimeter)\n"
   ]
  },
  {
   "cell_type": "raw",
   "id": "c5009748",
   "metadata": {},
   "source": [
    "A particular zoo determines the price of admission based on the age of the guest.\n",
    "Guests 2 years of age and less are admitted without charge. Children between 3 and\n",
    "12 years of age cost $14.00. Seniors aged 65 years and over cost $18.00. Admission\n",
    "for all other guests is $23.00.\n",
    "Create a program that begins by reading the ages of all of the guests in a group\n",
    "from the user, with one age entered on each line. The user will enter a blank line to\n",
    "indicate that there are no more guests in the group. Then your program should display\n",
    "the admission cost for the group with an appropriate message. The cost should be\n",
    "displayed using two decimal places."
   ]
  },
  {
   "cell_type": "code",
   "execution_count": 9,
   "id": "a02e1390",
   "metadata": {},
   "outputs": [
    {
     "name": "stdout",
     "output_type": "stream",
     "text": [
      "Enter age45\n",
      "regular\n"
     ]
    }
   ],
   "source": [
    "age=int(input('Enter age'))\n",
    "if age<=2:\n",
    "    print ('baby')\n",
    "    if age>=3 or age>=12:\n",
    "        print ('children')\n",
    "    if age>=65:\n",
    "        print('Senior')\n",
    "else:\n",
    "    print ('regular')"
   ]
  },
  {
   "cell_type": "code",
   "execution_count": 1,
   "id": "e5bbf94b",
   "metadata": {},
   "outputs": [
    {
     "name": "stdout",
     "output_type": "stream",
     "text": [
      "Enter the age of the guest (blank to finish): 45\n",
      "Enter the age of the guest (blank to finish): 4\n",
      "Enter the age of the guest (blank to finish): 3\n",
      "Enter the age of the guest (blank to finish): \n",
      "The total for that group is $51.00\n"
     ]
    }
   ],
   "source": [
    "# Compute the admission price for a group visiting the zoo.\n",
    "#\n",
    "# Store the admission prices as constants\n",
    "BABY_PRICE = 0.00\n",
    "CHILD_PRICE = 14.00\n",
    "ADULT_PRICE = 23.00\n",
    "SENIOR_PRICE = 18.00\n",
    "# Store the age limits as constants\n",
    "BABY_LIMIT = 2\n",
    "CHILD_LIMIT = 12\n",
    "ADULT_LIMIT = 64\n",
    "# Create a variable to hold the total admission cost for all guests\n",
    "total = 0\n",
    "# Keep on reading ages until the user enters a blank line\n",
    "line = input(\"Enter the age of the guest (blank to finish): \")\n",
    "while line != \"\":\n",
    "    age = int(line)\n",
    "# Add the correct amount to the total\n",
    "    if age <= BABY_LIMIT:\n",
    "        total = total + BABY_PRICE\n",
    "    elif age <= CHILD_LIMIT:\n",
    "        total = total + CHILD_PRICE\n",
    "    elif age <= ADULT_LIMIT:\n",
    "        total = total + ADULT_PRICE\n",
    "    else:\n",
    "        total = total + SENIOR_PRICE\n",
    "# Read the next age from the user\n",
    "    line = input(\"Enter the age of the guest (blank to finish): \")\n",
    "# Display the total due for the group, formatted using two decimal places\n",
    "print(\"The total for that group is $%.2f\" % total)"
   ]
  },
  {
   "cell_type": "code",
   "execution_count": 4,
   "id": "09cd8283",
   "metadata": {},
   "outputs": [
    {
     "name": "stdout",
     "output_type": "stream",
     "text": [
      "enter age of guest (blank to quit)56\n",
      "enter the age of the next guest(blank to quit): 2\n",
      "enter the age of the next guest(blank to quit): \n",
      "23.0\n"
     ]
    }
   ],
   "source": [
    "age=int(input('enter age of guest (blank to quit)'))\n",
    "total=0\n",
    "while age!=\"\":\n",
    "    age=int(age)\n",
    "    if age<=2:\n",
    "        total=total+0.00\n",
    "    elif age<=12:\n",
    "        total=total+14.00\n",
    "    elif age<=64:\n",
    "        total=total+23.00\n",
    "    else:\n",
    "        total=total+18.00\n",
    "    age=input('enter the age of the next guest(blank to quit): ')\n",
    "print(total)"
   ]
  },
  {
   "cell_type": "markdown",
   "id": "1c71fb81",
   "metadata": {},
   "source": [
    "Exercise 70: Parity Bits\n",
    "A parity bit is a simple mechanism for detecting errors in data transmitted over an\n",
    "unreliable connection such as a telephone line. The basic idea is that an additional bit\n",
    "is transmitted after each group of 8 bits so that a single bit error in the transmission\n",
    "can be detected.\n",
    "Parity bits can be computed for either even parity or odd parity. If even parity\n",
    "is selected then the parity bit that is transmitted is chosen so that the total number\n",
    "of one bits transmitted (8 bits of data plus the parity bit) is even. When odd parity\n",
    "is selected the parity bit is chosen so that the total number of one bits transmitted\n",
    "is odd.\n",
    "Write a program that computes the parity bit for groups of 8 bits entered by the\n",
    "user using even parity. Your program should read strings containing 8 bits until the\n",
    "user enters a blank line. After each string is entered by the user your program should\n",
    "display a clear message indicating whether the parity bit should be 0 or 1. Display\n",
    "an appropriate error message if the user enters something other than 8 bits."
   ]
  },
  {
   "cell_type": "code",
   "execution_count": 16,
   "id": "8b96c33e",
   "metadata": {},
   "outputs": [
    {
     "name": "stdout",
     "output_type": "stream",
     "text": [
      "Enter 8 bits: a\n",
      "That wasn’t 8 bits... Try again.\n"
     ]
    },
    {
     "ename": "NameError",
     "evalue": "name 'ones' is not defined",
     "output_type": "error",
     "traceback": [
      "\u001b[1;31m---------------------------------------------------------------------------\u001b[0m",
      "\u001b[1;31mNameError\u001b[0m                                 Traceback (most recent call last)",
      "\u001b[1;32m~\\AppData\\Local\\Temp/ipykernel_19656/2329450175.py\u001b[0m in \u001b[0;36m<module>\u001b[1;34m\u001b[0m\n\u001b[0;32m     10\u001b[0m         \u001b[0mones\u001b[0m \u001b[1;33m=\u001b[0m \u001b[0mline\u001b[0m\u001b[1;33m.\u001b[0m\u001b[0mcount\u001b[0m\u001b[1;33m(\u001b[0m\u001b[1;34m\"1\"\u001b[0m\u001b[1;33m)\u001b[0m\u001b[1;33m\u001b[0m\u001b[1;33m\u001b[0m\u001b[0m\n\u001b[0;32m     11\u001b[0m \u001b[1;31m# Display the parity bit\u001b[0m\u001b[1;33m\u001b[0m\u001b[1;33m\u001b[0m\u001b[0m\n\u001b[1;32m---> 12\u001b[1;33m     \u001b[1;32mif\u001b[0m \u001b[0mones\u001b[0m \u001b[1;33m%\u001b[0m \u001b[1;36m2\u001b[0m \u001b[1;33m==\u001b[0m \u001b[1;36m0\u001b[0m\u001b[1;33m:\u001b[0m\u001b[1;33m\u001b[0m\u001b[1;33m\u001b[0m\u001b[0m\n\u001b[0m\u001b[0;32m     13\u001b[0m         \u001b[0mprint\u001b[0m\u001b[1;33m(\u001b[0m\u001b[1;34m\"The parity bit should be 0.\"\u001b[0m\u001b[1;33m)\u001b[0m\u001b[1;33m\u001b[0m\u001b[1;33m\u001b[0m\u001b[0m\n\u001b[0;32m     14\u001b[0m     \u001b[1;32melse\u001b[0m\u001b[1;33m:\u001b[0m\u001b[1;33m\u001b[0m\u001b[1;33m\u001b[0m\u001b[0m\n",
      "\u001b[1;31mNameError\u001b[0m: name 'ones' is not defined"
     ]
    }
   ],
   "source": [
    "line = input(\"Enter 8 bits: \")\n",
    " #Continue looping until a blank line is entered\n",
    "while line != \"\":\n",
    "# Ensure that the line has a total of 8 zeros and ones and exactly 8 characters\n",
    "    if line.count(\"0\") + line.count(\"1\") != 8 or len(line) != 8:\n",
    "# Display an appropriate error message\n",
    "        print(\"That wasn’t 8 bits... Try again.\")\n",
    "    else:\n",
    "# Count the number of ones\n",
    "        ones = line.count(\"1\")\n",
    "# Display the parity bit\n",
    "    if ones % 2 == 0:\n",
    "        print(\"The parity bit should be 0.\")\n",
    "    else:\n",
    "        print(\"The parity bit should be 1.\")\n",
    "# Read the next line of input\n",
    "    line = input(\"Enter 8 bits: \")"
   ]
  },
  {
   "cell_type": "markdown",
   "id": "a070684b",
   "metadata": {},
   "source": [
    "One of the first known examples of encryption was used by Julius Caesar. Caesar\n",
    "needed to provide written instructions to his generals, but he didn’t want his enemies\n",
    "to learn his plans if the message slipped into their hands. As a result, he developed\n",
    "what later became known as the Caesar cipher.\n",
    "The idea behind this cipher is simple (and as such, it provides no protection against\n",
    "modern code breaking techniques). Each letter in the original message is shifted by\n",
    "3 places. As a result, A becomes D, B becomes E, C becomes F, D becomes G, etc.\n",
    "\n",
    "The last three letters in the alphabet are wrapped around to the beginning: X becomes\n",
    "A, Y becomes B and Z becomes C. Non-letter characters are not modified by the\n",
    "cipher.\n",
    "Write a program that implements a Caesar cipher. Allow the user to supply the\n",
    "message and the shift amount, and then display the shifted message. Ensure that\n",
    "your program encodes both uppercase and lowercase letters. Your program should\n",
    "also support negative shift values so that it can be used both to encode messages and\n",
    "decode messages."
   ]
  },
  {
   "cell_type": "code",
   "execution_count": 18,
   "id": "71da6183",
   "metadata": {},
   "outputs": [
    {
     "name": "stdout",
     "output_type": "stream",
     "text": [
      "Enter the message: i love you\n",
      "Enter the shift value: 5\n",
      "The shifted message is n qtaj dtz\n"
     ]
    }
   ],
   "source": [
    "##\n",
    "# Implement a Caesar cipher that shifts all of the letters in a message by an amount provided\n",
    "# by the user. Use a negative shift value to decode a message.\n",
    "#\n",
    "# Read the message and shift amount from the user\n",
    "message = input(\"Enter the message: \")\n",
    "shift = int(input(\"Enter the shift value: \"))\n",
    " #Process each character to construct the encrypted (or decrypted) message\n",
    "new_message = \"\"\n",
    "for ch in message:\n",
    "    if ch >= \"a\" and ch <= \"z\":\n",
    "    # Process a lowercase letter by determining its\n",
    "    # position in the alphabet (0 - 25), computing its\n",
    "    # new position, and adding it to the new message\n",
    "        pos = ord(ch) - ord(\"a\")\n",
    "        pos = (pos + shift) % 26\n",
    "        new_char = chr(pos + ord(\"a\"))\n",
    "        new_message = new_message + new_char\n",
    "    elif ch >= \"A\" and ch <= \"Z\":\n",
    "    # Process an uppercase letter by determining its position in the alphabet (0 - 25),\n",
    "    # computing its new position, and adding it to the new message\n",
    "        pos = ord(ch) - ord(\"A\")\n",
    "        pos = (pos + shift) % 26\n",
    "        new_char = chr(pos + ord(\"A\"))\n",
    "        new_message = new_message + new_char\n",
    "    else:\n",
    "    # If the character is not a letter then copy it into the new message\n",
    "        new_message = new_message + ch\n",
    "# Display the shifted message\n",
    "print(\"The shifted message is\", new_message)"
   ]
  },
  {
   "cell_type": "raw",
   "id": "283f0933",
   "metadata": {},
   "source": [
    "A string is a palindrome if it is identical forward and backward. For example “anna”,\n",
    "“civic”, “level” and “hannah” are all examples of palindromicwords. Write a program\n",
    "that reads a string from the user and uses a loop to determine whether or not it is a\n",
    "palindrome. Display the result, including a meaningful output message.\n"
   ]
  },
  {
   "cell_type": "code",
   "execution_count": 1,
   "id": "9a7765cb",
   "metadata": {},
   "outputs": [
    {
     "name": "stdout",
     "output_type": "stream",
     "text": [
      "Enter a string: boob\n",
      "boob is a palindrome\n"
     ]
    }
   ],
   "source": [
    "##\n",
    "# Determine whether or not a string entered by the user is a palindrome.\n",
    "#\n",
    "# Read the string from the user\n",
    "line = input(\"Enter a string: \")\n",
    "# Assume that it is a palindrome until we can prove otherwise\n",
    "is_palindrome = True\n",
    "# Check the characters, starting from the ends. Continue until the middle is reached or we have\n",
    "# determined that the string is not a palindrome.\n",
    "i=0\n",
    "while i < len(line) / 2 and is_palindrome:\n",
    "# If the characters do not match then mark that the string is not a palindrome\n",
    "    if line[i] != line[len(line) - i - 1]:\n",
    "        is_palindrome = False\n",
    "# Move to the next character\n",
    "    i=i+1\n",
    "# Display a meaningful output message\n",
    "if is_palindrome:\n",
    "    print(line, \"is a palindrome\")\n",
    "else:\n",
    "    print(line, \"is not a palindrome\")"
   ]
  },
  {
   "cell_type": "markdown",
   "id": "df5409c5",
   "metadata": {},
   "source": [
    "In this exercise you will create a program that displays a multiplication table that\n",
    "shows the products of all combinations of integers from 1 times 1 up to and including\n",
    "10 times 10. Your multiplication table should include a row of labels across the top\n",
    "of it containing the numbers 1 through 10. It should also include labels down the left\n",
    "side consisting of the numbers 1 through 10.\n",
    "When completing this exercise you will probably find it helpful to be able to\n",
    "print out a value without moving down to the next line. This can be accomplished\n",
    "by added end=\"\" as the last argument to your print statement. For example,\n",
    "print(\"A\") will display the letter A and then move down to the next line. The\n",
    "statement print(\"A\", end=\"\") will display the letter A without moving down\n",
    "to the next line, causing the next print statement to display its result on the same line\n",
    "as the letter A."
   ]
  },
  {
   "cell_type": "code",
   "execution_count": 32,
   "id": "80b88021",
   "metadata": {},
   "outputs": [
    {
     "name": "stdout",
     "output_type": "stream",
     "text": [
      "     0    1    2    3    4    5    6    7    8    9   10   11   12   13   14   15   16   17   18   19   20\n",
      "0    0    0    0    0    0    0    0    0    0    0    0    0    0    0    0    0    0    0    0    0    0\n",
      "1    0    1    2    3    4    5    6    7    8    9   10   11   12   13   14   15   16   17   18   19   20\n",
      "2    0    2    4    6    8   10   12   14   16   18   20   22   24   26   28   30   32   34   36   38   40\n",
      "3    0    3    6    9   12   15   18   21   24   27   30   33   36   39   42   45   48   51   54   57   60\n",
      "4    0    4    8   12   16   20   24   28   32   36   40   44   48   52   56   60   64   68   72   76   80\n",
      "5    0    5   10   15   20   25   30   35   40   45   50   55   60   65   70   75   80   85   90   95  100\n",
      "6    0    6   12   18   24   30   36   42   48   54   60   66   72   78   84   90   96  102  108  114  120\n",
      "7    0    7   14   21   28   35   42   49   56   63   70   77   84   91   98  105  112  119  126  133  140\n",
      "8    0    8   16   24   32   40   48   56   64   72   80   88   96  104  112  120  128  136  144  152  160\n",
      "9    0    9   18   27   36   45   54   63   72   81   90   99  108  117  126  135  144  153  162  171  180\n",
      "10    0   10   20   30   40   50   60   70   80   90  100  110  120  130  140  150  160  170  180  190  200\n",
      "11    0   11   22   33   44   55   66   77   88   99  110  121  132  143  154  165  176  187  198  209  220\n",
      "12    0   12   24   36   48   60   72   84   96  108  120  132  144  156  168  180  192  204  216  228  240\n",
      "13    0   13   26   39   52   65   78   91  104  117  130  143  156  169  182  195  208  221  234  247  260\n",
      "14    0   14   28   42   56   70   84   98  112  126  140  154  168  182  196  210  224  238  252  266  280\n",
      "15    0   15   30   45   60   75   90  105  120  135  150  165  180  195  210  225  240  255  270  285  300\n",
      "16    0   16   32   48   64   80   96  112  128  144  160  176  192  208  224  240  256  272  288  304  320\n",
      "17    0   17   34   51   68   85  102  119  136  153  170  187  204  221  238  255  272  289  306  323  340\n",
      "18    0   18   36   54   72   90  108  126  144  162  180  198  216  234  252  270  288  306  324  342  360\n",
      "19    0   19   38   57   76   95  114  133  152  171  190  209  228  247  266  285  304  323  342  361  380\n",
      "20    0   20   40   60   80  100  120  140  160  180  200  220  240  260  280  300  320  340  360  380  400\n"
     ]
    }
   ],
   "source": [
    "##\n",
    "# Display a multiplication table for 1 times 1 through 10 times 10.\n",
    "#\n",
    "MIN = 0\n",
    "MAX = 20\n",
    "# Display the top row of labels\n",
    "print(\" \", end=\"\")\n",
    "for i in range(MIN, MAX + 1):\n",
    "    print(\"%5d\" % i, end=\"\")\n",
    "print()\n",
    "# Display the table\n",
    "for i in range(MIN, MAX + 1):\n",
    "    print(\"%1d\" % i, end=\"\")\n",
    "    for j in range(MIN, MAX + 1):\n",
    "            print(\"%5d\" % (i * j), end=\"\")\n",
    "    print()"
   ]
  },
  {
   "cell_type": "markdown",
   "id": "56f16717",
   "metadata": {},
   "source": [
    "The greatest common divisor of two positive integers, n and m, is the largest number,\n",
    "d, which divides evenly into both n and m. There are several algorithms that can be\n",
    "used to solve this problem, including:\n",
    "Initialize d to the smaller of m and n.\n",
    "While d does not evenly divide m or d does not evenly divide n do\n",
    "Decrease the value of d by 1\n",
    "Report d as the greatest common divisor of n and m\n",
    "Write a program that reads two positive integers from the user and uses this algorithm\n",
    "to determine and report their greatest common divisor."
   ]
  },
  {
   "cell_type": "code",
   "execution_count": 1,
   "id": "93213664",
   "metadata": {},
   "outputs": [
    {
     "name": "stdout",
     "output_type": "stream",
     "text": [
      "enter first postive number: 7\n",
      "enter second postive number: 36\n",
      "1\n"
     ]
    }
   ],
   "source": [
    "n=int(input(\"enter first postive number: \"))\n",
    "m=int(input(\"enter second postive number: \"))\n",
    "d=min(n,m)\n",
    "while n%d!=0 or m%d!=0:\n",
    "    d=d-1\n",
    "print(d)"
   ]
  },
  {
   "cell_type": "code",
   "execution_count": 36,
   "id": "b55edebf",
   "metadata": {},
   "outputs": [
    {
     "name": "stdout",
     "output_type": "stream",
     "text": [
      "Enter a positive integer: 6\n",
      "Enter a positive integer: 8\n",
      "The greatest common divisor of 6 and 8 is 2\n"
     ]
    }
   ],
   "source": [
    "##\n",
    "# Compute the greatest common divisor of two positive integers using a while loop.\n",
    "#\n",
    "# Read two positive integers from the user\n",
    "n = int(input(\"Enter a positive integer: \"))\n",
    "m = int(input(\"Enter a positive integer: \"))\n",
    "# Initialize d to the smaller of n and m\n",
    "d = min(n, m)\n",
    "# Use a while loop to find the greatest common divisor of n and m\n",
    "while n % d != 0 or m % d != 0:\n",
    "    d=d-1\n",
    "# Report the result\n",
    "print(\"The greatest common divisor of\", n, \"and\", m, \"is\", d)"
   ]
  },
  {
   "cell_type": "raw",
   "id": "59060e41",
   "metadata": {},
   "source": [
    "Write a program that converts a decimal (base 10) number to binary (base 2). Read the\n",
    "decimal number from the user as an integer and then use the division algorithm shown\n",
    "below to perform the conversion. When the algorithm completes, result contains the\n",
    "binary representation of the number. Display the result, along with an appropriate\n",
    "message.\n",
    "Let result be an empty string\n",
    "Let q represent the number to convert\n",
    "repeat\n",
    "Set r equal to the remainder when q is divided by 2\n",
    "Convert r to a string and add it to the beginning of result\n",
    "Divide q by 2, discarding any remainder, and store the result back into q\n",
    "until q is 0"
   ]
  },
  {
   "cell_type": "code",
   "execution_count": 3,
   "id": "cf02e6dc",
   "metadata": {},
   "outputs": [
    {
     "name": "stdout",
     "output_type": "stream",
     "text": [
      "Enter a non-negative integer: 65\n",
      "65 in decimal is 1000001 in binary.\n"
     ]
    }
   ],
   "source": [
    "##\n",
    "# Convert a number from decimal (base 10) to binary (base 2).\n",
    "#\n",
    "NEW_BASE = 2\n",
    "# Read the number to convert from the user\n",
    "num = int(input(\"Enter a non-negative integer: \"))\n",
    "# Generate the binary representation of num, storing it in result\n",
    "result = \"\"\n",
    "q = num\n",
    "# Perform the body of the loop once\n",
    "r = q % NEW_BASE\n",
    "result = str(r) + result\n",
    "q = q // NEW_BASE\n",
    "# Keep on looping until q is 0\n",
    "while q > 0:\n",
    "    r = q % NEW_BASE\n",
    "    result = str(r) + result\n",
    "    q = q // NEW_BASE\n",
    "# Display the result\n",
    "print(num, \"in decimal is\", result, \"in binary.\")"
   ]
  },
  {
   "cell_type": "code",
   "execution_count": 8,
   "id": "0a80037c",
   "metadata": {},
   "outputs": [
    {
     "name": "stdout",
     "output_type": "stream",
     "text": [
      "enter non negative decimal65\n",
      "the binaray of the decimal 65 is 1000001\n"
     ]
    }
   ],
   "source": [
    "num=int(input(\"enter non negative decimal\"))\n",
    "result=\"\"\n",
    "r=num%2\n",
    "result=str(r)+result\n",
    "q=num\n",
    "q=q//2\n",
    "#it continue to loop\n",
    "while q>0:\n",
    "    r=q%2\n",
    "    result=str(r)+result\n",
    "    q=q//2\n",
    "#display result\n",
    "print(\"the binaray of the decimal\",num, \"is\", result)"
   ]
  },
  {
   "cell_type": "raw",
   "id": "8230eb61",
   "metadata": {},
   "source": [
    "This exercise examines the process of identifying the maximum value in a collection\n",
    "of integers. Each of the integers will be randomly selected from the numbers between\n",
    "1 and 100. The collection of integers may contain duplicate values, and some of the\n",
    "integers between 1 and 100 may not be present.\n",
    "Take amoment and think about howyouwould solve this problem on paper. Many\n",
    "people would check each integer in sequence and ask themself if the number that\n",
    "they are currently considering is larger than the largest number that they have seen\n",
    "previously. If it is, then they forget the previous maximum number and remember\n",
    "the current number as the new maximum number. This is a reasonable approach,\n",
    "and will result in the correct answer when the process is performed carefully. If you\n",
    "were performing this task, how many times would you expect to need to update the\n",
    "maximum value and remember a new number?\n",
    "While we can answer the question posed at the end of the previous paragraph\n",
    "using probability theory, we are going to explore it by simulating the situation. Create\n",
    "a program that begins by selecting a random integer between 1 and 100. Save this\n",
    "integer as the maximum number encountered so far. After the initial integer has been\n",
    "selected, generate 99 additional random integers between 1 and 100. Check each\n",
    "integer as it is generated to see if it is larger than the maximum number encountered\n",
    "so far. If it is then your program should update the maximum number encountered\n",
    "and count the fact that you performed an update. Display each integer after you generate\n",
    "it. Include a notation with those integers which represent a new maximum.\n",
    "After you have displayed 100 integers your program should display the maximum\n",
    "value encountered, along with the number of times the maximum value\n",
    "was updated during the process. Partial output for the program is shown below,\n",
    "with… representing the remaining integers that your program will display. Run your\n",
    "program several times. Is the number of updates performed on the maximum value\n",
    "what you expected?"
   ]
  },
  {
   "cell_type": "code",
   "execution_count": 17,
   "id": "5830166d",
   "metadata": {},
   "outputs": [
    {
     "name": "stdout",
     "output_type": "stream",
     "text": [
      "94\n",
      "73\n",
      "88\n",
      "73\n",
      "21\n",
      "100 <== Update\n",
      "24\n",
      "12\n",
      "28\n",
      "84\n",
      "79\n",
      "75\n",
      "9\n",
      "19\n",
      "25\n",
      "45\n",
      "53\n",
      "97\n",
      "80\n",
      "39\n",
      "54\n",
      "57\n",
      "79\n",
      "23\n",
      "18\n",
      "64\n",
      "48\n",
      "31\n",
      "83\n",
      "29\n",
      "28\n",
      "59\n",
      "20\n",
      "60\n",
      "96\n",
      "32\n",
      "57\n",
      "65\n",
      "2\n",
      "47\n",
      "88\n",
      "12\n",
      "53\n",
      "27\n",
      "38\n",
      "42\n",
      "67\n",
      "67\n",
      "59\n",
      "65\n",
      "58\n",
      "78\n",
      "96\n",
      "64\n",
      "92\n",
      "1\n",
      "14\n",
      "88\n",
      "58\n",
      "25\n",
      "53\n",
      "64\n",
      "24\n",
      "71\n",
      "82\n",
      "57\n",
      "89\n",
      "47\n",
      "18\n",
      "83\n",
      "77\n",
      "66\n",
      "32\n",
      "57\n",
      "70\n",
      "51\n",
      "36\n",
      "96\n",
      "74\n",
      "61\n",
      "35\n",
      "29\n",
      "41\n",
      "97\n",
      "24\n",
      "100\n",
      "15\n",
      "6\n",
      "50\n",
      "30\n",
      "6\n",
      "24\n",
      "95\n",
      "64\n",
      "14\n",
      "35\n",
      "23\n",
      "12\n",
      "83\n",
      "44\n",
      "The maximum value found was 100\n",
      "The maximum value was updated 1 times\n"
     ]
    }
   ],
   "source": [
    "##\n",
    "# Find the maximum of 100 random integers and count the number of times the maximum value\n",
    "# is updated during the process.\n",
    "#\n",
    "from random import randrange\n",
    "NUM_ITEMS = 100\n",
    "# Generate the first number and display it\n",
    "mx_value = randrange(1, NUM_ITEMS + 1)\n",
    "print(mx_value)\n",
    "# Count the number of times the maximum value is updated\n",
    "num_updates = 0\n",
    "# For each of the remaining numbers\n",
    "for i in range(1, NUM_ITEMS):\n",
    "    # Generate a new random number\n",
    "    current = randrange(1, NUM_ITEMS + 1)\n",
    "    # If the generated number is the largest one we have seen so far\n",
    "    if current > mx_value:\n",
    "        # Update the maximum and count the update\n",
    "        mx_value = current\n",
    "        num_updates = num_updates + 1\n",
    "# Display the number, noting that an update occurred\n",
    "        print(current, \"<== Update\")\n",
    "    else:\n",
    "# Display the number\n",
    "        print(current)\n",
    "# Display the other results\n",
    "print(\"The maximum value found was\", mx_value)\n",
    "print(\"The maximum value was updated\", num_updates, \"times\")"
   ]
  },
  {
   "cell_type": "markdown",
   "id": "d5985b63",
   "metadata": {},
   "source": [
    "##FUNCTION"
   ]
  },
  {
   "cell_type": "code",
   "execution_count": 4,
   "id": "09155c80",
   "metadata": {},
   "outputs": [
    {
     "name": "stdout",
     "output_type": "stream",
     "text": [
      "**********\n",
      "*        *\n",
      "*        *\n",
      "**********\n"
     ]
    }
   ],
   "source": [
    "def drawBox():\n",
    "    print(\"**********\")\n",
    "    print(\"*        *\")\n",
    "    print(\"*        *\")\n",
    "    print(\"**********\")\n",
    "drawBox()"
   ]
  },
  {
   "cell_type": "code",
   "execution_count": 11,
   "id": "9fc2de7c",
   "metadata": {},
   "outputs": [
    {
     "name": "stdout",
     "output_type": "stream",
     "text": [
      "*********\n",
      "*       *\n",
      "*       *\n",
      "*       *\n",
      "*       *\n",
      "*       *\n",
      "*       *\n",
      "*       *\n",
      "*********\n"
     ]
    }
   ],
   "source": [
    "# @param width the width of the box\n",
    "# @param height the height of the box\n",
    "def drawBox(width, height):\n",
    "# A box that is smaller than 2x2 cannot be drawn by this function\n",
    "    if width < 2 or height < 2:\n",
    "        print(\"Error: The width or height is too small.\")\n",
    "        quit()\n",
    "    # Draw the top of the box\n",
    "    print(\"*\" * width)\n",
    "    # Draw the sides of the box\n",
    "    for i in range(height - 2):\n",
    "        print(\"*\" + \" \" * (width - 2) + \"*\")\n",
    "    # Draw the bottom of the box\n",
    "    print(\"*\" * width)\n",
    "drawBox(9,9)"
   ]
  },
  {
   "cell_type": "code",
   "execution_count": 12,
   "id": "d5a1e215",
   "metadata": {},
   "outputs": [
    {
     "name": "stdout",
     "output_type": "stream",
     "text": [
      "@@@@@@@@@@@@@@\n",
      "@............@\n",
      "@............@\n",
      "@............@\n",
      "@@@@@@@@@@@@@@\n"
     ]
    }
   ],
   "source": [
    "## Draw a box.\n",
    "# @param width the width of the box\n",
    "# @param height the height of the box\n",
    "# @param outline the character used for the outline of the box\n",
    "# @param fill the character used to fill the box\n",
    "def drawBox(width, height, outline, fill):\n",
    "# A box that is smaller than 2x2 cannot be drawn by this function\n",
    "    if width < 2 or height < 2:\n",
    "        print(\"Error: The width or height is too small.\")\n",
    "        quit()\n",
    "# Draw the top of the box\n",
    "    print(outline * width)\n",
    "# Draw the sides of the box\n",
    "    for i in range(height - 2):\n",
    "        print(outline + fill * (width - 2) + outline)\n",
    "# Draw the bottom of the box\n",
    "    print(outline * width)\n",
    "# Demonstrate the drawBox function\n",
    "drawBox(14, 5, \"@\", \".\")"
   ]
  },
  {
   "cell_type": "code",
   "execution_count": 13,
   "id": "d00ba47b",
   "metadata": {},
   "outputs": [
    {
     "name": "stdout",
     "output_type": "stream",
     "text": [
      "@@@@@@@@@@@@@@\n",
      "@............@\n",
      "@............@\n",
      "@............@\n",
      "@@@@@@@@@@@@@@\n"
     ]
    }
   ],
   "source": [
    "## Draw a box.\n",
    "# @param width the width of the box\n",
    "# @param height the height of the box\n",
    "# @param outline the character used for the outline of the box\n",
    "# @param fill the character used to fill the box\n",
    "def drawBox(width, height, outline=\"*\", fill=\" \"):\n",
    "# A box that is smaller than 2x2 cannot be drawn by this function\n",
    "    if width < 2 or height < 2:\n",
    "        print(\"Error: The width or height is too small.\")\n",
    "        quit()\n",
    "# Draw the top of the box\n",
    "    print(outline * width)\n",
    "# Draw the sides of the box\n",
    "    for i in range(height - 2):\n",
    "        print(outline + fill * (width - 2) + outline)\n",
    "# Draw the bottom of the box\n",
    "    print(outline * width)\n",
    "# Demonstrate the drawBox function\n",
    "drawBox(14, 5, \"@\", \".\")"
   ]
  },
  {
   "cell_type": "code",
   "execution_count": 17,
   "id": "055f4d15",
   "metadata": {},
   "outputs": [
    {
     "data": {
      "text/plain": [
       "25"
      ]
     },
     "execution_count": 17,
     "metadata": {},
     "output_type": "execute_result"
    }
   ],
   "source": [
    "## Compute the sum of the first n terms of a geometric sequence.\n",
    "# @param a the first term in the sequence\n",
    "# @param r the common ratio for the sequence\n",
    "# @param n the number of terms to include in the sum\n",
    "# @return the sum of the first n term of the sequence\n",
    "def sumGeometric(a, r, n):\n",
    "# Compute and return the sum when the common ratio is 1\n",
    "    if r == 1:\n",
    "        return a * n\n",
    "# Compute and return the sum when the common ratio is not 1\n",
    "    s = a * (1 - r ** n) / (1 - r)\n",
    "    return s\n",
    "sumGeometric(5, 1, 5)"
   ]
  },
  {
   "cell_type": "code",
   "execution_count": 2,
   "id": "1e2be36f",
   "metadata": {},
   "outputs": [
    {
     "name": "stdout",
     "output_type": "stream",
     "text": [
      "Enter the value of a (0 to quit): 5\n",
      "Enter the ratio, r: 2\n",
      "Enter the number of terms, n: 5\n",
      "The sum of the first 5 terms is 155.0\n",
      "Enter the value of a (0 to quit): 0\n"
     ]
    }
   ],
   "source": [
    "def sumGeometric(a, r, n):\n",
    "# Compute and return the sum when the common ratio is 1\n",
    "    if r == 1:\n",
    "        return a * n\n",
    "# Compute and return the sum when the common ratio is not 1\n",
    "    s = a * (1 - r ** n) / (1 - r)\n",
    "    return s\n",
    "def main():\n",
    "# Read the initial value for the first sequence\n",
    "    init = float(input(\"Enter the value of a (0 to quit): \"))\n",
    "# While the initial value is non-zero\n",
    "    while init != 0:\n",
    "# Read the ratio and number of terms\n",
    "        ratio = float(input(\"Enter the ratio, r: \"))\n",
    "        num = int(input(\"Enter the number of terms, n: \"))\n",
    "# Compute and display the total\n",
    "        total = sumGeometric(init, ratio, num)\n",
    "        print(\"The sum of the first\", num, \"terms is\", total)\n",
    "# Read the initial value for the next sequence\n",
    "        init = float(input(\"Enter the value of a (0 to quit): \"))\n",
    "# Call the main function\n",
    "main()"
   ]
  },
  {
   "cell_type": "markdown",
   "id": "c779977b",
   "metadata": {},
   "source": [
    "Write a function that takes the lengths of the two shorter sides of a right triangle as\n",
    "its parameters. Return the hypotenuse of the triangle, computed using Pythagorean\n",
    "theorem, as the function’s result. Include a main program that reads the lengths of\n",
    "the shorter sides of a right triangle from the user, uses your function to compute the\n",
    "length of the hypotenuse, and displays the result."
   ]
  },
  {
   "cell_type": "code",
   "execution_count": 4,
   "id": "21211fc1",
   "metadata": {},
   "outputs": [
    {
     "data": {
      "text/plain": [
       "2.8284271247461903"
      ]
     },
     "execution_count": 4,
     "metadata": {},
     "output_type": "execute_result"
    }
   ],
   "source": [
    "from math import sqrt\n",
    "def hypotenuse(a,o):\n",
    "\n",
    "# Compute and return the sum when the common ratio is not 1\n",
    "    h=(sqrt(a**2 + o**2))\n",
    "    return h\n",
    "hypotenuse(2,2)"
   ]
  },
  {
   "cell_type": "markdown",
   "id": "f3f1fc83",
   "metadata": {},
   "source": [
    "Write a function that takes three numbers as parameters, and returns the median value\n",
    "of those parameters as its result. Include a main program that reads three values from\n",
    "the user and displays their median."
   ]
  },
  {
   "cell_type": "code",
   "execution_count": 6,
   "id": "cea85815",
   "metadata": {},
   "outputs": [
    {
     "data": {
      "text/plain": [
       "4"
      ]
     },
     "execution_count": 6,
     "metadata": {},
     "output_type": "execute_result"
    }
   ],
   "source": [
    "def median(a, b, c):\n",
    "    if a<b and b<c or a>b and b > c:\n",
    "        return b\n",
    "    if b<a and a<c or b>a and a > c:\n",
    "        return a\n",
    "    if c<a and b<c or c>a and b > c:\n",
    "        return c\n",
    "median(3,4,5)"
   ]
  },
  {
   "cell_type": "code",
   "execution_count": 9,
   "id": "220172c4",
   "metadata": {},
   "outputs": [
    {
     "data": {
      "text/plain": [
       "4"
      ]
     },
     "execution_count": 9,
     "metadata": {},
     "output_type": "execute_result"
    }
   ],
   "source": [
    "def alternateMedian(a, b, c):\n",
    "    return a+b+c- min(a, b, c) - max(a, b, c)\n",
    "alternateMedian(3, 4, 5)"
   ]
  },
  {
   "cell_type": "code",
   "execution_count": 13,
   "id": "a774184b",
   "metadata": {},
   "outputs": [
    {
     "name": "stdout",
     "output_type": "stream",
     "text": [
      "Enter the first value: 3\n",
      "Enter the second value: 4\n",
      "Enter the third value: 5\n",
      "The median value is: 4.0\n"
     ]
    }
   ],
   "source": [
    "def main():\n",
    "    x = float(input(\"Enter the first value: \"))\n",
    "    y = float(input(\"Enter the second value: \"))\n",
    "    z = float(input(\"Enter the third value: \"))\n",
    "    print(\"The median value is:\", median(x, y, z))\n",
    "\n",
    "# Call the main function\n",
    "main()"
   ]
  },
  {
   "cell_type": "markdown",
   "id": "6ba4f2cd",
   "metadata": {},
   "source": [
    "Words like first, second and third are referred to as ordinal numbers. In this exercise,\n",
    "you will write a function that takes an integer as its only parameter and returns a\n",
    "string containing the appropriate English ordinal number as its only result. Your\n",
    "function must handle the integers between 1 and 12 (inclusive). It should return an\n",
    "empty string if the function is called with an argument outside of this range. Include\n",
    "a main program that demonstrates your function by displaying each integer from 1\n",
    "to 12 and its ordinal number. Your main program should only run when your file has\n",
    "not been imported into another program."
   ]
  },
  {
   "cell_type": "code",
   "execution_count": 33,
   "id": "7da0ae4c",
   "metadata": {},
   "outputs": [
    {
     "name": "stdout",
     "output_type": "stream",
     "text": [
      "Enter the integer: 55\n",
      "\n"
     ]
    }
   ],
   "source": [
    "def intToOrdinal():\n",
    "    n=int(input(\"Enter the integer: \"))\n",
    "    if n==1:\n",
    "        print (\"first\")\n",
    "    elif n==2:\n",
    "        print (\"second\")\n",
    "    elif n==3:\n",
    "        print (\"third\")\n",
    "    elif n==4:\n",
    "        print (\"fourth\")\n",
    "    elif n==5:\n",
    "        print (\"fifth\")\n",
    "    elif n==6:\n",
    "        print (\"sixth\")\n",
    "    elif n==7:\n",
    "        print (\"seventh\")\n",
    "    elif n==8:\n",
    "        print (\"eight\")\n",
    "    elif n==9:\n",
    "        print (\"ninth\")\n",
    "    elif n==10:\n",
    "        print (\"tenth\")\n",
    "    elif n==11:\n",
    "        print (\"eleventh\")\n",
    "    elif n==12:\n",
    "        print (\"twelve\")\n",
    "    else:\n",
    "        print(\"\")\n",
    "intToOrdinal()\n",
    "\n",
    "    "
   ]
  },
  {
   "cell_type": "markdown",
   "id": "da199ca7",
   "metadata": {},
   "source": [
    "The Twelve Days of Christmas is a repetitive song that describes an increasingly\n",
    "long list of gifts sent to one’s true love on each of 12 days. A single gift is sent on\n",
    "the first day. A new gift is added to the collection on each additional day, and then\n",
    "the complete collection is sent. The first three verses of the song are shown below.\n",
    "The complete lyrics are available on the Internet.\n",
    "On the first day of Christmas\n",
    "my true love sent to me:\n",
    "A partridge in a pear tree.\n",
    "On the second day of Christmas\n",
    "my true love sent to me:\n",
    "Two turtle doves,\n",
    "And a partridge in a pear tree.\n",
    "On the third day of Christmas\n",
    "my true love sent to me:\n",
    "Three French hens,\n",
    "Two turtle doves,\n",
    "And a partridge in a pear tree.\n",
    "Write a program that displays the complete lyrics for The Twelve Days of Christmas.\n",
    "Your program should include a function that displays one verse of the song. It\n",
    "will take the verse number as its only parameter. Then your program should call this\n",
    "function 12 times with integers that increase from 1 to 12.\n",
    "Each item that is sent to the recipient in the song should only appear in your\n",
    "program once, with the possible exception of the partridge. It may appear twice if\n",
    "that helps you handle the difference between “A partridge in a pear tree” in the first\n",
    "verse and “And a partridge in a pear tree” in the subsequent verses."
   ]
  },
  {
   "cell_type": "code",
   "execution_count": 44,
   "id": "720baf31",
   "metadata": {},
   "outputs": [
    {
     "ename": "ModuleNotFoundError",
     "evalue": "No module named 'int_ordinal'",
     "output_type": "error",
     "traceback": [
      "\u001b[1;31m---------------------------------------------------------------------------\u001b[0m",
      "\u001b[1;31mModuleNotFoundError\u001b[0m                       Traceback (most recent call last)",
      "\u001b[1;32m~\\AppData\\Local\\Temp/ipykernel_14860/2372880508.py\u001b[0m in \u001b[0;36m<module>\u001b[1;34m\u001b[0m\n\u001b[0;32m      1\u001b[0m \u001b[1;31m##\u001b[0m\u001b[1;33m\u001b[0m\u001b[1;33m\u001b[0m\u001b[0m\n\u001b[0;32m      2\u001b[0m \u001b[1;31m# Display the complete lyrics for the song The Twelve Days of Christmas.\u001b[0m\u001b[1;33m\u001b[0m\u001b[1;33m\u001b[0m\u001b[0m\n\u001b[1;32m----> 3\u001b[1;33m \u001b[1;32mfrom\u001b[0m \u001b[0mint_ordinal\u001b[0m \u001b[1;32mimport\u001b[0m \u001b[0mintToOrdinal\u001b[0m\u001b[1;33m\u001b[0m\u001b[1;33m\u001b[0m\u001b[0m\n\u001b[0m\u001b[0;32m      4\u001b[0m \u001b[1;31m## Display one verse of The Twelve Days of Christmas\u001b[0m\u001b[1;33m\u001b[0m\u001b[1;33m\u001b[0m\u001b[0m\n\u001b[0;32m      5\u001b[0m \u001b[1;31m# @param n the verse to display\u001b[0m\u001b[1;33m\u001b[0m\u001b[1;33m\u001b[0m\u001b[0m\n",
      "\u001b[1;31mModuleNotFoundError\u001b[0m: No module named 'int_ordinal'"
     ]
    }
   ],
   "source": [
    "\n",
    "##\n",
    "# Display the complete lyrics for the song The Twelve Days of Christmas.\n",
    "from int_ordinal import intToOrdinal\n",
    "## Display one verse of The Twelve Days of Christmas\n",
    "# @param n the verse to display\n",
    "# @return (None)\n",
    "def displayVerse(n):\n",
    "    print(\"On the\", intToOrdinal(n), \"day of Christmas\")\n",
    "    print(\"my true love sent to me:\")\n",
    "    if n >= 12:\n",
    "        print(\"Twelve drummers drumming,\")\n",
    "    if n >= 11:\n",
    "        print(\"Eleven pipers piping,\")\n",
    "    if n >= 10:\n",
    "        print(\"Ten lords a-leaping,\")\n",
    "    if n >= 9:\n",
    "        print(\"Nine ladies dancing,\")\n",
    "    if n >= 8:\n",
    "        print(\"Eight maids a-milking,\")\n",
    "    if n >= 7:\n",
    "        print(\"Seven swans a-swimming,\")\n",
    "    if n >= 6:\n",
    "        print(\"Six geese a-laying,\")\n",
    "    if n >= 5:\n",
    "        print(\"Five golden rings,\")\n",
    "    if n >= 4:\n",
    "        print(\"Four calling birds,\")\n",
    "    if n >= 3:\n",
    "        print(\"Three French hens,\")\n",
    "    if n >= 2:\n",
    "        print(\"Two turtle doves,\")\n",
    "    if n == 1:\n",
    "        print(\"A\", end=\" \")\n",
    "    else:\n",
    "        print(\"And a\", end=\" \")\n",
    "        print(\"partridge in a pear tree.\")\n",
    "        print()\n",
    "# Display all 12 verses of the song\n",
    "def main():\n",
    "    for verse in range(1, 13):\n",
    "        displayVerse(verse)\n",
    "# Call the main function\n",
    "main()\n"
   ]
  },
  {
   "cell_type": "markdown",
   "id": "73a2d786",
   "metadata": {},
   "source": [
    "Write a function that takes a string, s, as its first parameter, and the width of the\n",
    "window in characters, w, as its second parameter. Your function will return a new\n",
    "string that includes whatever leading spaces are needed so that s will be centered in\n",
    "the window when the new string is printed. The new string should be constructed in\n",
    "the following manner:\n",
    "• If the length of s is greater than or equal to the width of the window then s should\n",
    "be returned.\n",
    "4.5 Exercises 69\n",
    "• If the length of s is less than the width of the window then a string containing\n",
    "(len(s) - w) // 2 spaces followed by s should be returned.\n",
    "Write a main program that demonstrates your function by displaying multiple\n",
    "strings centered in the window."
   ]
  },
  {
   "cell_type": "code",
   "execution_count": 45,
   "id": "a5d75005",
   "metadata": {},
   "outputs": [
    {
     "name": "stdout",
     "output_type": "stream",
     "text": [
      "                                 A Famous Story\n",
      "                                      by:\n",
      "                                 Someone Famous\n",
      "\n",
      "Once upon a time...\n"
     ]
    }
   ],
   "source": [
    "##\n",
    "# Center a string of characters within a certain width.\n",
    "#\n",
    "WIDTH = 80\n",
    "## Create a new string that will be centered within a given width when it is printed.\n",
    "# @param s the string that will be centered\n",
    "# @param width the width in which the string will be centered\n",
    "# @return a new copy of s that contains the leading spaces needed to center s\n",
    "def center(s, width):\n",
    "# If the string is too long to center, then the original string is returned\n",
    "    if width < len(s):\n",
    "        return s\n",
    "# Compute the number of spaces needed and generate the result\n",
    "    spaces = (width - len(s)) // 2\n",
    "    result = \" \" * spaces + s\n",
    "    return result\n",
    "# Demonstrate the center function\n",
    "def main():\n",
    "    print(center(\"A Famous Story\", WIDTH))\n",
    "    print(center(\"by:\", WIDTH))\n",
    "    print(center(\"Someone Famous\", WIDTH))\n",
    "    print()\n",
    "    print(\"Once upon a time...\")\n",
    "# Call the main function\n",
    "main()"
   ]
  },
  {
   "cell_type": "markdown",
   "id": "b16fa83a",
   "metadata": {},
   "source": [
    "Many people do not use capital letters correctly, especially when typing on small\n",
    "devices like smart phones. To help address this situation, you will create a function\n",
    "that takes a string as its only parameter and returns a new copy of the string that has\n",
    "been correctly capitalized. In particular, your function must:\n",
    "• Capitalize the first non-space character in the string,\n",
    "• Capitalize the first non-space character after a period, exclamation mark or question\n",
    "mark, and\n",
    "• Capitalize a lowercase “i” if it is preceded by a space and followed by a space,\n",
    "period, exclamation mark, question mark or apostrophe.\n",
    "Implementing these transformations will correct most capitalization errors. For\n",
    "example, if the function is provided with the string “what time do i have to be there?\n",
    "what’s the address? this time i’ll try to be on time!” then it should return the string\n",
    "“What time do I have to be there? What’s the address? This time I’ll try to be on\n",
    "time!”. Include a main program that reads a string from the user, capitalizes it using\n",
    "your function, and displays the result."
   ]
  },
  {
   "cell_type": "code",
   "execution_count": 6,
   "id": "7f541622",
   "metadata": {},
   "outputs": [
    {
     "name": "stdout",
     "output_type": "stream",
     "text": [
      "Enter some text: n\n",
      "It is capitalized as: N\n"
     ]
    }
   ],
   "source": [
    "##\n",
    "# Improve the capitalization of a string.\n",
    "#\n",
    "## Capitalize the appropriate characters in a string\n",
    "# @param s the string that needs capitalization\n",
    "# @return a new string with the capitalization improved\n",
    "def capitalize(s):\n",
    "# Create a new copy of the string to return as the function’s result\n",
    "    result = s\n",
    "    pos = 0\n",
    "    while pos < len(s) and result[pos] == \" \":\n",
    "        pos = pos + 1\n",
    "    if pos < len(s):\n",
    "# Replace the character with its uppercase version without changing any other characters\n",
    "        result = result[0 : pos] + result[pos].upper() + \\\n",
    "        result[pos + 1 : len(result)]\n",
    "    # Capitalize the first letter that follows a ‘‘.’’, ‘‘!’’ or ‘‘?’’\n",
    "    pos = 0\n",
    "    while pos < len(s):\n",
    "        if result[pos] == \".\" or result[pos] == \"!\" or \\\n",
    "            result[pos] == \"?\":\n",
    "# Move past the ‘‘.’’, ‘‘!’’ or ‘‘?’’\n",
    "            pos = pos + 1\n",
    "# Move past any spaces\n",
    "            while pos < len(s) and result[pos] == \" \":\n",
    "                pos = pos + 1\n",
    "# If we haven’t reached the end of the string then replace the current character\n",
    "# with its uppercase equivalent\n",
    "            if pos < len(s):\n",
    "                result = result[0 : pos] + \\\n",
    "                result[pos].upper() + \\\n",
    "                result[pos + 1 : len(result)]\n",
    "# Move to the next character\n",
    "        pos = pos + 1\n",
    "    # Capitalize i when it is preceded by a space and followed by a space, period, exclamation\n",
    "# mark, question mark or apostrophe\n",
    "        pos = 1\n",
    "    while pos < len(s) - 1:\n",
    "        if result[pos - 1] == \" \" and result[pos] == \"i\" and \\\n",
    "            (result[pos + 1] == \" \" or result[pos + 1] == \".\" or \\\n",
    "            result[pos + 1] == \"!\" or result[pos + 1] == \"?\" or \\\n",
    "            result[pos + 1] == \"’\"):\n",
    "# Replace the i with an I without changing any other characters\n",
    "            result = result[0 : pos] + \"I\" + \\\n",
    "          result[pos + 1 : len(result)]\n",
    "        pos = pos + 1\n",
    "    return result\n",
    "# Demonstrate the capitalize function\n",
    "def main():\n",
    "    s = input(\"Enter some text: \")\n",
    "    capitalized = capitalize(s)\n",
    "    print(\"It is capitalized as:\", capitalized)\n",
    "# Call the main function\n",
    "main()"
   ]
  },
  {
   "cell_type": "markdown",
   "id": "fac12088",
   "metadata": {},
   "source": [
    "In this exercise you will write a function named isInteger that determines\n",
    "whether or not the characters in a string represent a valid integer. When determining\n",
    "if a string represents an integer you should ignore any leading or trailing\n",
    "white space. Once this white space is ignored, a string represents an integer if its\n",
    "length is at least one and it only contains digits, or if its first character is either +\n",
    "or - and the first character is followed by one or more characters, all of which are\n",
    "digits.\n",
    "Write a main program that reads a string from the user and reports whether or\n",
    "not it represents an integer. Ensure that the main program will not run if the file\n",
    "containing your solution is imported into another program."
   ]
  },
  {
   "cell_type": "code",
   "execution_count": 4,
   "id": "df5f14d9",
   "metadata": {},
   "outputs": [
    {
     "name": "stdout",
     "output_type": "stream",
     "text": [
      "Enter a string: 1\n",
      "That string represents an integer.\n"
     ]
    }
   ],
   "source": [
    "##\n",
    "# Determine whether or not a string entered by the user is an integer.\n",
    "#\n",
    "## Determine if a string contains a valid representation of an integer\n",
    "# @param s the string to check\n",
    "# @return True if s represents an integer. False otherwise.\n",
    "#\n",
    "def isInteger(s):\n",
    "# Remove whitespace from the beginning and end of the string\n",
    "    s = s.strip()\n",
    "    # Determine if the remaining characters form a valid integer\n",
    "    if (s[0] == \"+\" or s[0] == \"-\") and s[1:].isdigit():\n",
    "        return True\n",
    "    if s.isdigit():\n",
    "        return True\n",
    "    return False\n",
    "# Demonstrate the isInteger function\n",
    "def main():\n",
    "    s = input(\"Enter a string: \")\n",
    "    if isInteger(s):\n",
    "        print(\"That string represents an integer.\")\n",
    "    else:\n",
    "        print(\"That string does not represent an integer.\")\n",
    "# Only call the main function when this file has not been imported\n",
    "if __name__ == \"__main__\":\n",
    "    main()"
   ]
  },
  {
   "cell_type": "markdown",
   "id": "dc09a6ce",
   "metadata": {},
   "source": [
    "A prime number is an integer greater than one that is only divisible by one and itself.\n",
    "Write a function that determines whether or not its parameter is prime, returning\n",
    "True if it is, and False otherwise. Write a main program that reads an integer\n",
    "from the user and displays a message indicating whether or not it is prime. Ensure\n",
    "that the main program will not run if the file containing your solution is imported\n",
    "into another program"
   ]
  },
  {
   "cell_type": "code",
   "execution_count": 13,
   "id": "a27ec13d",
   "metadata": {},
   "outputs": [
    {
     "name": "stdout",
     "output_type": "stream",
     "text": [
      "Enter an integer: 57\n",
      "57 is a prime number.\n"
     ]
    }
   ],
   "source": [
    "## Determine whether or not a number is prime\n",
    "# @param n the integer to test\n",
    "# @return True if the number is prime, False otherwise\n",
    "def isPrime(n):\n",
    "    if n <= 1:\n",
    "        return False\n",
    "#Check each number from 2 up to but not including n to see if it divides evenly into n\n",
    "    for i in range(2, n):\n",
    "        if n % i == 0:\n",
    "            return False\n",
    "        else:\n",
    "            return True\n",
    "def main():\n",
    "    value = int(input(\"Enter an integer: \"))\n",
    "    if isPrime(value):\n",
    "        print(value, \"is a prime number.\")\n",
    "    else:\n",
    "        print(value, \"is not a prime number.\")\n",
    "# Call the main function if the file has not been imported\n",
    "if __name__ == \"__main__\":\n",
    "    main()"
   ]
  },
  {
   "cell_type": "markdown",
   "id": "107fb546",
   "metadata": {},
   "source": [
    "Write a function that generates a random password. The password should have a\n",
    "random length of between 7 and 10 characters. Each character should be randomly\n",
    "selected from positions 33 to 126 in the ASCII table. Your function will not take\n",
    "any parameters. It will return the randomly generated password as its only result.\n",
    "Display the randomly generated password in your file’s main program. Your main\n",
    "program should only run when your solution has not been imported into another file"
   ]
  },
  {
   "cell_type": "code",
   "execution_count": 2,
   "id": "a5d08a46",
   "metadata": {},
   "outputs": [
    {
     "name": "stdout",
     "output_type": "stream",
     "text": [
      "Your random password is: {J~~1%,1jz\n"
     ]
    }
   ],
   "source": [
    "##\n",
    "# Generate and display a random password containing between 7 and 10 characters.\n",
    "#\n",
    "from random import randint\n",
    "SHORTEST = 7\n",
    "LONGEST = 10\n",
    "MIN_ASCII = 33\n",
    "MAX_ASCII = 126\n",
    "## Generate a random password\n",
    "# @return a string containing a random password\n",
    "def randomPassword():\n",
    "# Select a random length for the password\n",
    "    randomLength = randint(SHORTEST, LONGEST)\n",
    "# Generate an appropriate number of random characters, adding each one to the end of result\n",
    "    result = \"\"\n",
    "    for i in range(randomLength):\n",
    "        randomChar = chr(randint(MIN_ASCII, MAX_ASCII))\n",
    "        result = result + randomChar\n",
    "# Return the random password\n",
    "    return result\n",
    "# Generate and display a random password\n",
    "def main():\n",
    "    print(\"Your random password is:\", randomPassword())\n",
    "# Call the main function only if the module is not imported\n",
    "if __name__ == \"__main__\":\n",
    "    main()"
   ]
  },
  {
   "cell_type": "markdown",
   "id": "175a9753",
   "metadata": {},
   "source": [
    "In this exercise you will write a function that determines whether or not a password\n",
    "is good.We will define a good password to be a one that is at least 8 characters long\n",
    "and contains at least one uppercase letter, at least one lowercase letter, and at least\n",
    "one number. Your function should return True if the password passed to it as its\n",
    "only parameter is good. Otherwise it should return False. Include a main program\n",
    "that reads a password from the user and reports whether or not it is good. Ensure\n",
    "that your main program only runs when your solution has not been imported into\n",
    "another file."
   ]
  },
  {
   "cell_type": "code",
   "execution_count": 3,
   "id": "ae70b792",
   "metadata": {},
   "outputs": [
    {
     "name": "stdout",
     "output_type": "stream",
     "text": [
      "Enter a password: @olamilsekaN00007\n",
      "That’s a good password.\n"
     ]
    }
   ],
   "source": [
    "##\n",
    "# Check whether or not a password is good.\n",
    "#\n",
    "## Check whether or not a password is good. A good password is at least 8 characters and\n",
    "# contains an uppercase letter, a lowercase letter and a number.\n",
    "# @param password the password to check\n",
    "# @return True if the password is good, False otherwise\n",
    "def checkPassword(password):\n",
    "    has_upper = False\n",
    "    has_lower = False\n",
    "    has_num = False\n",
    "    # Check each character in the password and see which requirement it meets\n",
    "    for ch in password:\n",
    "        if ch >= \"A\" and ch <= \"Z\":\n",
    "            has_upper = True\n",
    "        elif ch >= \"a\" and ch <= \"z\":\n",
    "            has_lower = True\n",
    "        elif ch >= \"0\" and ch <= \"9\":\n",
    "            has_num = True\n",
    "    # If the password has all 4 properties\n",
    "    if len(password) >= 8 and has_upper and has_lower and has_num:\n",
    "        return True\n",
    "    # The password is missing at least one property\n",
    "    return False\n",
    "# Demonstrate the password checking function\n",
    "def main():\n",
    "    p = input(\"Enter a password: \")\n",
    "    if checkPassword(p):\n",
    "        print(\"That’s a good password.\")\n",
    "    else:\n",
    "        print(\"That isn’t a good password.\")\n",
    "# Call the main function only if the file has not been imported into another program\n",
    "if __name__ == \"__main__\":\n",
    "    main()"
   ]
  },
  {
   "cell_type": "markdown",
   "id": "a4e1a176",
   "metadata": {},
   "source": [
    "Write a program that allows the user to convert a number from one base to another.\n",
    "Your program should support bases between 2 and 16 for both the input number and\n",
    "the result number. If the user chooses a base outside of this range then an appropriate\n",
    "error message should be displayed and the program should exit. Divide your program\n",
    "into several functions, including a function that converts from an arbitrary base to\n",
    "base 10, a function that converts from base 10 to an arbitrary base, and a main\n",
    "program that reads the bases and input number from the user. You may find your\n",
    "solutions to Exercises 81, 82 and 104 helpful when completing this exercise."
   ]
  },
  {
   "cell_type": "markdown",
   "id": "b112182a",
   "metadata": {},
   "source": [
    "exercise : Write a function that takes two positive integers that represent the numerator and\n",
    "denominator of a fraction as its only parameters. The body of the function should\n",
    "reduce the fraction to lowest terms and then return both the numerator and denominator\n",
    "of the reduced fraction as its result. For example, if the parameters passed\n",
    "to the function are 6 and 63 then the function should return 2 and 21. Include a\n",
    "main program that allows the user to enter a numerator and denominator. Then your\n",
    "program should display the reduced fraction."
   ]
  },
  {
   "cell_type": "code",
   "execution_count": 1,
   "id": "5992b6d8",
   "metadata": {},
   "outputs": [
    {
     "name": "stdout",
     "output_type": "stream",
     "text": [
      "Enter the numerator: 25\n",
      "Enter the denominator: 500\n",
      "25/500 can be reduced to 1/20.\n"
     ]
    }
   ],
   "source": [
    "##\n",
    "# Reduce a fraction to lowest terms.\n",
    "#\n",
    "## Compute the greatest common divisor of two integers\n",
    "# @param n the first integer under consideration (must be non-zero)\n",
    "# @param m the second integer under consideration (must be non-zero)\n",
    "# @return the greatest common divisor of the integers\n",
    "def gcd(n, m):\n",
    "# Initialize d to the smaller of n and m\n",
    "    d = min(n, m)\n",
    "    # Use a while loop to find the greatest common divisor of n and m\n",
    "    while n % d != 0 or m % d != 0:\n",
    "        d=d-1\n",
    "    return d\n",
    "## Reduce a fraction to lowest terms\n",
    "# @param num the integer numerator of the fraction\n",
    "# @param den the integer denominator of the fraction (must be non-zero)\n",
    "# @return the numerator and denominator of the reduced fraction\n",
    "def reduce(num, den):\n",
    "# If the numerator is 0 then the reduced fraction is0/1\n",
    "    if num == 0:\n",
    "        return (0, 1)\n",
    "# Compute the greatest common divisor of the numerator and denominator\n",
    "    g = gcd(num, den)\n",
    "# Divide both the numerator and denominator by the GCD and return the result\n",
    "    return (num // g, den // g)\n",
    "# Read a fraction from the user and display the equivalent lowest terms fraction\n",
    "def main():\n",
    "# Read the numerator and denominator from the user\n",
    "    num = int(input(\"Enter the numerator: \"))\n",
    "    den = int(input(\"Enter the denominator: \"))\n",
    "# Compute the reduced fraction\n",
    "    (n, d) = reduce(num, den)\n",
    "# Display the result\n",
    "    print(\"%d/%d can be reduced to %d/%d.\" % (num, den, n, d))\n",
    "# Call the main function\n",
    "main()"
   ]
  },
  {
   "cell_type": "markdown",
   "id": "0374cd9c",
   "metadata": {},
   "source": [
    "Many recipe books still use cups, tablespoons and teaspoons to describe the volumes\n",
    "of ingredients used when cooking or baking. While such recipes are easy enough to\n",
    "follow if you have the appropriate measuring cups and spoons, they can be difficult\n",
    "to double, triple or quadruple when cooking Christmas dinner for the entire extended\n",
    "family. For example, a recipe that calls for 4 tablespoons of an ingredient requires 16\n",
    "tablespoons when quadrupled. However, 16 tablespoons would be better expressed\n",
    "(and easier to measure) as 1 cup.\n",
    "Write a function that expresses an imperial volume using the largest units possible.\n",
    "The function will take the number of units as its first parameter, and the unit\n",
    "of measure (cup, tablespoon or teaspoon) as its second parameter. It will return a\n",
    "string representing the measure using the largest possible units as its only result. For\n",
    "example, if the function is provided with parameters representing 59 teaspoons then\n",
    "it should return the string “1 cup, 3 tablespoons, 2 teaspoons”."
   ]
  },
  {
   "cell_type": "code",
   "execution_count": 3,
   "id": "da43d060",
   "metadata": {},
   "outputs": [
    {
     "name": "stdout",
     "output_type": "stream",
     "text": [
      "59 teaspoons is 1 cup, 3 tablespoons, 2 teaspoons.\n",
      "59 tablespoons is 3 cups, 11 tablespoons.\n",
      "1 teaspoon is 1 teaspoon.\n",
      "1 tablespoon is 1 tablespoon.\n",
      "1 cup is 1 cup.\n",
      "4 cups is 4 cups.\n",
      "3 teaspoons is 1 tablespoon.\n",
      "6 teaspoons is 2 tablespoons.\n",
      "95 teaspoons is 1 cup, 15 tablespoons, 2 teaspoons.\n",
      "96 teaspoons is 2 cups.\n",
      "97 teaspoons is 2 cups, 1 teaspoon.\n",
      "98 teaspoons is 2 cups, 2 teaspoons.\n",
      "99 teaspoons is 2 cups, 1 tablespoon.\n"
     ]
    }
   ],
   "source": [
    "##\n",
    "# Reduce an imperial measurement so that it is expressed using the largest possible units of\n",
    "# measure. For example, 59 teaspoons is reduced to 1 cup, 3 tablespoons, 2 teaspoons.\n",
    "#\n",
    "TSP_PER_TBSP = 3\n",
    "TSP_PER_CUP = 48\n",
    "## Reduce an imperial measurement so that it is expressed using the largest possible\n",
    "# units of measure\n",
    "# @param num the number of units that need to be reduced\n",
    "# @param unit the unit of measure (‘‘cup’’, ‘‘tablespoon’’ or ‘‘teaspoon’’)\n",
    "# @return a string representing the measurement in reduced form\n",
    "def reduceMeasure(num, unit):\n",
    "# Convert the unit to lowercase\n",
    "    unit = unit.lower()\n",
    "    # Compute the number of teaspoons that the parameters represent\n",
    "    if unit == \"teaspoon\" or unit == \"teaspoons\":\n",
    "        teaspoons = num\n",
    "    elif unit == \"tablespoon\" or unit == \"tablespoons\":\n",
    "        teaspoons = num * TSP_PER_TBSP\n",
    "    elif unit == \"cup\" or unit == \"cups\":\n",
    "        teaspoons = num * TSP_PER_CUP\n",
    "    # Convert the number of teaspoons to the largest possible units of measure\n",
    "    cups = teaspoons // TSP_PER_CUP\n",
    "    teaspoons = teaspoons - cups * TSP_PER_CUP\n",
    "    tablespoons = teaspoons // TSP_PER_TBSP\n",
    "    teaspoons = teaspoons - tablespoons * TSP_PER_TBSP\n",
    "    # Create a string to hold the result\n",
    "    result = \"\"\n",
    "# Add the number of cups to the result string (if any)\n",
    "    if cups > 0:\n",
    "        result = result + str(cups) + \" cup\"\n",
    "# Make cup plural if there is more than one\n",
    "        if cups > 1:\n",
    "                result = result + \"s\"\n",
    "# Add the number of tablespoons to the result string (if any)\n",
    "    if tablespoons > 0:\n",
    "# Include a comma if there were some cups\n",
    "        if result != \"\":\n",
    "            result = result + \", \"\n",
    "        result = result + str(tablespoons) + \" tablespoon\"\n",
    "# Make tablespoon plural if there is more than one\n",
    "        if tablespoons > 1:\n",
    "            result = result + \"s\"\n",
    "# Add the number of teaspoons to the result string (if any)\n",
    "    if teaspoons > 0:\n",
    "# Include a comma if there were some cups and/or tablespoons\n",
    "        if result != \"\":\n",
    "            result = result + \", \"\n",
    "        result = result + str(teaspoons) + \" teaspoon\"\n",
    "# Make teaspoons plural if there is more than one\n",
    "        if teaspoons > 1:\n",
    "            result = result + \"s\"\n",
    "# Handle the case where the number of units was 0\n",
    "    if result == \"\":\n",
    "        result = \"0 teaspoons\"\n",
    "    return result\n",
    "# Demonstrate the reduceMeasure function by performing several reductions\n",
    "def main():\n",
    "    print(\"59 teaspoons is %s.\" % reduceMeasure(59, \"teaspoons\"))\n",
    "    print(\"59 tablespoons is %s.\" % \\\n",
    "    reduceMeasure(59, \"tablespoons\"))\n",
    "    print(\"1 teaspoon is %s.\" % reduceMeasure(1, \"teaspoon\"))\n",
    "    print(\"1 tablespoon is %s.\" % reduceMeasure(1, \"tablespoon\"))\n",
    "    print(\"1 cup is %s.\" % reduceMeasure(1, \"cup\"))\n",
    "    print(\"4 cups is %s.\" % reduceMeasure(4, \"cups\"))\n",
    "    print(\"3 teaspoons is %s.\" % reduceMeasure(3, \"teaspoons\"))\n",
    "    print(\"6 teaspoons is %s.\" % reduceMeasure(6, \"teaspoons\"))\n",
    "    print(\"95 teaspoons is %s.\" % reduceMeasure(95, \"teaspoons\"))\n",
    "    print(\"96 teaspoons is %s.\" % reduceMeasure(96, \"teaspoons\"))\n",
    "    print(\"97 teaspoons is %s.\" % reduceMeasure(97, \"teaspoons\"))\n",
    "    print(\"98 teaspoons is %s.\" % reduceMeasure(98, \"teaspoons\"))\n",
    "    print(\"99 teaspoons is %s.\" % reduceMeasure(99, \"teaspoons\"))\n",
    "# Call the main function\n",
    "main()"
   ]
  },
  {
   "cell_type": "markdown",
   "id": "0305e0e6",
   "metadata": {},
   "source": [
    "A magic date is a date where the day multiplied by the month is equal to the two digit\n",
    "year. For example, June 10, 1960 is amagic date because June is the sixth month, and\n",
    "6 times 10 is 60, which is equal to the two digit year. Write a function that determines\n",
    "whether or not a date is a magic date. Use your function to create a main program\n",
    "that finds and displays all of the magic dates in the 20th century. You will probably\n",
    "find your solution to Exercise 106 helpful when completing this exercise."
   ]
  },
  {
   "cell_type": "markdown",
   "id": "137ef551",
   "metadata": {},
   "source": [
    "# LIST"
   ]
  },
  {
   "cell_type": "code",
   "execution_count": 1,
   "id": "b0487594",
   "metadata": {},
   "outputs": [
    {
     "name": "stdout",
     "output_type": "stream",
     "text": [
      "[2.71, 3.14, 1.41, 1.62]\n"
     ]
    }
   ],
   "source": [
    "data = [2.71, 3.14, 1.41, 1.62]\n",
    "print(data)"
   ]
  },
  {
   "cell_type": "code",
   "execution_count": 2,
   "id": "bd0cecc6",
   "metadata": {},
   "outputs": [
    {
     "name": "stdout",
     "output_type": "stream",
     "text": [
      "3.14\n"
     ]
    }
   ],
   "source": [
    "data = [2.71, 3.14, 1.41, 1.62]\n",
    "print(data[1])"
   ]
  },
  {
   "cell_type": "code",
   "execution_count": 3,
   "id": "6fd101e4",
   "metadata": {},
   "outputs": [
    {
     "name": "stdout",
     "output_type": "stream",
     "text": [
      "[2.71, 3.14, 2.3, 1.62]\n"
     ]
    }
   ],
   "source": [
    "data = [2.71, 3.14, 1.41, 1.62]\n",
    "data[2] = 2.30\n",
    "print(data)"
   ]
  },
  {
   "cell_type": "code",
   "execution_count": 5,
   "id": "bb6d24b5",
   "metadata": {},
   "outputs": [
    {
     "name": "stdout",
     "output_type": "stream",
     "text": [
      "The total is 8.879999999999999\n"
     ]
    }
   ],
   "source": [
    "# Initialize data and total\n",
    "data = [2.71, 3.14, 1.41, 1.62]\n",
    "total = 0\n",
    "# Total the values in data\n",
    "for value in data:\n",
    "    total = total + value\n",
    "# Display the total\n",
    "print(\"The total is\", total)"
   ]
  },
  {
   "cell_type": "code",
   "execution_count": 9,
   "id": "b2e8f537",
   "metadata": {},
   "outputs": [
    {
     "name": "stdout",
     "output_type": "stream",
     "text": [
      "The largest value is 3.14 which is at index 2\n"
     ]
    }
   ],
   "source": [
    "# Initialize data and largest pos\n",
    "data = [1.62, 1.41, 3.14, 2.71]\n",
    "largest_pos = 0\n",
    "# Find the position of the largest element\n",
    "for i in range(1, len(data)):\n",
    "    if data[i] > data[largest_pos]:\n",
    "        largest_pos = i\n",
    "# Display the result\n",
    "print(\"The largest value is\", data[largest_pos], \\\n",
    "\"which is at index\", largest_pos)"
   ]
  },
  {
   "cell_type": "code",
   "execution_count": 11,
   "id": "397c2dbb",
   "metadata": {},
   "outputs": [
    {
     "name": "stdout",
     "output_type": "stream",
     "text": [
      "The first positive number is at index 2\n"
     ]
    }
   ],
   "source": [
    "# Initialize data\n",
    "data = [0, -1, 4, 1, 0]\n",
    "# Loop while i is a valid index and the value at index i is not a positive value\n",
    "i = 0\n",
    "while i < len(data) and data[i] <= 0:\n",
    "    i = i + 1\n",
    "# If i is less than the length of data then the loop terminated because a positive number was\n",
    "# found. Otherwise i will be equal to the length of data, indicating that a positive number\n",
    "# was not found.\n",
    "if i < len(data):\n",
    "    print(\"The first positive number is at index\", i)\n",
    "else:\n",
    "    print(\"The list does not contain a positive number\")"
   ]
  },
  {
   "cell_type": "code",
   "execution_count": 12,
   "id": "61658ab7",
   "metadata": {},
   "outputs": [
    {
     "name": "stdout",
     "output_type": "stream",
     "text": [
      "[2.71, 3.14, 1.41, 1.62, 2.3]\n"
     ]
    }
   ],
   "source": [
    "data = [2.71, 3.14, 1.41, 1.62]\n",
    "data.append(2.30)\n",
    "print(data)"
   ]
  },
  {
   "cell_type": "code",
   "execution_count": 13,
   "id": "2fa90274",
   "metadata": {},
   "outputs": [
    {
     "name": "stdout",
     "output_type": "stream",
     "text": [
      "[2.71, 3.14, 2.3, 1.41, 1.62]\n"
     ]
    }
   ],
   "source": [
    "data = [2.71, 3.14, 1.41, 1.62]\n",
    "data.insert(2, 2.30)\n",
    "print(data)"
   ]
  },
  {
   "cell_type": "code",
   "execution_count": 14,
   "id": "1b210489",
   "metadata": {},
   "outputs": [
    {
     "name": "stdout",
     "output_type": "stream",
     "text": [
      "[2.71, 3.14]\n",
      "1.41\n"
     ]
    }
   ],
   "source": [
    "data = [2.71, 3.14, 1.41, 1.62]\n",
    "data.remove(1.62) # Remove 1.62 from the list\n",
    "last = data.pop() # Remove the last element from the list\n",
    "print(data)\n",
    "print(last)"
   ]
  },
  {
   "cell_type": "code",
   "execution_count": 15,
   "id": "8f75e6f1",
   "metadata": {},
   "outputs": [
    {
     "name": "stdout",
     "output_type": "stream",
     "text": [
      "[2.71, 1.62, 1.41, 3.14]\n"
     ]
    }
   ],
   "source": [
    "# Create a list\n",
    "data = [2.71, 3.14, 1.41, 1.62]\n",
    "# Swap the element at index 1 with the element at index 3\n",
    "temp = data[1]\n",
    "data[1] = data[3]\n",
    "data[3] = temp\n",
    "# Display the modified list\n",
    "print(data)"
   ]
  },
  {
   "cell_type": "code",
   "execution_count": 17,
   "id": "0f1761cb",
   "metadata": {},
   "outputs": [
    {
     "name": "stdout",
     "output_type": "stream",
     "text": [
      "Enter a number (blank line to quit): 2\n",
      "Enter a number (blank line to quit): 3\n",
      "Enter a number (blank line to quit): 4\n",
      "Enter a number (blank line to quit): 6\n",
      "Enter a number (blank line to quit): 1\n",
      "Enter a number (blank line to quit): \n",
      "1.0\n",
      "2.0\n",
      "3.0\n",
      "4.0\n",
      "6.0\n"
     ]
    }
   ],
   "source": [
    "# Create a new, empty list\n",
    "values = []\n",
    "# Read values from the user and store them in a list until a blank line is entered\n",
    "line = input(\"Enter a number (blank line to quit): \")\n",
    "while line != \"\":\n",
    "    num = float(line)\n",
    "    values.append(num)\n",
    "    line = input(\"Enter a number (blank line to quit): \")\n",
    "# Sort the values into ascending order\n",
    "values.sort()\n",
    "# Display the values\n",
    "for v in values:\n",
    "    print(v)"
   ]
  },
  {
   "cell_type": "code",
   "execution_count": 18,
   "id": "64c09259",
   "metadata": {},
   "outputs": [
    {
     "name": "stdout",
     "output_type": "stream",
     "text": [
      "Enter an integer (blank line to finish): 2\n",
      "Enter an integer (blank line to finish): 3\n",
      "Enter an integer (blank line to finish): \n",
      "Enter one additional integer: 5\n",
      "5 is not in the list\n"
     ]
    }
   ],
   "source": [
    "# Read integers from the user until a blank line is entered and store them all in data\n",
    "data = []\n",
    "line = input(\"Enter an integer (blank line to finish): \")\n",
    "while line != \"\":\n",
    "    n = int(line)\n",
    "    data.append(n)\n",
    "    line = input(\"Enter an integer (blank line to finish): \")\n",
    "# Read an additional integer from the user\n",
    "x = int(input(\"Enter one additional integer: \"))\n",
    "# Display the index of the first occurrence of x (if it is present in the list)\n",
    "if x in data:\n",
    "    print(\"The first\", x, \"is at index\", data.index(x))\n",
    "else:\n",
    "    print(x, \"is not in the list\")"
   ]
  },
  {
   "cell_type": "markdown",
   "id": "335b7d6c",
   "metadata": {},
   "source": [
    "Write a program that reads integers from the user and stores them in a list. Your\n",
    "program should continue reading values until the user enters 0. Then it should display\n",
    "all of the values entered by the user (except for the 0) in ascending order, with one\n",
    "value appearing on each line. Use either the sort method or the sorted function\n",
    "to sort the list."
   ]
  },
  {
   "cell_type": "code",
   "execution_count": 3,
   "id": "94082cd6",
   "metadata": {},
   "outputs": [
    {
     "name": "stdout",
     "output_type": "stream",
     "text": [
      "Enter a number (blank line to quit): 7\n",
      "Enter a number (blank line to quit): 5\n",
      "Enter a number (blank line to quit): 3\n",
      "Enter a number (blank line to quit): 0\n",
      "3.0\n",
      "5.0\n",
      "7.0\n"
     ]
    }
   ],
   "source": [
    "# Create a new, empty list\n",
    "values = []\n",
    "# Read values from the user and store them in a list until a blank line is entered\n",
    "line = input(\"Enter a number (0 to quit): \")\n",
    "while line != \"0\":\n",
    "    num = float(line)\n",
    "    values.append(num)\n",
    "    line = input(\"Enter a number (0 to quit): \")\n",
    "# Sort the values into ascending order\n",
    "values.sort()\n",
    "# Display the values\n",
    "for v in values:\n",
    "    print(v)"
   ]
  },
  {
   "cell_type": "code",
   "execution_count": 1,
   "id": "9b508488",
   "metadata": {},
   "outputs": [
    {
     "name": "stdout",
     "output_type": "stream",
     "text": [
      "enter an integer(0 to quit)8\n",
      "enter an integer(0 to quit)4\n",
      "enter an integer(0 to quit)5\n",
      "enter an integer(0 to quit)6\n",
      "enter an integer(0 to quit)3\n",
      "enter an integer(0 to quit)0\n",
      "The values, sorted into ascending orders, are:\n",
      "3\n",
      "4\n",
      "5\n",
      "6\n",
      "8\n"
     ]
    }
   ],
   "source": [
    "## dispaly a list of integers entered by the user in ascending order\n",
    "## start with an empty set\n",
    "data=[]\n",
    "##read values and ass them to the list until the user enter 0\n",
    "num=int(input(\"enter an integer(0 to quit)\"))\n",
    "while num !=0:\n",
    "    data.append(num)\n",
    "    num=int(input(\"enter an integer(0 to quit)\"))\n",
    "#sort the values\n",
    "data.sort()\n",
    "#dispaly the values in ascending order\n",
    "print(\"The values, sorted into ascending orders, are:\")\n",
    "for num in data:\n",
    "    print(num)"
   ]
  },
  {
   "cell_type": "markdown",
   "id": "995c0ec9",
   "metadata": {},
   "source": [
    "When analysing data collected as part of a science experiment it may be desirable to remove the most extreme values before performing other calculations. Write a function that takes a list of values and an non-negative integer, n, as its parameters.\n",
    "The function should create a new copy of the list with the n largest elements and the n smallest elements removed. Then it should return the new copy of the list as the function’s only result. The order of the elements in the returned list does not have to match the order of the elements in the original list.\n",
    "Write a main program that demonstrates your function. It should read a list of numbers from the user and remove the two largest and two smallest values from it by calling the function described previously. Display the list with the outliers removed,\n",
    "followed by the original list. Your program should generate an appropriate error message if the user enters less than 4 values."
   ]
  },
  {
   "cell_type": "code",
   "execution_count": 6,
   "id": "3db4cda9",
   "metadata": {},
   "outputs": [
    {
     "name": "stdout",
     "output_type": "stream",
     "text": [
      "Enter a value (blank line to quit):34567\n",
      "Enter a value (blank line to quite):6543\n",
      "Enter a value (blank line to quite):6543\n",
      "Enter a value (blank line to quite):6543\n",
      "Enter a value (blank line to quite):\n",
      "with the outliers removed: [6543.0, 6543.0]\n",
      "the original data : [34567.0, 6543.0, 6543.0, 6543.0]\n"
     ]
    }
   ],
   "source": [
    "# Remove outlier\n",
    "#remove outliers from a list a values \n",
    "# @ param data the list of values to process\n",
    "#@ param num_outliers the number of smallest and largest values to remove\n",
    "# @return a new copy of data where the values are sorted into ascending order and the\n",
    "# smallest and largest values have been removed\n",
    "\n",
    "def removeOutliers (data, num_outliers):\n",
    "    #create a new copy of the list that is in sorted order\n",
    "    retval=sorted(data)\n",
    "    #remove num_outeliers largest values\n",
    "    for i in range (num_outliers):\n",
    "        retval.pop()\n",
    "    #return the result\n",
    "    return retval\n",
    "#read data from the user and remove the two largest and two smallest values\n",
    "def main():\n",
    "    #read values from the user until a blank line is entered\n",
    "    values=[]\n",
    "    s= input (\"Enter a value (blank line to quit):\")\n",
    "    while s !=\"\":\n",
    "        num= float(s)\n",
    "        values.append(num)\n",
    "        s= input(\"Enter a value (blank line to quite):\")\n",
    "    #Dispaly the result or an appropiate error message \n",
    "    if len(values)< 4:\n",
    "        print(\"you didnt enter enough values.\")\n",
    "    else:\n",
    "        print (\"with the outliers removed:\",\\\n",
    "              removeOutliers (values,2))\n",
    "        print (\"the original data :\", values)\n",
    "#call the main function\n",
    "main()\n",
    "            \n",
    "        "
   ]
  },
  {
   "cell_type": "markdown",
   "id": "e1544ce6",
   "metadata": {},
   "source": [
    "In this exercise, you will create a program that reads words from the user until the\n",
    "user enters a blank line. After the user enters a blank line your program should display\n",
    "each word entered by the user exactly once. The words should be displayed in\n",
    "the same order that they were first entered. For example, if the user enters:\n",
    "first\n",
    "second\n",
    "first\n",
    "third\n",
    "second\n",
    "then your program should display:\n",
    "first\n",
    "second\n",
    "third\n"
   ]
  },
  {
   "cell_type": "code",
   "execution_count": 7,
   "id": "a3a9ee98",
   "metadata": {},
   "outputs": [
    {
     "name": "stdout",
     "output_type": "stream",
     "text": [
      "Enter a word (blank line to quit):love\n",
      "Enter a word (blank line to quit):joy\n",
      "Enter a word (blank line to quit):joy\n",
      "Enter a word (blank line to quit):peace\n",
      "Enter a word (blank line to quit):trust\n",
      "Enter a word (blank line to quit):trust\n",
      "Enter a word (blank line to quit):home\n",
      "Enter a word (blank line to quit):\n",
      "love\n",
      "joy\n",
      "peace\n",
      "trust\n",
      "home\n"
     ]
    }
   ],
   "source": [
    "## read a collection of words entered by the user . \n",
    "# display easch word entered by the user only once , in the same order that the words were entered\n",
    "\n",
    "# read words from user and store them in a list\n",
    "words=[]\n",
    "word=input(\"Enter a word (blank line to quit):\")\n",
    "while word !=\"\":\n",
    "    if word not in words:\n",
    "        words.append(word)\n",
    "        \n",
    "    #read the next word from the user\n",
    "    word=input(\"Enter a word (blank line to quit):\")\n",
    "#display the unique words\n",
    "for word in words:\n",
    "    print(word)"
   ]
  },
  {
   "cell_type": "markdown",
   "id": "7f1a1177",
   "metadata": {},
   "source": [
    "Create a program that reads integers from the user until a blank line is entered. Once\n",
    "all of the integers have been read your program should display all of the negative\n",
    "numbers, followed by all of the zeros, followed by all of the positive numbers.Within\n",
    "each group the numbers should be displayed in the same order that they were entered\n",
    "by the user."
   ]
  },
  {
   "cell_type": "code",
   "execution_count": 9,
   "id": "d1f4aad2",
   "metadata": {},
   "outputs": [
    {
     "name": "stdout",
     "output_type": "stream",
     "text": [
      "Enter an interger (blank to quit):6\n",
      "Enter an interger (blank to quit):4\n",
      "Enter an interger (blank to quit):-6\n",
      "Enter an interger (blank to quit):-5\n",
      "Enter an interger (blank to quit):0\n",
      "Enter an interger (blank to quit):7\n",
      "Enter an interger (blank to quit):4\n",
      "Enter an interger (blank to quit):-6\n",
      "Enter an interger (blank to quit):0\n",
      "Enter an interger (blank to quit):\n",
      "The numbers were:\n",
      "-6\n",
      "-5\n",
      "-6\n",
      "0\n",
      "0\n",
      "6\n",
      "4\n",
      "7\n",
      "4\n"
     ]
    }
   ],
   "source": [
    "### read a collection of integers from a user then display the negative, the zreos and then the positive number respectively\n",
    "\n",
    "#create a list to store the numbers\n",
    "negatives=[]\n",
    "zeros=[]\n",
    "positives=[]\n",
    "\n",
    "#read all of the integer from the user ,storing each integer in the appropiate list\n",
    "line= input(\"Enter an interger (blank to quit):\")\n",
    "while line !=\"\":\n",
    "    num=int(line)\n",
    "    if num<0:\n",
    "        negatives.append(num)\n",
    "    elif num>0:\n",
    "        positives.append(num)\n",
    "    else:\n",
    "        zeros.append(num)\n",
    "    #read the next line of input from the use\n",
    "    line= input(\"Enter an interger (blank to quit):\")\n",
    "#display all of the negative values, then all of the zeros and then all of tghe positives\n",
    "print(\"The numbers were:\")\n",
    "for n in negatives:\n",
    "    print (n)\n",
    "for n in zeros:\n",
    "    print (n)\n",
    "for n in positives:\n",
    "    print (n)"
   ]
  },
  {
   "cell_type": "markdown",
   "id": "37961120",
   "metadata": {},
   "source": [
    "An integer, n, is said to be perfect when the sum of all of the proper divisors of n is\n",
    "equal to n. For example, 28 is a perfect number because its proper divisors are 1, 2,4, 7 and 14, and 1 + 2 + 4 + 7 + 14 = 28.\n",
    "Write a function that determines whether or not a positive integer is perfect. Your function will take one parameter. If that parameter is a perfect number then your\n",
    "function will return True. Otherwise it will return False. In addition, write a main program that uses your function to identify and display all of the perfect numbers between 1 and 10,000. Import your solution to Exercise 115 when completing this\n",
    "task."
   ]
  },
  {
   "cell_type": "markdown",
   "id": "6c1089e5",
   "metadata": {},
   "source": [
    "\n",
    "When writing out a list of items in English, one normally separates the items with\n",
    "commas. In addition, theword “and” is normally included before the last item, unless\n",
    "the list only contains one item. Consider the following four lists:\n",
    "apples\n",
    "apples and oranges\n",
    "apples, oranges and bananas\n",
    "apples, oranges, bananas and lemons\n",
    "5.5 Exercises 87\n",
    "Write a function that takes a list of strings as its only parameter. Your function\n",
    "should return a string that contains all of the items in the list, formatted in the manner\n",
    "described previously, as its only result. While the examples shown previously only\n",
    "include lists containing four elements or less, your function should behave correctly\n",
    "for lists of any length. Include a main program that reads several items from the user,\n",
    "formats them by calling your function, and then displays the result returned by the\n",
    "function."
   ]
  },
  {
   "cell_type": "code",
   "execution_count": 13,
   "id": "2bf4d425",
   "metadata": {},
   "outputs": [
    {
     "name": "stdout",
     "output_type": "stream",
     "text": [
      "Enter an item (blank to quit): cgbsjdbvjdskv\n",
      "Enter an item (blank to quit): jhvh\n",
      "Enter an item (blank to quit): uzbdsb\n",
      "Enter an item (blank to quit): jhjhbj\n",
      "Enter an item (blank to quit): jbfhjbfsjb\n",
      "Enter an item (blank to quit): jhbdshjb\n",
      "Enter an item (blank to quit): \n",
      "The items are cgbsjdbvjdskv,jhvh,uzbdsb,jhjhbj,jbfhjbfsjb and jhbdshjb.\n"
     ]
    }
   ],
   "source": [
    "## display a list of item so that they are separated by commas and the word \"and\" appaers between the two final items\n",
    "# format a list of items so that they are separated by commas and \"and\"\n",
    "# @para items the list of items to format\n",
    "#@ return a string containing the items with the desired formatting\n",
    "\n",
    "def formatList (items):\n",
    "    #Handle list of 0 and 1 items as special cases\n",
    "    if len(items)==0:\n",
    "        return \"<empty>\"\n",
    "    if len(items)==1:\n",
    "        return str(items[0])\n",
    "    #loop over all of the items in the list except the last two\n",
    "    result=\"\"\n",
    "    for i in range(0, len(items)-2):\n",
    "        result = result + str(items[i]) + \",\"\n",
    "    #add the second last and last items to the result , separated by \"and\"\n",
    "    result = result+str(items[len(items)-2]) + \" and \" \n",
    "    result = result+str(items[len(items)-1])\n",
    "    #Return the result\n",
    "    return result\n",
    "#Read several items enterd bythe user and display them with nice formatting\n",
    "def main ():\n",
    "    #Read items from the user until a blank line is entered\n",
    "    items = []\n",
    "    line = input(\"Enter an item (blank to quit): \")\n",
    "    while line != \"\":\n",
    "        items.append(line)\n",
    "        line = input(\"Enter an item (blank to quit): \")\n",
    "    # Format and display the items\n",
    "    print(\"The items are %s.\" % formatList(items))\n",
    "# Call the main function\n",
    "main()"
   ]
  },
  {
   "cell_type": "markdown",
   "id": "51d9b87a",
   "metadata": {},
   "source": [
    "Random Lottery Number\n",
    "\n",
    "\n",
    "\n",
    "In order to win the top prize in a particular lottery, one must match all 6 numbers\n",
    "on his or her ticket to the 6 numbers between 1 and 49 that are drawn by the lottery\n",
    "organizer. Write a program that generates a random selection of 6 numbers for a\n",
    "lottery ticket. Ensure that the 6 numbers selected do not contain any duplicates.\n",
    "Display the numbers in ascending order."
   ]
  },
  {
   "cell_type": "code",
   "execution_count": 5,
   "id": "7c567bc7",
   "metadata": {},
   "outputs": [
    {
     "name": "stdout",
     "output_type": "stream",
     "text": [
      "Your numbers are: 2\n",
      "6\n",
      "12\n",
      "16\n",
      "40\n",
      "41\n"
     ]
    }
   ],
   "source": [
    "##\n",
    "# compute random but distinct number for a lottery ticket\n",
    "from random import randrange\n",
    "MIN_NUM=1\n",
    "MAX_NUM=49\n",
    "NUM_NUMS=6\n",
    "\n",
    "#use a list to store the number on the tickets\n",
    "ticket_nums=[]\n",
    "#generate NUM_NUMS random but distinct number\n",
    "for i in range (NUM_NUMS):\n",
    "    #generate a number that isnt already on the ticket\n",
    "    rand=randrange (MIN_NUM, MAX_NUM+1)\n",
    "    while rand in ticket_nums:\n",
    "        rand=randrange(MIN_NUM, MAX_NUM + 1)\n",
    "    #add the number to the ticket\n",
    "    ticket_nums.append(rand)\n",
    "#Sort the numbers into acending order and display them\n",
    "ticket_nums.sort()\n",
    "print(\"Your numbers are: \", end=\"\")\n",
    "for n in ticket_nums:\n",
    "    print(n, end=\"\")\n",
    "    print()"
   ]
  },
  {
   "cell_type": "raw",
   "id": "db11c75c",
   "metadata": {},
   "source": [
    "A standard deck of playing cards contains 52 cards. Each card has one of four suits along with a value. The suits are normally spades, hearts, diamonds and clubs while the values are 2 through 10, Jack, Queen, King and Ace. \n",
    "Each playing card can be represented using two characters. The first character is the value of the card, with the values 2 through 9 being represented directly. The characters “T”, “J”, “Q”, “K” and “A” are used to represent the values 10, Jack,\n",
    "Queen, King and Ace respectively. The second character is used to represent the suit of the card. It is normally a lowercase letter: “s” for spades, “h” for hearts, “d” for diamonds and “c” for clubs. The following table provides several examples of cards\n",
    "and their two-character representations.\n",
    "\n",
    "Card              Abbreviation\n",
    "Jack of spades        Js\n",
    "Two of clubs          2c\n",
    "Ten of diamonds       Td\n",
    "Ace of hearts         Ah\n",
    "Nine of spades        9s\n",
    "Begin by writing a function named createDeck. It will use loops to create a complete deck of cards by storing the two-character abbreviations for all 52 cards into a list. Return the list of cards as the function’s only result. Your function will\n",
    "not require any parameters.\n",
    "Write a second function named shuffle that randomizes the order of the cards in a list. One technique that can be used to shuffle the cards is to visit each element in the list and swap it with another random element in the list. You must write your own loop for shuffling the cards. You cannot make use of Python’s built-in shuffle function.\n",
    "Use both of the functions described in the previous paragraphs to create a main program that displays a deck of cards before and after it has been shuffled. Ensure that your main program only runs when your functions have not been imported into another file.\n",
    "\n",
    "\n",
    "A good shuffling algorithm is unbiased, meaning that every different arrangement of the elements is equally probable when the algorithm completes. While the approach described earlier in this problem suggested visiting each element in sequence and swapping it with an element at a random index, such an algorithm is biased. In particular, elements that appear later in the original list are\n",
    "more likely to end up later in the shuffled list. Counterintuitively, an unbiased shuffle can be achieved by visiting each element in sequence and swapping it to a random index between the position of the current element and the end of\n",
    "the list instead of randomly selecting any index."
   ]
  },
  {
   "cell_type": "code",
   "execution_count": 11,
   "id": "c2aea5f0",
   "metadata": {},
   "outputs": [
    {
     "name": "stdout",
     "output_type": "stream",
     "text": [
      "The original dek olf cards is: \n",
      "['2s', '3s', '4s', '5s', '6s', '7s', '8s', '9s', 'Ts', 'Js', 'Qs', 'Ks', 'As', '2h', '3h', '4h', '5h', '6h', '7h', '8h', '9h', 'Th', 'Jh', 'Qh', 'Kh', 'Ah', '2d', '3d', '4d', '5d', '6d', '7d', '8d', '9d', 'Td', 'Jd', 'Qd', 'Kd', 'Ad', '2c', '3c', '4c', '5c', '6c', '7c', '8c', '9c', 'Tc', 'Jc', 'Qc', 'Kc', 'Ac']\n",
      "\n",
      "The shuffled deck of cards is: \n",
      "['3d', 'Jh', '5d', '5h', '8d', 'Qs', '2s', '4s', 'Jd', '9h', '9s', 'Td', 'Tc', 'Ks', '7h', '5c', 'Qc', '3s', 'Ac', '6d', '3c', '2c', 'As', '9c', 'Kh', '2h', 'Js', '5s', '8h', '4h', '7s', 'Kd', 'Kc', '4c', 'Qd', 'Ts', '2d', 'Ah', 'Qh', '6h', 'Jc', '4d', '7d', '8s', '6s', 'Ad', '7c', '8c', '9d', 'Th', '3h', '6c']\n"
     ]
    }
   ],
   "source": [
    "##\n",
    "# craete a deck of cards and shuffle it\n",
    "from random import randrange\n",
    "##Construct a standard deck of cards with 4 suits and 13 values per suit\n",
    "#@return a list of cards, with each cardrepresented by two characters\n",
    "def createDeck():\n",
    "    #create a list to hold the cards\n",
    "    cards=[]\n",
    "    #for each suit and each value \n",
    "    for suit in [\"s\",\"h\",\"d\",\"c\",]:\n",
    "        for value in [\"2\",\"3\",\"4\",\"5\",\"6\",\"7\",\"8\",\"9\", \\\n",
    "                     \"T\",\"J\",\"Q\",\"K\",\"A\"]:\n",
    "            #Construct the card and add it to the list\n",
    "            cards.append(value+suit)\n",
    "    #return the complete deck of cards\n",
    "    return cards\n",
    "## shuffle a deck of cards by modifying the deck passesd to the function\n",
    "#@para cards the list of cards to shuffle\n",
    "#@return(none)\n",
    "def shuffle(cards):\n",
    "    #For each card\n",
    "    for i in range (0, len(cards)):\n",
    "        #pick a random index between the current index and the end of the list\n",
    "        other_pos=randrange(i, len(cards))\n",
    "        #Swap the current card with the one at the random position\n",
    "        temp=cards[i]\n",
    "        cards[i]=cards[other_pos]\n",
    "        cards[other_pos]=temp\n",
    "#Display a deck of cards before and after it has been shuffled\n",
    "def main ():\n",
    "    cards=createDeck()\n",
    "    print(\"The original dek olf cards is: \")\n",
    "    print(cards)\n",
    "    print()\n",
    "    \n",
    "    shuffle(cards)\n",
    "    print(\"The shuffled deck of cards is: \")\n",
    "    print(cards)\n",
    "#call the main function only if this file has not been imported iknto another program\n",
    "#if _name_==\"_main_\":\n",
    "main()"
   ]
  },
  {
   "cell_type": "raw",
   "id": "8c56022c",
   "metadata": {},
   "source": [
    "Count the Elements\n",
    "\n",
    "Python’s standard library includes a method named count that determines how many times a specific value occurs in a list. In this exercise, you will create a new function named countRange. It will determine and return the number of elements within a list that are greater than or equal to some minimum value and less than some maximum value. Your function will take three parameters: the list, the minimum value and the maximum value. It will return an integer result greater than or equal to 0. Include a main program that demonstrates your function for several different lists,\n",
    "minimum values and maximum values. Ensure that your program works correctly for both lists of integers and lists of floating-point numbers."
   ]
  },
  {
   "cell_type": "code",
   "execution_count": 13,
   "id": "e4f47afa",
   "metadata": {},
   "outputs": [
    {
     "name": "stdout",
     "output_type": "stream",
     "text": [
      "Counting the elements in [1..10] between 5 and 7...\n",
      "Result: 2 Expected: 2\n",
      "Counting the elements in [1..10] between -5 and 77...\n",
      "Result: 10 Expected: 10\n",
      "Counting the elements in [1..10] between 12 and 17...\n",
      "Result: 0 Expected: 0\n",
      "Counting the elements in [] between 0 and 100...\n",
      "Result: 0 Expected: 0\n",
      "Counting the elements in [1, 2, 3, 4, 1, 2, 3, 4] between 2 and 4...\n",
      "Result: 4 Expected: 4\n"
     ]
    }
   ],
   "source": [
    "##\n",
    "# count the number of elements in a list that are greater than or equal to some\n",
    "#value and less thans some maximum value\n",
    "#\n",
    "##determine how many elements in data are greater than or equal to mn and less than mx\n",
    "#@param data the list  of values to examine\n",
    "#@param mn the minimum acceptable value\n",
    "#@param mx the exclusive upper bound on acceptability\n",
    "#@return the number of elements, e, such that mn<=e<mx\n",
    "def countRange(data,mn,mx):\n",
    "    #count the number of elements within the acceptable range\n",
    "    count=0\n",
    "    for e in data:\n",
    "        #chack each element\n",
    "        if mn<=e and e<mx:\n",
    "            count=count +1\n",
    "    #return the result\n",
    "    return count\n",
    "#demostrate the countRange function\n",
    "def main():\n",
    "    data =[1,2,3,4,5,6,7,8,9,10]\n",
    "    #Test a case where some elements are within the range\n",
    "    print(\"Counting the elements in [1..10] between 5 and 7...\")\n",
    "    print(\"Result: %d Expected: 2\" % countRange(data, 5, 7))\n",
    "    # Test a case where all elements are within the range\n",
    "    print(\"Counting the elements in [1..10] between -5 and 77...\")\n",
    "    print(\"Result: %d Expected: 10\" % countRange(data, -5, 77))\n",
    "    # Test a case where no elements are within the range\n",
    "    print(\"Counting the elements in [1..10] between 12 and 17...\")\n",
    "    print(\"Result: %d Expected: 0\" % countRange(data, 12, 17))\n",
    "    # Test a case where the list is empty\n",
    "    print(\"Counting the elements in [] between 0 and 100...\")\n",
    "    print(\"Result: %d Expected: 0\" % countRange([], 0, 100))\n",
    "    # Test a case with duplicate values\n",
    "    data = [1, 2, 3, 4, 1, 2, 3, 4]\n",
    "    print(\"Counting the elements in\", data, \"between 2 and 4...\")\n",
    "    print(\"Result: %d Expected: 4\" % countRange(data, 2, 4))\n",
    "#call the main program\n",
    "main()"
   ]
  },
  {
   "cell_type": "raw",
   "id": "a5406ef6",
   "metadata": {},
   "source": [
    "Tokenizing is the process of converting a string into a list of substrings, known as tokens. In many circumstances, a list of tokens is far easier to work with than the original string because the original string may have irregular spacing. In some cases\n",
    "substantial work is also required to determine where one token ends and the next one begins.\n",
    "In a mathematical expression, tokens are items such as operators, numbers and parentheses. The operator symbols that we will consider in this (and subsequent) problems are *, /, ˆ, - and +. Operators and parentheses are easy to identify because the token is always a single character, and the character is never part of another token. Numbers are slightly more challenging to identify because the token may consist of multiple characters. Any sequence of consecutive digits should be treated as one number token.\n",
    "Write a function that takes a string containing a mathematical expression as its only parameter and breaks it into a list of tokens. Each token should be a parenthesis, an operator, or a number. (For simplicity we will only work with integers in this\n",
    "problem). Return the list of tokens as the function’s only result.\n",
    "You may assume that the string passed to your function always contains a valid mathematical expression consisting of parentheses, operators and integers. However, your function must handle variable amounts of whitespace (including no whitespace)\n",
    "between these elements. Include a main program that demonstrates your tokenizing function by reading an expression from the user and printing the list of tokens. Ensure that the main program will not run when the file containing your solution is imported\n",
    "into another program."
   ]
  },
  {
   "cell_type": "code",
   "execution_count": 24,
   "id": "7584f157",
   "metadata": {},
   "outputs": [
    {
     "name": "stdout",
     "output_type": "stream",
     "text": [
      "Enter a mathematical expression: two plus g g g g gg g  g g gg    g\n",
      "The tokens are :  []\n"
     ]
    }
   ],
   "source": [
    "##\n",
    "# Tokenizing a string contaikning a mathematical expression.\n",
    "#\n",
    "##convert a mathematical expression into a list of tokens\n",
    "#@param s the string to tokenize\n",
    "#@return a list of the token in s, or an empty list if an error occurs\n",
    "def tokenlist(s):\n",
    "    #remove all of the spaces from s\n",
    "    s=s.replace(\" \",\"\")\n",
    "    #loop through all the characters in the string ,identifying the tokens and adding them\n",
    "    #to the list\n",
    "    tokens=[]\n",
    "    i=0\n",
    "    while i< len(s):\n",
    "        #Handle the tokens that are always a single character:*,/,^,( and )\n",
    "        if s[i]==\"*\" or s[i] == \"/\" or s[i] == \"ˆ\" or \\\n",
    "            s[i] == \"(\" or s[i] == \")\" or s[i] == \"+\" or s[i] == \"-\":\n",
    "            tokens.append(s[i])\n",
    "            i=i+1\n",
    "        #Handle a number without a leading + or -\n",
    "        elif s[i]>=\"0\" and s[i]>=\"9\":\n",
    "            num=\"\"\n",
    "            #Keep on adding characters to the token as long as they are digits\n",
    "            while i<len(s)and s[i]>=\"0\" and s[i]<=\"9\":\n",
    "                num=num+s[i]\n",
    "                i=i+1\n",
    "                tokens.appens(num)\n",
    "        #Any other character means the expressionis not valid. return an empty list to indicatge \n",
    "        #an erroe as occured\n",
    "        else:\n",
    "            return[]\n",
    "        return tokens\n",
    "   #Read an expression from the user, tokenize it and display the result\n",
    "def main():\n",
    "    exp=input(\"Enter a mathematical expression: \")\n",
    "    tokens=tokenlist(exp)\n",
    "    print(\"The tokens are : \", tokens)\n",
    "if __name__ == \"__main__\":\n",
    "    main()\n",
    "\n",
    " "
   ]
  },
  {
   "cell_type": "raw",
   "id": "46b76a28",
   "metadata": {},
   "source": [
    "write a function that returns a\n",
    "list containing every possible sublist of a list. For example, the sublists of [1, 2,\n",
    "3] are [], [1], [2], [3], [1, 2], [2, 3] and [1, 2, 3]. Note that your\n",
    "function will always return a list containing at least the empty list because the empty\n",
    "list is a sublist of every list. Include a main program that demonstrate your function\n",
    "by displaying all of the sublists of several different lists."
   ]
  },
  {
   "cell_type": "code",
   "execution_count": 25,
   "id": "38ecd5bb",
   "metadata": {},
   "outputs": [
    {
     "name": "stdout",
     "output_type": "stream",
     "text": [
      "The sublists of [] are: \n",
      "[[]]\n",
      "The sublists of [1] are: \n",
      "[[], [1]]\n",
      "The sublists of [1, 2] are: \n",
      "[[], [1], [2], [1, 2]]\n",
      "The sublists of [1, 2, 3] are: \n",
      "[[], [1], [2], [3], [1, 2], [2, 3], [1, 2, 3]]\n",
      "The sublists of [1, 2, 3, 4] are: \n",
      "[[], [1], [2], [3], [4], [1, 2], [2, 3], [3, 4], [1, 2, 3], [2, 3, 4], [1, 2, 3, 4]]\n"
     ]
    }
   ],
   "source": [
    "##\n",
    "#compute all of the sublist of a list\n",
    "#\n",
    "##Generate a list of all of the sublists of a list\n",
    "#@param data the list for which for which the sublists are generated\n",
    "#@return a list containing all of the sublists of data\n",
    "def allSublists(data):\n",
    "    #start out with the empty list as the only sublist of data\n",
    "    sublists=[[]]\n",
    "    #generate all of the sublists of data from lenght 1 to len(data)\n",
    "    for length in range(1, len(data)+1):\n",
    "        #generate the sublist starting at each index\n",
    "        for i in range (0, len(data)- length + 1):\n",
    "            #Add the current sublist to the list of sublists\n",
    "            sublists.append(data[i:i+length])\n",
    "    #return the result\n",
    "    return sublists\n",
    "#demostrate  the allSublist function\n",
    "def main():\n",
    "    print(\"The sublists of [] are: \")\n",
    "    print(allSublists([]))\n",
    "    \n",
    "    print(\"The sublists of [1] are: \")\n",
    "    print(allSublists([1]))\n",
    "    \n",
    "    print(\"The sublists of [1, 2] are: \")\n",
    "    print(allSublists([1, 2]))\n",
    "    \n",
    "    print(\"The sublists of [1, 2, 3] are: \")\n",
    "    print(allSublists([1, 2, 3]))\n",
    "    \n",
    "    print(\"The sublists of [1, 2, 3, 4] are: \")\n",
    "    print(allSublists([1, 2, 3, 4]))\n",
    "# call the main function\n",
    "main()\n",
    "\n",
    "    "
   ]
  },
  {
   "cell_type": "raw",
   "id": "8e6efe1f",
   "metadata": {},
   "source": [
    "The Sieve of Eratosthenes is a technique that was developed more than 2,000 years ago to easily find all of the prime numbers between 2 and some limit, say 100. A description of the algorithm follows:\n",
    "Write down all of the numbers from 0 to the limit\n",
    "Cross out 0 and 1 because they are not prime\n",
    "Set p equal to 2\n",
    "While p is less than the limit do Cross out all multiples of p (but not p itself)\n",
    "Set p equal to the next number in the list that is not crossed out\n",
    "Report all of the numbers that have not been crossed out as prime\n",
    "The key to this algorithm is that it is relatively easy to cross out every nth number on a piece of paper. This is also an easy task for a computer—a for loop can simulate this behavior when a third parameter is provided to the range function. When a\n",
    "number is crossed out, we know that it is no longer prime, but it still occupies space on the piece of paper, and must still be considered when computing later prime numbers. As a result, you should not simulate crossing out a number by removing\n",
    "it from the list. Instead, you should simulate crossing out a number by replacing it with 0. Then, once the algorithm completes, all of the non-zero values in the list are prime.\n",
    "Create a Python program that uses this algorithm to display all of the prime\n",
    "numbers between 2 and a limit entered by the user. If you implement the algorithm\n",
    "correctly you should be able to display all of the prime numbers less than 1,000,000\n",
    "in a few seconds."
   ]
  },
  {
   "cell_type": "code",
   "execution_count": 26,
   "id": "cdfd6108",
   "metadata": {},
   "outputs": [
    {
     "name": "stdout",
     "output_type": "stream",
     "text": [
      "identify all prime numbers up to what limit? 100\n",
      "The primes up to 100 are:\n",
      "2\n",
      "3\n",
      "5\n",
      "7\n",
      "11\n",
      "13\n",
      "17\n",
      "19\n",
      "23\n",
      "29\n",
      "31\n",
      "37\n",
      "41\n",
      "43\n",
      "47\n",
      "53\n",
      "59\n",
      "61\n",
      "67\n",
      "71\n",
      "73\n",
      "79\n",
      "83\n",
      "89\n",
      "97\n"
     ]
    }
   ],
   "source": [
    "##\n",
    "#identify all of the prime numbers from 2 to some limit entered by the user using the sieve of eratosthenes\n",
    "#\n",
    "#Read the limit from the user\n",
    "limit=int(input(\"identify all prime numbers up to what limit? \"))\n",
    "#craete a list that contains all of the integer from 0 to limit\n",
    "nums=[]\n",
    "for i in range (0, limit +1):\n",
    "    nums.append(i)\n",
    "#\"cross out \" 1 by replacing it with a 0\n",
    "nums[1]=0\n",
    "#\"cross out \" all of the multiples of each prime number that we discover\n",
    "p=2\n",
    "while p<limit:\n",
    "    #\"cross out\" all multiples of p(but not p itself)\n",
    "    for i in range (p*2, limit +1, p):\n",
    "        nums[i]=0\n",
    "    #find the next number that is not\"crossed out\"\n",
    "    p=p+1\n",
    "    while p<limit and nums[p]==0:\n",
    "        p=p+1\n",
    "#display the result\n",
    "print(\"The primes up to\", limit, \"are:\")\n",
    "for i in nums:\n",
    "    if nums[i] != 0:\n",
    "        print(i)\n",
    "        \n",
    "    "
   ]
  },
  {
   "cell_type": "markdown",
   "id": "a5bcbc5a",
   "metadata": {},
   "source": [
    "# DICTIONARIES"
   ]
  },
  {
   "cell_type": "code",
   "execution_count": 27,
   "id": "a397946e",
   "metadata": {},
   "outputs": [
    {
     "name": "stdout",
     "output_type": "stream",
     "text": [
      "{'pi': 3.14, 'e': 2.71, 'root 2': 1.41}\n"
     ]
    }
   ],
   "source": [
    "constants = {\"pi\": 3.14, \"e\": 2.71, \"root 2\": 1.41}\n",
    "print(constants)"
   ]
  },
  {
   "cell_type": "code",
   "execution_count": 28,
   "id": "0f19c309",
   "metadata": {},
   "outputs": [
    {
     "name": "stdout",
     "output_type": "stream",
     "text": [
      "1\n",
      "3\n",
      "1\n"
     ]
    }
   ],
   "source": [
    "# Create a new dictionary with 2 key-value pairs\n",
    "results = {\"pass\": 0, \"fail\": 0}\n",
    "# Add a new key-value pair to the dictionary\n",
    "results[\"withdrawal\"] = 1\n",
    "# Update two values in the dictionary\n",
    "results[\"pass\"] = 3\n",
    "results[\"fail\"] = results[\"fail\"] + 1\n",
    "# Display the values associated with fail, pass and withdrawal respectively\n",
    "print(results[\"fail\"])\n",
    "print(results[\"pass\"])\n",
    "print(results[\"withdrawal\"])"
   ]
  },
  {
   "cell_type": "code",
   "execution_count": 30,
   "id": "9c77f0fb",
   "metadata": {
    "scrolled": true
   },
   "outputs": [
    {
     "ename": "NameError",
     "evalue": "name 'x' is not defined",
     "output_type": "error",
     "traceback": [
      "\u001b[1;31m---------------------------------------------------------------------------\u001b[0m",
      "\u001b[1;31mNameError\u001b[0m                                 Traceback (most recent call last)",
      "\u001b[1;32m~\\AppData\\Local\\Temp/ipykernel_13472/4024885504.py\u001b[0m in \u001b[0;36m<module>\u001b[1;34m\u001b[0m\n\u001b[1;32m----> 1\u001b[1;33m \u001b[1;32mif\u001b[0m \u001b[0mx\u001b[0m \u001b[1;32min\u001b[0m \u001b[0md\u001b[0m\u001b[1;33m.\u001b[0m\u001b[0mvalues\u001b[0m\u001b[1;33m(\u001b[0m\u001b[1;33m)\u001b[0m\u001b[1;33m:\u001b[0m\u001b[1;33m\u001b[0m\u001b[1;33m\u001b[0m\u001b[0m\n\u001b[0m\u001b[0;32m      2\u001b[0m     \u001b[0mprint\u001b[0m\u001b[1;33m(\u001b[0m\u001b[1;34m\"At least one of the values in d is\"\u001b[0m\u001b[1;33m,\u001b[0m \u001b[0mx\u001b[0m\u001b[1;33m)\u001b[0m\u001b[1;33m\u001b[0m\u001b[1;33m\u001b[0m\u001b[0m\n\u001b[0;32m      3\u001b[0m \u001b[1;32melse\u001b[0m\u001b[1;33m:\u001b[0m\u001b[1;33m\u001b[0m\u001b[1;33m\u001b[0m\u001b[0m\n\u001b[0;32m      4\u001b[0m     \u001b[0mprint\u001b[0m\u001b[1;33m(\u001b[0m\u001b[1;34m\"None of the values in d are\"\u001b[0m\u001b[1;33m,\u001b[0m \u001b[0mx\u001b[0m\u001b[1;33m)\u001b[0m\u001b[1;33m\u001b[0m\u001b[1;33m\u001b[0m\u001b[0m\n",
      "\u001b[1;31mNameError\u001b[0m: name 'x' is not defined"
     ]
    }
   ],
   "source": [
    "if x in d.values():\n",
    "    print(\"At least one of the values in d is\", x)\n",
    "else:\n",
    "    print(\"None of the values in d are\", x)"
   ]
  },
  {
   "cell_type": "code",
   "execution_count": 31,
   "id": "217c4a56",
   "metadata": {},
   "outputs": [
    {
     "name": "stdout",
     "output_type": "stream",
     "text": [
      "The value associated with pi is 3.14\n",
      "The value associated with e is 2.71\n",
      "The value associated with root 2 is 1.41\n"
     ]
    }
   ],
   "source": [
    "# Create a dictionary\n",
    "constants = {\"pi\": 3.14, \"e\": 2.71, \"root 2\": 1.41}\n",
    "# Print all of the keys and values with nice formatting\n",
    "for k in constants:\n",
    "    print(\"The value associated with\", k, \"is\", constants[k])"
   ]
  },
  {
   "cell_type": "code",
   "execution_count": 33,
   "id": "f2bf5dd4",
   "metadata": {},
   "outputs": [
    {
     "name": "stdout",
     "output_type": "stream",
     "text": [
      "The total is 7.26\n"
     ]
    }
   ],
   "source": [
    "# Create a dictionary\n",
    "constants = {\"pi\": 3.14, \"e\": 2.71, \"root 2\": 1.41}\n",
    "# Compute the sum of all the value values in the dictionary\n",
    "total = 0\n",
    "for v in constants.values():\n",
    "    total = total + v\n",
    "# Display the total\n",
    "print(\"The total is\", total)"
   ]
  },
  {
   "cell_type": "code",
   "execution_count": 36,
   "id": "e29a33d3",
   "metadata": {},
   "outputs": [
    {
     "name": "stdout",
     "output_type": "stream",
     "text": [
      "Enter a string: love\n",
      "Enter a string: hate\n",
      "Enter a string: love\n",
      "Enter a string: hate\n",
      "Enter a string: back\n",
      "Enter a string: trz\n",
      "Enter a string: lok\n",
      "love occurred 2 times\n",
      "hate occurred 2 times\n",
      "back occurred 1 times\n",
      "trz occurred 1 times\n",
      "lok occurred 1 times\n"
     ]
    }
   ],
   "source": [
    "# Count how many times each string is entered by the user\n",
    "counts = {}\n",
    "# Loop until 5 distinct strings have been entered\n",
    "while len(counts) < 5:\n",
    "    s = input(\"Enter a string: \")\n",
    "    # If s is already a key in the dictionary then increase its count by 1. Otherwise add s to the\n",
    "    # dictionary with a count of 1.\n",
    "    if s in counts:\n",
    "        counts[s] = counts[s] + 1\n",
    "    else:\n",
    "        counts[s] = 1\n",
    "# Displays all of the strings and their counts\n",
    "for k in counts:\n",
    "    print(k, \"occurred\", counts[k], \"times\")"
   ]
  },
  {
   "cell_type": "raw",
   "id": "d6389a94",
   "metadata": {},
   "source": [
    "Reverse Lookup\n",
    "\n",
    "Write a function named reverseLookup that finds all of the keys in a dictionary that map to a specific value. The function will take the dictionary and the value to\n",
    "search for as its only parameters. It will return a (possibly empty) list of keys from\n",
    "the dictionary that map to the provided value.\n",
    "Include amain program that demonstrates the reverseLookup function as part\n",
    "of your solution to this exercise. Your program should create a dictionary and then\n",
    "show that the reverseLookup function works correctly when it returns multiple\n",
    "keys, a single key, and no keys. Ensure that your main program only runs when\n",
    "the file containing your solution to this exercise has not been imported into another\n",
    "program."
   ]
  },
  {
   "cell_type": "code",
   "execution_count": null,
   "id": "afb02cc3",
   "metadata": {},
   "outputs": [],
   "source": [
    "##\n",
    "#conduct a reverse lookup on a dictionaray, finding all of the keys that map to the provided value\n",
    "## conduct a reverse lookup on a dictionary\n",
    "#@param data the dictionary on which the reverse lookup is performed\n",
    "#@param value the value to search for in the dictionaray\n",
    "#@return a list (possibly empty ) of keys from data that map to value\n",
    "\n",
    "def reverseLookup (data, value):\n",
    "    #construct a list of the keys that map to value\n",
    "    keys=[]\n",
    "    #check each key and add it to keys if the values match\n",
    "    for key in data:\n",
    "        if data [key]==value:\n",
    "            keys.append(key)\n",
    "    return keys\n",
    "#Demostarte the reverseLookup function\n",
    "def main():\n",
    "    #A dictionary mapping 4 french words to englsih equivalents\n",
    "    frEn={\"le\":\"the\",\"la\":\"the\",\"livre\":\"book\",\"pomme\":\"apple\"}\n",
    "    #demostarte the reverseloop function with 3 cases: one that return multiple keys, one that returns one key and one that return no keys\n",
    "    print(\"the french words for 'the'are\",reverseLookup(frEn,\"the\"))\n",
    "    print(\"Expected:['le','la']\")\n",
    "    print()\n",
    "    print(\"the french word for 'apple'is:\",reverseLookup(frEn,\"apple\"))\n",
    "    print(\"Expected:['pomme']\")\n",
    "    print()\n",
    "    print(\"the french word for 'asdf'is:\", reverseLookup(frEn,\"asdf\"))\n",
    "    print(\"Expected:[]\")\n",
    "    #call the main function only if this file has not been imported into another program\n",
    "#if__name__==\"__main__\":\n",
    "main()"
   ]
  },
  {
   "cell_type": "raw",
   "id": "72354e3a",
   "metadata": {},
   "source": [
    "# Exercise 137: Two Dice Simulation\n",
    "\n",
    "In this exercise you will simulate 1,000 rolls of two dice. Begin by writing a func\u0002tion that simulates rolling a pair of six-sided dice. Your function will not take any\n",
    "parameters. It will return the total that was rolled on two dice as its only result.\n",
    "Write a main program that uses your function to simulate rolling two six-sided\n",
    "dice 1,000 times. As your program runs, it should count the number of times that\n",
    "each total occurs. Then it should display a table that summarizes this data. Express\n",
    "the frequency for each total as a percentage of the number of rolls performed. Your\n",
    "program should also display the percentage expected by probability theory for each\n",
    "total. Sample output is shown below.\n",
    "Total Simulated Expected\n",
    "        Percent Percent\n",
    "2       2.90     2.78\n",
    "3       6.90     5.56\n",
    "4       9.40     8.33\n",
    "5       11.90    11.11\n",
    "6       14.20    13.89\n",
    "7       14.20    16.67\n",
    "8       15.00    13.89\n",
    "9       10.50    11.11\n",
    "10      7.90     8.33\n",
    "11      4.50     5.56\n",
    "12      2.60     2.78"
   ]
  },
  {
   "cell_type": "code",
   "execution_count": 19,
   "id": "61769f31",
   "metadata": {},
   "outputs": [
    {
     "name": "stdout",
     "output_type": "stream",
     "text": [
      "Total    Simulated     Expected\n",
      "         Percent       Percent\n",
      "    2        3.00     2.78\n",
      "    3        5.40     5.56\n",
      "    4        8.70     8.33\n",
      "    5        9.90    11.11\n",
      "    6       14.90    13.89\n",
      "    7       17.50    16.67\n",
      "    8       13.80    13.89\n",
      "    9       10.90    11.11\n",
      "   10        8.20     8.33\n",
      "   11        5.20     5.56\n",
      "   12        2.50     2.78\n"
     ]
    }
   ],
   "source": [
    "##\n",
    "# Simulate rolling two dice many times and compare the simulated results to the results\n",
    "# expected by probability theory.\n",
    "#\n",
    "from random import randrange\n",
    "NUM_RUNS = 1000\n",
    "D_MAX = 6\n",
    "## Simulate rolling two six-sided dice\n",
    "# @return the total from rolling two simulated dice\n",
    "def twoDice():\n",
    "    # Simulate two dice\n",
    "    d1 = randrange(1, D_MAX + 1)\n",
    "    d2 = randrange(1, D_MAX + 1)\n",
    "    # Return the total\n",
    "    return d1 + d2\n",
    "# Simulate many rolls and display the result\n",
    "def main():\n",
    "    # Create a dictionary of expected proportions\n",
    "    expected = {2: 1/36, 3: 2/36, 4: 3/36, 5: 4/36, 6: 5/36, \\\n",
    "    7: 6/36, 8: 5/36, 9: 4/36, 10: 3/36, \\\n",
    "    11: 2/36, 12: 1/36}\n",
    "# Create a dictionary that maps from the total of two dice to the number of occurrences\n",
    "    counts = {2: 0, 3: 0, 4: 0, 5: 0, 6: 0, 7:0, \\\n",
    "        8: 0, 9: 0, 10: 0, 11: 0, 12: 0}\n",
    "# Simulate NUM RUNS rolls, and count each roll\n",
    "    for i in range(NUM_RUNS):\n",
    "        t = twoDice()\n",
    "        counts[t] = counts[t] + 1\n",
    "    # Display the simulated proportions and the expected proportions\n",
    "    print(\"Total    Simulated     Expected\")\n",
    "    print(\"         Percent       Percent\")\n",
    "    for i in sorted(counts.keys()):\n",
    "        print(\"%5d %11.2f %8.2f\" % \\\n",
    "            (i, counts[i] / NUM_RUNS * 100, expected[i] * 100))\n",
    "# Call the main function\n",
    "main()"
   ]
  },
  {
   "cell_type": "raw",
   "id": "b35be7da",
   "metadata": {},
   "source": [
    " Unique Characters\n",
    "\n",
    "Create a program that determines and displays the number of unique characters in a\n",
    "string entered by the user. For example, Hello, World! has 10 unique characters\n",
    "whilezzzhas only one unique character. Use a dictionary or set to solve this problem."
   ]
  },
  {
   "cell_type": "code",
   "execution_count": 20,
   "id": "ac0e134b",
   "metadata": {},
   "outputs": [
    {
     "name": "stdout",
     "output_type": "stream",
     "text": [
      "Enter a string: lkjjk\n",
      "That string contained 3 unique character(s).\n"
     ]
    }
   ],
   "source": [
    "##\n",
    "# Compute the number of unique characters in a string using a dictionary.\n",
    "#\n",
    "# Read the string from the user\n",
    "s = input(\"Enter a string: \")\n",
    "# Add each character to a dictionary with a value of True. Once we are done the number\n",
    "# of keys in the dictionary will be the number of unique characters in the string.\n",
    "characters = {}\n",
    "for ch in s:\n",
    "    characters[ch] = True\n",
    "# Display the result\n",
    "print(\"That string contained\", len(characters), \\\n",
    "    \"unique character(s).\")"
   ]
  },
  {
   "cell_type": "raw",
   "id": "a3a1214a",
   "metadata": {},
   "source": [
    ": Anagrams\n",
    "\n",
    "Two words are anagrams if they contain all of the same letters, but in a different\n",
    "order. For example, “evil” and “live” are anagrams because each contains one “e”,\n",
    "one “i”, one “l”, and one “v”. Create a program that reads two strings from the user,\n",
    "determines whether or not they are anagrams, and reports the result.\n"
   ]
  },
  {
   "cell_type": "code",
   "execution_count": null,
   "id": "5d27d60a",
   "metadata": {},
   "outputs": [],
   "source": [
    "# Determine whether or not two strings are anagrams and report the result.\n",
    "#\n",
    "## Compute the frequency distribution for the characters in a string\n",
    "# @param s the string to process\n",
    "# @return a dictionary mapping each character to its count\n",
    "def characterCounts(s):\n",
    "    # Create a new, empty dictionary\n",
    "    counts = {}\n",
    "    # Update the count for each character in the string\n",
    "    for ch in s:\n",
    "        if ch in counts:\n",
    "            counts[ch] = counts[ch] + 1\n",
    "        else:\n",
    "            counts[ch] = 1\n",
    "# Return the result\n",
    "    return counts\n",
    "# Determine if two strings entered by the user are anagrams\n",
    "def main():\n",
    "    # Read the strings from the user\n",
    "    s1 = input(\"Enter the first string: \")\n",
    "    s2 = input(\"Enter the second string: \")\n",
    "    # Get the character counts for each string\n",
    "    counts1 = characterCounts(s1)\n",
    "    counts2 = characterCounts(s2)\n",
    "    # Display the result\n",
    "    if counts1 == counts2:\n",
    "        print(\"Those strings are anagrams.\")\n",
    "    else:\n",
    "        print(\"Those strings are not anagrams.\")\n",
    "# Call the main function\n",
    "main()"
   ]
  },
  {
   "cell_type": "raw",
   "id": "5a836e0b",
   "metadata": {},
   "source": [
    "In the game of Scrabble™, each letter has points associated with it. The total score\n",
    "of a word is the sum of the scores of its letters. More common letters are worth fewer\n",
    "points while less common letters are worth more points. The points associated with\n",
    "each letter are shown below:\n",
    "Points Letters\n",
    "1          A, E, I, L, N, O, R, S, T and U\n",
    "2          D and G\n",
    "3          B, C, M and P\n",
    "4          F, H, V, W and Y\n",
    "5          K\n",
    "8          J and X\n",
    "10         Q and Z\n",
    "Write a program that computes and displays the Scrabble™ score for a word.\n",
    "Create a dictionary that maps from letters to point values. Then use the dictionary to\n",
    "compute the score."
   ]
  },
  {
   "cell_type": "code",
   "execution_count": 1,
   "id": "44d2eb34",
   "metadata": {},
   "outputs": [
    {
     "name": "stdout",
     "output_type": "stream",
     "text": [
      "Enter a word: lost\n",
      "lost is worth 4 points.\n"
     ]
    }
   ],
   "source": [
    "##\n",
    "# Use a dictionary to compute the Scrabble™ score for a word.\n",
    "#\n",
    "\n",
    "# Initialize the dictionary so that it maps from letters to points\n",
    "points = {\"A\": 1, \"B\": 3, \"C\": 3, \"D\": 2, \"E\": 1, \"F\": 4, \\\n",
    "\"G\": 2, \"H\": 4, \"I\": 1, \"J\": 2, \"K\": 5, \"L\": 1, \\\n",
    "\"M\": 3, \"N\": 1, \"O\": 1, \"P\": 3, \"Q\": 10, \"R\": 1, \\\n",
    "\"S\": 1, \"T\": 1, \"U\": 1, \"V\": 4, \"W\": 4, \"X\": 8,\n",
    "\"Y\": 4, \"Z\": 10}\n",
    "\n",
    "# Read a word from the user\n",
    "word = input(\"Enter a word: \")\n",
    "\n",
    "# Compute the score for the word\n",
    "uppercase = word.upper()\n",
    "score = 0\n",
    "for ch in uppercase:\n",
    "    score = score + points[ch]\n",
    "    # Display the result\n",
    "print(word, \"is worth\", score, \"points.\")"
   ]
  },
  {
   "cell_type": "raw",
   "id": "68d36611",
   "metadata": {},
   "source": [
    " Create a Bingo Card\n",
    "\n",
    "A Bingo card consists of 5 columns of 5 numbers which are labelled with the letters\n",
    "B, I, N, G and O. There are 15 numbers that can appear under each letter. In particular,\n",
    "the numbers that can appear under the B range from 1 to 15, the numbers that can\n",
    "appear under the I range from 16 to 30, the numbers that can appear under the N\n",
    "range from 31 to 45, and so on.\n",
    "Write a function that creates a random Bingo card and stores it in a dictionary. The\n",
    "keys will be the letters B, I, N, G and O. The values will be the lists of five numbers\n",
    "that appear under each letter. Write a second function that displays the Bingo card\n",
    "with the columns labelled appropriately. Use these functions to write a program that\n",
    "displays a random Bingo card. Ensure that the main program only runs when the file\n",
    "containing your solution has not been imported into another program."
   ]
  },
  {
   "cell_type": "code",
   "execution_count": 10,
   "id": "6a159e46",
   "metadata": {},
   "outputs": [
    {
     "name": "stdout",
     "output_type": "stream",
     "text": [
      "B   I   N   G   O\n",
      "12 85 157 232 314 \n",
      "29 95 173 251 330 \n",
      "35 114 188 265 336 \n",
      "60 121 204 273 353 \n",
      "74 148 217 289 362 \n"
     ]
    }
   ],
   "source": [
    "## \n",
    "#create and display a random bingo card\n",
    "#\n",
    "from random import randrange\n",
    "NUMS_PER_LETTER=15\n",
    "##craete a Bingo card with with randomly generated number\n",
    "#@return a dictionary representing the card where the keys are the strings \"B\",\n",
    "#\"I\",\"N\",\"G\",\"O\" and the values are lists of the numbers that appears under each letter \n",
    "#from top to bottom\n",
    "def createCard():\n",
    "    card={}\n",
    "    #the range of intergers that can be generated for the current letter\n",
    "    lower=1\n",
    "    upper=1+ NUMS_PER_LETTER\n",
    "    #for each of the five letters\n",
    "    for letter in [\"B\",\"I\",\"N\",\"G\",\"O\"]:\n",
    "        #start with an empty list for the letter\n",
    "        card[letter]=[]\n",
    "        #keep generating random numbers until we have 5 unique ones\n",
    "        while len(card[letter]) !=5:\n",
    "            next_num=randrange(lower,upper)\n",
    "            #Ensure that we do not include any duplicate numbers\n",
    "            if next_num not in card[letter]:\n",
    "                card[letter].append(next_num)\n",
    "            #update the range of values that will be generated for the next letter\n",
    "            lower=lower+NUMS_PER_LETTER\n",
    "            upper=upper+NUMS_PER_LETTER\n",
    "    #Return the card\n",
    "    return card\n",
    "## Display a Bingo card with nice formatting\n",
    "#@param card the Bingo card on display\n",
    "#@return(none)\n",
    "def displayCard(card):\n",
    "    #display the headings\n",
    "    print (\"B   I   N   G   O\")\n",
    "    #display the number on the card\n",
    "    for i in range(5):\n",
    "        for letter in [\"B\", \"I\", \"N\", \"G\", \"O\"]:\n",
    "            print(\"%2d \" % card[letter][i], end=\"\")\n",
    "        print()\n",
    "#create a random Bingo card and display it\n",
    "def main():\n",
    "    card=createCard()\n",
    "    displayCard(card)\n",
    "#call the main function only if this file has not been imported into another program\n",
    "#if__name__==\"__main__\":\n",
    "main()"
   ]
  },
  {
   "cell_type": "markdown",
   "id": "c7dc91b4",
   "metadata": {},
   "source": [
    "# Files and Exceptions"
   ]
  },
  {
   "cell_type": "code",
   "execution_count": 5,
   "id": "6f827980",
   "metadata": {},
   "outputs": [
    {
     "name": "stdout",
     "output_type": "stream",
     "text": [
      "Enter the file name: omotayo\n",
      "The total of the values in omotayo is 14.0\n"
     ]
    }
   ],
   "source": [
    "# Read the file name from the user and open the file\n",
    "fname = input(\"Enter the file name: \")\n",
    "inf = open(fname, \"r\")\n",
    "# Initialize the total\n",
    "total = 0\n",
    "# Total the values in the file\n",
    "line = inf.readline()\n",
    "while line != \"\":\n",
    "    total = total + float(line)\n",
    "    line = inf.readline()\n",
    "# Close the file\n",
    "inf.close()\n",
    "# Display the result\n",
    "print(\"The total of the values in\", fname, \"is\", total)"
   ]
  },
  {
   "cell_type": "code",
   "execution_count": 6,
   "id": "8167ad3f",
   "metadata": {},
   "outputs": [
    {
     "name": "stdout",
     "output_type": "stream",
     "text": [
      "Enter the file name: omotayo\n",
      "The total of the values in omotayo is 14.0\n"
     ]
    }
   ],
   "source": [
    "# Read the file name from the user and open the file\n",
    "fname = input(\"Enter the file name: \")\n",
    "inf = open(fname, \"r\")\n",
    "# Initialize total and read all of the lines from the file\n",
    "total = 0\n",
    "lines = inf.readlines()\n",
    "# Total the values in the file\n",
    "for line in lines:\n",
    "    total = total + float(line)\n",
    "# Close the file\n",
    "inf.close()\n",
    "# Display the result\n",
    "print(\"The total of the values in\", fname, \"is\", total)"
   ]
  },
  {
   "cell_type": "code",
   "execution_count": 9,
   "id": "01228afd",
   "metadata": {},
   "outputs": [
    {
     "name": "stdout",
     "output_type": "stream",
     "text": [
      "Enter the name of a file to display: omotayo\n",
      "1: 2.0\n",
      "\n",
      "2: 3.0\n",
      "\n",
      "3: 4.0\n",
      "\n",
      "4: 5.0\n"
     ]
    }
   ],
   "source": [
    "# Read the file name from the user and open the file\n",
    "fname = input(\"Enter the name of a file to display: \")\n",
    "inf = open(fname, \"r\")\n",
    "# Initialize the line number\n",
    "num = 1\n",
    "# Display each line in the file, preceded by its line number\n",
    "line = inf.readline()\n",
    "while line != \"\":\n",
    "    print(\"%d: %s\" % (num, line))\n",
    "# Increment the line number and read the next line\n",
    "    num = num + 1\n",
    "    line = inf.readline()\n",
    "# Close the file\n",
    "inf.close()"
   ]
  },
  {
   "cell_type": "code",
   "execution_count": 16,
   "id": "2e63ddd1",
   "metadata": {},
   "outputs": [
    {
     "name": "stdout",
     "output_type": "stream",
     "text": [
      "Enter the name of a file to display: omotayo\n",
      "1: 2.0\n",
      "2: 3.0\n",
      "3: 4.0\n",
      "4: 5.0\n"
     ]
    }
   ],
   "source": [
    "# Read the file name from the user and open the file\n",
    "fname = input(\"Enter the name of a file to display: \")\n",
    "inf = open(fname, \"r\")\n",
    "# Initialize the line number\n",
    "num = 1\n",
    "# Display each line in the file, preceded by its line number\n",
    "line = inf.readline()\n",
    "while line != \"\":\n",
    "    # Remove the end of line marker and display the line preceded by its line number\n",
    "    line = line.rstrip()\n",
    "    print(\"%d: %s\" % (num, line))\n",
    "    # Increment the line number and read the next line\n",
    "    num = num + 1\n",
    "    line = inf.readline()\n",
    "# Close the file\n",
    "inf.close()"
   ]
  },
  {
   "cell_type": "code",
   "execution_count": 20,
   "id": "85645a30",
   "metadata": {},
   "outputs": [
    {
     "name": "stdout",
     "output_type": "stream",
     "text": [
      "Where will the numbers will be stored? life\n",
      "What is the maximum value? 10\n"
     ]
    }
   ],
   "source": [
    "# Read the file name from the user and open the file\n",
    "fname = input(\"Where will the numbers will be stored? \")\n",
    "outf = open(fname, \"w\")\n",
    "# Read the maximum value that will be written\n",
    "limit = int(input(\"What is the maximum value? \"))\n",
    "# Write the numbers to the file with one number on each line\n",
    "for num in range(1, limit + 1):\n",
    "    outf.write(str(num) + \"\\n\")\n",
    "# Close the file\n",
    "outf.close()"
   ]
  },
  {
   "cell_type": "code",
   "execution_count": 22,
   "id": "8f02ac36",
   "metadata": {},
   "outputs": [
    {
     "name": "stdout",
     "output_type": "stream",
     "text": [
      "The program has 3 command line argument(s).\n",
      "The name of the .py file is C:\\Users\\User\\anaconda3\\lib\\site-packages\\ipykernel_launcher.py\n",
      "The remaining arguments are:\n",
      "  -f\n",
      "  C:\\Users\\User\\AppData\\Roaming\\jupyter\\runtime\\kernel-4addf0e3-e7b5-450e-b6d2-92176cdb8313.json\n"
     ]
    }
   ],
   "source": [
    "# The system module must be imported to access the command line arguments\n",
    "import sys\n",
    "# Display the number of command line arguments (including the .py file)\n",
    "print(\"The program has\", len(sys.argv), \\\n",
    "\"command line argument(s).\")\n",
    "# Display the name of the .py file\n",
    "print(\"The name of the .py file is\", sys.argv[0])\n",
    "# Determine whether or not there are additional arguments to display\n",
    "if len(sys.argv) > 1:\n",
    "# Display all of the command line arguments beyond the name of the .py file\n",
    "    print(\"The remaining arguments are:\")\n",
    "    for i in range(1, len(sys.argv)):\n",
    "        print(\" \", sys.argv[i])\n",
    "else:\n",
    "    print(\"No additional arguments were provided.\")"
   ]
  },
  {
   "cell_type": "code",
   "execution_count": 1,
   "id": "aa7e143a",
   "metadata": {},
   "outputs": [
    {
     "name": "stdout",
     "output_type": "stream",
     "text": [
      "omotayo r.\n"
     ]
    },
    {
     "ename": "FileNotFoundError",
     "evalue": "[Errno 2] No such file or directory: '-f'",
     "output_type": "error",
     "traceback": [
      "\u001b[1;31m---------------------------------------------------------------------------\u001b[0m",
      "\u001b[1;31mFileNotFoundError\u001b[0m                         Traceback (most recent call last)",
      "\u001b[1;32m~\\AppData\\Local\\Temp/ipykernel_15840/517709519.py\u001b[0m in \u001b[0;36m<module>\u001b[1;34m\u001b[0m\n\u001b[0;32m      8\u001b[0m \u001b[0mquit\u001b[0m\u001b[1;33m(\u001b[0m\u001b[1;33m)\u001b[0m\u001b[1;33m\u001b[0m\u001b[1;33m\u001b[0m\u001b[0m\n\u001b[0;32m      9\u001b[0m \u001b[1;31m# Open the file listed immediately after the .py file on the command line\u001b[0m\u001b[1;33m\u001b[0m\u001b[1;33m\u001b[0m\u001b[0m\n\u001b[1;32m---> 10\u001b[1;33m \u001b[0minf\u001b[0m \u001b[1;33m=\u001b[0m \u001b[0mopen\u001b[0m\u001b[1;33m(\u001b[0m\u001b[0msys\u001b[0m\u001b[1;33m.\u001b[0m\u001b[0margv\u001b[0m\u001b[1;33m[\u001b[0m\u001b[1;36m1\u001b[0m\u001b[1;33m]\u001b[0m\u001b[1;33m,\u001b[0m \u001b[1;34m\"r\"\u001b[0m\u001b[1;33m)\u001b[0m\u001b[1;33m\u001b[0m\u001b[1;33m\u001b[0m\u001b[0m\n\u001b[0m\u001b[0;32m     11\u001b[0m \u001b[1;31m# Initialize the total\u001b[0m\u001b[1;33m\u001b[0m\u001b[1;33m\u001b[0m\u001b[0m\n\u001b[0;32m     12\u001b[0m \u001b[0mtotal\u001b[0m \u001b[1;33m=\u001b[0m \u001b[1;36m0\u001b[0m\u001b[1;33m\u001b[0m\u001b[1;33m\u001b[0m\u001b[0m\n",
      "\u001b[1;31mFileNotFoundError\u001b[0m: [Errno 2] No such file or directory: '-f'"
     ]
    }
   ],
   "source": [
    "# Import the system module\n",
    "import sys\n",
    "# Ensure that the program was started with one command line argument beyond the name\n",
    "# of the .py file\n",
    "if len(sys.argv) != 2:\n",
    "    print(\"omotayo\", \\\n",
    "\"r.\")\n",
    "quit()\n",
    "# Open the file listed immediately after the .py file on the command line\n",
    "inf = open(sys.argv[1], \"r\")\n",
    "# Initialize the total\n",
    "total = 0\n",
    "# Total the values in the file\n",
    "line = inf.readline()\n",
    "while line != \"\":\n",
    "    total = total + float(line)\n",
    "    line = inf.readline()\n",
    "# Close the file\n",
    "inf.close()\n",
    "# Display the result\n",
    "print(\"The total of the values in\", sys.argv[1], \"is\", total)"
   ]
  },
  {
   "cell_type": "code",
   "execution_count": 1,
   "id": "a17634d2",
   "metadata": {},
   "outputs": [
    {
     "name": "stdout",
     "output_type": "stream",
     "text": [
      "Where will the numbers will be stored? tayooo\n",
      "What is the maximum value? 9\n"
     ]
    }
   ],
   "source": [
    "# Read the file name from the user and open the file\n",
    "fname = input(\"Where will the numbers will be stored? \")\n",
    "outf = open(fname, \"w\")\n",
    "# Read the maximum value that will be written\n",
    "limit = int(input(\"What is the maximum value? \"))\n",
    "# Write the numbers to the file with one number on each line\n",
    "for num in range(1, limit + 1):\n",
    "    outf.write(str(num) + \"\\n\")\n",
    "# Close the file\n",
    "outf.close()"
   ]
  },
  {
   "cell_type": "code",
   "execution_count": 1,
   "id": "4bbb0a6a",
   "metadata": {},
   "outputs": [
    {
     "name": "stdout",
     "output_type": "stream",
     "text": [
      "Enter the file name: tayoo\n",
      "’%s’ could not be opened. Quitting...\n"
     ]
    }
   ],
   "source": [
    "# Read the file name from the user\n",
    "fname = input(\"Enter the file name: \")\n",
    "# Attempt to open the file\n",
    "try:\n",
    "    inf = open(fname, \"r\")\n",
    "except FileNotFoundError:\n",
    "# Display an error message and quit if the file was not opened successfully\n",
    "    print(\"’%s’ could not be opened. Quitting...\")\n",
    "quit()"
   ]
  },
  {
   "cell_type": "code",
   "execution_count": 5,
   "id": "cbae8d76",
   "metadata": {},
   "outputs": [
    {
     "name": "stdout",
     "output_type": "stream",
     "text": [
      "Enter the file name: tito\n",
      "’%s’ wasn’t found. Please try again.\n",
      "Enter the file name: omotayo\n"
     ]
    }
   ],
   "source": [
    "# Read the file name from the user\n",
    "fname = input(\"Enter the file name: \")\n",
    "file_opened = False\n",
    "while file_opened == False:\n",
    "# Attempt to open the file\n",
    "    try:\n",
    "        inf = open(fname, \"r\")\n",
    "        file_opened = True\n",
    "    except FileNotFoundError:\n",
    "# Display an error message and read another file name if the file was not\n",
    "# opened successfully\n",
    "        print(\"’%s’ wasn’t found. Please try again.\")\n",
    "        fname = input(\"Enter the file name: \")"
   ]
  },
  {
   "cell_type": "raw",
   "id": "05ba6a84",
   "metadata": {},
   "source": [
    " Display the Head of a File\n",
    "Unix-based operating systems usually include a tool named head. It displays the\n",
    "first 10 lines of a file whose name is provided as a command line argument. Write\n",
    "a Python program that provides the same behaviour. Display an appropriate error\n",
    "message if the file requested by the user does not exist, or if the command line\n",
    "argument is omitted"
   ]
  },
  {
   "cell_type": "code",
   "execution_count": 1,
   "id": "8d2da5fb",
   "metadata": {},
   "outputs": [
    {
     "name": "stdout",
     "output_type": "stream",
     "text": [
      "omotayo\n",
      "An error occurred while accessing the file.\n"
     ]
    }
   ],
   "source": [
    "##\n",
    "# Display the head (first 10 lines) of a file whose name is provided as a command line argument.\n",
    "#\n",
    "import sys\n",
    "NUM_LINES = 10\n",
    "# Verify that exactly one command line argument (in addition to the .py file) was supplied\n",
    "if len(sys.argv) != 2:\n",
    "    print(\"Provide the file name as a command line argument\")\n",
    "    quit()\n",
    "try:\n",
    "    # Open the file for reading\n",
    "    inf = open(sys.argv[1], \"r\")\n",
    "    # Read the first line from the file\n",
    "    line = inf.readline()\n",
    "    # Keep looping until we have either read and displayed 10 lines or we have reached the end\n",
    "    # of the file\n",
    "    count = 0\n",
    "    while count < NUM_LINES and line != \"\":\n",
    "        # Remove the trailing newline character and count the line\n",
    "        line = line.rstrip()\n",
    "        count = count + 1\n",
    "        # Display the line\n",
    "        print(line)\n",
    "        # Read the next line from the file\n",
    "        line = inf.readline()\n",
    "    # Close the file\n",
    "    inf.close()\n",
    "except IOError:\n",
    "    # Display a message if something goes wrong while accessing the file\n",
    "    print(\"An error occurred while accessing the file.\")"
   ]
  },
  {
   "cell_type": "raw",
   "id": "d70c10d7",
   "metadata": {},
   "source": [
    " Display the Tail of a File\n",
    "\n",
    "Unix-based operating systems also typically include a tool named tail. It displays\n",
    "the last 10 lines of a file whose name is provided as a command line argument.\n",
    "Write a Python program that provides the same behaviour. Display an appropriate\n",
    "error message if the file requested by the user does not exist, or if the command line\n",
    "argument is omitted.\n",
    "There are several different approaches that can be taken to solve this problem.\n",
    "One option is to load the entire contents of the file into a list and then display its\n",
    "last 10 elements. Another option is to read the contents of the file twice, once to\n",
    "count the lines, and a second time to display its last 10 lines. However, both of these\n",
    "solutions are undesirable when working with large files. Another solution exists that\n",
    "only requires you to read the file once, and only requires you to store 10 lines from\n",
    "the file at one time. For an added challenge, develop such a solution."
   ]
  },
  {
   "cell_type": "code",
   "execution_count": 1,
   "id": "b021003c",
   "metadata": {},
   "outputs": [
    {
     "name": "stdout",
     "output_type": "stream",
     "text": [
      "Provide the file name as a command line argument.\n",
      "An error occurred while processing the file.\n"
     ]
    },
    {
     "ename": "NameError",
     "evalue": "name 'lines' is not defined",
     "output_type": "error",
     "traceback": [
      "\u001b[1;31m---------------------------------------------------------------------------\u001b[0m",
      "\u001b[1;31mNameError\u001b[0m                                 Traceback (most recent call last)",
      "\u001b[1;32m~\\AppData\\Local\\Temp/ipykernel_8368/876369584.py\u001b[0m in \u001b[0;36m<module>\u001b[1;34m\u001b[0m\n\u001b[0;32m     25\u001b[0m     \u001b[0mquit\u001b[0m\u001b[1;33m(\u001b[0m\u001b[1;33m)\u001b[0m\u001b[1;33m\u001b[0m\u001b[1;33m\u001b[0m\u001b[0m\n\u001b[0;32m     26\u001b[0m \u001b[1;31m# Display the last lines of the file\u001b[0m\u001b[1;33m\u001b[0m\u001b[1;33m\u001b[0m\u001b[0m\n\u001b[1;32m---> 27\u001b[1;33m \u001b[1;32mfor\u001b[0m \u001b[0mline\u001b[0m \u001b[1;32min\u001b[0m \u001b[0mlines\u001b[0m\u001b[1;33m:\u001b[0m\u001b[1;33m\u001b[0m\u001b[1;33m\u001b[0m\u001b[0m\n\u001b[0m\u001b[0;32m     28\u001b[0m     \u001b[0mprint\u001b[0m\u001b[1;33m(\u001b[0m\u001b[0mline\u001b[0m\u001b[1;33m,\u001b[0m \u001b[0mend\u001b[0m\u001b[1;33m=\u001b[0m\u001b[1;34m\"\"\u001b[0m\u001b[1;33m)\u001b[0m\u001b[1;33m\u001b[0m\u001b[1;33m\u001b[0m\u001b[0m\n",
      "\u001b[1;31mNameError\u001b[0m: name 'lines' is not defined"
     ]
    }
   ],
   "source": [
    "##\n",
    "# Display the tail (last lines) of a file whose name is provided as a command line argument.\n",
    "#\n",
    "import sys\n",
    "NUM_LINES = 10\n",
    "# Verify that exactly one command line argument (in addition to the .py file) was provided\n",
    "if len(sys.argv) != 2:\n",
    "    print(\"Provide the file name as a command line argument.\")\n",
    "    quit()\n",
    "try:\n",
    "# Open the file for reading\n",
    "    inf = open(sys.argv[1], \"r\")\n",
    "# Read through the file, always saving the NUM LINES most recent lines\n",
    "    lines = []\n",
    "    for line in inf:\n",
    "    # Add the most recent line to the end of the list\n",
    "        lines.append(line)\n",
    "    # If we now have more than NUM LINES lines then remove the oldest one\n",
    "        if len(lines) > NUM_LINES:\n",
    "            lines.pop(0)\n",
    "    # Close the file\n",
    "    inf.close()\n",
    "except:\n",
    "    print(\"An error occurred while processing the file.\")\n",
    "    quit()\n",
    "# Display the last lines of the file\n",
    "for line in lines:\n",
    "    print(line, end=\"\")"
   ]
  },
  {
   "cell_type": "raw",
   "id": "4ff8343d",
   "metadata": {},
   "source": [
    "Concatenate Multiple Files\n",
    "\n",
    "Unix-based operating systems typically include a tool named cat, which is short for\n",
    "concatenate. Its purpose is to display the concatenation of one or more files whose\n",
    "names are provided as command line arguments. The files are displayed in the same\n",
    "order that they appear on the command line.\n",
    "Create a Python program that performs this task. It should generate an appropriate\n",
    "error message for any file that cannot be displayed, and then proceed to the next file.\n",
    "Display an appropriate error message if your program is started without any command\n",
    "line arguments."
   ]
  },
  {
   "cell_type": "code",
   "execution_count": 3,
   "id": "d84300f3",
   "metadata": {},
   "outputs": [
    {
     "name": "stdout",
     "output_type": "stream",
     "text": [
      "Couldn’t open/display -f\n",
      "{\n",
      "  \"shell_port\": 58214,\n",
      "  \"iopub_port\": 58215,\n",
      "  \"stdin_port\": 58216,\n",
      "  \"control_port\": 58218,\n",
      "  \"hb_port\": 58217,\n",
      "  \"ip\": \"127.0.0.1\",\n",
      "  \"key\": \"3bec6601-3332a691130cab76170d3839\",\n",
      "  \"transport\": \"tcp\",\n",
      "  \"signature_scheme\": \"hmac-sha256\",\n",
      "  \"kernel_name\": \"\"\n",
      "}"
     ]
    }
   ],
   "source": [
    "# Concatenate one or more files and display the result.\n",
    "#\n",
    "import sys\n",
    "# Ensure that at least one command line argument (in addition to the .py file) has been provided\n",
    "if len(sys.argv) == 1:\n",
    "    print(\"You must provide at least one file name.\")\n",
    "    quit()\n",
    "# Process all of the files provided on the command line\n",
    "for i in range(1, len(sys.argv)):\n",
    "    fname = sys.argv[i]\n",
    "    try:\n",
    "# Open the current file for reading\n",
    "        inf = open(fname, \"r\")\n",
    "# Display the file\n",
    "        for line in inf:\n",
    "            print(line, end=\"\")\n",
    "# Close the file\n",
    "        inf.close()\n",
    "    except:\n",
    "# Display a message, but do not quit, so that the program will go on and process any\n",
    "# subsequent files\n",
    "        print(\"Couldn’t open/display\", fname)"
   ]
  },
  {
   "cell_type": "raw",
   "id": "71e13b68",
   "metadata": {},
   "source": [
    "Sum a Collection of Numbers\n",
    "\n",
    "Create a program that sums all of the numbers entered by the user while ignoring\n",
    "any input that is not a valid number. Your program should display the current sum\n",
    "after each number is entered. It should display an appropriate message after each\n",
    "non-numeric input, and then continue to sum any additional numbers entered by the\n",
    "user. Exit the program when the user enters a blank line. Ensure that your program\n",
    "works correctly for both integers and floating-point numbers."
   ]
  },
  {
   "cell_type": "code",
   "execution_count": 4,
   "id": "ae05ceaf",
   "metadata": {},
   "outputs": [
    {
     "name": "stdout",
     "output_type": "stream",
     "text": [
      "Enter a number: 7\n",
      "The total is now 7.0\n",
      "Enter a number: 6\n",
      "The total is now 13.0\n",
      "Enter a number: 8\n",
      "The total is now 21.0\n",
      "Enter a number: 0\n",
      "The total is now 21.0\n",
      "Enter a number:  \n",
      "That wasn’t a number.\n",
      "Enter a number: o\n",
      "That wasn’t a number.\n",
      "Enter a number: 999\n",
      "The total is now 1020.0\n"
     ]
    },
    {
     "ename": "KeyboardInterrupt",
     "evalue": "Interrupted by user",
     "output_type": "error",
     "traceback": [
      "\u001b[1;31m---------------------------------------------------------------------------\u001b[0m",
      "\u001b[1;31mKeyboardInterrupt\u001b[0m                         Traceback (most recent call last)",
      "\u001b[1;32m~\\AppData\\Local\\Temp/ipykernel_2288/4221500743.py\u001b[0m in \u001b[0;36m<module>\u001b[1;34m\u001b[0m\n\u001b[0;32m     17\u001b[0m         \u001b[0mprint\u001b[0m\u001b[1;33m(\u001b[0m\u001b[1;34m\"That wasn’t a number.\"\u001b[0m\u001b[1;33m)\u001b[0m\u001b[1;33m\u001b[0m\u001b[1;33m\u001b[0m\u001b[0m\n\u001b[0;32m     18\u001b[0m \u001b[1;31m# Read the next number\u001b[0m\u001b[1;33m\u001b[0m\u001b[1;33m\u001b[0m\u001b[0m\n\u001b[1;32m---> 19\u001b[1;33m     \u001b[0mline\u001b[0m \u001b[1;33m=\u001b[0m \u001b[0minput\u001b[0m\u001b[1;33m(\u001b[0m\u001b[1;34m\"Enter a number: \"\u001b[0m\u001b[1;33m)\u001b[0m\u001b[1;33m\u001b[0m\u001b[1;33m\u001b[0m\u001b[0m\n\u001b[0m\u001b[0;32m     20\u001b[0m \u001b[1;31m# Display the total\u001b[0m\u001b[1;33m\u001b[0m\u001b[1;33m\u001b[0m\u001b[0m\n\u001b[0;32m     21\u001b[0m \u001b[0mprint\u001b[0m\u001b[1;33m(\u001b[0m\u001b[1;34m\"The grand total is\"\u001b[0m\u001b[1;33m,\u001b[0m \u001b[0mtotal\u001b[0m\u001b[1;33m)\u001b[0m\u001b[1;33m\u001b[0m\u001b[1;33m\u001b[0m\u001b[0m\n",
      "\u001b[1;32m~\\anaconda3\\lib\\site-packages\\ipykernel\\kernelbase.py\u001b[0m in \u001b[0;36mraw_input\u001b[1;34m(self, prompt)\u001b[0m\n\u001b[0;32m   1004\u001b[0m                 \u001b[1;34m\"raw_input was called, but this frontend does not support input requests.\"\u001b[0m\u001b[1;33m\u001b[0m\u001b[1;33m\u001b[0m\u001b[0m\n\u001b[0;32m   1005\u001b[0m             )\n\u001b[1;32m-> 1006\u001b[1;33m         return self._input_request(\n\u001b[0m\u001b[0;32m   1007\u001b[0m             \u001b[0mstr\u001b[0m\u001b[1;33m(\u001b[0m\u001b[0mprompt\u001b[0m\u001b[1;33m)\u001b[0m\u001b[1;33m,\u001b[0m\u001b[1;33m\u001b[0m\u001b[1;33m\u001b[0m\u001b[0m\n\u001b[0;32m   1008\u001b[0m             \u001b[0mself\u001b[0m\u001b[1;33m.\u001b[0m\u001b[0m_parent_ident\u001b[0m\u001b[1;33m[\u001b[0m\u001b[1;34m\"shell\"\u001b[0m\u001b[1;33m]\u001b[0m\u001b[1;33m,\u001b[0m\u001b[1;33m\u001b[0m\u001b[1;33m\u001b[0m\u001b[0m\n",
      "\u001b[1;32m~\\anaconda3\\lib\\site-packages\\ipykernel\\kernelbase.py\u001b[0m in \u001b[0;36m_input_request\u001b[1;34m(self, prompt, ident, parent, password)\u001b[0m\n\u001b[0;32m   1049\u001b[0m             \u001b[1;32mexcept\u001b[0m \u001b[0mKeyboardInterrupt\u001b[0m\u001b[1;33m:\u001b[0m\u001b[1;33m\u001b[0m\u001b[1;33m\u001b[0m\u001b[0m\n\u001b[0;32m   1050\u001b[0m                 \u001b[1;31m# re-raise KeyboardInterrupt, to truncate traceback\u001b[0m\u001b[1;33m\u001b[0m\u001b[1;33m\u001b[0m\u001b[0m\n\u001b[1;32m-> 1051\u001b[1;33m                 \u001b[1;32mraise\u001b[0m \u001b[0mKeyboardInterrupt\u001b[0m\u001b[1;33m(\u001b[0m\u001b[1;34m\"Interrupted by user\"\u001b[0m\u001b[1;33m)\u001b[0m \u001b[1;32mfrom\u001b[0m \u001b[1;32mNone\u001b[0m\u001b[1;33m\u001b[0m\u001b[1;33m\u001b[0m\u001b[0m\n\u001b[0m\u001b[0;32m   1052\u001b[0m             \u001b[1;32mexcept\u001b[0m \u001b[0mException\u001b[0m\u001b[1;33m:\u001b[0m\u001b[1;33m\u001b[0m\u001b[1;33m\u001b[0m\u001b[0m\n\u001b[0;32m   1053\u001b[0m                 \u001b[0mself\u001b[0m\u001b[1;33m.\u001b[0m\u001b[0mlog\u001b[0m\u001b[1;33m.\u001b[0m\u001b[0mwarning\u001b[0m\u001b[1;33m(\u001b[0m\u001b[1;34m\"Invalid Message:\"\u001b[0m\u001b[1;33m,\u001b[0m \u001b[0mexc_info\u001b[0m\u001b[1;33m=\u001b[0m\u001b[1;32mTrue\u001b[0m\u001b[1;33m)\u001b[0m\u001b[1;33m\u001b[0m\u001b[1;33m\u001b[0m\u001b[0m\n",
      "\u001b[1;31mKeyboardInterrupt\u001b[0m: Interrupted by user"
     ]
    }
   ],
   "source": [
    "##\n",
    "# Compute the sum of numbers entered by the user, ignoring non-numeric input.\n",
    "#\n",
    "# Read the first line of input from the user\n",
    "line = input(\"Enter a number: \")\n",
    "total = 0\n",
    "# Keep reading until the user enters a blank line\n",
    "while line != \"\":\n",
    "    try:\n",
    "        # Try and convert the line to a number\n",
    "        num = float(line)\n",
    "        # If the conversion succeeds then add it to the total and display it\n",
    "        total = total + num\n",
    "        print(\"The total is now\", total)\n",
    "    except ValueError:\n",
    "# Display an error message before going on to read the next value\n",
    "        print(\"That wasn’t a number.\")\n",
    "# Read the next number\n",
    "    line = input(\"Enter a number: \")\n",
    "# Display the total\n",
    "print(\"The grand total is\", total)"
   ]
  },
  {
   "cell_type": "raw",
   "id": "080719d8",
   "metadata": {},
   "source": [
    " Remove Comments\n",
    "\n",
    "Python uses the # character to mark the beginning of a comment. The comment\n",
    "continues from the # character to the end of the line containing it. Python does not\n",
    "provide any mechanism for ending a comment before the end of a line.\n",
    "In this exercise, you will create a program that removes all of the comments from a\n",
    "Python source file. Check each line in the file to determine if a # character is present.\n",
    "If it is then your program should remove all of the characters from the # character to\n",
    "the end of the line (we will ignore the situation where the comment character occurs\n",
    "inside of a string). Save the modified file using a new name. Both the name of the\n",
    "input file and the name of the output file should be read from the user. Ensure that an\n",
    "appropriate error message is displayed if a problem is encountered while accessing\n",
    "either of the files."
   ]
  },
  {
   "cell_type": "code",
   "execution_count": 1,
   "id": "a88fe35f",
   "metadata": {},
   "outputs": [
    {
     "name": "stdout",
     "output_type": "stream",
     "text": [
      "Enter the name of a Python file: test\n",
      "Enter the output file name: result\n"
     ]
    }
   ],
   "source": [
    "##\n",
    "# Remove all of the comments from a Python file (ignoring the case where a comment\n",
    "# character occurs within a string)\n",
    "#\n",
    "# Read the file name and open the input file\n",
    "try:\n",
    "    in_name = input(\"Enter the name of a Python file: \")\n",
    "    inf = open(in_name, \"r\")\n",
    "except:\n",
    "    # Display an error message and quit if the file was not opened successfully\n",
    "    print(\"A problem was encountered with the input file.\")\n",
    "    print(\"Quitting...\")\n",
    "    quit()\n",
    "# Read the file name and open the output file\n",
    "try:\n",
    "    out_name = input(\"Enter the output file name: \")\n",
    "    outf = open(out_name, \"w\")\n",
    "except:\n",
    "    # Close the input file, display an error message and quit if the file was not opened\n",
    "    # successfully\n",
    "    inf.close()\n",
    "    print(\"A problem was encountered with the output file.\")\n",
    "    print(\"Quitting...\")\n",
    "    quit()\n",
    "try:\n",
    "    # Read all of the lines from the input file, remove the comments from them, and save the\n",
    "    # modified lines to a new file\n",
    "    for line in inf:\n",
    "        # Find the position of the comment character (-1 if there isn’t one)\n",
    "        pos = line.find(\"#\")\n",
    "        # If there is a comment then create a slice of the string that excludes it and store it back\n",
    "        # into line\n",
    "        if pos > -1:\n",
    "            line = line[0 : pos]\n",
    "            line = line + \"\\n\"\n",
    "        # Write the (potentially modified) line to the file\n",
    "        outf.write(line)\n",
    "    # Close the files\n",
    "    inf.close()\n",
    "    outf.close()\n",
    "except:\n",
    "    # Display an error message if something went wrong while processing the file\n",
    "    print(\"A problem was encountered while processing the file.\")\n",
    "    print(\"Quitting...\")"
   ]
  },
  {
   "cell_type": "raw",
   "id": "1161fd32",
   "metadata": {},
   "source": [
    " Two Word Random Password\n",
    "\n",
    "While generating a password by selecting random characters usually creates one that\n",
    "is relatively secure, it also generally gives a password that is difficult to memorize.\n",
    "As an alternative, some systems construct a password by taking two English words\n",
    "and concatenating them. While this password may not be as secure, it is normally\n",
    "much easier to memorize.\n",
    "Write a program that reads a file containing a list of words, randomly selects two\n",
    "of them, and concatenates them to produce a new password. When producing the\n",
    "password ensure that the total length is between 8 and 10 characters, and that each\n",
    "word used is at least three letters long. Capitalize each word in the password so that\n",
    "the user can easily see where one word ends and the next one begins. Finally, your\n",
    "program should display the password for the user."
   ]
  },
  {
   "cell_type": "code",
   "execution_count": 32,
   "id": "53aa6d66",
   "metadata": {},
   "outputs": [
    {
     "ename": "PermissionError",
     "evalue": "[Errno 13] Permission denied: '../PYTHON PROGRAMMING/words2/'",
     "output_type": "error",
     "traceback": [
      "\u001b[1;31m---------------------------------------------------------------------------\u001b[0m",
      "\u001b[1;31mPermissionError\u001b[0m                           Traceback (most recent call last)",
      "\u001b[1;32m~\\AppData\\Local\\Temp/ipykernel_10628/4048661374.py\u001b[0m in \u001b[0;36m<module>\u001b[1;34m\u001b[0m\n\u001b[0;32m      7\u001b[0m \u001b[1;31m# and store them in a list\u001b[0m\u001b[1;33m\u001b[0m\u001b[1;33m\u001b[0m\u001b[0m\n\u001b[0;32m      8\u001b[0m \u001b[0mwords\u001b[0m \u001b[1;33m=\u001b[0m \u001b[1;33m[\u001b[0m\u001b[1;33m]\u001b[0m\u001b[1;33m\u001b[0m\u001b[1;33m\u001b[0m\u001b[0m\n\u001b[1;32m----> 9\u001b[1;33m \u001b[0minf\u001b[0m \u001b[1;33m=\u001b[0m \u001b[0mopen\u001b[0m\u001b[1;33m(\u001b[0m\u001b[0mWORD_FILE\u001b[0m\u001b[1;33m,\u001b[0m \u001b[1;34m\"r\"\u001b[0m\u001b[1;33m)\u001b[0m\u001b[1;33m\u001b[0m\u001b[1;33m\u001b[0m\u001b[0m\n\u001b[0m\u001b[0;32m     10\u001b[0m \u001b[1;32mfor\u001b[0m \u001b[0mline\u001b[0m \u001b[1;32min\u001b[0m \u001b[0minf\u001b[0m\u001b[1;33m:\u001b[0m\u001b[1;33m\u001b[0m\u001b[1;33m\u001b[0m\u001b[0m\n\u001b[0;32m     11\u001b[0m     \u001b[1;31m# Remove the newline character\u001b[0m\u001b[1;33m\u001b[0m\u001b[1;33m\u001b[0m\u001b[0m\n",
      "\u001b[1;31mPermissionError\u001b[0m: [Errno 13] Permission denied: '../PYTHON PROGRAMMING/words2/'"
     ]
    }
   ],
   "source": [
    "# Generate a password by concatenating two random words. The password will be between\n",
    "# 8 and 10 letters, and each word will be at least three letters long.\n",
    "#\n",
    "from random import randrange\n",
    "WORD_FILE = \"../PYTHON PROGRAMMING/words2/\"\n",
    "# Read all of the words from the file, only keeping those between 3 and 7 letters in length,\n",
    "# and store them in a list\n",
    "words = []\n",
    "inf = open(WORD_FILE, \"r\")\n",
    "for line in inf:\n",
    "    # Remove the newline character\n",
    "    line = line.rstrip()\n",
    "# Keep words that are between 3 and 7 letters long\n",
    "    if len(line) >= 3 and len(line) <= 7:\n",
    "        words.append(line)\n",
    "# Close the file\n",
    "inf.close()\n",
    "# Randomly select the first word for the password. It can be any word.\n",
    "first = words[randrange(0, len(words))]\n",
    "first = first.capitalize()\n",
    "# Keep selecting a second word until we find one that doesn’t make the password too short\n",
    "# or too long\n",
    "password = first\n",
    "while len(password) < 8 or len(password) > 10:\n",
    "    second = words[randrange(0, len(words))]\n",
    "    second = second.capitalize()\n",
    "    password = first + second\n",
    "# Display the random password\n",
    "print(\"The random password is:\", password)"
   ]
  },
  {
   "cell_type": "raw",
   "id": "972beaab",
   "metadata": {},
   "source": [
    "A Book with No E...\n",
    "\n",
    "The novel “Gadsby” is over 50,000 words in length. While 50,000 words is not\n",
    "normally remarkable for a novel, it is in this case because none of the words in the\n",
    "book use the letter E. This is particularly noteworthy when one considers that E is\n",
    "the most common letter in English.\n",
    "Write a program that reads a list of words from a file and determines what proportion of the words use each letter of the alphabet. Display this result for all 26 letters\n",
    "and include an additional message that identifies the letter that is used in the smallest\n",
    "proportion of the words. Your program should ignore any punctuation marks that are\n",
    "present in the file and it should treat uppercase and lowercase letters as equivalent"
   ]
  },
  {
   "cell_type": "code",
   "execution_count": 34,
   "id": "7bed3415",
   "metadata": {},
   "outputs": [
    {
     "ename": "PermissionError",
     "evalue": "[Errno 13] Permission denied: '../PYTHON PROGRAMMING/words2/'",
     "output_type": "error",
     "traceback": [
      "\u001b[1;31m---------------------------------------------------------------------------\u001b[0m",
      "\u001b[1;31mPermissionError\u001b[0m                           Traceback (most recent call last)",
      "\u001b[1;32m~\\AppData\\Local\\Temp/ipykernel_10628/861462465.py\u001b[0m in \u001b[0;36m<module>\u001b[1;34m\u001b[0m\n\u001b[0;32m     12\u001b[0m \u001b[1;31m# Open the file, process each word, and update the counts dictionary\u001b[0m\u001b[1;33m\u001b[0m\u001b[1;33m\u001b[0m\u001b[0m\n\u001b[0;32m     13\u001b[0m \u001b[0mnum_words\u001b[0m \u001b[1;33m=\u001b[0m \u001b[1;36m0\u001b[0m\u001b[1;33m\u001b[0m\u001b[1;33m\u001b[0m\u001b[0m\n\u001b[1;32m---> 14\u001b[1;33m \u001b[0minf\u001b[0m \u001b[1;33m=\u001b[0m \u001b[0mopen\u001b[0m\u001b[1;33m(\u001b[0m\u001b[0mWORD_FILE\u001b[0m\u001b[1;33m,\u001b[0m \u001b[1;34m\"r\"\u001b[0m\u001b[1;33m)\u001b[0m\u001b[1;33m\u001b[0m\u001b[1;33m\u001b[0m\u001b[0m\n\u001b[0m\u001b[0;32m     15\u001b[0m \u001b[1;32mfor\u001b[0m \u001b[0mword\u001b[0m \u001b[1;32min\u001b[0m \u001b[0minf\u001b[0m\u001b[1;33m:\u001b[0m\u001b[1;33m\u001b[0m\u001b[1;33m\u001b[0m\u001b[0m\n\u001b[0;32m     16\u001b[0m     \u001b[1;31m# Convert the word to uppercase and remove the newline character\u001b[0m\u001b[1;33m\u001b[0m\u001b[1;33m\u001b[0m\u001b[0m\n",
      "\u001b[1;31mPermissionError\u001b[0m: [Errno 13] Permission denied: '../PYTHON PROGRAMMING/words2/'"
     ]
    }
   ],
   "source": [
    "\n",
    "##\n",
    "# Determine and display the proportion of words that include each letter of the alphabet. The\n",
    "# letter that is used in the smallest proportion of words is highlighted at the end of the\n",
    "# program’s output.\n",
    "#\n",
    "WORD_FILE = \"../PYTHON PROGRAMMING/words2/\"\n",
    "# Create a dictionary that counts the number of words containing each letter. Initialize the\n",
    "# count for each letter to 0.\n",
    "counts = {}\n",
    "for ch in \"ABCDEFGHIJKLMNOPQRSTUVWXYZ\":\n",
    "    counts[ch] = 0\n",
    "# Open the file, process each word, and update the counts dictionary\n",
    "num_words = 0\n",
    "inf = open(WORD_FILE, \"r\")\n",
    "for word in inf:\n",
    "    # Convert the word to uppercase and remove the newline character\n",
    "    word = word.upper().rstrip()\n",
    "# Before we can update the dictionary we need to generate a list of the unique letters in the\n",
    "# word. Otherwise we will increase the count multiple times for words that contain repeated\n",
    "# letters. We also need to ignore any non-letter characters that might be present.\n",
    "    unique = []\n",
    "    for ch in word:\n",
    "        if ch not in unique and ch >= \"A\" and ch <= \"Z\":\n",
    "            unique.append(ch)\n",
    "    # Now increment the counts for all of the letters that are in the list of unique characters\n",
    "    for ch in unique:\n",
    "        counts[ch] = counts[ch] + 1\n",
    "# Keep track of the number of words that we have processed\n",
    "        num_words = num_words + 1\n",
    "# Close the file\n",
    "inf.close()\n",
    "# Display the result for each letter. While displaying the results we will also determine which\n",
    "# character had the smallest count so that we can display it again at the end of the program.\n",
    "smallest_count = min(counts.values())\n",
    "for ch in sorted(counts):\n",
    "    if counts[ch] == smallest_count:\n",
    "        smallest_letter = ch\n",
    "    percentage = counts[ch] / num_words * 100\n",
    "    print(ch, \"occurs in %.2f percent of words\" % percentage)\n",
    "# Display the letter that is easiest to avoid based on the number of words in which it appears\n",
    "print()\n",
    "print(\"The letter that is easiest to avoid is\", smallest_letter)"
   ]
  },
  {
   "cell_type": "raw",
   "id": "2e4970a4",
   "metadata": {},
   "source": [
    "Names That Reached Number One\n",
    "\n",
    "The baby names data set consists of over 200 files. Each file contains a list of 100\n",
    "names, along with the number of times each name was used. Entries in the files are\n",
    "ordered from most frequently used to least frequently used. There are two files for\n",
    "each year: one containing names used for girls and the other containing names used\n",
    "for boys. The data set includes data for every year from 1900 to 2012.\n",
    "Write a program that reads every file in the data set and identifies all of the names\n",
    "that were most popular in at least one year. Your program should output two lists:\n",
    "one containing the most popular names for boys and the other containing the most\n",
    "popular names for girls. Neither of your lists should include any repeated values."
   ]
  },
  {
   "cell_type": "code",
   "execution_count": 25,
   "id": "301f879a",
   "metadata": {},
   "outputs": [
    {
     "name": "stdout",
     "output_type": "stream",
     "text": [
      "Girls’ names that reached #1:\n",
      "  Mary\n",
      "  Linda\n",
      "  Lisa\n",
      "  Jennifer\n",
      "  Jessica\n",
      "  Ashley\n",
      "  Emily\n",
      "  Emma\n",
      "  Isabella\n",
      "  Sophia\n",
      "\n",
      "Boys’ names that reached #1: \n",
      "  John\n",
      "  Robert\n",
      "  James\n",
      "  Michael\n",
      "  David\n",
      "  Jacob\n"
     ]
    }
   ],
   "source": [
    "# Display all of the girls’ and boys’ names that were the most popular in at least one year\n",
    "# between 1900 and 2012.\n",
    "#\n",
    "FIRST_YEAR = 1900\n",
    "LAST_YEAR = 2012\n",
    "## Load the first line from the file, extract the name, and add it to the names list if it is not\n",
    "# already present.\n",
    "# @param fname the name of the file from which the data will be read\n",
    "# @param names the list to add the name to (if it isn’t already present)\n",
    "# @return (None)\n",
    "def LoadAndAdd(fname, names):\n",
    "# Open the file, read the first line, and extract the name\n",
    "    inf = open(fname, \"r\")\n",
    "    line = inf.readline()\n",
    "    inf.close()\n",
    "    parts = line.split()\n",
    "    name = parts[0]\n",
    "# Add the name to the list if it is not already present\n",
    "    if name not in names:\n",
    "        names.append(name)\n",
    "# Display the girls’ and boys’ names that reached #1 in at least one year between 1900 and 2012\n",
    "def main():\n",
    "    # Create two lists to store the most popular names\n",
    "    girls = []\n",
    "    boys = []\n",
    "    # Process each year in the range, reading the first line out of the girl file and the boy file\n",
    "    for year in range(FIRST_YEAR, LAST_YEAR + 1):\n",
    "        girl_fname = \"../PYTHON PROGRAMMING/BabyNames/\" + str(year) + \\\n",
    "        \"_GirlsNames.txt\"\n",
    "        boy_fname = \"../PYTHON PROGRAMMING/BabyNames/\" + str(year) + \\\n",
    "        \"_BoysNames.txt\"\n",
    "        LoadAndAdd(girl_fname, girls)\n",
    "        LoadAndAdd(boy_fname, boys)\n",
    "      # Display the lists\n",
    "    print(\"Girls’ names that reached #1:\")\n",
    "    for name in girls:\n",
    "        print(\" \", name)\n",
    "    print()\n",
    "    print(\"Boys’ names that reached #1: \")\n",
    "    for name in boys:\n",
    "        print(\" \", name)\n",
    "# Call the main function\n",
    "main()"
   ]
  },
  {
   "cell_type": "raw",
   "id": "f2e83d48",
   "metadata": {},
   "source": [
    "Spell Checker\n",
    "\n",
    "A spell checker can be a helpful tool for people who struggle to spell words correctly.\n",
    "In this exercise, you will write a program that reads a file and displays all of the words\n",
    "in it that are misspelled. Misspelled words will be identified by checking each word\n",
    "in the file against a list of known words. Any words in the user’s file that do not\n",
    "appear in the list of known words will be reported as spelling mistakes.\n",
    "The user will provide the name of the file to check for spelling mistakes as a\n",
    "command line argument. Your program should display an appropriate error message\n",
    "if the command line argument is missing. An error message should also be displayed\n",
    "if your program is unable to open the user’s file. Use your solution to Exercise 117\n",
    "when creating your solution to this exercise so that words followed by a comma,\n",
    "period or other punctuation mark are not reported as spelling mistakes. Ignore the\n",
    "capitalization of the words when checking their spelling."
   ]
  },
  {
   "cell_type": "code",
   "execution_count": 35,
   "id": "6893b587",
   "metadata": {},
   "outputs": [
    {
     "ename": "ModuleNotFoundError",
     "evalue": "No module named 'only_words'",
     "output_type": "error",
     "traceback": [
      "\u001b[1;31m---------------------------------------------------------------------------\u001b[0m",
      "\u001b[1;31mModuleNotFoundError\u001b[0m                       Traceback (most recent call last)",
      "\u001b[1;32m~\\AppData\\Local\\Temp/ipykernel_10628/207062298.py\u001b[0m in \u001b[0;36m<module>\u001b[1;34m\u001b[0m\n\u001b[0;32m      2\u001b[0m \u001b[1;31m# Find and list all of the words in a file that are misspelled.\u001b[0m\u001b[1;33m\u001b[0m\u001b[1;33m\u001b[0m\u001b[0m\n\u001b[0;32m      3\u001b[0m \u001b[1;31m#\u001b[0m\u001b[1;33m\u001b[0m\u001b[1;33m\u001b[0m\u001b[0m\n\u001b[1;32m----> 4\u001b[1;33m \u001b[1;32mfrom\u001b[0m \u001b[0monly_words\u001b[0m \u001b[1;32mimport\u001b[0m \u001b[0monlyTheWords\u001b[0m\u001b[1;33m\u001b[0m\u001b[1;33m\u001b[0m\u001b[0m\n\u001b[0m\u001b[0;32m      5\u001b[0m \u001b[1;32mimport\u001b[0m \u001b[0msys\u001b[0m\u001b[1;33m\u001b[0m\u001b[1;33m\u001b[0m\u001b[0m\n\u001b[0;32m      6\u001b[0m \u001b[0mWORDS_FILE\u001b[0m \u001b[1;33m=\u001b[0m \u001b[1;34m\"../PYTHON PROGRAMMING/words.txt\"\u001b[0m\u001b[1;33m\u001b[0m\u001b[1;33m\u001b[0m\u001b[0m\n",
      "\u001b[1;31mModuleNotFoundError\u001b[0m: No module named 'only_words'"
     ]
    }
   ],
   "source": [
    "##\n",
    "# Find and list all of the words in a file that are misspelled.\n",
    "#\n",
    "from only_words import onlyTheWords\n",
    "import sys\n",
    "WORDS_FILE = \"../PYTHON PROGRAMMING/words.txt\"\n",
    "# Ensure that the program has the correct number of command line arguments\n",
    "if len(sys.argv) != 2:\n",
    "    print(\"One command line argument must be provided.\")\n",
    "    print(\"Quitting...\")\n",
    "    quit()\n",
    "# Open the file. Quit if the file is not opened successfully.\n",
    "try:\n",
    "    inf = open(sys.argv[1], \"r\")\n",
    "except:\n",
    "    print(\"Failed to open ’%s’ for reading. Quitting...\" % \\\n",
    "    sys.argv[1])\n",
    "    quit()\n",
    "# Load all of the words into a dictionary of valid words. The value 0 is associated with each\n",
    "# word, but it is never used.\n",
    "valid = {}\n",
    "words_file = open(WORDS_FILE, \"r\")\n",
    "for word in words_file:\n",
    "    # Convert the word to lowercase and remove the trailing newline character\n",
    "    word = word.lower().rstrip()\n",
    "    # Add the word to the dictionary\n",
    "    valid[word] = 0\n",
    "words_file.close()\n",
    "# Read each line from the file, adding any misspelled words to the list of misspellings\n",
    "misspelled = []\n",
    "for line in inf:\n",
    "    # Discard the punctuation marks by calling the function developed in Exercise 117\n",
    "    words = onlyTheWords(line)\n",
    "    for word in words:\n",
    "        # Only add to the misspelled list if the word is misspelled and not already in the list\n",
    "        if word.lower() not in valid and word not in misspelled:\n",
    "            misspelled.append(word)\n",
    "# Close the file being checked\n",
    "inf.close()\n",
    "# Display the misspelled words, or a message indicating that no words are misspelled\n",
    "if len(misspelled) == 0:\n",
    "    print(\"No words were misspelled.\")\n",
    "else:\n",
    "    print(\"The following words are misspelled:\")\n",
    "    for word in misspelled:\n",
    "        print(\" \", word)"
   ]
  },
  {
   "cell_type": "raw",
   "id": "dc7b51dc",
   "metadata": {},
   "source": [
    "Redacting Text in a File\n",
    "\n",
    "Sensitive information is often removed, or redacted, from documents before they\n",
    "are released to the public. When the documents are released it is common for the\n",
    "redacted text to be replaced with black bars.\n",
    "In this exercise you will write a program that redacts all occurrences of sensitive\n",
    "words in a text file by replacing them with asterisks. Your program should redact\n",
    "sensitive words wherever they occur, even if they occur in the middle of another\n",
    "word. The list of sensitive words will be provided in a separate text file. Save the\n",
    "redacted version of the original text in a new file. The names of the original text file,\n",
    "sensitive words file, and redacted file will all be provided by the user.\n",
    "For an added challenge, extend your program so that it redacts words in a case\n",
    "insensitive manner. For example, if exam appears in the list of sensitive words then\n",
    "redact exam, Exam, ExaM and EXAM, among other possible capitalizations."
   ]
  },
  {
   "cell_type": "code",
   "execution_count": 42,
   "id": "7810b861",
   "metadata": {},
   "outputs": [
    {
     "name": "stdout",
     "output_type": "stream",
     "text": [
      "Enter the name of the text file to redact: statement.txt\n",
      "Enter the name of the sensitive words file: sensitive.txt\n",
      "Enter the name for the new redacted file: new redact\n"
     ]
    }
   ],
   "source": [
    "##\n",
    "# Redact a text file by removing all occurrences of sensitive words. The redacted version\n",
    "# of the text is written to a new file.\n",
    "##\n",
    "#Note that this program does not perform any error checking, and it does not implement\n",
    "# case insensitive redaction.\n",
    "#\n",
    "# Get the name of the input file and open it\n",
    "inf_name = input(\"Enter the name of the text file to redact: \")\n",
    "inf = open(inf_name, \"r\")\n",
    "# Get the name of the sensitive words file and open it\n",
    "sen_name = input(\"Enter the name of the sensitive words file: \")\n",
    "sen = open(sen_name, \"r\")\n",
    "# Load all of the sensitive words into a list\n",
    "words = []\n",
    "line = sen.readline()\n",
    "while line != \"\":\n",
    "    line = line.rstrip()\n",
    "    words.append(line)\n",
    "    line = sen.readline()\n",
    "# Close the sensitive words file\n",
    "sen.close()\n",
    "# Get the name of the output file and open it\n",
    "outf_name = input(\"Enter the name for the new redacted file: \")\n",
    "outf = open(outf_name, \"w\")\n",
    "# Read each line from the input file. Replace all of the sensitive words with asterisks. Then\n",
    "# write the line to the output file.\n",
    "line = inf.readline()\n",
    "while line != \"\":\n",
    "    # Check for and replace each sensitive word. The number of asterisks matches the number\n",
    "    # of letters in the word being redacted.\n",
    "        for word in words:\n",
    "            line = line.replace(word, \"*\" * len(word))\n",
    "    # Write the modified line to the output file\n",
    "        outf.write(line)\n",
    "    # Read the next line from the input file\n",
    "        line = inf.readline()\n",
    "# Close the input and output files\n",
    "inf.close()\n",
    "outf.close()"
   ]
  },
  {
   "cell_type": "raw",
   "id": "6eaf55cb",
   "metadata": {},
   "source": [
    " Missing Comments\n",
    "\n",
    "When one writes a function, it is generally a good idea to include a comment that\n",
    "outlines the function’s purpose, its parameters and its return value. However, sometimes comments are forgotten, or left out by well-intentioned programmers that plan\n",
    "to write them later but then never get around to it.\n",
    "Create a Python program that reads one or more Python source files and identifies\n",
    "functions that are not immediately preceded by a comment. For the purposes of this\n",
    "exercise, assume that any line that begins with def, followed by a space, is the\n",
    "beginning of a function definition. Assume that the comment character, #, will be\n",
    "the first character on the previous line when the function has a comment. Display the\n",
    "names of all of the functions that are missing comments, along with the file name\n",
    "and line number where the function definition is located.\n",
    "\n",
    "The user will provide the names of one or more Python files as command line\n",
    "arguments, all of which should be analyzed by your program. An appropriate error\n",
    "message should be displayed for any files that do not exist or cannot be opened. Then\n",
    "your program should process the remaining files.\n"
   ]
  },
  {
   "cell_type": "code",
   "execution_count": 45,
   "id": "5fb33c41",
   "metadata": {},
   "outputs": [
    {
     "ename": "IndentationError",
     "evalue": "unexpected unindent (Temp/ipykernel_10628/2575049268.py, line 36)",
     "output_type": "error",
     "traceback": [
      "\u001b[1;36m  File \u001b[1;32m\"C:\\Users\\User\\AppData\\Local\\Temp/ipykernel_10628/2575049268.py\"\u001b[1;36m, line \u001b[1;32m36\u001b[0m\n\u001b[1;33m    except:\u001b[0m\n\u001b[1;37m           ^\u001b[0m\n\u001b[1;31mIndentationError\u001b[0m\u001b[1;31m:\u001b[0m unexpected unindent\n"
     ]
    }
   ],
   "source": [
    "##\n",
    "# Find and display the names of Python functions that are not immediately preceded by a\n",
    "# comment.\n",
    "#\n",
    "from sys import argv\n",
    "# Verify that at least one file name has been provided as a command line argument\n",
    "if len(argv) == 1:\n",
    "    print(\"At least one filename must be provided as a\", \\\n",
    "\"command line argument.\")\n",
    "    print(\"Quitting...\")\n",
    "    quit()\n",
    "# Process each file provided as a command line argument\n",
    "for fname in argv[1 : len(argv)]:\n",
    "    # Attempt to process the file\n",
    "    try:\n",
    "        inf = open(fname, \"r\")\n",
    "        # As we move through the file we need to keep a copy of the previous line so that we\n",
    "        # can check to see if it starts with a comment character. We also need to keep track\n",
    "        # of the line number within the file.\n",
    "        prev = \" \"\n",
    "        lnum = 1\n",
    "        # Check each line in the current file\n",
    "        for line in inf:\n",
    "            # If the line is a function definition and the previous line is not a comment\n",
    "            if line.startswith(\"def \") and prev[0] != \"#\":\n",
    "                # Find the first ( on the line so that we know where the function name ends\n",
    "                bracket_pos = line.index(\"(\")\n",
    "                name = line[4 : bracket_pos]\n",
    "                # Display information about the function that is missing its comment\n",
    "                print(\"%s line %d: %s\" % (fname, lnum, name))\n",
    "            # Save the current line and update the line counter\n",
    "            prev = line\n",
    "            lnum = lnum + 1\n",
    "        # Close the current file\n",
    "        inf.close()\n",
    "except:\n",
    "    print(\"A problem was encountered with file ’%s’.\" % fname)\n",
    "    print(\"Moving on to the next file...\")"
   ]
  },
  {
   "cell_type": "markdown",
   "id": "c1ff1b5a",
   "metadata": {},
   "source": [
    "# Recursion"
   ]
  },
  {
   "cell_type": "code",
   "execution_count": 49,
   "id": "3a71aad3",
   "metadata": {},
   "outputs": [
    {
     "name": "stdout",
     "output_type": "stream",
     "text": [
      "Enter a non-negative integer: 9\n",
      "The total of the integers from 0 up to and including 9 is 45\n"
     ]
    }
   ],
   "source": [
    "# Compute the sum of the integers from 0 up to and including n using recursion\n",
    "# @param n the maximum value to include in the sum\n",
    "# @return the sum of the integers from 0 up to and including n\n",
    "def sum_to(n):\n",
    "    if n <= 0:\n",
    "        return 0 # Base case\n",
    "    else:\n",
    "        return n + sum_to(n - 1) # Recursive case\n",
    "# Compute the sum of the integers from 0 up to and including a value entered by the user\n",
    "num = int(input(\"Enter a non-negative integer: \"))\n",
    "total = sum_to(num)\n",
    "print(\"The total of the integers from 0 up to and including\", \\\n",
    "num, \"is\", total)"
   ]
  },
  {
   "cell_type": "code",
   "execution_count": 50,
   "id": "7a0e86cd",
   "metadata": {},
   "outputs": [
    {
     "name": "stdout",
     "output_type": "stream",
     "text": [
      "Enter a non-negative integer: 36\n",
      "fib(36) is 14930352.\n"
     ]
    }
   ],
   "source": [
    "# Compute the nth Fibonacci number using recursion\n",
    "# @param n the index of the Fibonacci number to compute\n",
    "# @return the nth Fibonacci number\n",
    "def fib(n):\n",
    "    # Base cases\n",
    "    if n == 0:\n",
    "        return 0\n",
    "    if n == 1:\n",
    "        return 1\n",
    "    # Recursive case\n",
    "    return fib(n-1) + fib(n-2)\n",
    "# Compute the Fibonacci number requested by the user\n",
    "n = int(input(\"Enter a non-negative integer: \"))\n",
    "print(\"fib(%d) is %d.\" % (n, fib(n)))"
   ]
  },
  {
   "cell_type": "code",
   "execution_count": 51,
   "id": "b9bf283d",
   "metadata": {},
   "outputs": [
    {
     "name": "stdout",
     "output_type": "stream",
     "text": [
      "Enter a string: i love you\n",
      "Enter the character to count: o\n",
      "’o’ occurs 2 times in ’i love you’\n"
     ]
    }
   ],
   "source": [
    "# Count the number of times a particular character is present in a string\n",
    "# @param s the string in which the characters are counted\n",
    "# @param ch the character to count\n",
    "# @return the number of occurrences of ch in s\n",
    "def count(s, ch):\n",
    "    if s == \"\":\n",
    "        return 0 # Base case\n",
    "    # Compute the tail of s\n",
    "    tail = s[1 : len(s)]\n",
    "# Recursive cases\n",
    "    if ch == s[0]:\n",
    "        return 1 + count(tail, ch)\n",
    "    else:\n",
    "        return count(tail, ch)\n",
    "# Count the number of times a character entered by the user occurs in a string entered\n",
    "# by the user\n",
    "s = input(\"Enter a string: \")\n",
    "ch = input(\"Enter the character to count: \")\n",
    "print(\"’%s’ occurs %d times in ’%s’\" % (ch, count(s, ch), s))"
   ]
  },
  {
   "cell_type": "raw",
   "id": "56882a83",
   "metadata": {},
   "source": [
    "Write a program that reads values from the user until a blank line is entered. Display\n",
    "the total of all of the values entered by the user (or 0.0 if the first value entered is\n",
    "a blank line). Complete this task using recursion. Your program may not use any\n",
    "loops."
   ]
  },
  {
   "cell_type": "code",
   "execution_count": 52,
   "id": "ba80df02",
   "metadata": {},
   "outputs": [
    {
     "name": "stdout",
     "output_type": "stream",
     "text": [
      "Enter a number (blank to quit): 10\n",
      "Enter a number (blank to quit): 20\n",
      "Enter a number (blank to quit): \n",
      "The total of all those values is 30.0\n"
     ]
    }
   ],
   "source": [
    "# Total a collection of numbers entered by the user. The user will enter a blank line to\n",
    "# indicate that no further numbers will be entered and the total should be displayed.\n",
    "#\n",
    "## Total all of the numbers entered by the user until the user enters a blank line\n",
    "# @return the total of the entered values\n",
    "def readAndTotal():\n",
    "    # Read a value from the user\n",
    "    line = input(\"Enter a number (blank to quit): \")\n",
    "    # Base case: The user entered a blank line so the total is 0\n",
    "    if line == \"\":\n",
    "        return 0\n",
    "    else:\n",
    "        # Recursive case: Convert the current line to a number and use recursion to read the\n",
    "        # subsequent lines\n",
    "        return float(line) + readAndTotal()\n",
    "# Read a collection of numbers from the user and display the total\n",
    "def main():\n",
    "    # Read the values from the user and compute the total\n",
    "    total = readAndTotal()\n",
    "    # Display the total\n",
    "    print(\"The total of all those values is\", total)\n",
    "# Call the main function\n",
    "main()"
   ]
  },
  {
   "cell_type": "raw",
   "id": "6851b46b",
   "metadata": {},
   "source": [
    "Recursive Palindrome\n",
    "\n",
    "The notion of a palindrome was introduced previously in Exercise 75. In this exercise\n",
    "you will write a recursive function that determines whether or not a string is a\n",
    "palindrome. The empty string is a palindrome, as is any string containing only one character. Any longer string is a palindrome if its first and last characters match, and\n",
    "if the string formed by removing the first and last characters is also a palindrome.\n",
    "Write a main program that reads a string from the user and uses your recursive\n",
    "function to determine whether or not it is a palindrome. Then your program should\n",
    "display an appropriate message for the user."
   ]
  },
  {
   "cell_type": "code",
   "execution_count": 54,
   "id": "262f247e",
   "metadata": {},
   "outputs": [
    {
     "name": "stdout",
     "output_type": "stream",
     "text": [
      "Enter a string: madam\n",
      "That was a palindrome!\n"
     ]
    }
   ],
   "source": [
    "##\n",
    "# Determine whether or not a string entered by the user is a palindrome using recursion.\n",
    "#\n",
    "## Determine whether or not a string is a palindrome\n",
    "# @param s the string to check\n",
    "# @return True if the string is a palindrome, False otherwise\n",
    "def isPalindrome(s):\n",
    "    # Base case: The empty string is a palindrome. So is a string containing only 1 character.\n",
    "    if len(s) <= 1:\n",
    "        return True\n",
    "        # Recursive case: The string is a palindrome only if the first and last characters match, and\n",
    "        # the rest of the string is a palindrome\n",
    "    return s[0] == s[len(s) - 1] and \\\n",
    "        isPalindrome(s[1 : len(s) - 1])\n",
    "# Check whether or not a string entered by the user is a palindrome\n",
    "def main():\n",
    "    # Read the string from the user\n",
    "    line = input(\"Enter a string: \")\n",
    "    # Check its status and display the result\n",
    "    if isPalindrome(line):\n",
    "        print(\"That was a palindrome!\")\n",
    "    else:\n",
    "        print(\"That is not a palindrome.\")\n",
    "# Call the main function\n",
    "main()"
   ]
  },
  {
   "cell_type": "raw",
   "id": "979e58c9",
   "metadata": {},
   "source": [
    "String Edit Distance\n",
    "\n",
    "The edit distance between two strings is a measure of their similarity. The smaller the\n",
    "edit distance, the more similar the strings are with regard to the minimum number of\n",
    "insert, delete and substitute operations needed to transform one string into the other.\n",
    "Consider the strings kitten and sitting. The first string can be transformed\n",
    "into the second string with the following operations: Substitute the k with an s,\n",
    "substitute the e with an i, and insert a g at the end of the string. This is the smallest\n",
    "number of operations that can be performed to transform kitten into sitting.\n",
    "As a result, the edit distance is 3.\n",
    "Write a recursive function that computes the edit distance between two strings.\n",
    "Use the following algorithm:\n",
    "\n",
    "Let s and t be the strings\n",
    "If the length of s is 0 then\n",
    "Return the length of t\n",
    "Else if the length of t is 0 then\n",
    "Return the length of s\n",
    "Else\n",
    "Set cost to 0\n",
    "If the last character in s does not equal the last character in t then\n",
    "Set cost to 1\n",
    "Set d1 equal to the edit distance between all characters except the last one\n",
    "in s, and all characters in t, plus 1\n",
    "Set d2 equal to the edit distance between all characters in s, and all\n",
    "characters except the last one in t, plus 1\n",
    "Set d3 equal to the edit distance between all characters except the last one\n",
    "in s, and all characters except the last one in t, plus cost\n",
    "Return the minimum of d1, d2 and d3\n",
    "Use your recursive function to write a program that reads two strings from the\n",
    "user and displays the edit distance between them.\n"
   ]
  },
  {
   "cell_type": "code",
   "execution_count": 55,
   "id": "dfadd7eb",
   "metadata": {},
   "outputs": [
    {
     "name": "stdout",
     "output_type": "stream",
     "text": [
      "Enter a string: i love you\n",
      "Enter another string: i love them\n",
      "The edit distance between i love you and i love them is 4.\n"
     ]
    }
   ],
   "source": [
    "##\n",
    "# Compute and display the edit distance between two strings.\n",
    "#\n",
    "## Compute the edit distance between two strings. The edit distance is the minimum number of\n",
    "# insert, delete and substitute operations needed to transform one string into the other.\n",
    "# @param s the first string\n",
    "# @param t the second string\n",
    "# @return the edit distance between the strings\n",
    "def editDistance(s, t):\n",
    "# If one string is empty, then the edit distance is one insert operation for each letter in the\n",
    "# other string\n",
    "    if len(s) == 0:\n",
    "        return len(t)\n",
    "    elif len(t) == 0:\n",
    "        return len(s)\n",
    "    else:\n",
    "        cost = 0\n",
    "        # If the last characters are not equal then set cost to 1\n",
    "        if s[len(s) - 1] != t[len(t) - 1]:\n",
    "            cost = 1\n",
    "    # Compute three distances\n",
    "    d1 = editDistance(s[0 : len(s) - 1], t) + 1\n",
    "    d2 = editDistance(s, t[0 : len(t) - 1]) + 1\n",
    "    d3 = editDistance(s[0 : len(s) - 1] , t[0 : len(t) - 1]) + \\\n",
    "    cost\n",
    "    # Return the minimum distance\n",
    "    return min(d1, d2, d3)\n",
    "# Compute the edit distance between two strings entered by the user\n",
    "def main():\n",
    "    # Read two strings from the user\n",
    "    s1 = input(\"Enter a string: \")\n",
    "    s2 = input(\"Enter another string: \")\n",
    "    # Compute and display the edit distance\n",
    "    print(\"The edit distance between %s and %s is %d.\" % \\\n",
    "        (s1, s2, editDistance(s1, s2)))\n",
    "# Call the main function\n",
    "main()"
   ]
  },
  {
   "cell_type": "code",
   "execution_count": 58,
   "id": "badcad5c",
   "metadata": {},
   "outputs": [
    {
     "name": "stdout",
     "output_type": "stream",
     "text": [
      "Enter the name of an element: oxygen\n",
      "A longest sequence that starts with Oxygen is:\n",
      "  Oxygen\n",
      "  Nitrogen\n",
      "  Neon\n",
      "  Nickel\n",
      "  Lead\n",
      "  Dysprosium\n",
      "  Magnesium\n",
      "  Manganese\n",
      "  Europium\n",
      "  Molybdenum\n",
      "  Mercury\n",
      "  Yttrium\n",
      "  Mendelevium\n",
      "  Meitnerium\n"
     ]
    }
   ],
   "source": [
    "# Identify the longest sequence of elements that can follow an element entered by the\n",
    "# user where each element in the sequence begins with the same letter as the last letter\n",
    "# of its predecessor.\n",
    "#\n",
    "ELEMENTS_FNAME = \"../PYTHON PROGRAMMING/elements\"\n",
    "## Find the longest sequence of words, beginning with start, where each word begins with\n",
    "# the last letter of its predecessor\n",
    "# @param start the first word in the sequence\n",
    "# @param words the list of words that can occur in the sequence\n",
    "# @return the longest list of words beginning with start that meets the constraints\n",
    "# outlined previously\n",
    "def longestSequence(start, words):\n",
    "    # Base case: If start is empty then the list of words is empty\n",
    "    if start == \"\":\n",
    "        return []\n",
    "        # Find the best (longest) list of words by checking each possible word that could appear\n",
    "        # next in the sequence\n",
    "    best = []\n",
    "    last_letter = start[len(start) - 1].lower()\n",
    "    for i in range(0, len(words)):\n",
    "        first_letter = words[i][0].lower()\n",
    "        # If the first letter of the next word matches the last letter of the previous word\n",
    "        if first_letter == last_letter:\n",
    "            # Use recursion to find a candidate sequence of words\n",
    "            candidate = longestSequence(words[i], \\\n",
    "            words[0 : i] + words[i + 1 : len(words)])\n",
    "            # Save the candidate if it is better than the best sequence that we have seen previously\n",
    "            if len(candidate) > len(best):\n",
    "                best = candidate\n",
    "    # Return the best candidate sequence, preceded by the starting word\n",
    "    return [start] + best\n",
    "## Load the names of all of the elements from the elements file\n",
    "# @return a list of all the element names\n",
    "def loadNames():\n",
    "    names = []\n",
    "    # Open the element data set\n",
    "    inf = open(ELEMENTS_FNAME, \"r\")\n",
    "    # Load each line, storing the element name in a list\n",
    "    for line in inf:\n",
    "        line = line.rstrip()\n",
    "        parts = line.split(\",\")\n",
    "        names.append(parts[2])\n",
    "    # Close the file and return the list\n",
    "    inf.close()\n",
    "    return names\n",
    "# Display a longest sequence of elements starting with an element entered by the user\n",
    "def main():\n",
    "    # Load all of the element names\n",
    "    names = loadNames()\n",
    "    # Read the starting element and capitalize it\n",
    "    start = input(\"Enter the name of an element: \")\n",
    "    start = start.capitalize()\n",
    "    # Verify that the value entered by the user is an element\n",
    "    if start in names:\n",
    "        # Remove the starting element from the list of elements\n",
    "        names.remove(start)\n",
    "        # Find a longest sequence that begins with the starting element\n",
    "        sequence = longestSequence(start, names)\n",
    "        # Display the sequence of elements\n",
    "        print(\"A longest sequence that starts with\", start, \"is:\")\n",
    "        for element in sequence:\n",
    "            print(\" \", element)\n",
    "    else:\n",
    "        print(\"Sorry, that wasn’t a valid element name.\")\n",
    "# Call the main function\n",
    "main()"
   ]
  },
  {
   "cell_type": "raw",
   "id": "911df13e",
   "metadata": {},
   "source": [
    "Flatten a List\n",
    "\n",
    "Python’s lists can contain other lists. When one list occurs inside another the inner\n",
    "list is said to be nested inside the outer list. Each of the inner lists nested within\n",
    "the outer list may also contain nested lists, and those lists may contain additional\n",
    "nested lists to any depth. For example, the following list includes elements that are nested at several different depths: [1, [2, 3], [4, [5, [6, 7]]],\n",
    "[[[8], 9], [10]]].\n",
    "Lists that contain multiple levels of nesting can be useful when describing com\u0002plex relationships between values, but such lists can also make performing some\n",
    "operations on those values difficult because the values are nested at different levels.\n",
    "Flattening a list is the process of converting a list that may contain multiple levels\n",
    "of nested lists into a list that contains all of the same elements without any nesting.\n",
    "For example, flattening the list from the previous paragraph results in [1, 2, 3,\n",
    "4, 5, 6, 7, 8, 9, 10]. The following recursive algorithm can be used to\n",
    "flatten a list named data:\n",
    "If data is empty then\n",
    "Return the empty list\n",
    "If the first element in data is a list then\n",
    "Set l1 to the result of flattening the first element in data\n",
    "Set l2 to the result of flattening all of the elements in data, except the first\n",
    "Return the concatenation of l1 and l2\n",
    "If the first element in data is not a list then\n",
    "Set l1 to a list containing only the first element in data\n",
    "Set l2 to the result of flattening all of the elements in data, except the first\n",
    "Return the concatenation of l1 and l2\n",
    "Write a function that implements the recursive flattening algorithm described\n",
    "previously. Your function will take one argument, which is the list to flatten, and\n",
    "it will return one result, which is the flattened list. Include a main program that\n",
    "demonstrates that your function successfully flattens the list shown earlier in this\n",
    "problem, as well as several others.\n"
   ]
  },
  {
   "cell_type": "code",
   "execution_count": 59,
   "id": "fbf9e50b",
   "metadata": {},
   "outputs": [
    {
     "name": "stdout",
     "output_type": "stream",
     "text": [
      "[1, 2, 3, 4, 5, 6, 7, 8, 9, 10]\n",
      "[1, 2, 3, 4, 5, 6, 7, 8, 9, 10]\n",
      "[1, 2, 3, 4, 5, 6, 7, 8, 9, 10]\n",
      "[1, 2, 3, 4, 5, 6, 7, 8, 9, 10]\n",
      "[]\n"
     ]
    }
   ],
   "source": [
    "##\n",
    "# Use recursion to flatten a list that may contain nested lists.\n",
    "#\n",
    "## Flatten a list so that all nested lists are removed\n",
    "# @param data the list to flatten\n",
    "# @return a flattened version of data\n",
    "def flatten(data):\n",
    "    # If data is empty then there is no work to do\n",
    "    if data == []:\n",
    "        return []\n",
    "    # If the first element in data is a list\n",
    "    if type(data[0]) == list:\n",
    "        # Flatten the first element and flatten the remaining elements in the list\n",
    "        return flatten(data[0]) + flatten(data[1:])\n",
    "    else:\n",
    "        # The first element in data is not a list so only the remaining elements in the list need\n",
    "        # to be flattened\n",
    "        return [data[0]] + flatten(data[1:])\n",
    "# Demonstrate the flatten function\n",
    "def main():\n",
    "    print(flatten([1, [2, 3], [4, [5, [6, 7]]], [[[8], 9], [10]]]))\n",
    "    print(flatten([1, [2, [3, [4, [5, [6, [7, [8, [9, \\\n",
    "    [10]]]]]]]]]]))\n",
    "    print(flatten([[[[[[[[[[1], 2], 3], 4], 5], 6], 7], 8], 9], \\\n",
    "    10]))\n",
    "    print(flatten([1, 2, 3, 4, 5, 6, 7, 8, 9, 10]))\n",
    "    print(flatten([]))\n",
    "# Call the main function\n",
    "main()"
   ]
  },
  {
   "cell_type": "raw",
   "id": "955e7ee6",
   "metadata": {},
   "source": [
    " Run-Length Encoding\n",
    "\n",
    "Write a recursive function that implements the run-length compression technique\n",
    "described in Exercise 185. Your function will take a list or a string as its only argu\u0002ment. It should return the run-length compressed list as its only result. Include a main\n",
    "program that reads a string from the user, compresses it, and displays the run-length\n",
    "encoded result."
   ]
  },
  {
   "cell_type": "code",
   "execution_count": 61,
   "id": "497fe17a",
   "metadata": {},
   "outputs": [
    {
     "name": "stdout",
     "output_type": "stream",
     "text": [
      "Enter some characters: i love you\n",
      "When those characters are run-length encoded,the result is: ['i', 1, ' ', 1, 'l', 1, 'o', 1, 'v', 1, 'e', 1, ' ', 1, 'y', 1, 'o', 1, 'u', 1]\n"
     ]
    }
   ],
   "source": [
    "##\n",
    "# Perform run-length encoding on a string or a list using recursion.\n",
    "#\n",
    "## Perform run-length encoding on a string or a list\n",
    "# @param data the string or list to encode\n",
    "# @return a list where the elements at even positions are data values and the elements at odd\n",
    "# positions are counts of the number of times that the data value ahead of it should be\n",
    "# replicated\n",
    "def encode(data):\n",
    "    # If data is empty then no encoding work is necessary\n",
    "    if len(data) == 0:\n",
    "        return []\n",
    "\n",
    "# Find the index of the first item that is not the same as the item at position 0 in data\n",
    "    index = 1\n",
    "    while index < len(data) and data[index] == data[index - 1]:\n",
    "        index = index + 1\n",
    "        # Encode the current character group\n",
    "    current = [data[0], index]\n",
    "    # Use recursion to process the characters from index to the end of the string\n",
    "    return current + encode(data[index : len(data)])\n",
    "# Demonstrate the encode function\n",
    "def main():\n",
    "    # Read a string from the user\n",
    "    s = input(\"Enter some characters: \")\n",
    "    # Display the result\n",
    "    print(\"When those characters are run-length encoded,\" \\\n",
    "        \"the result is:\", encode(s))\n",
    "# Call the main function\n",
    "main()"
   ]
  },
  {
   "cell_type": "code",
   "execution_count": 1,
   "id": "d042dab6",
   "metadata": {},
   "outputs": [
    {
     "name": "stdout",
     "output_type": "stream",
     "text": [
      "Enter your name: omotayo\n",
      "omotayo\n"
     ]
    }
   ],
   "source": [
    "name = input(str(\"Enter your name: \"))\n",
    "print(name)"
   ]
  },
  {
   "cell_type": "code",
   "execution_count": null,
   "id": "ccca29e8",
   "metadata": {},
   "outputs": [],
   "source": []
  }
 ],
 "metadata": {
  "kernelspec": {
   "display_name": "Python 3 (ipykernel)",
   "language": "python",
   "name": "python3"
  },
  "language_info": {
   "codemirror_mode": {
    "name": "ipython",
    "version": 3
   },
   "file_extension": ".py",
   "mimetype": "text/x-python",
   "name": "python",
   "nbconvert_exporter": "python",
   "pygments_lexer": "ipython3",
   "version": "3.9.7"
  }
 },
 "nbformat": 4,
 "nbformat_minor": 5
}
